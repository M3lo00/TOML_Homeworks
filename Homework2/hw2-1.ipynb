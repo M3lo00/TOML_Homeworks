{
 "cells": [
  {
   "cell_type": "code",
   "execution_count": 1,
   "metadata": {},
   "outputs": [],
   "source": [
    "import numpy as np\n",
    "import matplotlib.pyplot as plt"
   ]
  },
  {
   "cell_type": "code",
   "execution_count": 2,
   "metadata": {},
   "outputs": [],
   "source": [
    "#%%\n",
    "########################################################\n",
    "######## X-MAC: Trade_off Energy with Delay using GT\n",
    "########################################################\n",
    "# Radio subsystem varaible definition\n",
    "\n",
    "P     = 32.            # Payload [byte]\n",
    "R     = 31.25          # CC2420 Radio Rate [kbyte/s = Byte/ms]\n",
    "D     = 8              # number of levels\n",
    "C     = 5              # neighbors size (connectivity)\n",
    "N     = C*D**2         # number of nodes\n",
    "#### BE CAREFUL:  Times are in milliseconds (ms)\n",
    "Lmax  = 5000.          # Maximal allowed Delay (ms)\n",
    "Emax  = 1.             # MAximal Energy Budjet (J)\n",
    "\n",
    "L_pbl = 4.             # preamble length [byte]\n",
    "L_hdr = 9. + L_pbl     # header length [byte]\n",
    "L_ack = 9. + L_pbl     # ACK length [byte]\n",
    "L_ps  = 5. + L_pbl     # preamble strobe length [byte]\n",
    "\n",
    "Tal  = 0.95            # ack listen period [ms]\n",
    "Thdr = L_hdr/R         # header transmission duration [ms]\n",
    "Tack = L_ack/R         # ACK transmission duration [ms]\n",
    "Tps  = L_ps/R          # preamble strobe transmission duration [ms]\n",
    "Tcw  = 15*0.62         # Contention window size [ms]\n",
    "Tcs  = 2.60            # Time [ms] to turn the radio into TX and probe the channel (carrier sense)\n",
    "Tdata = Thdr + P/R + Tack # data packet transmission duration [ms]\n",
    "\n",
    "### Sampling frequency\n",
    "\n",
    "# Sleep period: Parameter Bounds\n",
    "Tw_max  = 500.       # Maximum Duration of Tw in ms\n",
    "Tw_min  = 100.       # Minimum Duration of Tw in ms"
   ]
  },
  {
   "attachments": {},
   "cell_type": "markdown",
   "metadata": {},
   "source": [
    "# Fs - first"
   ]
  },
  {
   "cell_type": "code",
   "execution_count": null,
   "metadata": {},
   "outputs": [],
   "source": [
    "Fs   = 1.0/(60*5*1000)    # every 5 minutes\n",
    "Fs"
   ]
  },
  {
   "cell_type": "code",
   "execution_count": null,
   "metadata": {},
   "outputs": [],
   "source": [
    "F_I_worst = Fs * ((D**2)-1)\n",
    "F_out_worst = Fs * (D**2)\n",
    "F_B_worst = (C-3) * F_out_worst\n",
    "\n",
    "alpha1 = Tcs + Tal + (3/2)*Tps * ((Tps+Tal)/2+Tack+Tdata) * F_B_worst\n",
    "alpha2 = F_out_worst/2\n",
    "alpha3 = (((Tps+Tal)/2)+Tcs+Tal+Tack+Tdata)*F_out_worst + ((3/2)*Tps + Tack + Tdata) * F_I_worst + (3/4) * Tps * F_B_worst\n",
    "\n",
    "beta1 = D/2\n",
    "beta2 = D * ((Tcw/2) + Tdata)\n",
    "\n",
    "E = lambda T_w : alpha1/T_w + alpha2 * T_w + alpha3\n",
    "L = lambda T_w : beta1 * T_w + beta2\n",
    "\n",
    "alpha1, alpha2, alpha3, beta1, beta2"
   ]
  },
  {
   "cell_type": "code",
   "execution_count": null,
   "metadata": {},
   "outputs": [],
   "source": [
    "Es = []\n",
    "Ls = []\n",
    "Tws = []\n",
    "for Tw in np.linspace(Tw_min, Tw_max, 10):\n",
    "    Tws.append(Tw)\n",
    "    Es.append(E(Tw))\n",
    "    Ls.append(L(Tw))"
   ]
  },
  {
   "cell_type": "code",
   "execution_count": null,
   "metadata": {},
   "outputs": [],
   "source": [
    "fig, axs = plt.subplots(3, 1, figsize=(5,10), constrained_layout=True)\n",
    "#fig.tight_layout()\n",
    "\n",
    "fig.suptitle(f'Fs={Fs:.2e}')\n",
    "\n",
    "axs[0].plot(Tws, Es)\n",
    "axs[0].set_xlabel('Tw')\n",
    "axs[0].set_ylabel('E')\n",
    "\n",
    "axs[1].plot(Tws, Ls)\n",
    "axs[1].set_xlabel('Tw')\n",
    "axs[1].set_ylabel('L')\n",
    "\n",
    "\n",
    "axs[2].plot(Ls, Es)\n",
    "axs[2].set_xlabel('L')\n",
    "axs[2].set_ylabel('E')\n"
   ]
  },
  {
   "attachments": {},
   "cell_type": "markdown",
   "metadata": {},
   "source": [
    "# Fs - second"
   ]
  },
  {
   "cell_type": "code",
   "execution_count": 3,
   "metadata": {},
   "outputs": [
    {
     "data": {
      "text/plain": [
       "5.555555555555555e-07"
      ]
     },
     "execution_count": 3,
     "metadata": {},
     "output_type": "execute_result"
    }
   ],
   "source": [
    "Fs   = 1.0/(60*30*1000)    # e.g. Min traffic rate 1 pkt/half_hour = 1/(60*30*1000) pk/ms\n",
    "Fs"
   ]
  },
  {
   "cell_type": "code",
   "execution_count": 4,
   "metadata": {},
   "outputs": [
    {
     "data": {
      "text/plain": [
       "(3.5500888115199998,\n",
       " 1.7777777777777777e-05,\n",
       " 0.00033901333333333336,\n",
       " 4.0,\n",
       " 52.048)"
      ]
     },
     "execution_count": 4,
     "metadata": {},
     "output_type": "execute_result"
    }
   ],
   "source": [
    "F_I_worst = Fs * ((D**2)-1)\n",
    "F_out_worst = Fs * (D**2)\n",
    "F_B_worst = (C-3) * F_out_worst\n",
    "\n",
    "alpha1 = Tcs + Tal + (3/2)*Tps * ((Tps+Tal)/2+Tack+Tdata) * F_B_worst\n",
    "alpha2 = F_out_worst/2\n",
    "alpha3 = (((Tps+Tal)/2)+Tcs+Tal+Tack+Tdata)*F_out_worst + ((3/2)*Tps + Tack + Tdata) * F_I_worst + (3/4) * Tps * F_B_worst\n",
    "\n",
    "beta1 = D/2\n",
    "beta2 = D * ((Tcw/2) + Tdata)\n",
    "\n",
    "E = lambda T_w : alpha1/T_w + alpha2 * T_w + alpha3\n",
    "L = lambda T_w : beta1 * T_w + beta2\n",
    "\n",
    "alpha1, alpha2, alpha3, beta1, beta2"
   ]
  },
  {
   "cell_type": "code",
   "execution_count": 5,
   "metadata": {},
   "outputs": [],
   "source": [
    "Es1 = []\n",
    "Ls1 = []\n",
    "Tws = []\n",
    "for Tw in np.linspace(Tw_min, Tw_max, 10):\n",
    "    Tws.append(Tw)\n",
    "    Es1.append(E(Tw))\n",
    "    Ls1.append(L(Tw))"
   ]
  },
  {
   "cell_type": "code",
   "execution_count": 6,
   "metadata": {},
   "outputs": [
    {
     "data": {
      "text/plain": [
       "Text(0, 0.5, 'E')"
      ]
     },
     "execution_count": 6,
     "metadata": {},
     "output_type": "execute_result"
    },
    {
     "data": {
      "image/png": "[encoded data removed]",
      "text/plain": [
       "<Figure size 500x1000 with 3 Axes>"
      ]
     },
     "metadata": {},
     "output_type": "display_data"
    }
   ],
   "source": [
    "fig, axs = plt.subplots(3, 1, figsize=(5,10), constrained_layout=True)\n",
    "#fig.tight_layout()\n",
    "\n",
    "fig.suptitle(f'Fs={Fs:.2e}')\n",
    "\n",
    "axs[0].plot(Tws, Es1)\n",
    "axs[0].set_xlabel('Tw')\n",
    "axs[0].set_ylabel('E')\n",
    "\n",
    "axs[1].plot(Tws, Ls1)\n",
    "axs[1].set_xlabel('Tw')\n",
    "axs[1].set_ylabel('L')\n",
    "\n",
    "\n",
    "axs[2].plot(Ls1, Es1)\n",
    "axs[2].set_xlabel('L')\n",
    "axs[2].set_ylabel('E')\n"
   ]
  },
  {
   "attachments": {},
   "cell_type": "markdown",
   "metadata": {},
   "source": [
    "# Fs - third"
   ]
  },
  {
   "cell_type": "code",
   "execution_count": null,
   "metadata": {},
   "outputs": [],
   "source": [
    "Fs   = 1.0/(60*1000)    # every minute\n",
    "Fs"
   ]
  },
  {
   "cell_type": "code",
   "execution_count": null,
   "metadata": {},
   "outputs": [],
   "source": [
    "F_I_worst = Fs * ((D**2)-1)\n",
    "F_out_worst = Fs * (D**2)\n",
    "F_B_worst = (C-3) * F_out_worst\n",
    "\n",
    "alpha1 = Tcs + Tal + (3/2)*Tps * ((Tps+Tal)/2+Tack+Tdata) * F_B_worst\n",
    "alpha2 = F_out_worst/2\n",
    "alpha3 = (((Tps+Tal)/2)+Tcs+Tal+Tack+Tdata)*F_out_worst + ((3/2)*Tps + Tack + Tdata) * F_I_worst + (3/4) * Tps * F_B_worst\n",
    "\n",
    "beta1 = D/2\n",
    "beta2 = D * ((Tcw/2) + Tdata)\n",
    "\n",
    "E = lambda T_w : alpha1/T_w + alpha2 * T_w + alpha3\n",
    "L = lambda T_w : beta1 * T_w + beta2\n",
    "\n",
    "alpha1, alpha2, alpha3, beta1, beta2"
   ]
  },
  {
   "cell_type": "code",
   "execution_count": null,
   "metadata": {},
   "outputs": [],
   "source": [
    "Es2 = []\n",
    "Ls2 = []\n",
    "Tws = []\n",
    "for Tw in np.linspace(Tw_min, Tw_max, 10):\n",
    "    Tws.append(Tw)\n",
    "    Es2.append(E(Tw))\n",
    "    Ls2.append(L(Tw))"
   ]
  },
  {
   "cell_type": "code",
   "execution_count": null,
   "metadata": {},
   "outputs": [],
   "source": [
    "fig, axs = plt.subplots(3, 1, figsize=(5,10), constrained_layout=True)\n",
    "#fig.tight_layout()\n",
    "\n",
    "fig.suptitle(f'Fs={Fs:.2e}')\n",
    "\n",
    "axs[0].plot(Tws, Es2)\n",
    "axs[0].set_xlabel('Tw')\n",
    "axs[0].set_ylabel('E')\n",
    "\n",
    "axs[1].plot(Tws, Ls2)\n",
    "axs[1].set_xlabel('Tw')\n",
    "axs[1].set_ylabel('L')\n",
    "\n",
    "\n",
    "axs[2].plot(Ls2, Es2)\n",
    "axs[2].set_xlabel('L')\n",
    "axs[2].set_ylabel('E')\n"
   ]
  },
  {
   "cell_type": "code",
   "execution_count": null,
   "metadata": {},
   "outputs": [],
   "source": [
    "fig, axs = plt.subplots(3, 3, figsize=(5,10), constrained_layout=True)\n",
    "#fig.tight_layout()\n",
    "\n",
    "#I wanted to create a big image so we can put it in the report, but we can stich the ones we already created and it would be perfect too.\n",
    "\n",
    "fig.suptitle(f'Fs={Fs:.2e}')\n",
    "\n",
    "axs[0].plot(Tws, Es2)\n",
    "axs[0].set_xlabel('Tw')\n",
    "axs[0].set_ylabel('E')\n",
    "\n",
    "axs[1].plot(Tws, Ls2)\n",
    "axs[1].set_xlabel('Tw')\n",
    "axs[1].set_ylabel('L')\n",
    "\n",
    "\n",
    "axs[2].plot(Ls2, Es2)\n",
    "axs[2].set_xlabel('L')\n",
    "axs[2].set_ylabel('E')\n"
   ]
  },
  {
   "attachments": {},
   "cell_type": "markdown",
   "metadata": {},
   "source": [
    "# Part 2"
   ]
  },
  {
   "cell_type": "code",
   "execution_count": 7,
   "metadata": {},
   "outputs": [],
   "source": [
    "from gpkit import Variable, Model\n",
    "import numpy as np"
   ]
  },
  {
   "cell_type": "code",
   "execution_count": 8,
   "metadata": {},
   "outputs": [],
   "source": [
    "Tw = Variable('Tw')"
   ]
  },
  {
   "cell_type": "markdown",
   "metadata": {},
   "source": [
    "## Problem 1"
   ]
  },
  {
   "cell_type": "code",
   "execution_count": 28,
   "metadata": {},
   "outputs": [],
   "source": [
    "E_xmac = alpha1 / Tw + alpha2 * Tw + alpha3\n",
    "obj = E_xmac"
   ]
  },
  {
   "cell_type": "code",
   "execution_count": 10,
   "metadata": {},
   "outputs": [],
   "source": [
    "l_xmac = beta1 * Tw + beta2"
   ]
  },
  {
   "cell_type": "code",
   "execution_count": 17,
   "metadata": {},
   "outputs": [],
   "source": [
    "# [100, 5000]\n",
    "l_max = 500"
   ]
  },
  {
   "cell_type": "code",
   "execution_count": 18,
   "metadata": {},
   "outputs": [],
   "source": [
    "import math"
   ]
  },
  {
   "cell_type": "code",
   "execution_count": 19,
   "metadata": {},
   "outputs": [],
   "source": [
    "# TODO should be Ceil(Tw/(Tps+Tal)), maybe it's okay\n",
    "Ttx = Tw /(Tps + Tal) * ((Tps + Tal)/2) + Tack + Tdata"
   ]
  },
  {
   "cell_type": "code",
   "execution_count": 20,
   "metadata": {},
   "outputs": [],
   "source": [
    "I_0 = C\n",
    "Etx_1 = (Tcs + Tal + Ttx) * F_out_worst"
   ]
  },
  {
   "cell_type": "code",
   "execution_count": 21,
   "metadata": {},
   "outputs": [],
   "source": [
    "constraints = [\n",
    "    l_xmac <= l_max,\n",
    "    Tw >= Tw_min,\n",
    "    I_0 * Etx_1 <= 1/4,   \n",
    "]"
   ]
  },
  {
   "cell_type": "code",
   "execution_count": 22,
   "metadata": {},
   "outputs": [],
   "source": [
    "prob = Model(obj, constraints)"
   ]
  },
  {
   "cell_type": "code",
   "execution_count": 23,
   "metadata": {},
   "outputs": [
    {
     "name": "stdout",
     "output_type": "stream",
     "text": [
      "Using solver 'cvxopt'\n",
      " for 1 free variables\n",
      "  in 4 posynomial inequalities.\n",
      "Solving took 0.0074 seconds.\n"
     ]
    },
    {
     "data": {
      "text/plain": [
       "{'cost': 0.03403052928644462,\n",
       " 'cost function': gpkit.Posynomial(3.55/Tw + 1.78e-05·Tw + 0.000339),\n",
       " 'freevariables': {Tw: 111.98799937132334},\n",
       " 'constants': {},\n",
       " 'variables': {Tw: 111.98799937132334},\n",
       " 'soltime': 0.007396221160888672,\n",
       " 'sensitivities': {'constraints': {gpkit.PosynomialInequality(4·Tw + 52 ≤ 500): 0.8730313976203946,\n",
       "   gpkit.PosynomialInequality(Tw ≥ 100): 5.1517681793854397e-11,\n",
       "   gpkit.PosynomialInequality(5·(3.55 + Tw/1.24·0.619 + 0.416 + 1.86)·3.56e-05 ≤ 0.25): 8.085634202509015e-10},\n",
       "  'models': {'': 0.8730313984804757},\n",
       "  'cost': {Tw: -0.873031394019081},\n",
       "  'variables': {Tw: 4.358359319138212e-09},\n",
       "  'variablerisk': {Tw: 1.7460627924995566},\n",
       "  'constants': {Tw: 4.358359319138212e-09}},\n",
       " 'warnings': {'Solution Inconsistency': []}}"
      ]
     },
     "execution_count": 23,
     "metadata": {},
     "output_type": "execute_result"
    }
   ],
   "source": [
    "prob.solve()"
   ]
  },
  {
   "cell_type": "markdown",
   "metadata": {},
   "source": [
    "## Problem 2"
   ]
  },
  {
   "cell_type": "code",
   "execution_count": 26,
   "metadata": {},
   "outputs": [],
   "source": [
    "l_xmac = beta1 * Tw + beta2\n",
    "obj = l_xmac"
   ]
  },
  {
   "cell_type": "code",
   "execution_count": 29,
   "metadata": {},
   "outputs": [],
   "source": [
    "E_xmac = alpha1 / Tw + alpha2 * Tw + alpha3"
   ]
  },
  {
   "cell_type": "code",
   "execution_count": 30,
   "metadata": {},
   "outputs": [],
   "source": [
    "# [0.5, 5]\n",
    "E_budget = 5"
   ]
  },
  {
   "cell_type": "code",
   "execution_count": 31,
   "metadata": {},
   "outputs": [],
   "source": [
    "constraints = [\n",
    "    E_xmac <= E_budget,\n",
    "    Tw >= Tw_min,\n",
    "    I_0 * Etx_1 <= 1/4,   \n",
    "]"
   ]
  },
  {
   "cell_type": "code",
   "execution_count": 32,
   "metadata": {},
   "outputs": [
    {
     "name": "stdout",
     "output_type": "stream",
     "text": [
      "Using solver 'cvxopt'\n",
      " for 1 free variables\n",
      "  in 4 posynomial inequalities.\n",
      "Solving took 0.0131 seconds.\n"
     ]
    },
    {
     "data": {
      "text/plain": [
       "{'cost': 0.01622771090461456,\n",
       " 'cost function': gpkit.Posynomial(3.55/Tw + 1.78e-05·Tw + 0.000339),\n",
       " 'freevariables': {Tw: 446.869687696856},\n",
       " 'constants': {},\n",
       " 'variables': {Tw: 446.869687696856},\n",
       " 'soltime': 0.013094663619995117,\n",
       " 'sensitivities': {'constraints': {gpkit.PosynomialInequality(3.55/Tw + 1.78e-05·Tw + 0.000339 ≤ 5): 3.368710959568791e-09,\n",
       "   gpkit.PosynomialInequality(Tw ≥ 100): 3.012940685221324e-08,\n",
       "   gpkit.PosynomialInequality(5·(3.55 + Tw/1.24·0.619 + 0.416 + 1.86)·3.56e-05 ≤ 0.25): 3.435587489736733e-11},\n",
       "  'models': {'': 3.35324736866794e-08},\n",
       "  'cost': {Tw: 5.426312249534604e-08},\n",
       "  'variables': {Tw: 2.4168071704727234e-08},\n",
       "  'variablerisk': {Tw: 8.44268854091537e-08},\n",
       "  'constants': {Tw: 2.4168071704727234e-08}},\n",
       " 'warnings': {'Solution Inconsistency': []}}"
      ]
     },
     "execution_count": 32,
     "metadata": {},
     "output_type": "execute_result"
    }
   ],
   "source": [
    "prob = Model(obj, constraints)\n",
    "prob.solve()"
   ]
  },
  {
   "cell_type": "markdown",
   "metadata": {},
   "source": [
    "# Problem 3"
   ]
  },
  {
   "cell_type": "code",
   "execution_count": 39,
   "metadata": {},
   "outputs": [],
   "source": [
    "from scipy.optimize import minimize"
   ]
  },
  {
   "cell_type": "code",
   "execution_count": 60,
   "metadata": {},
   "outputs": [],
   "source": [
    "# variables E_1, L_1, T_w\n",
    "# maximize f -> minimize -f\n",
    "fun = lambda x: - np.log(Emax - x[0]) - np.log(Lmax - x[1]) "
   ]
  },
  {
   "cell_type": "code",
   "execution_count": 61,
   "metadata": {},
   "outputs": [],
   "source": [
    "def cond(x):\n",
    "    E_1, L_1, T_w = x\n",
    "    Ttx = T_w /(Tps + Tal) * ((Tps + Tal)/2) + Tack + Tdata\n",
    "    Etx_1 = (Tcs + Tal + Ttx) * F_out_worst\n",
    "    return I_0 * Etx_1 - 1/4"
   ]
  },
  {
   "cell_type": "code",
   "execution_count": 62,
   "metadata": {},
   "outputs": [],
   "source": [
    "cons = (\n",
    "    # E_1, L_1, T_w\n",
    "        {'type': 'ineq', 'fun': lambda x: alpha1 / x[2] + alpha2 * x[2] + alpha3 - Emax},\n",
    "        {'type': 'ineq', 'fun': lambda x: alpha1 / x[2] + alpha2 * x[2] + alpha3 - x[0]},\n",
    "\n",
    "        {'type': 'ineq', 'fun': lambda x: beta1 * x[2] + beta2 - Lmax},\n",
    "        {'type': 'ineq', 'fun': lambda x: beta1 * x[2] + beta2 - x[1]},\n",
    "\n",
    "        {'type': 'ineq', 'fun': lambda x: Tw_min - x[2]},\n",
    "        \n",
    "        {'type': 'ineq', 'fun': cond},\n",
    ")"
   ]
  },
  {
   "cell_type": "code",
   "execution_count": 63,
   "metadata": {},
   "outputs": [
    {
     "name": "stdout",
     "output_type": "stream",
     "text": [
      " message: Inequality constraints incompatible\n",
      " success: False\n",
      "  status: 4\n",
      "     fun: -8.517193191416238\n",
      "       x: [ 0.000e+00  0.000e+00  0.000e+00]\n",
      "     nit: 1\n",
      "     jac: [ 1.000e+00  2.000e-04  0.000e+00]\n",
      "    nfev: 4\n",
      "    njev: 1\n"
     ]
    },
    {
     "name": "stderr",
     "output_type": "stream",
     "text": [
      "/tmp/ipykernel_9311/1904398876.py:3: RuntimeWarning: divide by zero encountered in scalar divide\n",
      "  {'type': 'ineq', 'fun': lambda x: alpha1 / x[2] + alpha2 * x[2] + alpha3 - Emax},\n",
      "/tmp/ipykernel_9311/1904398876.py:4: RuntimeWarning: divide by zero encountered in scalar divide\n",
      "  {'type': 'ineq', 'fun': lambda x: alpha1 / x[2] + alpha2 * x[2] + alpha3 - x[0]},\n",
      "/home/david/miniconda3/envs/toml/lib/python3.10/site-packages/scipy/optimize/_numdiff.py:576: RuntimeWarning: invalid value encountered in subtract\n",
      "  df = fun(x) - f0\n"
     ]
    }
   ],
   "source": [
    "x0 = [0,0,0]\n",
    "print(minimize(fun, x0, method='SLSQP', constraints=cons))"
   ]
  },
  {
   "cell_type": "code",
   "execution_count": null,
   "metadata": {},
   "outputs": [],
   "source": []
  }
 ],
 "metadata": {
  "kernelspec": {
   "display_name": "toml",
   "language": "python",
   "name": "python3"
  },
  "language_info": {
   "codemirror_mode": {
    "name": "ipython",
    "version": 3
   },
   "file_extension": ".py",
   "mimetype": "text/x-python",
   "name": "python",
   "nbconvert_exporter": "python",
   "pygments_lexer": "ipython3",
   "version": "3.10.9"
  },
  "orig_nbformat": 4
 },
 "nbformat": 4,
 "nbformat_minor": 2
}
