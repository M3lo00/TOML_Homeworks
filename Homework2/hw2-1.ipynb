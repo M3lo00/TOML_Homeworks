{
 "cells": [
  {
   "cell_type": "code",
   "execution_count": null,
   "metadata": {},
   "outputs": [],
   "source": [
    "import numpy as np\n",
    "import matplotlib.pyplot as plt"
   ]
  },
  {
   "cell_type": "code",
   "execution_count": null,
   "metadata": {},
   "outputs": [],
   "source": [
    "#%%\n",
    "########################################################\n",
    "######## X-MAC: Trade_off Energy with Delay using GT\n",
    "########################################################\n",
    "# Radio subsystem varaible definition\n",
    "\n",
    "P     = 32.            # Payload [byte]\n",
    "R     = 31.25          # CC2420 Radio Rate [kbyte/s = Byte/ms]\n",
    "D     = 8              # number of levels\n",
    "C     = 5              # neighbors size (connectivity)\n",
    "N     = C*D**2         # number of nodes\n",
    "#### BE CAREFUL:  Times are in milliseconds (ms)\n",
    "Lmax  = 5000.          # Maximal allowed Delay (ms)\n",
    "Emax  = 1.             # MAximal Energy Budjet (J)\n",
    "\n",
    "L_pbl = 4.             # preamble length [byte]\n",
    "L_hdr = 9. + L_pbl     # header length [byte]\n",
    "L_ack = 9. + L_pbl     # ACK length [byte]\n",
    "L_ps  = 5. + L_pbl     # preamble strobe length [byte]\n",
    "\n",
    "Tal  = 0.95            # ack listen period [ms]\n",
    "Thdr = L_hdr/R         # header transmission duration [ms]\n",
    "Tack = L_ack/R         # ACK transmission duration [ms]\n",
    "Tps  = L_ps/R          # preamble strobe transmission duration [ms]\n",
    "Tcw  = 15*0.62         # Contention window size [ms]\n",
    "Tcs  = 2.60            # Time [ms] to turn the radio into TX and probe the channel (carrier sense)\n",
    "Tdata = Thdr + P/R + Tack # data packet transmission duration [ms]\n",
    "\n",
    "### Sampling frequency\n",
    "Fs   = 1.0/(60*30*1000)    # e.g. Min traffic rate 1 pkt/half_hour = 1/(60*30*1000) pk/ms\n",
    "\n",
    "# Sleep period: Parameter Bounds\n",
    "Tw_max  = 500.       # Maximum Duration of Tw in ms\n",
    "Tw_min  = 100.       # Minimum Duration of Tw in ms"
   ]
  },
  {
   "attachments": {},
   "cell_type": "markdown",
   "metadata": {},
   "source": [
    "## Part 1"
   ]
  },
  {
   "cell_type": "code",
   "execution_count": null,
   "metadata": {},
   "outputs": [],
   "source": [
    "intervals= [1,5,10,15,20,25,30] #in minutes\n",
    "data={}\n",
    "\n",
    "for i in intervals:\n",
    "    \n",
    "    Fs = 1.0/(60*i*1000) #e.g. Min traffic rate 1 pkt/half_hour = 1/(60*30*1000) pk/ms\n",
    "    print(Fs)\n",
    "    F_I_worst = Fs * ((D**2)-1)\n",
    "    F_out_worst = Fs * (D**2)\n",
    "    F_B_worst = (C-3) * F_out_worst\n",
    "\n",
    "    alpha1 = Tcs + Tal + (3/2)*Tps * (((Tps+Tal)/2)+Tack+Tdata) * F_B_worst\n",
    "    alpha2 = F_out_worst/2\n",
    "    alpha3 = (((Tps+Tal)/2)+Tcs+Tal+Tack+Tdata)*F_out_worst + ((3/2)*Tps + Tack + Tdata) * F_I_worst + (3/4) * Tps * F_B_worst\n",
    "\n",
    "    beta1 = D/2\n",
    "    beta2 = D * ((Tcw/2) + Tdata)\n",
    "\n",
    "    E = lambda T_w : alpha1/T_w + alpha2 * T_w + alpha3\n",
    "    L = lambda T_w : beta1 * T_w + beta2\n",
    "\n",
    "    print(alpha1, alpha2, alpha3, beta1, beta2)\n",
    "    Es = []\n",
    "    Ls = []\n",
    "    Tws = []\n",
    "    for Tw in np.linspace(Tw_min, Tw_max, 10):\n",
    "        Tws.append(Tw)\n",
    "        Es.append(E(Tw))\n",
    "        Ls.append(L(Tw))\n",
    "    data[i]= {'Tws':Tws, 'Es':Es, 'Ls':Ls}\n",
    "    \n",
    "# Plot E(Tw) and L(Tw) as a function of Tw\n",
    "fig, ax = plt.subplots(2, 1, figsize=(8, 8))\n",
    "for i in intervals:\n",
    "    ax[0].plot(data[i]['Tws'], data[i]['Es'], label=f\"{i} min\")\n",
    "    ax[1].plot(data[i]['Tws'], data[i]['Ls'], label=f\"{i} min\")\n",
    "ax[0].set_xlabel(\"Tw (ms)\")\n",
    "ax[0].set_ylabel(\"E (Joules)\")\n",
    "ax[0].set_title(\"E(Tw) vs Tw\")\n",
    "ax[0].legend()\n",
    "ax[1].set_xlabel(\"Tw (ms)\")\n",
    "ax[1].set_ylabel(\"L (ms)\")\n",
    "ax[1].set_title(\"L(Tw) vs Tw\")\n",
    "ax[1].legend()\n",
    "plt.tight_layout()\n",
    "plt.show()\n",
    "\n",
    "# Plot E(L) as a function of L\n",
    "fig, ax = plt.subplots(figsize=(8, 6))\n",
    "for i in intervals:\n",
    "    L_vals = np.array(data[i]['Ls'])\n",
    "    E_vals = np.array(data[i]['Es'])\n",
    "    ax.plot(L_vals, E_vals, label=f\"{i} min\")\n",
    "ax.set_xlabel(\"L (ms)\")\n",
    "ax.set_ylabel(\"E (Joules)\")\n",
    "ax.set_title(\"E(L) vs L\")\n",
    "ax.legend()\n",
    "plt.show()"
   ]
  },
  {
   "cell_type": "code",
   "execution_count": null,
   "metadata": {},
   "outputs": [],
   "source": [
    "# Create a 7x3 grid of subplots\n",
    "fig, axs = plt.subplots(7, 3, figsize=(15, 25))\n",
    "\n",
    "# Plot E(Tw) as a function of Tw in the first column\n",
    "for i, interval in enumerate(intervals):\n",
    "    axs[i, 0].plot(data[interval]['Tws'], data[interval]['Es'])\n",
    "    axs[i, 0].set_xlabel(\"Tw (ms)\")\n",
    "    axs[i, 0].set_ylabel(\"E (Joules)\")\n",
    "    axs[i, 0].set_title(f\"E(Tw) vs Tw ({interval} min)\")\n",
    "    axs[i, 0].grid(which='both', alpha=0.5)\n",
    "\n",
    "# Plot E(L) as a function of L in the second column\n",
    "for i, interval in enumerate(intervals):\n",
    "    L_vals = np.array(data[interval]['Ls'])\n",
    "    E_vals = np.array(data[interval]['Es'])\n",
    "    axs[i, 1].plot(L_vals, E_vals)\n",
    "    axs[i, 1].set_xlabel(\"L (ms)\")\n",
    "    axs[i, 1].set_ylabel(\"E (Joules)\")\n",
    "    axs[i, 1].set_title(f\"E(L) vs L ({interval} min)\")\n",
    "    axs[i, 1].grid(which='both', alpha=0.5)\n",
    "    \n",
    "# Plot L(Tw) as a function of Tw in the third column\n",
    "for i, interval in enumerate(intervals):\n",
    "    axs[i, 2].plot(data[interval]['Tws'], data[interval]['Ls'])\n",
    "    axs[i, 2].set_xlabel(\"Tw (ms)\")\n",
    "    axs[i, 2].set_ylabel(\"L (ms)\")\n",
    "    axs[i, 2].set_title(f\"L(Tw) vs Tw ({interval} min)\")\n",
    "    axs[i, 2].grid(which='both', alpha=0.5)\n",
    "\n",
    "\n",
    "# Adjust subplots spacing and layout\n",
    "fig.tight_layout(pad=3.0)\n",
    "\n",
    "# Show the plot\n",
    "plt.show()"
   ]
  },
  {
   "attachments": {},
   "cell_type": "markdown",
   "metadata": {},
   "source": [
    "# Part 2"
   ]
  },
  {
   "cell_type": "code",
   "execution_count": null,
   "metadata": {},
   "outputs": [],
   "source": [
    "Fs   = 1.0/(60*30*1000)    # every 30 minutes\n",
    "Fs"
   ]
  },
  {
   "cell_type": "code",
   "execution_count": null,
   "metadata": {},
   "outputs": [],
   "source": [
    "F_I_worst = Fs * ((D**2)-1)\n",
    "F_out_worst = Fs * (D**2)\n",
    "F_B_worst = (C-3) * F_out_worst\n",
    "\n",
    "alpha1 = Tcs + Tal + (3/2)*Tps * ((Tps+Tal)/2+Tack+Tdata) * F_B_worst\n",
    "alpha2 = F_out_worst/2\n",
    "alpha3 = (((Tps+Tal)/2)+Tcs+Tal+Tack+Tdata)*F_out_worst + ((3/2)*Tps + Tack + Tdata) * F_I_worst + (3/4) * Tps * F_B_worst\n",
    "\n",
    "beta1 = D/2\n",
    "beta2 = D * ((Tcw/2) + Tdata)\n",
    "\n",
    "E = lambda T_w : alpha1/T_w + alpha2 * T_w + alpha3\n",
    "L = lambda T_w : beta1 * T_w + beta2\n",
    "\n",
    "alpha1, alpha2, alpha3, beta1, beta2"
   ]
  },
  {
   "cell_type": "code",
   "execution_count": null,
   "metadata": {},
   "outputs": [],
   "source": [
    "from gpkit import Variable, Model\n",
    "import numpy as np"
   ]
  },
  {
   "cell_type": "code",
   "execution_count": null,
   "metadata": {},
   "outputs": [],
   "source": [
    "Tw = Variable('Tw')"
   ]
  },
  {
   "attachments": {},
   "cell_type": "markdown",
   "metadata": {},
   "source": [
    "## Problem 1\n",
    "\n",
    "We can use, as suggested, 30 minutes\n",
    "Calulate the alphas for d=1 and d=D"
   ]
  },
  {
   "cell_type": "code",
   "execution_count": null,
   "metadata": {},
   "outputs": [],
   "source": [
    "E_xmac = alpha1 / Tw + alpha2 * Tw + alpha3\n",
    "obj = E_xmac"
   ]
  },
  {
   "cell_type": "code",
   "execution_count": null,
   "metadata": {},
   "outputs": [],
   "source": [
    "l_xmac = beta1 * Tw + beta2"
   ]
  },
  {
   "cell_type": "code",
   "execution_count": null,
   "metadata": {},
   "outputs": [],
   "source": [
    "# [100, 5000]\n",
    "l_max = 5000"
   ]
  },
  {
   "cell_type": "code",
   "execution_count": null,
   "metadata": {},
   "outputs": [],
   "source": [
    "# TODO should be Ceil(Tw/(Tps+Tal)), maybe it's okay\n",
    "Ttx = Tw /(Tps + Tal) * ((Tps + Tal)/2) + Tack + Tdata"
   ]
  },
  {
   "cell_type": "code",
   "execution_count": null,
   "metadata": {},
   "outputs": [],
   "source": [
    "I_0 = C\n",
    "Etx_1 = (Tcs + Tal + Ttx) * F_out_worst"
   ]
  },
  {
   "cell_type": "code",
   "execution_count": null,
   "metadata": {},
   "outputs": [],
   "source": [
    "constraints = [\n",
    "    l_xmac <= l_max,\n",
    "    Tw >= Tw_min,\n",
    "    I_0 * Etx_1 <= 1/4,   \n",
    "]"
   ]
  },
  {
   "cell_type": "code",
   "execution_count": null,
   "metadata": {},
   "outputs": [],
   "source": [
    "prob = Model(obj, constraints)"
   ]
  },
  {
   "cell_type": "code",
   "execution_count": null,
   "metadata": {},
   "outputs": [],
   "source": [
    "prob.solve()"
   ]
  },
  {
   "cell_type": "markdown",
   "metadata": {},
   "source": [
    "## Problem 2"
   ]
  },
  {
   "cell_type": "code",
   "execution_count": null,
   "metadata": {},
   "outputs": [],
   "source": [
    "l_xmac = beta1 * Tw + beta2\n",
    "obj = l_xmac"
   ]
  },
  {
   "cell_type": "code",
   "execution_count": null,
   "metadata": {},
   "outputs": [],
   "source": [
    "E_xmac = alpha1 / Tw + alpha2 * Tw + alpha3"
   ]
  },
  {
   "cell_type": "code",
   "execution_count": null,
   "metadata": {},
   "outputs": [],
   "source": [
    "# [0.5, 5]\n",
    "E_budget = 0.02"
   ]
  },
  {
   "cell_type": "code",
   "execution_count": null,
   "metadata": {},
   "outputs": [],
   "source": [
    "constraints = [\n",
    "    E_xmac <= E_budget,\n",
    "    Tw >= Tw_min,\n",
    "    I_0 * Etx_1 <= 1/4,   \n",
    "]"
   ]
  },
  {
   "cell_type": "code",
   "execution_count": null,
   "metadata": {},
   "outputs": [],
   "source": [
    "prob = Model(obj, constraints)\n",
    "prob.solve()"
   ]
  },
  {
   "attachments": {},
   "cell_type": "markdown",
   "metadata": {},
   "source": [
    "## Problem 3\n",
    "\n",
    "Nash Barganians solution\n"
   ]
  },
  {
   "cell_type": "code",
   "execution_count": null,
   "metadata": {},
   "outputs": [],
   "source": [
    "from scipy.optimize import minimize"
   ]
  },
  {
   "cell_type": "code",
   "execution_count": null,
   "metadata": {},
   "outputs": [],
   "source": [
    "# variables E_1, L_1, T_w\n",
    "# maximize f -> minimize -f\n",
    "fun = lambda x: - np.log(Emax - x[0]) - np.log(Lmax - x[1]) "
   ]
  },
  {
   "cell_type": "code",
   "execution_count": null,
   "metadata": {},
   "outputs": [],
   "source": [
    "def cond(x):\n",
    "    E_1, L_1, T_w = x\n",
    "    Ttx = T_w /(Tps + Tal) * ((Tps + Tal)/2) + Tack + Tdata\n",
    "    Etx_1 = (Tcs + Tal + Ttx) * F_out_worst\n",
    "    return I_0 * Etx_1 - 1/4"
   ]
  },
  {
   "cell_type": "code",
   "execution_count": null,
   "metadata": {},
   "outputs": [],
   "source": [
    "cons = (\n",
    "    # E_1, L_1, T_w\n",
    "        {'type': 'ineq', 'fun': lambda x: alpha1 / x[2] + alpha2 * x[2] + alpha3 - Emax},\n",
    "        {'type': 'ineq', 'fun': lambda x: alpha1 / x[2] + alpha2 * x[2] + alpha3 - x[0]},\n",
    "\n",
    "        {'type': 'ineq', 'fun': lambda x: beta1 * x[2] + beta2 - Lmax},\n",
    "        {'type': 'ineq', 'fun': lambda x: beta1 * x[2] + beta2 - x[1]},\n",
    "\n",
    "        {'type': 'ineq', 'fun': lambda x: Tw_min - x[2]},\n",
    "        \n",
    "        {'type': 'ineq', 'fun': cond},\n",
    ")"
   ]
  },
  {
   "cell_type": "code",
   "execution_count": null,
   "metadata": {},
   "outputs": [],
   "source": [
    "x0 = [0,0,0]\n",
    "print(minimize(fun, x0, method='SLSQP', constraints=cons))"
   ]
  },
  {
   "cell_type": "code",
   "execution_count": null,
   "metadata": {},
   "outputs": [],
   "source": []
  }
 ],
 "metadata": {
  "kernelspec": {
   "display_name": "toml",
   "language": "python",
   "name": "python3"
  },
  "language_info": {
   "codemirror_mode": {
    "name": "ipython",
    "version": 3
   },
   "file_extension": ".py",
   "mimetype": "text/x-python",
   "name": "python",
   "nbconvert_exporter": "python",
   "pygments_lexer": "ipython3",
   "version": "3.11.2"
  },
  "orig_nbformat": 4
 },
 "nbformat": 4,
 "nbformat_minor": 2
}
