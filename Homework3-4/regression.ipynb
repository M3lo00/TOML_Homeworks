{
 "cells": [
  {
   "cell_type": "code",
   "execution_count": 40,
   "metadata": {
    "execution": {
     "iopub.execute_input": "2022-12-27T02:21:48.789114Z",
     "iopub.status.busy": "2022-12-27T02:21:48.788463Z",
     "iopub.status.idle": "2022-12-27T02:21:49.953631Z",
     "shell.execute_reply": "2022-12-27T02:21:49.952896Z"
    },
    "id": "1rRo8oNqZ-Rj"
   },
   "outputs": [],
   "source": [
    "import matplotlib.pyplot as plt\n",
    "import numpy as np\n",
    "import pandas as pd\n",
    "import seaborn as sns\n",
    "\n",
    "# Make NumPy printouts easier to read.\n",
    "np.set_printoptions(precision=3, suppress=True)"
   ]
  },
  {
   "cell_type": "code",
   "execution_count": 41,
   "metadata": {
    "execution": {
     "iopub.execute_input": "2022-12-27T02:21:49.957849Z",
     "iopub.status.busy": "2022-12-27T02:21:49.957261Z",
     "iopub.status.idle": "2022-12-27T02:21:51.455642Z",
     "shell.execute_reply": "2022-12-27T02:21:51.454983Z"
    },
    "id": "9xQKvCJ85kCQ"
   },
   "outputs": [
    {
     "name": "stdout",
     "output_type": "stream",
     "text": [
      "2.12.0\n"
     ]
    }
   ],
   "source": [
    "import tensorflow as tf\n",
    "\n",
    "from tensorflow import keras\n",
    "from tensorflow.keras import layers\n",
    "\n",
    "tf.config.set_visible_devices([], 'GPU') #disables GPU\n",
    "\n",
    "print(tf.__version__)"
   ]
  },
  {
   "cell_type": "code",
   "execution_count": 42,
   "metadata": {},
   "outputs": [],
   "source": [
    "raw_dataset = pd.read_csv(\"BC-Data-Set.csv\")"
   ]
  },
  {
   "cell_type": "code",
   "execution_count": 43,
   "metadata": {
    "execution": {
     "iopub.execute_input": "2022-12-27T02:21:51.861054Z",
     "iopub.status.busy": "2022-12-27T02:21:51.860578Z",
     "iopub.status.idle": "2022-12-27T02:21:51.875141Z",
     "shell.execute_reply": "2022-12-27T02:21:51.874576Z"
    },
    "id": "2oY3pMPagJrO"
   },
   "outputs": [
    {
     "data": {
      "text/html": [
       "<div>\n",
       "<style scoped>\n",
       "    .dataframe tbody tr th:only-of-type {\n",
       "        vertical-align: middle;\n",
       "    }\n",
       "\n",
       "    .dataframe tbody tr th {\n",
       "        vertical-align: top;\n",
       "    }\n",
       "\n",
       "    .dataframe thead th {\n",
       "        text-align: right;\n",
       "    }\n",
       "</style>\n",
       "<table border=\"1\" class=\"dataframe\">\n",
       "  <thead>\n",
       "    <tr style=\"text-align: right;\">\n",
       "      <th></th>\n",
       "      <th>date</th>\n",
       "      <th>BC</th>\n",
       "      <th>N_CPC</th>\n",
       "      <th>PM-10</th>\n",
       "      <th>PM-2.5</th>\n",
       "      <th>PM-1.0</th>\n",
       "      <th>NO2</th>\n",
       "      <th>O3</th>\n",
       "      <th>SO2</th>\n",
       "      <th>CO</th>\n",
       "      <th>NO</th>\n",
       "      <th>NOX</th>\n",
       "      <th>TEMP</th>\n",
       "      <th>HUM</th>\n",
       "    </tr>\n",
       "  </thead>\n",
       "  <tbody>\n",
       "    <tr>\n",
       "      <th>4218</th>\n",
       "      <td>2019-12-10 19:00:00</td>\n",
       "      <td>0.728</td>\n",
       "      <td>9.275</td>\n",
       "      <td>7.300</td>\n",
       "      <td>5.267</td>\n",
       "      <td>3.267</td>\n",
       "      <td>30.0</td>\n",
       "      <td>57.0</td>\n",
       "      <td>1.0</td>\n",
       "      <td>0.2</td>\n",
       "      <td>2.0</td>\n",
       "      <td>33.0</td>\n",
       "      <td>22.033</td>\n",
       "      <td>93.367</td>\n",
       "    </tr>\n",
       "    <tr>\n",
       "      <th>4219</th>\n",
       "      <td>2019-12-10 20:00:00</td>\n",
       "      <td>0.787</td>\n",
       "      <td>9.420</td>\n",
       "      <td>7.500</td>\n",
       "      <td>5.467</td>\n",
       "      <td>3.417</td>\n",
       "      <td>37.0</td>\n",
       "      <td>46.0</td>\n",
       "      <td>1.0</td>\n",
       "      <td>0.2</td>\n",
       "      <td>1.0</td>\n",
       "      <td>38.0</td>\n",
       "      <td>22.100</td>\n",
       "      <td>93.317</td>\n",
       "    </tr>\n",
       "    <tr>\n",
       "      <th>4220</th>\n",
       "      <td>2019-12-10 21:00:00</td>\n",
       "      <td>1.056</td>\n",
       "      <td>9.296</td>\n",
       "      <td>7.233</td>\n",
       "      <td>5.283</td>\n",
       "      <td>3.200</td>\n",
       "      <td>16.0</td>\n",
       "      <td>67.0</td>\n",
       "      <td>1.0</td>\n",
       "      <td>0.2</td>\n",
       "      <td>1.0</td>\n",
       "      <td>17.0</td>\n",
       "      <td>22.200</td>\n",
       "      <td>93.333</td>\n",
       "    </tr>\n",
       "    <tr>\n",
       "      <th>4221</th>\n",
       "      <td>2019-12-10 22:00:00</td>\n",
       "      <td>0.804</td>\n",
       "      <td>9.504</td>\n",
       "      <td>7.667</td>\n",
       "      <td>5.450</td>\n",
       "      <td>3.133</td>\n",
       "      <td>15.0</td>\n",
       "      <td>68.0</td>\n",
       "      <td>1.0</td>\n",
       "      <td>0.2</td>\n",
       "      <td>1.0</td>\n",
       "      <td>16.0</td>\n",
       "      <td>22.183</td>\n",
       "      <td>93.417</td>\n",
       "    </tr>\n",
       "    <tr>\n",
       "      <th>4222</th>\n",
       "      <td>2019-12-10 23:00:00</td>\n",
       "      <td>0.563</td>\n",
       "      <td>9.213</td>\n",
       "      <td>7.750</td>\n",
       "      <td>5.517</td>\n",
       "      <td>3.167</td>\n",
       "      <td>12.0</td>\n",
       "      <td>71.0</td>\n",
       "      <td>1.0</td>\n",
       "      <td>0.2</td>\n",
       "      <td>1.0</td>\n",
       "      <td>14.0</td>\n",
       "      <td>22.200</td>\n",
       "      <td>92.600</td>\n",
       "    </tr>\n",
       "  </tbody>\n",
       "</table>\n",
       "</div>"
      ],
      "text/plain": [
       "                     date     BC  N_CPC  PM-10  PM-2.5  PM-1.0   NO2    O3  \\\n",
       "4218  2019-12-10 19:00:00  0.728  9.275  7.300   5.267   3.267  30.0  57.0   \n",
       "4219  2019-12-10 20:00:00  0.787  9.420  7.500   5.467   3.417  37.0  46.0   \n",
       "4220  2019-12-10 21:00:00  1.056  9.296  7.233   5.283   3.200  16.0  67.0   \n",
       "4221  2019-12-10 22:00:00  0.804  9.504  7.667   5.450   3.133  15.0  68.0   \n",
       "4222  2019-12-10 23:00:00  0.563  9.213  7.750   5.517   3.167  12.0  71.0   \n",
       "\n",
       "      SO2   CO   NO   NOX    TEMP     HUM  \n",
       "4218  1.0  0.2  2.0  33.0  22.033  93.367  \n",
       "4219  1.0  0.2  1.0  38.0  22.100  93.317  \n",
       "4220  1.0  0.2  1.0  17.0  22.200  93.333  \n",
       "4221  1.0  0.2  1.0  16.0  22.183  93.417  \n",
       "4222  1.0  0.2  1.0  14.0  22.200  92.600  "
      ]
     },
     "execution_count": 43,
     "metadata": {},
     "output_type": "execute_result"
    }
   ],
   "source": [
    "dataset = raw_dataset.copy()\n",
    "dataset.tail()"
   ]
  },
  {
   "attachments": {},
   "cell_type": "markdown",
   "metadata": {
    "id": "3MWuJTKEDM-f"
   },
   "source": [
    "### Clean the data\n",
    "\n",
    "The dataset contains a few unknown values:"
   ]
  },
  {
   "cell_type": "code",
   "execution_count": 44,
   "metadata": {
    "execution": {
     "iopub.execute_input": "2022-12-27T02:21:51.878529Z",
     "iopub.status.busy": "2022-12-27T02:21:51.878060Z",
     "iopub.status.idle": "2022-12-27T02:21:51.883421Z",
     "shell.execute_reply": "2022-12-27T02:21:51.882865Z"
    },
    "id": "JEJHhN65a2VV"
   },
   "outputs": [
    {
     "data": {
      "text/plain": [
       "date      0\n",
       "BC        0\n",
       "N_CPC     0\n",
       "PM-10     0\n",
       "PM-2.5    0\n",
       "PM-1.0    0\n",
       "NO2       0\n",
       "O3        0\n",
       "SO2       0\n",
       "CO        0\n",
       "NO        0\n",
       "NOX       0\n",
       "TEMP      0\n",
       "HUM       0\n",
       "dtype: int64"
      ]
     },
     "execution_count": 44,
     "metadata": {},
     "output_type": "execute_result"
    }
   ],
   "source": [
    "dataset.isna().sum()"
   ]
  },
  {
   "attachments": {},
   "cell_type": "markdown",
   "metadata": {
    "id": "9UPN0KBHa_WI"
   },
   "source": [
    "Drop those rows that contain unknown values."
   ]
  },
  {
   "cell_type": "code",
   "execution_count": 45,
   "metadata": {
    "execution": {
     "iopub.execute_input": "2022-12-27T02:21:51.886774Z",
     "iopub.status.busy": "2022-12-27T02:21:51.886216Z",
     "iopub.status.idle": "2022-12-27T02:21:51.890350Z",
     "shell.execute_reply": "2022-12-27T02:21:51.889716Z"
    },
    "id": "4ZUDosChC1UN"
   },
   "outputs": [],
   "source": [
    "dataset = dataset.dropna()"
   ]
  },
  {
   "attachments": {},
   "cell_type": "markdown",
   "metadata": {
    "id": "Cuym4yvk76vU"
   },
   "source": [
    "### Split the data into training and test sets\n",
    "\n",
    "Now, split the dataset into a training set and a test set. You will use the test set in the final evaluation of your models."
   ]
  },
  {
   "cell_type": "code",
   "execution_count": 46,
   "metadata": {
    "execution": {
     "iopub.execute_input": "2022-12-27T02:21:51.916598Z",
     "iopub.status.busy": "2022-12-27T02:21:51.916068Z",
     "iopub.status.idle": "2022-12-27T02:21:51.920500Z",
     "shell.execute_reply": "2022-12-27T02:21:51.919906Z"
    },
    "id": "qn-IGhUE7_1H"
   },
   "outputs": [],
   "source": [
    "train_dataset = dataset.sample(frac=0.8, random_state=0)\n",
    "test_dataset = dataset.drop(train_dataset.index)"
   ]
  },
  {
   "attachments": {},
   "cell_type": "markdown",
   "metadata": {
    "id": "J4ubs136WLNp"
   },
   "source": [
    "### Inspect the data\n",
    "\n",
    "Review the joint distribution of a few pairs of columns from the training set.\n",
    "\n",
    "The top row suggests that the fuel efficiency (MPG) is a function of all the other parameters. The other rows indicate they are functions of each other."
   ]
  },
  {
   "cell_type": "code",
   "execution_count": 47,
   "metadata": {},
   "outputs": [
    {
     "data": {
      "text/plain": [
       "Index(['date', 'BC', 'N_CPC', 'PM-10', 'PM-2.5', 'PM-1.0', 'NO2', 'O3', 'SO2',\n",
       "       'CO', 'NO', 'NOX', 'TEMP', 'HUM'],\n",
       "      dtype='object')"
      ]
     },
     "execution_count": 47,
     "metadata": {},
     "output_type": "execute_result"
    }
   ],
   "source": [
    "dataset.columns"
   ]
  },
  {
   "cell_type": "code",
   "execution_count": 48,
   "metadata": {
    "execution": {
     "iopub.execute_input": "2022-12-27T02:21:51.923735Z",
     "iopub.status.busy": "2022-12-27T02:21:51.923265Z",
     "iopub.status.idle": "2022-12-27T02:21:54.579330Z",
     "shell.execute_reply": "2022-12-27T02:21:54.578578Z"
    },
    "id": "oRKO_x8gWKv-"
   },
   "outputs": [
    {
     "data": {
      "text/plain": [
       "<seaborn.axisgrid.PairGrid at 0x1692bfc10>"
      ]
     },
     "execution_count": 48,
     "metadata": {},
     "output_type": "execute_result"
    }
   ],
   "source": [
    "sns.pairplot(train_dataset[['BC', 'N_CPC', 'PM-10', 'PM-2.5', 'PM-1.0', 'NO2', 'O3', 'SO2',\n",
    "       'CO', 'NO', 'NOX', 'TEMP', 'HUM']], diag_kind='kde')"
   ]
  },
  {
   "attachments": {},
   "cell_type": "markdown",
   "metadata": {
    "id": "gavKO_6DWRMP"
   },
   "source": [
    "Let's also check the overall statistics. Note how each feature covers a very different range:"
   ]
  },
  {
   "cell_type": "code",
   "execution_count": 49,
   "metadata": {
    "execution": {
     "iopub.execute_input": "2022-12-27T02:21:54.584792Z",
     "iopub.status.busy": "2022-12-27T02:21:54.584146Z",
     "iopub.status.idle": "2022-12-27T02:21:54.616279Z",
     "shell.execute_reply": "2022-12-27T02:21:54.615730Z"
    },
    "id": "yi2FzC3T21jR"
   },
   "outputs": [
    {
     "data": {
      "text/html": [
       "<div>\n",
       "<style scoped>\n",
       "    .dataframe tbody tr th:only-of-type {\n",
       "        vertical-align: middle;\n",
       "    }\n",
       "\n",
       "    .dataframe tbody tr th {\n",
       "        vertical-align: top;\n",
       "    }\n",
       "\n",
       "    .dataframe thead th {\n",
       "        text-align: right;\n",
       "    }\n",
       "</style>\n",
       "<table border=\"1\" class=\"dataframe\">\n",
       "  <thead>\n",
       "    <tr style=\"text-align: right;\">\n",
       "      <th></th>\n",
       "      <th>count</th>\n",
       "      <th>mean</th>\n",
       "      <th>std</th>\n",
       "      <th>min</th>\n",
       "      <th>25%</th>\n",
       "      <th>50%</th>\n",
       "      <th>75%</th>\n",
       "      <th>max</th>\n",
       "    </tr>\n",
       "  </thead>\n",
       "  <tbody>\n",
       "    <tr>\n",
       "      <th>BC</th>\n",
       "      <td>3378.0</td>\n",
       "      <td>1.315612</td>\n",
       "      <td>1.144200</td>\n",
       "      <td>0.110</td>\n",
       "      <td>0.66000</td>\n",
       "      <td>0.9685</td>\n",
       "      <td>1.50800</td>\n",
       "      <td>12.767</td>\n",
       "    </tr>\n",
       "    <tr>\n",
       "      <th>N_CPC</th>\n",
       "      <td>3378.0</td>\n",
       "      <td>13.621004</td>\n",
       "      <td>8.246350</td>\n",
       "      <td>1.376</td>\n",
       "      <td>7.68750</td>\n",
       "      <td>11.5130</td>\n",
       "      <td>17.55125</td>\n",
       "      <td>73.490</td>\n",
       "    </tr>\n",
       "    <tr>\n",
       "      <th>PM-10</th>\n",
       "      <td>3378.0</td>\n",
       "      <td>15.010709</td>\n",
       "      <td>14.264099</td>\n",
       "      <td>0.600</td>\n",
       "      <td>8.48725</td>\n",
       "      <td>12.7830</td>\n",
       "      <td>18.29575</td>\n",
       "      <td>398.717</td>\n",
       "    </tr>\n",
       "    <tr>\n",
       "      <th>PM-2.5</th>\n",
       "      <td>3378.0</td>\n",
       "      <td>9.302872</td>\n",
       "      <td>6.148034</td>\n",
       "      <td>0.500</td>\n",
       "      <td>5.03300</td>\n",
       "      <td>7.9330</td>\n",
       "      <td>11.81700</td>\n",
       "      <td>76.833</td>\n",
       "    </tr>\n",
       "    <tr>\n",
       "      <th>PM-1.0</th>\n",
       "      <td>3378.0</td>\n",
       "      <td>7.267276</td>\n",
       "      <td>5.509096</td>\n",
       "      <td>0.333</td>\n",
       "      <td>3.20000</td>\n",
       "      <td>5.8415</td>\n",
       "      <td>9.56275</td>\n",
       "      <td>34.383</td>\n",
       "    </tr>\n",
       "    <tr>\n",
       "      <th>NO2</th>\n",
       "      <td>3378.0</td>\n",
       "      <td>30.085849</td>\n",
       "      <td>21.629409</td>\n",
       "      <td>2.000</td>\n",
       "      <td>14.00000</td>\n",
       "      <td>24.0000</td>\n",
       "      <td>40.00000</td>\n",
       "      <td>132.000</td>\n",
       "    </tr>\n",
       "    <tr>\n",
       "      <th>O3</th>\n",
       "      <td>3378.0</td>\n",
       "      <td>47.924709</td>\n",
       "      <td>26.091897</td>\n",
       "      <td>1.000</td>\n",
       "      <td>30.00000</td>\n",
       "      <td>48.0000</td>\n",
       "      <td>65.00000</td>\n",
       "      <td>142.000</td>\n",
       "    </tr>\n",
       "    <tr>\n",
       "      <th>SO2</th>\n",
       "      <td>3378.0</td>\n",
       "      <td>1.361358</td>\n",
       "      <td>0.769938</td>\n",
       "      <td>0.500</td>\n",
       "      <td>1.00000</td>\n",
       "      <td>1.0000</td>\n",
       "      <td>2.00000</td>\n",
       "      <td>13.000</td>\n",
       "    </tr>\n",
       "    <tr>\n",
       "      <th>CO</th>\n",
       "      <td>3378.0</td>\n",
       "      <td>0.312783</td>\n",
       "      <td>0.211640</td>\n",
       "      <td>0.100</td>\n",
       "      <td>0.20000</td>\n",
       "      <td>0.2000</td>\n",
       "      <td>0.30000</td>\n",
       "      <td>1.900</td>\n",
       "    </tr>\n",
       "    <tr>\n",
       "      <th>NO</th>\n",
       "      <td>3378.0</td>\n",
       "      <td>7.786610</td>\n",
       "      <td>18.866797</td>\n",
       "      <td>0.500</td>\n",
       "      <td>1.00000</td>\n",
       "      <td>3.0000</td>\n",
       "      <td>6.00000</td>\n",
       "      <td>255.000</td>\n",
       "    </tr>\n",
       "    <tr>\n",
       "      <th>NOX</th>\n",
       "      <td>3378.0</td>\n",
       "      <td>41.655319</td>\n",
       "      <td>45.598594</td>\n",
       "      <td>1.000</td>\n",
       "      <td>17.00000</td>\n",
       "      <td>28.0000</td>\n",
       "      <td>48.00000</td>\n",
       "      <td>521.000</td>\n",
       "    </tr>\n",
       "    <tr>\n",
       "      <th>TEMP</th>\n",
       "      <td>3378.0</td>\n",
       "      <td>17.839891</td>\n",
       "      <td>6.139089</td>\n",
       "      <td>4.083</td>\n",
       "      <td>12.75000</td>\n",
       "      <td>17.1915</td>\n",
       "      <td>22.76700</td>\n",
       "      <td>34.983</td>\n",
       "    </tr>\n",
       "    <tr>\n",
       "      <th>HUM</th>\n",
       "      <td>3378.0</td>\n",
       "      <td>70.974760</td>\n",
       "      <td>15.219415</td>\n",
       "      <td>19.683</td>\n",
       "      <td>60.65425</td>\n",
       "      <td>72.0665</td>\n",
       "      <td>83.23300</td>\n",
       "      <td>100.000</td>\n",
       "    </tr>\n",
       "  </tbody>\n",
       "</table>\n",
       "</div>"
      ],
      "text/plain": [
       "         count       mean        std     min       25%      50%       75%  \\\n",
       "BC      3378.0   1.315612   1.144200   0.110   0.66000   0.9685   1.50800   \n",
       "N_CPC   3378.0  13.621004   8.246350   1.376   7.68750  11.5130  17.55125   \n",
       "PM-10   3378.0  15.010709  14.264099   0.600   8.48725  12.7830  18.29575   \n",
       "PM-2.5  3378.0   9.302872   6.148034   0.500   5.03300   7.9330  11.81700   \n",
       "PM-1.0  3378.0   7.267276   5.509096   0.333   3.20000   5.8415   9.56275   \n",
       "NO2     3378.0  30.085849  21.629409   2.000  14.00000  24.0000  40.00000   \n",
       "O3      3378.0  47.924709  26.091897   1.000  30.00000  48.0000  65.00000   \n",
       "SO2     3378.0   1.361358   0.769938   0.500   1.00000   1.0000   2.00000   \n",
       "CO      3378.0   0.312783   0.211640   0.100   0.20000   0.2000   0.30000   \n",
       "NO      3378.0   7.786610  18.866797   0.500   1.00000   3.0000   6.00000   \n",
       "NOX     3378.0  41.655319  45.598594   1.000  17.00000  28.0000  48.00000   \n",
       "TEMP    3378.0  17.839891   6.139089   4.083  12.75000  17.1915  22.76700   \n",
       "HUM     3378.0  70.974760  15.219415  19.683  60.65425  72.0665  83.23300   \n",
       "\n",
       "            max  \n",
       "BC       12.767  \n",
       "N_CPC    73.490  \n",
       "PM-10   398.717  \n",
       "PM-2.5   76.833  \n",
       "PM-1.0   34.383  \n",
       "NO2     132.000  \n",
       "O3      142.000  \n",
       "SO2      13.000  \n",
       "CO        1.900  \n",
       "NO      255.000  \n",
       "NOX     521.000  \n",
       "TEMP     34.983  \n",
       "HUM     100.000  "
      ]
     },
     "execution_count": 49,
     "metadata": {},
     "output_type": "execute_result"
    }
   ],
   "source": [
    "train_dataset.describe().transpose()"
   ]
  },
  {
   "attachments": {},
   "cell_type": "markdown",
   "metadata": {
    "id": "Db7Auq1yXUvh"
   },
   "source": [
    "### Split features from labels\n",
    "\n",
    "Separate the target value—the \"label\"—from the features. This label is the value that you will train the model to predict."
   ]
  },
  {
   "cell_type": "code",
   "execution_count": 50,
   "metadata": {},
   "outputs": [],
   "source": [
    "train_dataset.drop(['date'], axis=1, inplace=True)"
   ]
  },
  {
   "cell_type": "code",
   "execution_count": 51,
   "metadata": {
    "execution": {
     "iopub.execute_input": "2022-12-27T02:21:54.619704Z",
     "iopub.status.busy": "2022-12-27T02:21:54.619079Z",
     "iopub.status.idle": "2022-12-27T02:21:54.623534Z",
     "shell.execute_reply": "2022-12-27T02:21:54.622996Z"
    },
    "id": "t2sluJdCW7jN"
   },
   "outputs": [],
   "source": [
    "train_features = train_dataset.copy()\n",
    "test_features = test_dataset.copy()\n",
    "\n",
    "train_labels = train_features.pop('BC')\n",
    "test_labels = test_features.pop('BC')"
   ]
  },
  {
   "attachments": {},
   "cell_type": "markdown",
   "metadata": {
    "id": "mRklxK5s388r"
   },
   "source": [
    "## Normalization\n",
    "\n",
    "In the table of statistics it's easy to see how different the ranges of each feature are:"
   ]
  },
  {
   "cell_type": "code",
   "execution_count": 52,
   "metadata": {
    "execution": {
     "iopub.execute_input": "2022-12-27T02:21:54.626870Z",
     "iopub.status.busy": "2022-12-27T02:21:54.626324Z",
     "iopub.status.idle": "2022-12-27T02:21:54.651031Z",
     "shell.execute_reply": "2022-12-27T02:21:54.650463Z"
    },
    "id": "IcmY6lKKbkw8"
   },
   "outputs": [
    {
     "data": {
      "text/html": [
       "<div>\n",
       "<style scoped>\n",
       "    .dataframe tbody tr th:only-of-type {\n",
       "        vertical-align: middle;\n",
       "    }\n",
       "\n",
       "    .dataframe tbody tr th {\n",
       "        vertical-align: top;\n",
       "    }\n",
       "\n",
       "    .dataframe thead th {\n",
       "        text-align: right;\n",
       "    }\n",
       "</style>\n",
       "<table border=\"1\" class=\"dataframe\">\n",
       "  <thead>\n",
       "    <tr style=\"text-align: right;\">\n",
       "      <th></th>\n",
       "      <th>mean</th>\n",
       "      <th>std</th>\n",
       "    </tr>\n",
       "  </thead>\n",
       "  <tbody>\n",
       "    <tr>\n",
       "      <th>BC</th>\n",
       "      <td>1.315612</td>\n",
       "      <td>1.144200</td>\n",
       "    </tr>\n",
       "    <tr>\n",
       "      <th>N_CPC</th>\n",
       "      <td>13.621004</td>\n",
       "      <td>8.246350</td>\n",
       "    </tr>\n",
       "    <tr>\n",
       "      <th>PM-10</th>\n",
       "      <td>15.010709</td>\n",
       "      <td>14.264099</td>\n",
       "    </tr>\n",
       "    <tr>\n",
       "      <th>PM-2.5</th>\n",
       "      <td>9.302872</td>\n",
       "      <td>6.148034</td>\n",
       "    </tr>\n",
       "    <tr>\n",
       "      <th>PM-1.0</th>\n",
       "      <td>7.267276</td>\n",
       "      <td>5.509096</td>\n",
       "    </tr>\n",
       "    <tr>\n",
       "      <th>NO2</th>\n",
       "      <td>30.085849</td>\n",
       "      <td>21.629409</td>\n",
       "    </tr>\n",
       "    <tr>\n",
       "      <th>O3</th>\n",
       "      <td>47.924709</td>\n",
       "      <td>26.091897</td>\n",
       "    </tr>\n",
       "    <tr>\n",
       "      <th>SO2</th>\n",
       "      <td>1.361358</td>\n",
       "      <td>0.769938</td>\n",
       "    </tr>\n",
       "    <tr>\n",
       "      <th>CO</th>\n",
       "      <td>0.312783</td>\n",
       "      <td>0.211640</td>\n",
       "    </tr>\n",
       "    <tr>\n",
       "      <th>NO</th>\n",
       "      <td>7.786610</td>\n",
       "      <td>18.866797</td>\n",
       "    </tr>\n",
       "    <tr>\n",
       "      <th>NOX</th>\n",
       "      <td>41.655319</td>\n",
       "      <td>45.598594</td>\n",
       "    </tr>\n",
       "    <tr>\n",
       "      <th>TEMP</th>\n",
       "      <td>17.839891</td>\n",
       "      <td>6.139089</td>\n",
       "    </tr>\n",
       "    <tr>\n",
       "      <th>HUM</th>\n",
       "      <td>70.974760</td>\n",
       "      <td>15.219415</td>\n",
       "    </tr>\n",
       "  </tbody>\n",
       "</table>\n",
       "</div>"
      ],
      "text/plain": [
       "             mean        std\n",
       "BC       1.315612   1.144200\n",
       "N_CPC   13.621004   8.246350\n",
       "PM-10   15.010709  14.264099\n",
       "PM-2.5   9.302872   6.148034\n",
       "PM-1.0   7.267276   5.509096\n",
       "NO2     30.085849  21.629409\n",
       "O3      47.924709  26.091897\n",
       "SO2      1.361358   0.769938\n",
       "CO       0.312783   0.211640\n",
       "NO       7.786610  18.866797\n",
       "NOX     41.655319  45.598594\n",
       "TEMP    17.839891   6.139089\n",
       "HUM     70.974760  15.219415"
      ]
     },
     "execution_count": 52,
     "metadata": {},
     "output_type": "execute_result"
    }
   ],
   "source": [
    "train_dataset.describe().transpose()[['mean', 'std']]"
   ]
  },
  {
   "attachments": {},
   "cell_type": "markdown",
   "metadata": {
    "id": "-ywmerQ6dSox"
   },
   "source": [
    "It is good practice to normalize features that use different scales and ranges.\n",
    "\n",
    "One reason this is important is because the features are multiplied by the model weights. So, the scale of the outputs and the scale of the gradients are affected by the scale of the inputs.\n",
    "\n",
    "Although a model *might* converge without feature normalization, normalization makes training much more stable.\n",
    "\n",
    "Note: There is no advantage to normalizing the one-hot features—it is done here for simplicity. For more details on how to use the preprocessing layers, refer to the [Working with preprocessing layers](https://www.tensorflow.org/guide/keras/preprocessing_layers) guide and the [Classify structured data using Keras preprocessing layers](../structured_data/preprocessing_layers.ipynb) tutorial."
   ]
  },
  {
   "attachments": {},
   "cell_type": "markdown",
   "metadata": {
    "id": "aFJ6ISropeoo"
   },
   "source": [
    "### The Normalization layer\n",
    "\n",
    "The `tf.keras.layers.Normalization` is a clean and simple way to add feature normalization into your model.\n",
    "\n",
    "The first step is to create the layer:"
   ]
  },
  {
   "cell_type": "code",
   "execution_count": 53,
   "metadata": {
    "execution": {
     "iopub.execute_input": "2022-12-27T02:21:54.654470Z",
     "iopub.status.busy": "2022-12-27T02:21:54.653996Z",
     "iopub.status.idle": "2022-12-27T02:21:54.671432Z",
     "shell.execute_reply": "2022-12-27T02:21:54.670897Z"
    },
    "id": "JlC5ooJrgjQF"
   },
   "outputs": [],
   "source": [
    "normalizer = tf.keras.layers.Normalization(axis=-1)"
   ]
  },
  {
   "attachments": {},
   "cell_type": "markdown",
   "metadata": {
    "id": "XYA2Ap6nVOha"
   },
   "source": [
    "Then, fit the state of the preprocessing layer to the data by calling `Normalization.adapt`:"
   ]
  },
  {
   "cell_type": "code",
   "execution_count": 54,
   "metadata": {
    "execution": {
     "iopub.execute_input": "2022-12-27T02:21:54.674924Z",
     "iopub.status.busy": "2022-12-27T02:21:54.674352Z",
     "iopub.status.idle": "2022-12-27T02:21:58.227347Z",
     "shell.execute_reply": "2022-12-27T02:21:58.226632Z"
    },
    "id": "CrBbbjbwV91f"
   },
   "outputs": [],
   "source": [
    "normalizer.adapt(np.array(train_features))"
   ]
  },
  {
   "attachments": {},
   "cell_type": "markdown",
   "metadata": {
    "id": "oZccMR5yV9YV"
   },
   "source": [
    "Calculate the mean and variance, and store them in the layer:"
   ]
  },
  {
   "cell_type": "code",
   "execution_count": 55,
   "metadata": {
    "execution": {
     "iopub.execute_input": "2022-12-27T02:21:58.231969Z",
     "iopub.status.busy": "2022-12-27T02:21:58.231364Z",
     "iopub.status.idle": "2022-12-27T02:21:58.235553Z",
     "shell.execute_reply": "2022-12-27T02:21:58.234937Z"
    },
    "id": "GGn-ukwxSPtx"
   },
   "outputs": [
    {
     "name": "stdout",
     "output_type": "stream",
     "text": [
      "[[13.621 15.011  9.303  7.267 30.086 47.925  1.361  0.313  7.787 41.655\n",
      "  17.84  70.975]]\n"
     ]
    }
   ],
   "source": [
    "print(normalizer.mean.numpy())"
   ]
  },
  {
   "attachments": {},
   "cell_type": "markdown",
   "metadata": {
    "id": "oGWKaF9GSRuN"
   },
   "source": [
    "When the layer is called, it returns the input data, with each feature independently normalized:"
   ]
  },
  {
   "cell_type": "code",
   "execution_count": 82,
   "metadata": {
    "execution": {
     "iopub.execute_input": "2022-12-27T02:21:58.238943Z",
     "iopub.status.busy": "2022-12-27T02:21:58.238495Z",
     "iopub.status.idle": "2022-12-27T02:21:58.250628Z",
     "shell.execute_reply": "2022-12-27T02:21:58.249973Z"
    },
    "id": "2l7zFL_XWIRu"
   },
   "outputs": [
    {
     "name": "stdout",
     "output_type": "stream",
     "text": [
      "First example: [13.16  8.43  4.18  2.73 12.   69.    1.    0.2   1.   14.   23.33 78.1 ]\n",
      "\n",
      "Normalized: [[-0.06 -0.46 -0.83 -0.82 -0.84  0.81 -0.47 -0.53 -0.36 -0.61  0.89  0.47]]\n"
     ]
    }
   ],
   "source": [
    "first = np.array(train_features[:1]).mean(axis=0)\n",
    "\n",
    "with np.printoptions(precision=2, suppress=True):\n",
    "  print('First example:', first)\n",
    "  print()\n",
    "  print('Normalized:', normalizer(first).numpy())"
   ]
  },
  {
   "cell_type": "code",
   "execution_count": 57,
   "metadata": {},
   "outputs": [],
   "source": [
    "def plot_loss(history):\n",
    "  plt.plot(history.history['loss'], label='loss')\n",
    "  plt.plot(history.history['val_loss'], label='val_loss')\n",
    "  plt.xlabel('Epoch')\n",
    "  plt.ylabel('Error [BC]')\n",
    "  plt.legend()\n",
    "  plt.grid(True)\n",
    "  \n",
    "  plt.show()\n"
   ]
  },
  {
   "attachments": {},
   "cell_type": "markdown",
   "metadata": {
    "id": "SmjdzxKzEu1-"
   },
   "source": [
    "## Regression with a deep neural network (DNN)"
   ]
  },
  {
   "attachments": {},
   "cell_type": "markdown",
   "metadata": {
    "id": "6SWtkIjhrZwa"
   },
   "source": [
    "These models will contain a few more layers than the linear model:\n",
    "\n",
    "* The normalization layer, as before (with `horsepower_normalizer` for a single-input model and `normalizer` for a multiple-input model).\n",
    "* Two hidden, non-linear, `Dense` layers with the ReLU (`relu`) activation function nonlinearity.\n",
    "* A linear `Dense` single-output layer.\n",
    "\n",
    "Both models will use the same training procedure, so the `compile` method is included in the `build_and_compile_model` function below."
   ]
  },
  {
   "cell_type": "code",
   "execution_count": 58,
   "metadata": {
    "execution": {
     "iopub.execute_input": "2022-12-27T02:22:11.109282Z",
     "iopub.status.busy": "2022-12-27T02:22:11.108800Z",
     "iopub.status.idle": "2022-12-27T02:22:11.112981Z",
     "shell.execute_reply": "2022-12-27T02:22:11.112362Z"
    },
    "id": "c26juK7ZG8j-"
   },
   "outputs": [],
   "source": [
    "def build_and_compile_model(norm):\n",
    "  model = keras.Sequential([\n",
    "      norm,\n",
    "      layers.Dense(64, activation='relu'),\n",
    "      layers.Dense(256, activation='relu'),\n",
    "      layers.Dropout(0.5),\n",
    "      layers.Dense(256, activation='relu'),\n",
    "      layers.Dense(1)\n",
    "  ])\n",
    "\n",
    "  model.compile(loss='mean_absolute_error',\n",
    "                optimizer=tf.keras.optimizers.Adam(0.001))\n",
    "  return model"
   ]
  },
  {
   "attachments": {},
   "cell_type": "markdown",
   "metadata": {
    "id": "S_2Btebp2e64"
   },
   "source": [
    "### Regression using a DNN and multiple inputs"
   ]
  },
  {
   "cell_type": "code",
   "execution_count": 59,
   "metadata": {
    "execution": {
     "iopub.execute_input": "2022-12-27T02:22:17.332495Z",
     "iopub.status.busy": "2022-12-27T02:22:17.331769Z",
     "iopub.status.idle": "2022-12-27T02:22:17.381104Z",
     "shell.execute_reply": "2022-12-27T02:22:17.380455Z"
    },
    "id": "c0mhscXh2k36"
   },
   "outputs": [
    {
     "ename": "ValueError",
     "evalue": "Input 0 of layer \"lstm\" is incompatible with the layer: expected ndim=3, found ndim=2. Full shape received: (None, 12)",
     "output_type": "error",
     "traceback": [
      "\u001b[0;31m---------------------------------------------------------------------------\u001b[0m",
      "\u001b[0;31mValueError\u001b[0m                                Traceback (most recent call last)",
      "Cell \u001b[0;32mIn[59], line 1\u001b[0m\n\u001b[0;32m----> 1\u001b[0m dnn_model \u001b[39m=\u001b[39m build_and_compile_model(normalizer)\n\u001b[1;32m      2\u001b[0m dnn_model\u001b[39m.\u001b[39msummary()\n",
      "Cell \u001b[0;32mIn[58], line 2\u001b[0m, in \u001b[0;36mbuild_and_compile_model\u001b[0;34m(norm)\u001b[0m\n\u001b[1;32m      1\u001b[0m \u001b[39mdef\u001b[39;00m \u001b[39mbuild_and_compile_model\u001b[39m(norm):\n\u001b[0;32m----> 2\u001b[0m   model \u001b[39m=\u001b[39m keras\u001b[39m.\u001b[39;49mSequential([\n\u001b[1;32m      3\u001b[0m       norm,\n\u001b[1;32m      4\u001b[0m       layers\u001b[39m.\u001b[39;49mLSTM(\u001b[39m128\u001b[39;49m, activation\u001b[39m=\u001b[39;49m\u001b[39m'\u001b[39;49m\u001b[39mrelu\u001b[39;49m\u001b[39m'\u001b[39;49m),\n\u001b[1;32m      5\u001b[0m       layers\u001b[39m.\u001b[39;49mDropout(\u001b[39m0.5\u001b[39;49m),\n\u001b[1;32m      6\u001b[0m       layers\u001b[39m.\u001b[39;49mLSTM(\u001b[39m256\u001b[39;49m, activation\u001b[39m=\u001b[39;49m\u001b[39m'\u001b[39;49m\u001b[39mrelu\u001b[39;49m\u001b[39m'\u001b[39;49m),\n\u001b[1;32m      7\u001b[0m       layers\u001b[39m.\u001b[39;49mDropout(\u001b[39m0.5\u001b[39;49m),\n\u001b[1;32m      8\u001b[0m       layers\u001b[39m.\u001b[39;49mLSTM(\u001b[39m256\u001b[39;49m, activation\u001b[39m=\u001b[39;49m\u001b[39m'\u001b[39;49m\u001b[39mrelu\u001b[39;49m\u001b[39m'\u001b[39;49m),\n\u001b[1;32m      9\u001b[0m       layers\u001b[39m.\u001b[39;49mDense(\u001b[39m1\u001b[39;49m)\n\u001b[1;32m     10\u001b[0m   ])\n\u001b[1;32m     12\u001b[0m   model\u001b[39m.\u001b[39mcompile(loss\u001b[39m=\u001b[39m\u001b[39m'\u001b[39m\u001b[39mmean_absolute_error\u001b[39m\u001b[39m'\u001b[39m,\n\u001b[1;32m     13\u001b[0m                 optimizer\u001b[39m=\u001b[39mtf\u001b[39m.\u001b[39mkeras\u001b[39m.\u001b[39moptimizers\u001b[39m.\u001b[39mAdam(\u001b[39m0.001\u001b[39m))\n\u001b[1;32m     14\u001b[0m   \u001b[39mreturn\u001b[39;00m model\n",
      "File \u001b[0;32m~/miniconda3/envs/my_tf_env/lib/python3.9/site-packages/tensorflow/python/trackable/base.py:205\u001b[0m, in \u001b[0;36mno_automatic_dependency_tracking.<locals>._method_wrapper\u001b[0;34m(self, *args, **kwargs)\u001b[0m\n\u001b[1;32m    203\u001b[0m \u001b[39mself\u001b[39m\u001b[39m.\u001b[39m_self_setattr_tracking \u001b[39m=\u001b[39m \u001b[39mFalse\u001b[39;00m  \u001b[39m# pylint: disable=protected-access\u001b[39;00m\n\u001b[1;32m    204\u001b[0m \u001b[39mtry\u001b[39;00m:\n\u001b[0;32m--> 205\u001b[0m   result \u001b[39m=\u001b[39m method(\u001b[39mself\u001b[39;49m, \u001b[39m*\u001b[39;49margs, \u001b[39m*\u001b[39;49m\u001b[39m*\u001b[39;49mkwargs)\n\u001b[1;32m    206\u001b[0m \u001b[39mfinally\u001b[39;00m:\n\u001b[1;32m    207\u001b[0m   \u001b[39mself\u001b[39m\u001b[39m.\u001b[39m_self_setattr_tracking \u001b[39m=\u001b[39m previous_value  \u001b[39m# pylint: disable=protected-access\u001b[39;00m\n",
      "File \u001b[0;32m~/miniconda3/envs/my_tf_env/lib/python3.9/site-packages/keras/utils/traceback_utils.py:70\u001b[0m, in \u001b[0;36mfilter_traceback.<locals>.error_handler\u001b[0;34m(*args, **kwargs)\u001b[0m\n\u001b[1;32m     67\u001b[0m     filtered_tb \u001b[39m=\u001b[39m _process_traceback_frames(e\u001b[39m.\u001b[39m__traceback__)\n\u001b[1;32m     68\u001b[0m     \u001b[39m# To get the full stack trace, call:\u001b[39;00m\n\u001b[1;32m     69\u001b[0m     \u001b[39m# `tf.debugging.disable_traceback_filtering()`\u001b[39;00m\n\u001b[0;32m---> 70\u001b[0m     \u001b[39mraise\u001b[39;00m e\u001b[39m.\u001b[39mwith_traceback(filtered_tb) \u001b[39mfrom\u001b[39;00m \u001b[39mNone\u001b[39;00m\n\u001b[1;32m     71\u001b[0m \u001b[39mfinally\u001b[39;00m:\n\u001b[1;32m     72\u001b[0m     \u001b[39mdel\u001b[39;00m filtered_tb\n",
      "File \u001b[0;32m~/miniconda3/envs/my_tf_env/lib/python3.9/site-packages/keras/engine/input_spec.py:235\u001b[0m, in \u001b[0;36massert_input_compatibility\u001b[0;34m(input_spec, inputs, layer_name)\u001b[0m\n\u001b[1;32m    233\u001b[0m     ndim \u001b[39m=\u001b[39m shape\u001b[39m.\u001b[39mrank\n\u001b[1;32m    234\u001b[0m     \u001b[39mif\u001b[39;00m ndim \u001b[39m!=\u001b[39m spec\u001b[39m.\u001b[39mndim:\n\u001b[0;32m--> 235\u001b[0m         \u001b[39mraise\u001b[39;00m \u001b[39mValueError\u001b[39;00m(\n\u001b[1;32m    236\u001b[0m             \u001b[39mf\u001b[39m\u001b[39m'\u001b[39m\u001b[39mInput \u001b[39m\u001b[39m{\u001b[39;00minput_index\u001b[39m}\u001b[39;00m\u001b[39m of layer \u001b[39m\u001b[39m\"\u001b[39m\u001b[39m{\u001b[39;00mlayer_name\u001b[39m}\u001b[39;00m\u001b[39m\"\u001b[39m\u001b[39m \u001b[39m\u001b[39m'\u001b[39m\n\u001b[1;32m    237\u001b[0m             \u001b[39m\"\u001b[39m\u001b[39mis incompatible with the layer: \u001b[39m\u001b[39m\"\u001b[39m\n\u001b[1;32m    238\u001b[0m             \u001b[39mf\u001b[39m\u001b[39m\"\u001b[39m\u001b[39mexpected ndim=\u001b[39m\u001b[39m{\u001b[39;00mspec\u001b[39m.\u001b[39mndim\u001b[39m}\u001b[39;00m\u001b[39m, found ndim=\u001b[39m\u001b[39m{\u001b[39;00mndim\u001b[39m}\u001b[39;00m\u001b[39m. \u001b[39m\u001b[39m\"\u001b[39m\n\u001b[1;32m    239\u001b[0m             \u001b[39mf\u001b[39m\u001b[39m\"\u001b[39m\u001b[39mFull shape received: \u001b[39m\u001b[39m{\u001b[39;00m\u001b[39mtuple\u001b[39m(shape)\u001b[39m}\u001b[39;00m\u001b[39m\"\u001b[39m\n\u001b[1;32m    240\u001b[0m         )\n\u001b[1;32m    241\u001b[0m \u001b[39mif\u001b[39;00m spec\u001b[39m.\u001b[39mmax_ndim \u001b[39mis\u001b[39;00m \u001b[39mnot\u001b[39;00m \u001b[39mNone\u001b[39;00m:\n\u001b[1;32m    242\u001b[0m     ndim \u001b[39m=\u001b[39m x\u001b[39m.\u001b[39mshape\u001b[39m.\u001b[39mrank\n",
      "\u001b[0;31mValueError\u001b[0m: Input 0 of layer \"lstm\" is incompatible with the layer: expected ndim=3, found ndim=2. Full shape received: (None, 12)"
     ]
    }
   ],
   "source": [
    "dnn_model = build_and_compile_model(normalizer)\n",
    "dnn_model.summary()"
   ]
  },
  {
   "cell_type": "code",
   "execution_count": null,
   "metadata": {
    "execution": {
     "iopub.execute_input": "2022-12-27T02:22:17.388131Z",
     "iopub.status.busy": "2022-12-27T02:22:17.387876Z",
     "iopub.status.idle": "2022-12-27T02:22:22.936845Z",
     "shell.execute_reply": "2022-12-27T02:22:22.936082Z"
    },
    "id": "CXDENACl2tuW"
   },
   "outputs": [
    {
     "name": "stdout",
     "output_type": "stream",
     "text": [
      "CPU times: user 12.2 s, sys: 3.09 s, total: 15.3 s\n",
      "Wall time: 10 s\n"
     ]
    }
   ],
   "source": [
    "%%time\n",
    "history = dnn_model.fit(\n",
    "    train_features,\n",
    "    train_labels,\n",
    "    validation_split=0.2,\n",
    "    verbose=0, epochs=100)"
   ]
  },
  {
   "cell_type": "code",
   "execution_count": null,
   "metadata": {
    "execution": {
     "iopub.execute_input": "2022-12-27T02:22:22.940250Z",
     "iopub.status.busy": "2022-12-27T02:22:22.939645Z",
     "iopub.status.idle": "2022-12-27T02:22:23.080628Z",
     "shell.execute_reply": "2022-12-27T02:22:23.079973Z"
    },
    "id": "-9Dbj0fX23RQ"
   },
   "outputs": [
    {
     "data": {
      "image/png": "[encoded data removed]",
      "text/plain": [
       "<Figure size 640x480 with 1 Axes>"
      ]
     },
     "metadata": {},
     "output_type": "display_data"
    }
   ],
   "source": [
    "plot_loss(history)"
   ]
  },
  {
   "cell_type": "code",
   "execution_count": 62,
   "metadata": {},
   "outputs": [
    {
     "data": {
      "text/plain": [
       "((3378, 13), (845, 14))"
      ]
     },
     "execution_count": 62,
     "metadata": {},
     "output_type": "execute_result"
    }
   ],
   "source": [
    "train_dataset.shape, test_dataset.shape"
   ]
  },
  {
   "cell_type": "code",
   "execution_count": 63,
   "metadata": {},
   "outputs": [
    {
     "data": {
      "text/plain": [
       "((141, 24, 13), (141, 24, 1), (36, 24, 14), (36, 24, 1))"
      ]
     },
     "execution_count": 63,
     "metadata": {},
     "output_type": "execute_result"
    }
   ],
   "source": [
    "import numpy as np\n",
    "\n",
    "def build_sequences(df, target_labels=['BC'], window=200, stride=200):\n",
    "    # Sanity check to avoid runtime errors\n",
    "    assert window % stride == 0\n",
    "    dataset = []\n",
    "    labels = []\n",
    "    temp_df = df.copy().values\n",
    "    temp_label = df[target_labels].copy().values\n",
    "    padding_len = len(df) % window\n",
    "    \n",
    "    if padding_len != 0:\n",
    "        # Compute padding length\n",
    "        padding_len = window - len(df) % window\n",
    "        padding = np.zeros((padding_len, temp_df.shape[1]), dtype='float32')\n",
    "        temp_df = np.concatenate((padding, temp_df))\n",
    "        padding = np.zeros((padding_len,1), dtype='float32')\n",
    "        #padding = np.zeros((padding_len, temp_label.shape[1]), dtype='float32')\n",
    "        temp_label = np.concatenate((padding, temp_label))\n",
    "        assert len(temp_df) % window == 0\n",
    "\n",
    "    # Build sequences and labels\n",
    "    for i in range(0, len(temp_df) - window + 1, stride):\n",
    "        dataset.append(temp_df[i:i + window])\n",
    "        labels.append(temp_label[i:i + window])\n",
    "\n",
    "    return np.array(dataset), np.array(labels)\n",
    "\n",
    "X_train, y_train = build_sequences(train_dataset, window=24, stride=24)\n",
    "X_test, y_test = build_sequences(test_dataset, window=24, stride=24)\n",
    "X_train.shape, y_train.shape, X_test.shape, y_test.shape"
   ]
  },
  {
   "cell_type": "code",
   "execution_count": 67,
   "metadata": {},
   "outputs": [],
   "source": [
    "METRICS = [\n",
    "      keras.metrics.TruePositives(name='tp'),\n",
    "      keras.metrics.FalsePositives(name='fp'),\n",
    "      keras.metrics.TrueNegatives(name='tn'),\n",
    "      keras.metrics.FalseNegatives(name='fn'), \n",
    "      keras.metrics.BinaryAccuracy(name='accuracy'),\n",
    "      keras.metrics.Precision(name='precision'),\n",
    "      keras.metrics.Recall(name='recall'),\n",
    "      keras.metrics.AUC(name='auc'),\n",
    "      keras.metrics.AUC(name='prc', curve='PR'), # precision-recall curve\n",
    "]\n",
    "\n",
    "def make_model(metrics=METRICS, output_bias=None):\n",
    "  if output_bias is not None:\n",
    "    output_bias = tf.keras.initializers.Constant(output_bias)\n",
    "  model = keras.Sequential([\n",
    "      keras.layers.Dense(\n",
    "          16, activation='relu',\n",
    "          input_shape=(train_features.shape[-1],)),\n",
    "      keras.layers.Dropout(0.5),\n",
    "      keras.layers.Dense(1, activation='linear',\n",
    "                         bias_initializer=output_bias),\n",
    "  ])\n",
    "\n",
    "  model.compile(\n",
    "      optimizer=tf.keras.optimizers.legacy.Adam(learning_rate=1e-3),\n",
    "      loss=keras.losses.MeanSquaredError(),\n",
    "      metrics=metrics)\n",
    "\n",
    "  return model"
   ]
  },
  {
   "cell_type": "code",
   "execution_count": 68,
   "metadata": {},
   "outputs": [],
   "source": [
    "EPOCHS = 100\n",
    "BATCH_SIZE = 2048\n",
    "\n",
    "early_stopping = tf.keras.callbacks.EarlyStopping(\n",
    "    monitor='val_prc', \n",
    "    verbose=1,\n",
    "    patience=10,\n",
    "    mode='max',\n",
    "    restore_best_weights=True)\n"
   ]
  },
  {
   "cell_type": "code",
   "execution_count": 69,
   "metadata": {},
   "outputs": [
    {
     "name": "stdout",
     "output_type": "stream",
     "text": [
      "Model: \"sequential_5\"\n",
      "_________________________________________________________________\n",
      " Layer (type)                Output Shape              Param #   \n",
      "=================================================================\n",
      " dense_13 (Dense)            (None, 16)                208       \n",
      "                                                                 \n",
      " dropout_5 (Dropout)         (None, 16)                0         \n",
      "                                                                 \n",
      " dense_14 (Dense)            (None, 1)                 17        \n",
      "                                                                 \n",
      "=================================================================\n",
      "Total params: 225\n",
      "Trainable params: 225\n",
      "Non-trainable params: 0\n",
      "_________________________________________________________________\n"
     ]
    }
   ],
   "source": [
    "model = make_model()\n",
    "model.summary()\n"
   ]
  },
  {
   "cell_type": "code",
   "execution_count": 75,
   "metadata": {},
   "outputs": [
    {
     "name": "stdout",
     "output_type": "stream",
     "text": [
      "1/1 [==============================] - 0s 11ms/step\n"
     ]
    },
    {
     "data": {
      "text/plain": [
       "array([[-12.623],\n",
       "       [ -6.89 ],\n",
       "       [ -9.783],\n",
       "       [-10.47 ],\n",
       "       [ -0.721],\n",
       "       [-25.114],\n",
       "       [ -4.592],\n",
       "       [-19.121],\n",
       "       [ -2.032],\n",
       "       [-24.661]], dtype=float32)"
      ]
     },
     "execution_count": 75,
     "metadata": {},
     "output_type": "execute_result"
    }
   ],
   "source": [
    "model.predict(train_features[:10])\n"
   ]
  },
  {
   "cell_type": "code",
   "execution_count": 76,
   "metadata": {},
   "outputs": [],
   "source": [
    "model = make_model()\n"
   ]
  },
  {
   "cell_type": "code",
   "execution_count": 78,
   "metadata": {},
   "outputs": [
    {
     "name": "stdout",
     "output_type": "stream",
     "text": [
      "Epoch 1/100\n",
      "2/2 [==============================] - 1s 212ms/step - loss: 891.8610 - tp: 1924.0000 - fp: 0.0000e+00 - tn: 0.0000e+00 - fn: 1116.0000 - accuracy: 3.2895e-04 - precision: 1.0000 - recall: 0.6329 - auc: 0.0000e+00 - prc: 1.0000 - val_loss: 278.8660 - val_tp: 227.0000 - val_fp: 0.0000e+00 - val_tn: 0.0000e+00 - val_fn: 111.0000 - val_accuracy: 0.0000e+00 - val_precision: 1.0000 - val_recall: 0.6716 - val_auc: 0.0000e+00 - val_prc: 1.0000\n",
      "Epoch 2/100\n",
      "2/2 [==============================] - 0s 21ms/step - loss: 854.8445 - tp: 1826.0000 - fp: 0.0000e+00 - tn: 0.0000e+00 - fn: 1214.0000 - accuracy: 3.2895e-04 - precision: 1.0000 - recall: 0.6007 - auc: 0.0000e+00 - prc: 1.0000 - val_loss: 251.4001 - val_tp: 211.0000 - val_fp: 0.0000e+00 - val_tn: 0.0000e+00 - val_fn: 127.0000 - val_accuracy: 0.0000e+00 - val_precision: 1.0000 - val_recall: 0.6243 - val_auc: 0.0000e+00 - val_prc: 1.0000\n",
      "Epoch 3/100\n",
      "2/2 [==============================] - 0s 23ms/step - loss: 868.2074 - tp: 1793.0000 - fp: 0.0000e+00 - tn: 0.0000e+00 - fn: 1247.0000 - accuracy: 0.0000e+00 - precision: 1.0000 - recall: 0.5898 - auc: 0.0000e+00 - prc: 1.0000 - val_loss: 227.3984 - val_tp: 196.0000 - val_fp: 0.0000e+00 - val_tn: 0.0000e+00 - val_fn: 142.0000 - val_accuracy: 0.0000e+00 - val_precision: 1.0000 - val_recall: 0.5799 - val_auc: 0.0000e+00 - val_prc: 1.0000\n",
      "Epoch 4/100\n",
      "2/2 [==============================] - 0s 20ms/step - loss: 698.9977 - tp: 1733.0000 - fp: 0.0000e+00 - tn: 0.0000e+00 - fn: 1307.0000 - accuracy: 0.0000e+00 - precision: 1.0000 - recall: 0.5701 - auc: 0.0000e+00 - prc: 1.0000 - val_loss: 207.0630 - val_tp: 182.0000 - val_fp: 0.0000e+00 - val_tn: 0.0000e+00 - val_fn: 156.0000 - val_accuracy: 0.0000e+00 - val_precision: 1.0000 - val_recall: 0.5385 - val_auc: 0.0000e+00 - val_prc: 1.0000\n",
      "Epoch 5/100\n",
      "2/2 [==============================] - 0s 22ms/step - loss: 762.0233 - tp: 1724.0000 - fp: 0.0000e+00 - tn: 0.0000e+00 - fn: 1316.0000 - accuracy: 3.2895e-04 - precision: 1.0000 - recall: 0.5671 - auc: 0.0000e+00 - prc: 1.0000 - val_loss: 189.0679 - val_tp: 170.0000 - val_fp: 0.0000e+00 - val_tn: 0.0000e+00 - val_fn: 168.0000 - val_accuracy: 0.0000e+00 - val_precision: 1.0000 - val_recall: 0.5030 - val_auc: 0.0000e+00 - val_prc: 1.0000\n",
      "Epoch 6/100\n",
      "2/2 [==============================] - 0s 20ms/step - loss: 692.8339 - tp: 1617.0000 - fp: 0.0000e+00 - tn: 0.0000e+00 - fn: 1423.0000 - accuracy: 0.0000e+00 - precision: 1.0000 - recall: 0.5319 - auc: 0.0000e+00 - prc: 1.0000 - val_loss: 173.6703 - val_tp: 164.0000 - val_fp: 0.0000e+00 - val_tn: 0.0000e+00 - val_fn: 174.0000 - val_accuracy: 0.0000e+00 - val_precision: 1.0000 - val_recall: 0.4852 - val_auc: 0.0000e+00 - val_prc: 1.0000\n",
      "Epoch 7/100\n",
      "2/2 [==============================] - 0s 23ms/step - loss: 601.8541 - tp: 1612.0000 - fp: 0.0000e+00 - tn: 0.0000e+00 - fn: 1428.0000 - accuracy: 3.2895e-04 - precision: 1.0000 - recall: 0.5303 - auc: 0.0000e+00 - prc: 1.0000 - val_loss: 160.3577 - val_tp: 157.0000 - val_fp: 0.0000e+00 - val_tn: 0.0000e+00 - val_fn: 181.0000 - val_accuracy: 0.0000e+00 - val_precision: 1.0000 - val_recall: 0.4645 - val_auc: 0.0000e+00 - val_prc: 1.0000\n",
      "Epoch 8/100\n",
      "2/2 [==============================] - 0s 21ms/step - loss: 637.5525 - tp: 1599.0000 - fp: 0.0000e+00 - tn: 0.0000e+00 - fn: 1441.0000 - accuracy: 3.2895e-04 - precision: 1.0000 - recall: 0.5260 - auc: 0.0000e+00 - prc: 1.0000 - val_loss: 148.4582 - val_tp: 153.0000 - val_fp: 0.0000e+00 - val_tn: 0.0000e+00 - val_fn: 185.0000 - val_accuracy: 0.0000e+00 - val_precision: 1.0000 - val_recall: 0.4527 - val_auc: 0.0000e+00 - val_prc: 1.0000\n",
      "Epoch 9/100\n",
      "2/2 [==============================] - 0s 24ms/step - loss: 602.3624 - tp: 1614.0000 - fp: 0.0000e+00 - tn: 0.0000e+00 - fn: 1426.0000 - accuracy: 0.0000e+00 - precision: 1.0000 - recall: 0.5309 - auc: 0.0000e+00 - prc: 1.0000 - val_loss: 137.5148 - val_tp: 149.0000 - val_fp: 0.0000e+00 - val_tn: 0.0000e+00 - val_fn: 189.0000 - val_accuracy: 0.0000e+00 - val_precision: 1.0000 - val_recall: 0.4408 - val_auc: 0.0000e+00 - val_prc: 1.0000\n",
      "Epoch 10/100\n",
      "2/2 [==============================] - 0s 22ms/step - loss: 601.0978 - tp: 1591.0000 - fp: 0.0000e+00 - tn: 0.0000e+00 - fn: 1449.0000 - accuracy: 0.0000e+00 - precision: 1.0000 - recall: 0.5234 - auc: 0.0000e+00 - prc: 1.0000 - val_loss: 127.3447 - val_tp: 147.0000 - val_fp: 0.0000e+00 - val_tn: 0.0000e+00 - val_fn: 191.0000 - val_accuracy: 0.0000e+00 - val_precision: 1.0000 - val_recall: 0.4349 - val_auc: 0.0000e+00 - val_prc: 1.0000\n",
      "Epoch 11/100\n",
      "1/2 [==============>...............] - ETA: 0s - loss: 496.9071 - tp: 1089.0000 - fp: 0.0000e+00 - tn: 0.0000e+00 - fn: 959.0000 - accuracy: 4.8828e-04 - precision: 1.0000 - recall: 0.5317 - auc: 0.0000e+00 - prc: 1.0000Restoring model weights from the end of the best epoch: 1.\n",
      "2/2 [==============================] - 0s 23ms/step - loss: 509.8296 - tp: 1610.0000 - fp: 0.0000e+00 - tn: 0.0000e+00 - fn: 1430.0000 - accuracy: 3.2895e-04 - precision: 1.0000 - recall: 0.5296 - auc: 0.0000e+00 - prc: 1.0000 - val_loss: 118.0164 - val_tp: 146.0000 - val_fp: 0.0000e+00 - val_tn: 0.0000e+00 - val_fn: 192.0000 - val_accuracy: 0.0000e+00 - val_precision: 1.0000 - val_recall: 0.4320 - val_auc: 0.0000e+00 - val_prc: 1.0000\n",
      "Epoch 11: early stopping\n"
     ]
    }
   ],
   "source": [
    "baseline_history = model.fit(\n",
    "    train_features,\n",
    "    train_labels,\n",
    "    batch_size=BATCH_SIZE,\n",
    "    epochs=EPOCHS,\n",
    "    callbacks=[early_stopping],\n",
    "    validation_split=0.1)\n"
   ]
  },
  {
   "cell_type": "code",
   "execution_count": null,
   "metadata": {},
   "outputs": [],
   "source": []
  }
 ],
 "metadata": {
  "colab": {
   "collapsed_sections": [],
   "name": "regression.ipynb",
   "toc_visible": true
  },
  "kernelspec": {
   "display_name": "Python 3",
   "name": "python3"
  },
  "language_info": {
   "codemirror_mode": {
    "name": "ipython",
    "version": 3
   },
   "file_extension": ".py",
   "mimetype": "text/x-python",
   "name": "python",
   "nbconvert_exporter": "python",
   "pygments_lexer": "ipython3",
   "version": "3.9.16"
  }
 },
 "nbformat": 4,
 "nbformat_minor": 0
}
