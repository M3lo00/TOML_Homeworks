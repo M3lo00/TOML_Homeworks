{
 "cells": [
  {
   "cell_type": "code",
   "execution_count": 1,
   "metadata": {
    "execution": {
     "iopub.execute_input": "2022-12-27T02:21:48.789114Z",
     "iopub.status.busy": "2022-12-27T02:21:48.788463Z",
     "iopub.status.idle": "2022-12-27T02:21:49.953631Z",
     "shell.execute_reply": "2022-12-27T02:21:49.952896Z"
    },
    "id": "1rRo8oNqZ-Rj"
   },
   "outputs": [],
   "source": [
    "import matplotlib.pyplot as plt\n",
    "import numpy as np\n",
    "import pandas as pd\n",
    "import seaborn as sns\n",
    "\n",
    "# Make NumPy printouts easier to read.\n",
    "np.set_printoptions(precision=3, suppress=True)"
   ]
  },
  {
   "cell_type": "code",
   "execution_count": 2,
   "metadata": {
    "execution": {
     "iopub.execute_input": "2022-12-27T02:21:49.957849Z",
     "iopub.status.busy": "2022-12-27T02:21:49.957261Z",
     "iopub.status.idle": "2022-12-27T02:21:51.455642Z",
     "shell.execute_reply": "2022-12-27T02:21:51.454983Z"
    },
    "id": "9xQKvCJ85kCQ"
   },
   "outputs": [
    {
     "name": "stdout",
     "output_type": "stream",
     "text": [
      "2.12.0\n"
     ]
    }
   ],
   "source": [
    "import tensorflow as tf\n",
    "\n",
    "from tensorflow import keras\n",
    "from tensorflow.keras import layers\n",
    "\n",
    "tf.config.set_visible_devices([], 'GPU') #disables GPU\n",
    "\n",
    "print(tf.__version__)"
   ]
  },
  {
   "cell_type": "code",
   "execution_count": 3,
   "metadata": {},
   "outputs": [],
   "source": [
    "raw_dataset = pd.read_csv(\"filled.csv\")"
   ]
  },
  {
   "cell_type": "code",
   "execution_count": 4,
   "metadata": {
    "execution": {
     "iopub.execute_input": "2022-12-27T02:21:51.861054Z",
     "iopub.status.busy": "2022-12-27T02:21:51.860578Z",
     "iopub.status.idle": "2022-12-27T02:21:51.875141Z",
     "shell.execute_reply": "2022-12-27T02:21:51.874576Z"
    },
    "id": "2oY3pMPagJrO"
   },
   "outputs": [
    {
     "data": {
      "text/html": [
       "<div>\n",
       "<style scoped>\n",
       "    .dataframe tbody tr th:only-of-type {\n",
       "        vertical-align: middle;\n",
       "    }\n",
       "\n",
       "    .dataframe tbody tr th {\n",
       "        vertical-align: top;\n",
       "    }\n",
       "\n",
       "    .dataframe thead th {\n",
       "        text-align: right;\n",
       "    }\n",
       "</style>\n",
       "<table border=\"1\" class=\"dataframe\">\n",
       "  <thead>\n",
       "    <tr style=\"text-align: right;\">\n",
       "      <th></th>\n",
       "      <th>date</th>\n",
       "      <th>BC</th>\n",
       "      <th>N_CPC</th>\n",
       "      <th>PM-10</th>\n",
       "      <th>PM-2.5</th>\n",
       "      <th>PM-1.0</th>\n",
       "      <th>NO2</th>\n",
       "      <th>O3</th>\n",
       "      <th>SO2</th>\n",
       "      <th>CO</th>\n",
       "      <th>NO</th>\n",
       "      <th>NOX</th>\n",
       "      <th>TEMP</th>\n",
       "      <th>HUM</th>\n",
       "    </tr>\n",
       "  </thead>\n",
       "  <tbody>\n",
       "    <tr>\n",
       "      <th>4579</th>\n",
       "      <td>2019-12-10 19:00:00</td>\n",
       "      <td>0.728</td>\n",
       "      <td>9.275</td>\n",
       "      <td>7.300</td>\n",
       "      <td>5.267</td>\n",
       "      <td>3.267</td>\n",
       "      <td>30.0</td>\n",
       "      <td>57.0</td>\n",
       "      <td>1.0</td>\n",
       "      <td>0.2</td>\n",
       "      <td>2.0</td>\n",
       "      <td>33.0</td>\n",
       "      <td>22.033</td>\n",
       "      <td>93.367</td>\n",
       "    </tr>\n",
       "    <tr>\n",
       "      <th>4580</th>\n",
       "      <td>2019-12-10 20:00:00</td>\n",
       "      <td>0.787</td>\n",
       "      <td>9.420</td>\n",
       "      <td>7.500</td>\n",
       "      <td>5.467</td>\n",
       "      <td>3.417</td>\n",
       "      <td>37.0</td>\n",
       "      <td>46.0</td>\n",
       "      <td>1.0</td>\n",
       "      <td>0.2</td>\n",
       "      <td>1.0</td>\n",
       "      <td>38.0</td>\n",
       "      <td>22.100</td>\n",
       "      <td>93.317</td>\n",
       "    </tr>\n",
       "    <tr>\n",
       "      <th>4581</th>\n",
       "      <td>2019-12-10 21:00:00</td>\n",
       "      <td>1.056</td>\n",
       "      <td>9.296</td>\n",
       "      <td>7.233</td>\n",
       "      <td>5.283</td>\n",
       "      <td>3.200</td>\n",
       "      <td>16.0</td>\n",
       "      <td>67.0</td>\n",
       "      <td>1.0</td>\n",
       "      <td>0.2</td>\n",
       "      <td>1.0</td>\n",
       "      <td>17.0</td>\n",
       "      <td>22.200</td>\n",
       "      <td>93.333</td>\n",
       "    </tr>\n",
       "    <tr>\n",
       "      <th>4582</th>\n",
       "      <td>2019-12-10 22:00:00</td>\n",
       "      <td>0.804</td>\n",
       "      <td>9.504</td>\n",
       "      <td>7.667</td>\n",
       "      <td>5.450</td>\n",
       "      <td>3.133</td>\n",
       "      <td>15.0</td>\n",
       "      <td>68.0</td>\n",
       "      <td>1.0</td>\n",
       "      <td>0.2</td>\n",
       "      <td>1.0</td>\n",
       "      <td>16.0</td>\n",
       "      <td>22.183</td>\n",
       "      <td>93.417</td>\n",
       "    </tr>\n",
       "    <tr>\n",
       "      <th>4583</th>\n",
       "      <td>2019-12-10 23:00:00</td>\n",
       "      <td>0.563</td>\n",
       "      <td>9.213</td>\n",
       "      <td>7.750</td>\n",
       "      <td>5.517</td>\n",
       "      <td>3.167</td>\n",
       "      <td>12.0</td>\n",
       "      <td>71.0</td>\n",
       "      <td>1.0</td>\n",
       "      <td>0.2</td>\n",
       "      <td>1.0</td>\n",
       "      <td>14.0</td>\n",
       "      <td>22.200</td>\n",
       "      <td>92.600</td>\n",
       "    </tr>\n",
       "  </tbody>\n",
       "</table>\n",
       "</div>"
      ],
      "text/plain": [
       "                     date     BC  N_CPC  PM-10  PM-2.5  PM-1.0   NO2    O3  \\\n",
       "4579  2019-12-10 19:00:00  0.728  9.275  7.300   5.267   3.267  30.0  57.0   \n",
       "4580  2019-12-10 20:00:00  0.787  9.420  7.500   5.467   3.417  37.0  46.0   \n",
       "4581  2019-12-10 21:00:00  1.056  9.296  7.233   5.283   3.200  16.0  67.0   \n",
       "4582  2019-12-10 22:00:00  0.804  9.504  7.667   5.450   3.133  15.0  68.0   \n",
       "4583  2019-12-10 23:00:00  0.563  9.213  7.750   5.517   3.167  12.0  71.0   \n",
       "\n",
       "      SO2   CO   NO   NOX    TEMP     HUM  \n",
       "4579  1.0  0.2  2.0  33.0  22.033  93.367  \n",
       "4580  1.0  0.2  1.0  38.0  22.100  93.317  \n",
       "4581  1.0  0.2  1.0  17.0  22.200  93.333  \n",
       "4582  1.0  0.2  1.0  16.0  22.183  93.417  \n",
       "4583  1.0  0.2  1.0  14.0  22.200  92.600  "
      ]
     },
     "execution_count": 4,
     "metadata": {},
     "output_type": "execute_result"
    }
   ],
   "source": [
    "dataset = raw_dataset.copy()\n",
    "dataset.tail()"
   ]
  },
  {
   "attachments": {},
   "cell_type": "markdown",
   "metadata": {
    "id": "3MWuJTKEDM-f"
   },
   "source": [
    "### Clean the data\n",
    "\n",
    "The dataset contains a few unknown values:"
   ]
  },
  {
   "cell_type": "code",
   "execution_count": 5,
   "metadata": {
    "execution": {
     "iopub.execute_input": "2022-12-27T02:21:51.878529Z",
     "iopub.status.busy": "2022-12-27T02:21:51.878060Z",
     "iopub.status.idle": "2022-12-27T02:21:51.883421Z",
     "shell.execute_reply": "2022-12-27T02:21:51.882865Z"
    },
    "id": "JEJHhN65a2VV"
   },
   "outputs": [
    {
     "data": {
      "text/plain": [
       "date      0\n",
       "BC        0\n",
       "N_CPC     0\n",
       "PM-10     0\n",
       "PM-2.5    0\n",
       "PM-1.0    0\n",
       "NO2       0\n",
       "O3        0\n",
       "SO2       0\n",
       "CO        0\n",
       "NO        0\n",
       "NOX       0\n",
       "TEMP      0\n",
       "HUM       0\n",
       "dtype: int64"
      ]
     },
     "execution_count": 5,
     "metadata": {},
     "output_type": "execute_result"
    }
   ],
   "source": [
    "dataset.isna().sum()"
   ]
  },
  {
   "attachments": {},
   "cell_type": "markdown",
   "metadata": {
    "id": "9UPN0KBHa_WI"
   },
   "source": [
    "Drop those rows that contain unknown values."
   ]
  },
  {
   "cell_type": "code",
   "execution_count": 6,
   "metadata": {
    "execution": {
     "iopub.execute_input": "2022-12-27T02:21:51.886774Z",
     "iopub.status.busy": "2022-12-27T02:21:51.886216Z",
     "iopub.status.idle": "2022-12-27T02:21:51.890350Z",
     "shell.execute_reply": "2022-12-27T02:21:51.889716Z"
    },
    "id": "4ZUDosChC1UN"
   },
   "outputs": [],
   "source": [
    "dataset = dataset.dropna()"
   ]
  },
  {
   "attachments": {},
   "cell_type": "markdown",
   "metadata": {
    "id": "Cuym4yvk76vU"
   },
   "source": [
    "### Split the data into training and test sets\n",
    "\n",
    "Now, split the dataset into a training set and a test set. You will use the test set in the final evaluation of your models."
   ]
  },
  {
   "cell_type": "code",
   "execution_count": 7,
   "metadata": {
    "execution": {
     "iopub.execute_input": "2022-12-27T02:21:51.916598Z",
     "iopub.status.busy": "2022-12-27T02:21:51.916068Z",
     "iopub.status.idle": "2022-12-27T02:21:51.920500Z",
     "shell.execute_reply": "2022-12-27T02:21:51.919906Z"
    },
    "id": "qn-IGhUE7_1H"
   },
   "outputs": [],
   "source": [
    "train_dataset = dataset.sample(frac=0.8, random_state=0)\n",
    "test_dataset = dataset.drop(train_dataset.index)"
   ]
  },
  {
   "attachments": {},
   "cell_type": "markdown",
   "metadata": {
    "id": "J4ubs136WLNp"
   },
   "source": [
    "### Inspect the data\n",
    "\n",
    "Review the joint distribution of a few pairs of columns from the training set.\n",
    "\n",
    "The top row suggests that the fuel efficiency (MPG) is a function of all the other parameters. The other rows indicate they are functions of each other."
   ]
  },
  {
   "cell_type": "code",
   "execution_count": 8,
   "metadata": {},
   "outputs": [
    {
     "data": {
      "text/plain": [
       "Index(['date', 'BC', 'N_CPC', 'PM-10', 'PM-2.5', 'PM-1.0', 'NO2', 'O3', 'SO2',\n",
       "       'CO', 'NO', 'NOX', 'TEMP', 'HUM'],\n",
       "      dtype='object')"
      ]
     },
     "execution_count": 8,
     "metadata": {},
     "output_type": "execute_result"
    }
   ],
   "source": [
    "dataset.columns"
   ]
  },
  {
   "cell_type": "code",
   "execution_count": 9,
   "metadata": {
    "execution": {
     "iopub.execute_input": "2022-12-27T02:21:51.923735Z",
     "iopub.status.busy": "2022-12-27T02:21:51.923265Z",
     "iopub.status.idle": "2022-12-27T02:21:54.579330Z",
     "shell.execute_reply": "2022-12-27T02:21:54.578578Z"
    },
    "id": "oRKO_x8gWKv-"
   },
   "outputs": [],
   "source": [
    "#sns.pairplot(train_dataset[['BC', 'N_CPC', 'PM-10', 'PM-2.5', 'PM-1.0', 'NO2', 'O3', 'SO2',\n",
    "#       'CO', 'NO', 'NOX', 'TEMP', 'HUM']], diag_kind='kde')"
   ]
  },
  {
   "attachments": {},
   "cell_type": "markdown",
   "metadata": {
    "id": "gavKO_6DWRMP"
   },
   "source": [
    "Let's also check the overall statistics. Note how each feature covers a very different range:"
   ]
  },
  {
   "cell_type": "code",
   "execution_count": 10,
   "metadata": {
    "execution": {
     "iopub.execute_input": "2022-12-27T02:21:54.584792Z",
     "iopub.status.busy": "2022-12-27T02:21:54.584146Z",
     "iopub.status.idle": "2022-12-27T02:21:54.616279Z",
     "shell.execute_reply": "2022-12-27T02:21:54.615730Z"
    },
    "id": "yi2FzC3T21jR"
   },
   "outputs": [
    {
     "data": {
      "text/html": [
       "<div>\n",
       "<style scoped>\n",
       "    .dataframe tbody tr th:only-of-type {\n",
       "        vertical-align: middle;\n",
       "    }\n",
       "\n",
       "    .dataframe tbody tr th {\n",
       "        vertical-align: top;\n",
       "    }\n",
       "\n",
       "    .dataframe thead th {\n",
       "        text-align: right;\n",
       "    }\n",
       "</style>\n",
       "<table border=\"1\" class=\"dataframe\">\n",
       "  <thead>\n",
       "    <tr style=\"text-align: right;\">\n",
       "      <th></th>\n",
       "      <th>count</th>\n",
       "      <th>mean</th>\n",
       "      <th>std</th>\n",
       "      <th>min</th>\n",
       "      <th>25%</th>\n",
       "      <th>50%</th>\n",
       "      <th>75%</th>\n",
       "      <th>max</th>\n",
       "    </tr>\n",
       "  </thead>\n",
       "  <tbody>\n",
       "    <tr>\n",
       "      <th>BC</th>\n",
       "      <td>3667.0</td>\n",
       "      <td>1.308597</td>\n",
       "      <td>1.076689</td>\n",
       "      <td>0.135</td>\n",
       "      <td>0.6860</td>\n",
       "      <td>1.036000</td>\n",
       "      <td>1.434000</td>\n",
       "      <td>12.767</td>\n",
       "    </tr>\n",
       "    <tr>\n",
       "      <th>N_CPC</th>\n",
       "      <td>3667.0</td>\n",
       "      <td>13.595846</td>\n",
       "      <td>7.925360</td>\n",
       "      <td>1.376</td>\n",
       "      <td>7.9435</td>\n",
       "      <td>12.253000</td>\n",
       "      <td>16.816500</td>\n",
       "      <td>73.490</td>\n",
       "    </tr>\n",
       "    <tr>\n",
       "      <th>PM-10</th>\n",
       "      <td>3667.0</td>\n",
       "      <td>15.051685</td>\n",
       "      <td>12.968417</td>\n",
       "      <td>0.600</td>\n",
       "      <td>8.9670</td>\n",
       "      <td>13.667000</td>\n",
       "      <td>17.800000</td>\n",
       "      <td>398.717</td>\n",
       "    </tr>\n",
       "    <tr>\n",
       "      <th>PM-2.5</th>\n",
       "      <td>3667.0</td>\n",
       "      <td>9.331338</td>\n",
       "      <td>5.860397</td>\n",
       "      <td>0.500</td>\n",
       "      <td>5.3000</td>\n",
       "      <td>8.467000</td>\n",
       "      <td>11.533000</td>\n",
       "      <td>76.833</td>\n",
       "    </tr>\n",
       "    <tr>\n",
       "      <th>PM-1.0</th>\n",
       "      <td>3667.0</td>\n",
       "      <td>7.310185</td>\n",
       "      <td>5.321897</td>\n",
       "      <td>0.333</td>\n",
       "      <td>3.3830</td>\n",
       "      <td>6.400000</td>\n",
       "      <td>9.175000</td>\n",
       "      <td>34.383</td>\n",
       "    </tr>\n",
       "    <tr>\n",
       "      <th>NO2</th>\n",
       "      <td>3667.0</td>\n",
       "      <td>30.051420</td>\n",
       "      <td>20.956643</td>\n",
       "      <td>2.000</td>\n",
       "      <td>15.0000</td>\n",
       "      <td>25.000000</td>\n",
       "      <td>38.000000</td>\n",
       "      <td>132.000</td>\n",
       "    </tr>\n",
       "    <tr>\n",
       "      <th>O3</th>\n",
       "      <td>3667.0</td>\n",
       "      <td>48.074280</td>\n",
       "      <td>25.017375</td>\n",
       "      <td>1.000</td>\n",
       "      <td>32.0000</td>\n",
       "      <td>48.139158</td>\n",
       "      <td>63.000000</td>\n",
       "      <td>142.000</td>\n",
       "    </tr>\n",
       "    <tr>\n",
       "      <th>SO2</th>\n",
       "      <td>3667.0</td>\n",
       "      <td>1.366884</td>\n",
       "      <td>0.751100</td>\n",
       "      <td>0.500</td>\n",
       "      <td>1.0000</td>\n",
       "      <td>1.000000</td>\n",
       "      <td>1.368459</td>\n",
       "      <td>13.000</td>\n",
       "    </tr>\n",
       "    <tr>\n",
       "      <th>CO</th>\n",
       "      <td>3667.0</td>\n",
       "      <td>0.312015</td>\n",
       "      <td>0.201443</td>\n",
       "      <td>0.100</td>\n",
       "      <td>0.2000</td>\n",
       "      <td>0.200000</td>\n",
       "      <td>0.312924</td>\n",
       "      <td>1.900</td>\n",
       "    </tr>\n",
       "    <tr>\n",
       "      <th>NO</th>\n",
       "      <td>3667.0</td>\n",
       "      <td>7.826394</td>\n",
       "      <td>18.315062</td>\n",
       "      <td>0.500</td>\n",
       "      <td>1.0000</td>\n",
       "      <td>3.000000</td>\n",
       "      <td>7.796788</td>\n",
       "      <td>255.000</td>\n",
       "    </tr>\n",
       "    <tr>\n",
       "      <th>NOX</th>\n",
       "      <td>3667.0</td>\n",
       "      <td>41.650044</td>\n",
       "      <td>44.248275</td>\n",
       "      <td>1.000</td>\n",
       "      <td>18.0000</td>\n",
       "      <td>30.000000</td>\n",
       "      <td>46.000000</td>\n",
       "      <td>521.000</td>\n",
       "    </tr>\n",
       "    <tr>\n",
       "      <th>TEMP</th>\n",
       "      <td>3667.0</td>\n",
       "      <td>17.795345</td>\n",
       "      <td>5.863043</td>\n",
       "      <td>4.083</td>\n",
       "      <td>13.0330</td>\n",
       "      <td>17.833411</td>\n",
       "      <td>22.275000</td>\n",
       "      <td>34.483</td>\n",
       "    </tr>\n",
       "    <tr>\n",
       "      <th>HUM</th>\n",
       "      <td>3667.0</td>\n",
       "      <td>70.849460</td>\n",
       "      <td>14.603534</td>\n",
       "      <td>19.383</td>\n",
       "      <td>61.8080</td>\n",
       "      <td>70.848520</td>\n",
       "      <td>82.200000</td>\n",
       "      <td>100.000</td>\n",
       "    </tr>\n",
       "  </tbody>\n",
       "</table>\n",
       "</div>"
      ],
      "text/plain": [
       "         count       mean        std     min      25%        50%        75%  \\\n",
       "BC      3667.0   1.308597   1.076689   0.135   0.6860   1.036000   1.434000   \n",
       "N_CPC   3667.0  13.595846   7.925360   1.376   7.9435  12.253000  16.816500   \n",
       "PM-10   3667.0  15.051685  12.968417   0.600   8.9670  13.667000  17.800000   \n",
       "PM-2.5  3667.0   9.331338   5.860397   0.500   5.3000   8.467000  11.533000   \n",
       "PM-1.0  3667.0   7.310185   5.321897   0.333   3.3830   6.400000   9.175000   \n",
       "NO2     3667.0  30.051420  20.956643   2.000  15.0000  25.000000  38.000000   \n",
       "O3      3667.0  48.074280  25.017375   1.000  32.0000  48.139158  63.000000   \n",
       "SO2     3667.0   1.366884   0.751100   0.500   1.0000   1.000000   1.368459   \n",
       "CO      3667.0   0.312015   0.201443   0.100   0.2000   0.200000   0.312924   \n",
       "NO      3667.0   7.826394  18.315062   0.500   1.0000   3.000000   7.796788   \n",
       "NOX     3667.0  41.650044  44.248275   1.000  18.0000  30.000000  46.000000   \n",
       "TEMP    3667.0  17.795345   5.863043   4.083  13.0330  17.833411  22.275000   \n",
       "HUM     3667.0  70.849460  14.603534  19.383  61.8080  70.848520  82.200000   \n",
       "\n",
       "            max  \n",
       "BC       12.767  \n",
       "N_CPC    73.490  \n",
       "PM-10   398.717  \n",
       "PM-2.5   76.833  \n",
       "PM-1.0   34.383  \n",
       "NO2     132.000  \n",
       "O3      142.000  \n",
       "SO2      13.000  \n",
       "CO        1.900  \n",
       "NO      255.000  \n",
       "NOX     521.000  \n",
       "TEMP     34.483  \n",
       "HUM     100.000  "
      ]
     },
     "execution_count": 10,
     "metadata": {},
     "output_type": "execute_result"
    }
   ],
   "source": [
    "train_dataset.describe().transpose()"
   ]
  },
  {
   "attachments": {},
   "cell_type": "markdown",
   "metadata": {
    "id": "Db7Auq1yXUvh"
   },
   "source": [
    "### Split features from labels\n",
    "\n",
    "Separate the target value—the \"label\"—from the features. This label is the value that you will train the model to predict."
   ]
  },
  {
   "cell_type": "code",
   "execution_count": 11,
   "metadata": {},
   "outputs": [],
   "source": [
    "train_dataset.drop(['date'], axis=1, inplace=True)"
   ]
  },
  {
   "cell_type": "code",
   "execution_count": 12,
   "metadata": {
    "execution": {
     "iopub.execute_input": "2022-12-27T02:21:54.619704Z",
     "iopub.status.busy": "2022-12-27T02:21:54.619079Z",
     "iopub.status.idle": "2022-12-27T02:21:54.623534Z",
     "shell.execute_reply": "2022-12-27T02:21:54.622996Z"
    },
    "id": "t2sluJdCW7jN"
   },
   "outputs": [],
   "source": [
    "train_features = train_dataset.copy()\n",
    "test_features = test_dataset.copy()\n",
    "\n",
    "train_labels = train_features.pop('BC')\n",
    "test_labels = test_features.pop('BC')"
   ]
  },
  {
   "attachments": {},
   "cell_type": "markdown",
   "metadata": {
    "id": "mRklxK5s388r"
   },
   "source": [
    "## Normalization\n",
    "\n",
    "In the table of statistics it's easy to see how different the ranges of each feature are:"
   ]
  },
  {
   "cell_type": "code",
   "execution_count": 13,
   "metadata": {
    "execution": {
     "iopub.execute_input": "2022-12-27T02:21:54.626870Z",
     "iopub.status.busy": "2022-12-27T02:21:54.626324Z",
     "iopub.status.idle": "2022-12-27T02:21:54.651031Z",
     "shell.execute_reply": "2022-12-27T02:21:54.650463Z"
    },
    "id": "IcmY6lKKbkw8"
   },
   "outputs": [
    {
     "data": {
      "text/html": [
       "<div>\n",
       "<style scoped>\n",
       "    .dataframe tbody tr th:only-of-type {\n",
       "        vertical-align: middle;\n",
       "    }\n",
       "\n",
       "    .dataframe tbody tr th {\n",
       "        vertical-align: top;\n",
       "    }\n",
       "\n",
       "    .dataframe thead th {\n",
       "        text-align: right;\n",
       "    }\n",
       "</style>\n",
       "<table border=\"1\" class=\"dataframe\">\n",
       "  <thead>\n",
       "    <tr style=\"text-align: right;\">\n",
       "      <th></th>\n",
       "      <th>mean</th>\n",
       "      <th>std</th>\n",
       "    </tr>\n",
       "  </thead>\n",
       "  <tbody>\n",
       "    <tr>\n",
       "      <th>BC</th>\n",
       "      <td>1.308597</td>\n",
       "      <td>1.076689</td>\n",
       "    </tr>\n",
       "    <tr>\n",
       "      <th>N_CPC</th>\n",
       "      <td>13.595846</td>\n",
       "      <td>7.925360</td>\n",
       "    </tr>\n",
       "    <tr>\n",
       "      <th>PM-10</th>\n",
       "      <td>15.051685</td>\n",
       "      <td>12.968417</td>\n",
       "    </tr>\n",
       "    <tr>\n",
       "      <th>PM-2.5</th>\n",
       "      <td>9.331338</td>\n",
       "      <td>5.860397</td>\n",
       "    </tr>\n",
       "    <tr>\n",
       "      <th>PM-1.0</th>\n",
       "      <td>7.310185</td>\n",
       "      <td>5.321897</td>\n",
       "    </tr>\n",
       "    <tr>\n",
       "      <th>NO2</th>\n",
       "      <td>30.051420</td>\n",
       "      <td>20.956643</td>\n",
       "    </tr>\n",
       "    <tr>\n",
       "      <th>O3</th>\n",
       "      <td>48.074280</td>\n",
       "      <td>25.017375</td>\n",
       "    </tr>\n",
       "    <tr>\n",
       "      <th>SO2</th>\n",
       "      <td>1.366884</td>\n",
       "      <td>0.751100</td>\n",
       "    </tr>\n",
       "    <tr>\n",
       "      <th>CO</th>\n",
       "      <td>0.312015</td>\n",
       "      <td>0.201443</td>\n",
       "    </tr>\n",
       "    <tr>\n",
       "      <th>NO</th>\n",
       "      <td>7.826394</td>\n",
       "      <td>18.315062</td>\n",
       "    </tr>\n",
       "    <tr>\n",
       "      <th>NOX</th>\n",
       "      <td>41.650044</td>\n",
       "      <td>44.248275</td>\n",
       "    </tr>\n",
       "    <tr>\n",
       "      <th>TEMP</th>\n",
       "      <td>17.795345</td>\n",
       "      <td>5.863043</td>\n",
       "    </tr>\n",
       "    <tr>\n",
       "      <th>HUM</th>\n",
       "      <td>70.849460</td>\n",
       "      <td>14.603534</td>\n",
       "    </tr>\n",
       "  </tbody>\n",
       "</table>\n",
       "</div>"
      ],
      "text/plain": [
       "             mean        std\n",
       "BC       1.308597   1.076689\n",
       "N_CPC   13.595846   7.925360\n",
       "PM-10   15.051685  12.968417\n",
       "PM-2.5   9.331338   5.860397\n",
       "PM-1.0   7.310185   5.321897\n",
       "NO2     30.051420  20.956643\n",
       "O3      48.074280  25.017375\n",
       "SO2      1.366884   0.751100\n",
       "CO       0.312015   0.201443\n",
       "NO       7.826394  18.315062\n",
       "NOX     41.650044  44.248275\n",
       "TEMP    17.795345   5.863043\n",
       "HUM     70.849460  14.603534"
      ]
     },
     "execution_count": 13,
     "metadata": {},
     "output_type": "execute_result"
    }
   ],
   "source": [
    "train_dataset.describe().transpose()[['mean', 'std']]"
   ]
  },
  {
   "attachments": {},
   "cell_type": "markdown",
   "metadata": {
    "id": "-ywmerQ6dSox"
   },
   "source": [
    "It is good practice to normalize features that use different scales and ranges.\n",
    "\n",
    "One reason this is important is because the features are multiplied by the model weights. So, the scale of the outputs and the scale of the gradients are affected by the scale of the inputs.\n",
    "\n",
    "Although a model *might* converge without feature normalization, normalization makes training much more stable.\n",
    "\n",
    "Note: There is no advantage to normalizing the one-hot features—it is done here for simplicity. For more details on how to use the preprocessing layers, refer to the [Working with preprocessing layers](https://www.tensorflow.org/guide/keras/preprocessing_layers) guide and the [Classify structured data using Keras preprocessing layers](../structured_data/preprocessing_layers.ipynb) tutorial."
   ]
  },
  {
   "attachments": {},
   "cell_type": "markdown",
   "metadata": {
    "id": "aFJ6ISropeoo"
   },
   "source": [
    "### The Normalization layer\n",
    "\n",
    "The `tf.keras.layers.Normalization` is a clean and simple way to add feature normalization into your model.\n",
    "\n",
    "The first step is to create the layer:"
   ]
  },
  {
   "cell_type": "code",
   "execution_count": 14,
   "metadata": {
    "execution": {
     "iopub.execute_input": "2022-12-27T02:21:54.654470Z",
     "iopub.status.busy": "2022-12-27T02:21:54.653996Z",
     "iopub.status.idle": "2022-12-27T02:21:54.671432Z",
     "shell.execute_reply": "2022-12-27T02:21:54.670897Z"
    },
    "id": "JlC5ooJrgjQF"
   },
   "outputs": [],
   "source": [
    "normalizer = tf.keras.layers.Normalization(axis=-1)"
   ]
  },
  {
   "attachments": {},
   "cell_type": "markdown",
   "metadata": {
    "id": "XYA2Ap6nVOha"
   },
   "source": [
    "Then, fit the state of the preprocessing layer to the data by calling `Normalization.adapt`:"
   ]
  },
  {
   "cell_type": "code",
   "execution_count": 15,
   "metadata": {
    "execution": {
     "iopub.execute_input": "2022-12-27T02:21:54.674924Z",
     "iopub.status.busy": "2022-12-27T02:21:54.674352Z",
     "iopub.status.idle": "2022-12-27T02:21:58.227347Z",
     "shell.execute_reply": "2022-12-27T02:21:58.226632Z"
    },
    "id": "CrBbbjbwV91f"
   },
   "outputs": [
    {
     "name": "stderr",
     "output_type": "stream",
     "text": [
      "2023-05-14 19:44:18.032744: W tensorflow/tsl/platform/profile_utils/cpu_utils.cc:128] Failed to get CPU frequency: 0 Hz\n"
     ]
    }
   ],
   "source": [
    "normalizer.adapt(np.array(train_features))"
   ]
  },
  {
   "attachments": {},
   "cell_type": "markdown",
   "metadata": {
    "id": "oZccMR5yV9YV"
   },
   "source": [
    "Calculate the mean and variance, and store them in the layer:"
   ]
  },
  {
   "cell_type": "code",
   "execution_count": 16,
   "metadata": {
    "execution": {
     "iopub.execute_input": "2022-12-27T02:21:58.231969Z",
     "iopub.status.busy": "2022-12-27T02:21:58.231364Z",
     "iopub.status.idle": "2022-12-27T02:21:58.235553Z",
     "shell.execute_reply": "2022-12-27T02:21:58.234937Z"
    },
    "id": "GGn-ukwxSPtx"
   },
   "outputs": [
    {
     "name": "stdout",
     "output_type": "stream",
     "text": [
      "[[13.596 15.052  9.331  7.31  30.051 48.074  1.367  0.312  7.826 41.65\n",
      "  17.795 70.849]]\n"
     ]
    }
   ],
   "source": [
    "print(normalizer.mean.numpy())"
   ]
  },
  {
   "attachments": {},
   "cell_type": "markdown",
   "metadata": {
    "id": "oGWKaF9GSRuN"
   },
   "source": [
    "When the layer is called, it returns the input data, with each feature independently normalized:"
   ]
  },
  {
   "cell_type": "code",
   "execution_count": 17,
   "metadata": {
    "execution": {
     "iopub.execute_input": "2022-12-27T02:21:58.238943Z",
     "iopub.status.busy": "2022-12-27T02:21:58.238495Z",
     "iopub.status.idle": "2022-12-27T02:21:58.250628Z",
     "shell.execute_reply": "2022-12-27T02:21:58.249973Z"
    },
    "id": "2l7zFL_XWIRu"
   },
   "outputs": [
    {
     "name": "stdout",
     "output_type": "stream",
     "text": [
      "First example: [13.79  7.32  6.47  5.43 15.   61.    1.    0.3   1.   17.   12.75 83.98]\n",
      "\n",
      "Normalized: [[ 0.02 -0.6  -0.49 -0.35 -0.72  0.52 -0.49 -0.06 -0.37 -0.56 -0.86  0.9 ]]\n"
     ]
    }
   ],
   "source": [
    "first = np.array(train_features[:1]).mean(axis=0)\n",
    "\n",
    "with np.printoptions(precision=2, suppress=True):\n",
    "  print('First example:', first)\n",
    "  print()\n",
    "  print('Normalized:', normalizer(first).numpy())"
   ]
  },
  {
   "cell_type": "code",
   "execution_count": 18,
   "metadata": {},
   "outputs": [],
   "source": [
    "def plot_loss(history):\n",
    "  plt.plot(history.history['loss'], label='loss')\n",
    "  plt.plot(history.history['val_loss'], label='val_loss')\n",
    "  plt.xlabel('Epoch')\n",
    "  plt.ylabel('Error [BC]')\n",
    "  plt.legend()\n",
    "  plt.grid(True)\n",
    "  \n",
    "  plt.show()\n"
   ]
  },
  {
   "attachments": {},
   "cell_type": "markdown",
   "metadata": {
    "id": "SmjdzxKzEu1-"
   },
   "source": [
    "## Regression with a deep neural network (DNN)"
   ]
  },
  {
   "attachments": {},
   "cell_type": "markdown",
   "metadata": {
    "id": "6SWtkIjhrZwa"
   },
   "source": [
    "These models will contain a few more layers than the linear model:\n",
    "\n",
    "* The normalization layer, as before (with `horsepower_normalizer` for a single-input model and `normalizer` for a multiple-input model).\n",
    "* Two hidden, non-linear, `Dense` layers with the ReLU (`relu`) activation function nonlinearity.\n",
    "* A linear `Dense` single-output layer.\n",
    "\n",
    "Both models will use the same training procedure, so the `compile` method is included in the `build_and_compile_model` function below."
   ]
  },
  {
   "cell_type": "code",
   "execution_count": 19,
   "metadata": {
    "execution": {
     "iopub.execute_input": "2022-12-27T02:22:11.109282Z",
     "iopub.status.busy": "2022-12-27T02:22:11.108800Z",
     "iopub.status.idle": "2022-12-27T02:22:11.112981Z",
     "shell.execute_reply": "2022-12-27T02:22:11.112362Z"
    },
    "id": "c26juK7ZG8j-"
   },
   "outputs": [],
   "source": [
    "def build_and_compile_model(norm):\n",
    "  model = keras.Sequential([\n",
    "      norm,\n",
    "      layers.Dense(64, activation='relu'),\n",
    "      layers.Dense(256, activation='relu'),\n",
    "      layers.Dropout(0.5),\n",
    "      layers.Dense(256, activation='relu'),\n",
    "      layers.Dense(1)\n",
    "  ])\n",
    "\n",
    "  model.compile(loss='mean_absolute_error',\n",
    "                optimizer=tf.keras.optimizers.Adam(0.001))\n",
    "  return model"
   ]
  },
  {
   "attachments": {},
   "cell_type": "markdown",
   "metadata": {
    "id": "S_2Btebp2e64"
   },
   "source": [
    "### Regression using a DNN and multiple inputs"
   ]
  },
  {
   "cell_type": "code",
   "execution_count": 20,
   "metadata": {
    "execution": {
     "iopub.execute_input": "2022-12-27T02:22:17.332495Z",
     "iopub.status.busy": "2022-12-27T02:22:17.331769Z",
     "iopub.status.idle": "2022-12-27T02:22:17.381104Z",
     "shell.execute_reply": "2022-12-27T02:22:17.380455Z"
    },
    "id": "c0mhscXh2k36"
   },
   "outputs": [
    {
     "name": "stderr",
     "output_type": "stream",
     "text": [
      "WARNING:absl:At this time, the v2.11+ optimizer `tf.keras.optimizers.Adam` runs slowly on M1/M2 Macs, please use the legacy Keras optimizer instead, located at `tf.keras.optimizers.legacy.Adam`.\n",
      "WARNING:absl:There is a known slowdown when using v2.11+ Keras optimizers on M1/M2 Macs. Falling back to the legacy Keras optimizer, i.e., `tf.keras.optimizers.legacy.Adam`.\n"
     ]
    },
    {
     "name": "stdout",
     "output_type": "stream",
     "text": [
      "Model: \"sequential\"\n",
      "_________________________________________________________________\n",
      " Layer (type)                Output Shape              Param #   \n",
      "=================================================================\n",
      " normalization (Normalizatio  (None, 12)               25        \n",
      " n)                                                              \n",
      "                                                                 \n",
      " dense (Dense)               (None, 64)                832       \n",
      "                                                                 \n",
      " dense_1 (Dense)             (None, 256)               16640     \n",
      "                                                                 \n",
      " dropout (Dropout)           (None, 256)               0         \n",
      "                                                                 \n",
      " dense_2 (Dense)             (None, 256)               65792     \n",
      "                                                                 \n",
      " dense_3 (Dense)             (None, 1)                 257       \n",
      "                                                                 \n",
      "=================================================================\n",
      "Total params: 83,546\n",
      "Trainable params: 83,521\n",
      "Non-trainable params: 25\n",
      "_________________________________________________________________\n"
     ]
    }
   ],
   "source": [
    "dnn_model = build_and_compile_model(normalizer)\n",
    "dnn_model.summary()"
   ]
  },
  {
   "cell_type": "code",
   "execution_count": 21,
   "metadata": {
    "execution": {
     "iopub.execute_input": "2022-12-27T02:22:17.388131Z",
     "iopub.status.busy": "2022-12-27T02:22:17.387876Z",
     "iopub.status.idle": "2022-12-27T02:22:22.936845Z",
     "shell.execute_reply": "2022-12-27T02:22:22.936082Z"
    },
    "id": "CXDENACl2tuW"
   },
   "outputs": [
    {
     "name": "stdout",
     "output_type": "stream",
     "text": [
      "CPU times: user 11.3 s, sys: 2.71 s, total: 14 s\n",
      "Wall time: 8.89 s\n"
     ]
    }
   ],
   "source": [
    "%%time\n",
    "history = dnn_model.fit(\n",
    "    train_features,\n",
    "    train_labels,\n",
    "    validation_split=0.2,\n",
    "    verbose=0, epochs=100)"
   ]
  },
  {
   "cell_type": "code",
   "execution_count": 22,
   "metadata": {
    "execution": {
     "iopub.execute_input": "2022-12-27T02:22:22.940250Z",
     "iopub.status.busy": "2022-12-27T02:22:22.939645Z",
     "iopub.status.idle": "2022-12-27T02:22:23.080628Z",
     "shell.execute_reply": "2022-12-27T02:22:23.079973Z"
    },
    "id": "-9Dbj0fX23RQ"
   },
   "outputs": [
    {
     "data": {
      "image/png": "[encoded data removed]",
      "text/plain": [
       "<Figure size 640x480 with 1 Axes>"
      ]
     },
     "metadata": {},
     "output_type": "display_data"
    }
   ],
   "source": [
    "plot_loss(history)"
   ]
  },
  {
   "cell_type": "code",
   "execution_count": 23,
   "metadata": {},
   "outputs": [
    {
     "data": {
      "text/plain": [
       "((3667, 13), (917, 14))"
      ]
     },
     "execution_count": 23,
     "metadata": {},
     "output_type": "execute_result"
    }
   ],
   "source": [
    "train_dataset.shape, test_dataset.shape"
   ]
  },
  {
   "cell_type": "code",
   "execution_count": 24,
   "metadata": {},
   "outputs": [
    {
     "data": {
      "text/html": [
       "<div>\n",
       "<style scoped>\n",
       "    .dataframe tbody tr th:only-of-type {\n",
       "        vertical-align: middle;\n",
       "    }\n",
       "\n",
       "    .dataframe tbody tr th {\n",
       "        vertical-align: top;\n",
       "    }\n",
       "\n",
       "    .dataframe thead th {\n",
       "        text-align: right;\n",
       "    }\n",
       "</style>\n",
       "<table border=\"1\" class=\"dataframe\">\n",
       "  <thead>\n",
       "    <tr style=\"text-align: right;\">\n",
       "      <th></th>\n",
       "      <th>date</th>\n",
       "      <th>BC</th>\n",
       "      <th>N_CPC</th>\n",
       "      <th>PM-10</th>\n",
       "      <th>PM-2.5</th>\n",
       "      <th>PM-1.0</th>\n",
       "      <th>NO2</th>\n",
       "      <th>O3</th>\n",
       "      <th>SO2</th>\n",
       "      <th>CO</th>\n",
       "      <th>NO</th>\n",
       "      <th>NOX</th>\n",
       "      <th>TEMP</th>\n",
       "      <th>HUM</th>\n",
       "    </tr>\n",
       "  </thead>\n",
       "  <tbody>\n",
       "    <tr>\n",
       "      <th>0</th>\n",
       "      <td>2019-01-01 00:00:00</td>\n",
       "      <td>3.445</td>\n",
       "      <td>17.773</td>\n",
       "      <td>13.033</td>\n",
       "      <td>11.767</td>\n",
       "      <td>11.050</td>\n",
       "      <td>18.0</td>\n",
       "      <td>41.0</td>\n",
       "      <td>1.0</td>\n",
       "      <td>0.2</td>\n",
       "      <td>4.0</td>\n",
       "      <td>23.0</td>\n",
       "      <td>12.140</td>\n",
       "      <td>53.780</td>\n",
       "    </tr>\n",
       "    <tr>\n",
       "      <th>1</th>\n",
       "      <td>2019-01-01 01:00:00</td>\n",
       "      <td>5.162</td>\n",
       "      <td>24.620</td>\n",
       "      <td>17.050</td>\n",
       "      <td>15.533</td>\n",
       "      <td>14.783</td>\n",
       "      <td>62.0</td>\n",
       "      <td>1.0</td>\n",
       "      <td>1.0</td>\n",
       "      <td>0.2</td>\n",
       "      <td>22.0</td>\n",
       "      <td>96.0</td>\n",
       "      <td>11.683</td>\n",
       "      <td>55.100</td>\n",
       "    </tr>\n",
       "    <tr>\n",
       "      <th>2</th>\n",
       "      <td>2019-01-01 02:00:00</td>\n",
       "      <td>2.951</td>\n",
       "      <td>17.700</td>\n",
       "      <td>11.417</td>\n",
       "      <td>10.367</td>\n",
       "      <td>9.850</td>\n",
       "      <td>68.0</td>\n",
       "      <td>1.0</td>\n",
       "      <td>1.0</td>\n",
       "      <td>0.2</td>\n",
       "      <td>42.0</td>\n",
       "      <td>132.0</td>\n",
       "      <td>11.683</td>\n",
       "      <td>53.433</td>\n",
       "    </tr>\n",
       "    <tr>\n",
       "      <th>3</th>\n",
       "      <td>2019-01-01 03:00:00</td>\n",
       "      <td>1.917</td>\n",
       "      <td>12.212</td>\n",
       "      <td>7.750</td>\n",
       "      <td>7.100</td>\n",
       "      <td>6.683</td>\n",
       "      <td>75.0</td>\n",
       "      <td>1.0</td>\n",
       "      <td>1.0</td>\n",
       "      <td>0.2</td>\n",
       "      <td>66.0</td>\n",
       "      <td>176.0</td>\n",
       "      <td>11.367</td>\n",
       "      <td>54.533</td>\n",
       "    </tr>\n",
       "    <tr>\n",
       "      <th>4</th>\n",
       "      <td>2019-01-01 04:00:00</td>\n",
       "      <td>2.462</td>\n",
       "      <td>11.178</td>\n",
       "      <td>8.317</td>\n",
       "      <td>7.650</td>\n",
       "      <td>7.167</td>\n",
       "      <td>63.0</td>\n",
       "      <td>1.0</td>\n",
       "      <td>1.0</td>\n",
       "      <td>0.2</td>\n",
       "      <td>27.0</td>\n",
       "      <td>103.0</td>\n",
       "      <td>10.867</td>\n",
       "      <td>57.850</td>\n",
       "    </tr>\n",
       "    <tr>\n",
       "      <th>...</th>\n",
       "      <td>...</td>\n",
       "      <td>...</td>\n",
       "      <td>...</td>\n",
       "      <td>...</td>\n",
       "      <td>...</td>\n",
       "      <td>...</td>\n",
       "      <td>...</td>\n",
       "      <td>...</td>\n",
       "      <td>...</td>\n",
       "      <td>...</td>\n",
       "      <td>...</td>\n",
       "      <td>...</td>\n",
       "      <td>...</td>\n",
       "      <td>...</td>\n",
       "    </tr>\n",
       "    <tr>\n",
       "      <th>4579</th>\n",
       "      <td>2019-12-10 19:00:00</td>\n",
       "      <td>0.728</td>\n",
       "      <td>9.275</td>\n",
       "      <td>7.300</td>\n",
       "      <td>5.267</td>\n",
       "      <td>3.267</td>\n",
       "      <td>30.0</td>\n",
       "      <td>57.0</td>\n",
       "      <td>1.0</td>\n",
       "      <td>0.2</td>\n",
       "      <td>2.0</td>\n",
       "      <td>33.0</td>\n",
       "      <td>22.033</td>\n",
       "      <td>93.367</td>\n",
       "    </tr>\n",
       "    <tr>\n",
       "      <th>4580</th>\n",
       "      <td>2019-12-10 20:00:00</td>\n",
       "      <td>0.787</td>\n",
       "      <td>9.420</td>\n",
       "      <td>7.500</td>\n",
       "      <td>5.467</td>\n",
       "      <td>3.417</td>\n",
       "      <td>37.0</td>\n",
       "      <td>46.0</td>\n",
       "      <td>1.0</td>\n",
       "      <td>0.2</td>\n",
       "      <td>1.0</td>\n",
       "      <td>38.0</td>\n",
       "      <td>22.100</td>\n",
       "      <td>93.317</td>\n",
       "    </tr>\n",
       "    <tr>\n",
       "      <th>4581</th>\n",
       "      <td>2019-12-10 21:00:00</td>\n",
       "      <td>1.056</td>\n",
       "      <td>9.296</td>\n",
       "      <td>7.233</td>\n",
       "      <td>5.283</td>\n",
       "      <td>3.200</td>\n",
       "      <td>16.0</td>\n",
       "      <td>67.0</td>\n",
       "      <td>1.0</td>\n",
       "      <td>0.2</td>\n",
       "      <td>1.0</td>\n",
       "      <td>17.0</td>\n",
       "      <td>22.200</td>\n",
       "      <td>93.333</td>\n",
       "    </tr>\n",
       "    <tr>\n",
       "      <th>4582</th>\n",
       "      <td>2019-12-10 22:00:00</td>\n",
       "      <td>0.804</td>\n",
       "      <td>9.504</td>\n",
       "      <td>7.667</td>\n",
       "      <td>5.450</td>\n",
       "      <td>3.133</td>\n",
       "      <td>15.0</td>\n",
       "      <td>68.0</td>\n",
       "      <td>1.0</td>\n",
       "      <td>0.2</td>\n",
       "      <td>1.0</td>\n",
       "      <td>16.0</td>\n",
       "      <td>22.183</td>\n",
       "      <td>93.417</td>\n",
       "    </tr>\n",
       "    <tr>\n",
       "      <th>4583</th>\n",
       "      <td>2019-12-10 23:00:00</td>\n",
       "      <td>0.563</td>\n",
       "      <td>9.213</td>\n",
       "      <td>7.750</td>\n",
       "      <td>5.517</td>\n",
       "      <td>3.167</td>\n",
       "      <td>12.0</td>\n",
       "      <td>71.0</td>\n",
       "      <td>1.0</td>\n",
       "      <td>0.2</td>\n",
       "      <td>1.0</td>\n",
       "      <td>14.0</td>\n",
       "      <td>22.200</td>\n",
       "      <td>92.600</td>\n",
       "    </tr>\n",
       "  </tbody>\n",
       "</table>\n",
       "<p>4584 rows × 14 columns</p>\n",
       "</div>"
      ],
      "text/plain": [
       "                     date     BC   N_CPC   PM-10  PM-2.5  PM-1.0   NO2    O3  \\\n",
       "0     2019-01-01 00:00:00  3.445  17.773  13.033  11.767  11.050  18.0  41.0   \n",
       "1     2019-01-01 01:00:00  5.162  24.620  17.050  15.533  14.783  62.0   1.0   \n",
       "2     2019-01-01 02:00:00  2.951  17.700  11.417  10.367   9.850  68.0   1.0   \n",
       "3     2019-01-01 03:00:00  1.917  12.212   7.750   7.100   6.683  75.0   1.0   \n",
       "4     2019-01-01 04:00:00  2.462  11.178   8.317   7.650   7.167  63.0   1.0   \n",
       "...                   ...    ...     ...     ...     ...     ...   ...   ...   \n",
       "4579  2019-12-10 19:00:00  0.728   9.275   7.300   5.267   3.267  30.0  57.0   \n",
       "4580  2019-12-10 20:00:00  0.787   9.420   7.500   5.467   3.417  37.0  46.0   \n",
       "4581  2019-12-10 21:00:00  1.056   9.296   7.233   5.283   3.200  16.0  67.0   \n",
       "4582  2019-12-10 22:00:00  0.804   9.504   7.667   5.450   3.133  15.0  68.0   \n",
       "4583  2019-12-10 23:00:00  0.563   9.213   7.750   5.517   3.167  12.0  71.0   \n",
       "\n",
       "      SO2   CO    NO    NOX    TEMP     HUM  \n",
       "0     1.0  0.2   4.0   23.0  12.140  53.780  \n",
       "1     1.0  0.2  22.0   96.0  11.683  55.100  \n",
       "2     1.0  0.2  42.0  132.0  11.683  53.433  \n",
       "3     1.0  0.2  66.0  176.0  11.367  54.533  \n",
       "4     1.0  0.2  27.0  103.0  10.867  57.850  \n",
       "...   ...  ...   ...    ...     ...     ...  \n",
       "4579  1.0  0.2   2.0   33.0  22.033  93.367  \n",
       "4580  1.0  0.2   1.0   38.0  22.100  93.317  \n",
       "4581  1.0  0.2   1.0   17.0  22.200  93.333  \n",
       "4582  1.0  0.2   1.0   16.0  22.183  93.417  \n",
       "4583  1.0  0.2   1.0   14.0  22.200  92.600  \n",
       "\n",
       "[4584 rows x 14 columns]"
      ]
     },
     "execution_count": 24,
     "metadata": {},
     "output_type": "execute_result"
    }
   ],
   "source": [
    "dataset"
   ]
  },
  {
   "attachments": {},
   "cell_type": "markdown",
   "metadata": {},
   "source": [
    "**Sequence Builder"
   ]
  },
  {
   "cell_type": "code",
   "execution_count": 35,
   "metadata": {},
   "outputs": [
    {
     "data": {
      "text/plain": [
       "((161, 24, 14), (161, 24, 1), (30, 24, 14), (30, 24, 1))"
      ]
     },
     "execution_count": 35,
     "metadata": {},
     "output_type": "execute_result"
    }
   ],
   "source": [
    "test_size = 24*30 #the number of days is 191\n",
    "\n",
    "train = dataset.iloc[:-test_size]\n",
    "# y_train_raw = y.iloc[:-test_size]\n",
    "test = dataset.iloc[-test_size:]\n",
    "# y_test_raw = y.iloc[-test_size:]\n",
    "print(train.shape, test.shape)\n",
    "\n",
    "def build_sequences(df, target_labels=['BC'], window=200, stride=200):\n",
    "    # Sanity check to avoid runtime errors\n",
    "    assert window % stride == 0\n",
    "    dataset = []\n",
    "    labels = []\n",
    "    temp_df = df.copy().values\n",
    "    temp_label = df[target_labels].copy().values\n",
    "    padding_len = len(df) % window\n",
    "    \n",
    "    if padding_len != 0:\n",
    "        # Compute padding length\n",
    "        padding_len = window - len(df) % window\n",
    "        padding = np.zeros((padding_len, temp_df.shape[1]), dtype='float32')\n",
    "        temp_df = np.concatenate((padding, temp_df))\n",
    "        padding = np.zeros((padding_len,1), dtype='float32')\n",
    "        #padding = np.zeros((padding_len, temp_label.shape[1]), dtype='float32')\n",
    "        temp_label = np.concatenate((padding, temp_label))\n",
    "        assert len(temp_df) % window == 0\n",
    "\n",
    "    # Build sequences and labels\n",
    "    for i in range(0, len(temp_df) - window + 1, stride):\n",
    "        dataset.append(temp_df[i:i + window])\n",
    "        labels.append(temp_label[i:i + window])\n",
    "\n",
    "    return np.array(dataset), np.array(labels)\n",
    "\n",
    "X_train, y_train = build_sequences(train, window=24, stride=24)\n",
    "X_test, y_test = build_sequences(test, window=24, stride=24)\n",
    "X_train.shape, y_train.shape, X_test.shape, y_test.shape"
   ]
  }
 ],
 "metadata": {
  "colab": {
   "collapsed_sections": [],
   "name": "regression.ipynb",
   "toc_visible": true
  },
  "kernelspec": {
   "display_name": "Python 3",
   "name": "python3"
  },
  "language_info": {
   "codemirror_mode": {
    "name": "ipython",
    "version": 3
   },
   "file_extension": ".py",
   "mimetype": "text/x-python",
   "name": "python",
   "nbconvert_exporter": "python",
   "pygments_lexer": "ipython3",
   "version": "3.9.16"
  }
 },
 "nbformat": 4,
 "nbformat_minor": 0
}
