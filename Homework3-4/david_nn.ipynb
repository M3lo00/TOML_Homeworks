{
 "cells": [
  {
   "cell_type": "code",
   "execution_count": 1,
   "metadata": {},
   "outputs": [],
   "source": [
    "import random\n",
    "import numpy as np\n",
    "import pandas as pd\n",
    "import matplotlib.pyplot as plt\n",
    "from sklearn.ensemble import ExtraTreesRegressor, RandomForestRegressor\n",
    "from sklearn.preprocessing import StandardScaler\n",
    "from sklearn import preprocessing\n",
    "from sklearn.metrics import f1_score\n",
    "from sklearn.model_selection import train_test_split\n",
    "from sklearn import metrics\n",
    "import seaborn as sns\n",
    "from scipy import stats\n",
    "from sklearn.preprocessing import StandardScaler"
   ]
  },
  {
   "cell_type": "code",
   "execution_count": 2,
   "metadata": {},
   "outputs": [
    {
     "data": {
      "text/plain": [
       "'2'"
      ]
     },
     "execution_count": 2,
     "metadata": {},
     "output_type": "execute_result"
    }
   ],
   "source": [
    "import argparse\n",
    "import datetime\n",
    "import os\n",
    "import re\n",
    "os.environ.setdefault(\"TF_CPP_MIN_LOG_LEVEL\", \"2\")  # Report only TF errors by default"
   ]
  },
  {
   "cell_type": "code",
   "execution_count": 3,
   "metadata": {},
   "outputs": [
    {
     "name": "stderr",
     "output_type": "stream",
     "text": [
      "/home/masekda4/anaconda3/envs/toml/lib/python3.11/site-packages/tensorflow_addons/utils/tfa_eol_msg.py:23: UserWarning: \n",
      "\n",
      "TensorFlow Addons (TFA) has ended development and introduction of new features.\n",
      "TFA has entered a minimal maintenance and release mode until a planned end of life in May 2024.\n",
      "Please modify downstream libraries to take dependencies from other repositories in our TensorFlow community (e.g. Keras, Keras-CV, and Keras-NLP). \n",
      "\n",
      "For more information see: https://github.com/tensorflow/addons/issues/2807 \n",
      "\n",
      "  warnings.warn(\n"
     ]
    }
   ],
   "source": [
    "import tensorflow as tf\n",
    "import tensorflow_addons as tfa\n",
    "from tensorflow import keras\n",
    "import typing\n",
    "if typing.TYPE_CHECKING:\n",
    "    from keras.api._v2 import keras"
   ]
  },
  {
   "attachments": {},
   "cell_type": "markdown",
   "metadata": {},
   "source": [
    "# Simple NN"
   ]
  },
  {
   "cell_type": "code",
   "execution_count": 4,
   "metadata": {},
   "outputs": [],
   "source": [
    "seed = 42\n",
    "# Load the CSV file\n",
    "data = pd.read_csv(\"BC-Data-Set.csv\")\n",
    "# Convert the date column to a datetime object\n",
    "data['date'] = pd.to_datetime(data['date'])\n",
    "\n",
    "# Remove any missing values\n",
    "data = data.dropna()\n",
    "\n",
    "# Set the date column as the index of the DataFrame\n",
    "data = data.set_index('date')\n",
    "x_train, x_test, y_train, y_test = train_test_split(data, data.BC, test_size=0.15, random_state=seed, shuffle=True)\n",
    "x_train = x_train.drop(columns=['BC'])\n",
    "x_test = x_test.drop(columns=['BC'])\n",
    "\n",
    "SCALE = True\n",
    "if SCALE:\n",
    "    scaler = StandardScaler()\n",
    "    x_train = scaler.fit_transform(x_train)\n",
    "    x_test = scaler.transform(x_test)"
   ]
  },
  {
   "cell_type": "code",
   "execution_count": 24,
   "metadata": {},
   "outputs": [],
   "source": [
    "HIDDEN_SIZE = 32\n",
    "batch_size = 256\n",
    "\n",
    "x = keras.Input([x_train.shape[-1]])\n",
    "y = keras.layers.Dense(HIDDEN_SIZE, activation=keras.activations.relu)(x)\n",
    "y = keras.layers.Dense(HIDDEN_SIZE, activation=keras.activations.relu)(y)\n",
    "y = keras.layers.Dense(1, activation=None)(y)\n",
    "\n",
    "model = keras.Model(inputs=x, outputs=y)\n",
    "\n",
    "model.compile(\n",
    "        optimizer=keras.optimizers.Adam(learning_rate=1e-3),\n",
    "        loss=keras.losses.mean_squared_error,\n",
    "        metrics=[tfa.metrics.RSquare()],\n",
    "    )"
   ]
  },
  {
   "cell_type": "code",
   "execution_count": 25,
   "metadata": {},
   "outputs": [
    {
     "name": "stdout",
     "output_type": "stream",
     "text": [
      "Model: \"model_2\"\n",
      "_________________________________________________________________\n",
      " Layer (type)                Output Shape              Param #   \n",
      "=================================================================\n",
      " input_3 (InputLayer)        [(None, 12)]              0         \n",
      "                                                                 \n",
      " dense_6 (Dense)             (None, 32)                416       \n",
      "                                                                 \n",
      " dense_7 (Dense)             (None, 32)                1056      \n",
      "                                                                 \n",
      " dense_8 (Dense)             (None, 1)                 33        \n",
      "                                                                 \n",
      "=================================================================\n",
      "Total params: 1,505\n",
      "Trainable params: 1,505\n",
      "Non-trainable params: 0\n",
      "_________________________________________________________________\n"
     ]
    }
   ],
   "source": [
    "model.summary()"
   ]
  },
  {
   "cell_type": "code",
   "execution_count": 26,
   "metadata": {},
   "outputs": [
    {
     "name": "stdout",
     "output_type": "stream",
     "text": [
      "Epoch 1/500\n",
      "12/12 [==============================] - 2s 23ms/step - loss: 1.4465 - r_square: -0.1511 - val_loss: 1.3219 - val_r_square: 0.0621\n",
      "Epoch 2/500\n",
      "12/12 [==============================] - 0s 10ms/step - loss: 1.0419 - r_square: 0.1708 - val_loss: 1.1412 - val_r_square: 0.1903\n",
      "Epoch 3/500\n",
      "12/12 [==============================] - 0s 11ms/step - loss: 0.8790 - r_square: 0.3005 - val_loss: 0.9449 - val_r_square: 0.3296\n",
      "Epoch 4/500\n",
      "12/12 [==============================] - 0s 10ms/step - loss: 0.7515 - r_square: 0.4020 - val_loss: 0.8002 - val_r_square: 0.4323\n",
      "Epoch 5/500\n",
      "12/12 [==============================] - 0s 12ms/step - loss: 0.6589 - r_square: 0.4756 - val_loss: 0.6756 - val_r_square: 0.5207\n",
      "Epoch 6/500\n",
      "12/12 [==============================] - 0s 10ms/step - loss: 0.5923 - r_square: 0.5286 - val_loss: 0.5847 - val_r_square: 0.5852\n",
      "Epoch 7/500\n",
      "12/12 [==============================] - 0s 11ms/step - loss: 0.5403 - r_square: 0.5701 - val_loss: 0.5399 - val_r_square: 0.6170\n",
      "Epoch 8/500\n",
      "12/12 [==============================] - 0s 10ms/step - loss: 0.5011 - r_square: 0.6012 - val_loss: 0.5049 - val_r_square: 0.6418\n",
      "Epoch 9/500\n",
      "12/12 [==============================] - 0s 10ms/step - loss: 0.4742 - r_square: 0.6226 - val_loss: 0.4824 - val_r_square: 0.6577\n",
      "Epoch 10/500\n",
      "12/12 [==============================] - 0s 10ms/step - loss: 0.4537 - r_square: 0.6389 - val_loss: 0.4676 - val_r_square: 0.6683\n",
      "Epoch 11/500\n",
      "12/12 [==============================] - 0s 10ms/step - loss: 0.4374 - r_square: 0.6519 - val_loss: 0.4490 - val_r_square: 0.6815\n",
      "Epoch 12/500\n",
      "12/12 [==============================] - 0s 11ms/step - loss: 0.4225 - r_square: 0.6638 - val_loss: 0.4477 - val_r_square: 0.6824\n",
      "Epoch 13/500\n",
      "12/12 [==============================] - 0s 11ms/step - loss: 0.4090 - r_square: 0.6745 - val_loss: 0.4360 - val_r_square: 0.6907\n",
      "Epoch 14/500\n",
      "12/12 [==============================] - 0s 11ms/step - loss: 0.3975 - r_square: 0.6837 - val_loss: 0.4283 - val_r_square: 0.6961\n",
      "Epoch 15/500\n",
      "12/12 [==============================] - 0s 12ms/step - loss: 0.3880 - r_square: 0.6913 - val_loss: 0.4293 - val_r_square: 0.6954\n",
      "Epoch 16/500\n",
      "12/12 [==============================] - 0s 10ms/step - loss: 0.3786 - r_square: 0.6987 - val_loss: 0.4167 - val_r_square: 0.7044\n",
      "Epoch 17/500\n",
      "12/12 [==============================] - 0s 10ms/step - loss: 0.3705 - r_square: 0.7051 - val_loss: 0.4170 - val_r_square: 0.7041\n",
      "Epoch 18/500\n",
      "12/12 [==============================] - 0s 9ms/step - loss: 0.3638 - r_square: 0.7105 - val_loss: 0.4050 - val_r_square: 0.7126\n",
      "Epoch 19/500\n",
      "12/12 [==============================] - 0s 10ms/step - loss: 0.3575 - r_square: 0.7155 - val_loss: 0.4064 - val_r_square: 0.7116\n",
      "Epoch 20/500\n",
      "12/12 [==============================] - 0s 10ms/step - loss: 0.3512 - r_square: 0.7206 - val_loss: 0.4029 - val_r_square: 0.7141\n",
      "Epoch 21/500\n",
      "12/12 [==============================] - 0s 11ms/step - loss: 0.3465 - r_square: 0.7243 - val_loss: 0.3954 - val_r_square: 0.7194\n",
      "Epoch 22/500\n",
      "12/12 [==============================] - 0s 9ms/step - loss: 0.3412 - r_square: 0.7285 - val_loss: 0.3927 - val_r_square: 0.7214\n",
      "Epoch 23/500\n",
      "12/12 [==============================] - 0s 11ms/step - loss: 0.3369 - r_square: 0.7319 - val_loss: 0.3891 - val_r_square: 0.7240\n",
      "Epoch 24/500\n",
      "12/12 [==============================] - 0s 9ms/step - loss: 0.3330 - r_square: 0.7350 - val_loss: 0.3947 - val_r_square: 0.7200\n",
      "Epoch 25/500\n",
      "12/12 [==============================] - 0s 11ms/step - loss: 0.3298 - r_square: 0.7376 - val_loss: 0.3843 - val_r_square: 0.7273\n",
      "Epoch 26/500\n",
      "12/12 [==============================] - 0s 11ms/step - loss: 0.3253 - r_square: 0.7411 - val_loss: 0.3806 - val_r_square: 0.7300\n",
      "Epoch 27/500\n",
      "12/12 [==============================] - 0s 10ms/step - loss: 0.3223 - r_square: 0.7435 - val_loss: 0.3804 - val_r_square: 0.7301\n",
      "Epoch 28/500\n",
      "12/12 [==============================] - 0s 9ms/step - loss: 0.3179 - r_square: 0.7470 - val_loss: 0.3783 - val_r_square: 0.7316\n",
      "Epoch 29/500\n",
      "12/12 [==============================] - 0s 11ms/step - loss: 0.3153 - r_square: 0.7490 - val_loss: 0.3775 - val_r_square: 0.7322\n",
      "Epoch 30/500\n",
      "12/12 [==============================] - 0s 9ms/step - loss: 0.3129 - r_square: 0.7510 - val_loss: 0.3701 - val_r_square: 0.7374\n",
      "Epoch 31/500\n",
      "12/12 [==============================] - 0s 11ms/step - loss: 0.3096 - r_square: 0.7536 - val_loss: 0.3713 - val_r_square: 0.7366\n",
      "Epoch 32/500\n",
      "12/12 [==============================] - 0s 9ms/step - loss: 0.3081 - r_square: 0.7548 - val_loss: 0.3702 - val_r_square: 0.7373\n",
      "Epoch 33/500\n",
      "12/12 [==============================] - 0s 11ms/step - loss: 0.3054 - r_square: 0.7570 - val_loss: 0.3714 - val_r_square: 0.7365\n",
      "Epoch 34/500\n",
      "12/12 [==============================] - 0s 9ms/step - loss: 0.3022 - r_square: 0.7595 - val_loss: 0.3668 - val_r_square: 0.7397\n",
      "Epoch 35/500\n",
      "12/12 [==============================] - 0s 10ms/step - loss: 0.3001 - r_square: 0.7612 - val_loss: 0.3692 - val_r_square: 0.7380\n",
      "Epoch 36/500\n",
      "12/12 [==============================] - 0s 10ms/step - loss: 0.2970 - r_square: 0.7636 - val_loss: 0.3631 - val_r_square: 0.7424\n",
      "Epoch 37/500\n",
      "12/12 [==============================] - 0s 9ms/step - loss: 0.2970 - r_square: 0.7636 - val_loss: 0.3627 - val_r_square: 0.7427\n",
      "Epoch 38/500\n",
      "12/12 [==============================] - 0s 11ms/step - loss: 0.2948 - r_square: 0.7654 - val_loss: 0.3544 - val_r_square: 0.7485\n",
      "Epoch 39/500\n",
      "12/12 [==============================] - 0s 10ms/step - loss: 0.2929 - r_square: 0.7669 - val_loss: 0.3621 - val_r_square: 0.7431\n",
      "Epoch 40/500\n",
      "12/12 [==============================] - 0s 11ms/step - loss: 0.2892 - r_square: 0.7698 - val_loss: 0.3546 - val_r_square: 0.7484\n",
      "Epoch 41/500\n",
      "12/12 [==============================] - 0s 11ms/step - loss: 0.2884 - r_square: 0.7705 - val_loss: 0.3569 - val_r_square: 0.7468\n",
      "Epoch 42/500\n",
      "12/12 [==============================] - 0s 10ms/step - loss: 0.2859 - r_square: 0.7724 - val_loss: 0.3467 - val_r_square: 0.7540\n",
      "Epoch 43/500\n",
      "12/12 [==============================] - 0s 9ms/step - loss: 0.2854 - r_square: 0.7729 - val_loss: 0.3625 - val_r_square: 0.7428\n",
      "Epoch 44/500\n",
      "12/12 [==============================] - 0s 10ms/step - loss: 0.2851 - r_square: 0.7731 - val_loss: 0.3606 - val_r_square: 0.7442\n",
      "Epoch 45/500\n",
      "12/12 [==============================] - 0s 9ms/step - loss: 0.2813 - r_square: 0.7761 - val_loss: 0.3496 - val_r_square: 0.7520\n",
      "Epoch 46/500\n",
      "12/12 [==============================] - 0s 10ms/step - loss: 0.2794 - r_square: 0.7777 - val_loss: 0.3463 - val_r_square: 0.7543\n",
      "Epoch 47/500\n",
      "12/12 [==============================] - 0s 12ms/step - loss: 0.2773 - r_square: 0.7793 - val_loss: 0.3481 - val_r_square: 0.7530\n",
      "Epoch 48/500\n",
      "12/12 [==============================] - 0s 11ms/step - loss: 0.2758 - r_square: 0.7805 - val_loss: 0.3500 - val_r_square: 0.7517\n",
      "Epoch 49/500\n",
      "12/12 [==============================] - 0s 11ms/step - loss: 0.2747 - r_square: 0.7814 - val_loss: 0.3455 - val_r_square: 0.7549\n",
      "Epoch 50/500\n",
      "12/12 [==============================] - 0s 11ms/step - loss: 0.2727 - r_square: 0.7830 - val_loss: 0.3433 - val_r_square: 0.7565\n",
      "Epoch 51/500\n",
      "12/12 [==============================] - 0s 10ms/step - loss: 0.2706 - r_square: 0.7847 - val_loss: 0.3436 - val_r_square: 0.7562\n",
      "Epoch 52/500\n",
      "12/12 [==============================] - 0s 11ms/step - loss: 0.2695 - r_square: 0.7855 - val_loss: 0.3399 - val_r_square: 0.7588\n",
      "Epoch 53/500\n",
      "12/12 [==============================] - 0s 10ms/step - loss: 0.2686 - r_square: 0.7862 - val_loss: 0.3434 - val_r_square: 0.7564\n",
      "Epoch 54/500\n",
      "12/12 [==============================] - 0s 10ms/step - loss: 0.2667 - r_square: 0.7878 - val_loss: 0.3419 - val_r_square: 0.7574\n",
      "Epoch 55/500\n",
      "12/12 [==============================] - 0s 9ms/step - loss: 0.2656 - r_square: 0.7886 - val_loss: 0.3354 - val_r_square: 0.7621\n",
      "Epoch 56/500\n",
      "12/12 [==============================] - 0s 11ms/step - loss: 0.2647 - r_square: 0.7893 - val_loss: 0.3416 - val_r_square: 0.7577\n",
      "Epoch 57/500\n",
      "12/12 [==============================] - 0s 10ms/step - loss: 0.2629 - r_square: 0.7908 - val_loss: 0.3302 - val_r_square: 0.7657\n",
      "Epoch 58/500\n",
      "12/12 [==============================] - 0s 11ms/step - loss: 0.2618 - r_square: 0.7917 - val_loss: 0.3347 - val_r_square: 0.7625\n",
      "Epoch 59/500\n",
      "12/12 [==============================] - 0s 10ms/step - loss: 0.2609 - r_square: 0.7924 - val_loss: 0.3324 - val_r_square: 0.7642\n",
      "Epoch 60/500\n",
      "12/12 [==============================] - 0s 11ms/step - loss: 0.2605 - r_square: 0.7927 - val_loss: 0.3236 - val_r_square: 0.7704\n",
      "Epoch 61/500\n",
      "12/12 [==============================] - 0s 10ms/step - loss: 0.2591 - r_square: 0.7938 - val_loss: 0.3531 - val_r_square: 0.7495\n",
      "Epoch 62/500\n",
      "12/12 [==============================] - 0s 10ms/step - loss: 0.2570 - r_square: 0.7955 - val_loss: 0.3278 - val_r_square: 0.7674\n",
      "Epoch 63/500\n",
      "12/12 [==============================] - 0s 9ms/step - loss: 0.2579 - r_square: 0.7948 - val_loss: 0.3442 - val_r_square: 0.7558\n",
      "Epoch 64/500\n",
      "12/12 [==============================] - 0s 10ms/step - loss: 0.2548 - r_square: 0.7972 - val_loss: 0.3275 - val_r_square: 0.7677\n",
      "Epoch 65/500\n",
      "12/12 [==============================] - 0s 10ms/step - loss: 0.2534 - r_square: 0.7984 - val_loss: 0.3307 - val_r_square: 0.7654\n",
      "Epoch 66/500\n",
      "12/12 [==============================] - 0s 10ms/step - loss: 0.2531 - r_square: 0.7986 - val_loss: 0.3381 - val_r_square: 0.7601\n",
      "Epoch 67/500\n",
      "12/12 [==============================] - 0s 10ms/step - loss: 0.2509 - r_square: 0.8003 - val_loss: 0.3304 - val_r_square: 0.7656\n",
      "Epoch 68/500\n",
      "12/12 [==============================] - 0s 11ms/step - loss: 0.2529 - r_square: 0.7988 - val_loss: 0.3206 - val_r_square: 0.7726\n",
      "Epoch 69/500\n",
      "12/12 [==============================] - 0s 10ms/step - loss: 0.2487 - r_square: 0.8021 - val_loss: 0.3215 - val_r_square: 0.7719\n",
      "Epoch 70/500\n",
      "12/12 [==============================] - 0s 11ms/step - loss: 0.2468 - r_square: 0.8036 - val_loss: 0.3276 - val_r_square: 0.7676\n",
      "Epoch 71/500\n",
      "12/12 [==============================] - 0s 9ms/step - loss: 0.2452 - r_square: 0.8048 - val_loss: 0.3263 - val_r_square: 0.7685\n",
      "Epoch 72/500\n",
      "12/12 [==============================] - 0s 10ms/step - loss: 0.2447 - r_square: 0.8053 - val_loss: 0.3301 - val_r_square: 0.7658\n",
      "Epoch 73/500\n",
      "12/12 [==============================] - 0s 10ms/step - loss: 0.2432 - r_square: 0.8065 - val_loss: 0.3261 - val_r_square: 0.7686\n",
      "Epoch 74/500\n",
      "12/12 [==============================] - 0s 10ms/step - loss: 0.2428 - r_square: 0.8068 - val_loss: 0.3218 - val_r_square: 0.7717\n",
      "Epoch 75/500\n",
      "12/12 [==============================] - 0s 9ms/step - loss: 0.2410 - r_square: 0.8082 - val_loss: 0.3217 - val_r_square: 0.7718\n",
      "Epoch 76/500\n",
      "12/12 [==============================] - 0s 11ms/step - loss: 0.2399 - r_square: 0.8091 - val_loss: 0.3209 - val_r_square: 0.7724\n",
      "Epoch 77/500\n",
      "12/12 [==============================] - 0s 8ms/step - loss: 0.2402 - r_square: 0.8088 - val_loss: 0.3203 - val_r_square: 0.7728\n",
      "Epoch 78/500\n",
      "12/12 [==============================] - 0s 10ms/step - loss: 0.2377 - r_square: 0.8108 - val_loss: 0.3214 - val_r_square: 0.7720\n",
      "Epoch 79/500\n",
      "12/12 [==============================] - 0s 8ms/step - loss: 0.2380 - r_square: 0.8106 - val_loss: 0.3252 - val_r_square: 0.7693\n",
      "Epoch 80/500\n",
      "12/12 [==============================] - 0s 8ms/step - loss: 0.2367 - r_square: 0.8117 - val_loss: 0.3226 - val_r_square: 0.7711\n",
      "Epoch 81/500\n",
      "12/12 [==============================] - 0s 9ms/step - loss: 0.2372 - r_square: 0.8112 - val_loss: 0.3098 - val_r_square: 0.7802\n",
      "Epoch 82/500\n",
      "12/12 [==============================] - 0s 10ms/step - loss: 0.2365 - r_square: 0.8118 - val_loss: 0.3288 - val_r_square: 0.7667\n",
      "Epoch 83/500\n",
      "12/12 [==============================] - 0s 9ms/step - loss: 0.2344 - r_square: 0.8134 - val_loss: 0.3231 - val_r_square: 0.7708\n",
      "Epoch 84/500\n",
      "12/12 [==============================] - 0s 9ms/step - loss: 0.2335 - r_square: 0.8142 - val_loss: 0.3098 - val_r_square: 0.7802\n",
      "Epoch 85/500\n",
      "12/12 [==============================] - 0s 10ms/step - loss: 0.2329 - r_square: 0.8147 - val_loss: 0.3135 - val_r_square: 0.7776\n",
      "Epoch 86/500\n",
      "12/12 [==============================] - 0s 10ms/step - loss: 0.2346 - r_square: 0.8133 - val_loss: 0.3084 - val_r_square: 0.7812\n",
      "Epoch 87/500\n",
      "12/12 [==============================] - 0s 11ms/step - loss: 0.2323 - r_square: 0.8151 - val_loss: 0.3397 - val_r_square: 0.7590\n",
      "Epoch 88/500\n",
      "12/12 [==============================] - 0s 11ms/step - loss: 0.2324 - r_square: 0.8151 - val_loss: 0.3215 - val_r_square: 0.7719\n",
      "Epoch 89/500\n",
      "12/12 [==============================] - 0s 10ms/step - loss: 0.2289 - r_square: 0.8178 - val_loss: 0.3094 - val_r_square: 0.7805\n",
      "Epoch 90/500\n",
      "12/12 [==============================] - 0s 10ms/step - loss: 0.2275 - r_square: 0.8190 - val_loss: 0.3144 - val_r_square: 0.7769\n",
      "Epoch 91/500\n",
      "12/12 [==============================] - 0s 9ms/step - loss: 0.2262 - r_square: 0.8200 - val_loss: 0.3231 - val_r_square: 0.7707\n",
      "Epoch 92/500\n",
      "12/12 [==============================] - 0s 10ms/step - loss: 0.2267 - r_square: 0.8196 - val_loss: 0.3106 - val_r_square: 0.7796\n",
      "Epoch 93/500\n",
      "12/12 [==============================] - 0s 9ms/step - loss: 0.2245 - r_square: 0.8213 - val_loss: 0.3107 - val_r_square: 0.7796\n",
      "Epoch 94/500\n",
      "12/12 [==============================] - 0s 11ms/step - loss: 0.2230 - r_square: 0.8226 - val_loss: 0.3051 - val_r_square: 0.7835\n",
      "Epoch 95/500\n",
      "12/12 [==============================] - 0s 9ms/step - loss: 0.2240 - r_square: 0.8217 - val_loss: 0.3206 - val_r_square: 0.7726\n",
      "Epoch 96/500\n",
      "12/12 [==============================] - 0s 12ms/step - loss: 0.2231 - r_square: 0.8224 - val_loss: 0.3115 - val_r_square: 0.7790\n",
      "Epoch 97/500\n",
      "12/12 [==============================] - 0s 10ms/step - loss: 0.2229 - r_square: 0.8226 - val_loss: 0.3228 - val_r_square: 0.7710\n",
      "Epoch 98/500\n",
      "12/12 [==============================] - 0s 11ms/step - loss: 0.2218 - r_square: 0.8235 - val_loss: 0.3021 - val_r_square: 0.7857\n",
      "Epoch 99/500\n",
      "12/12 [==============================] - 0s 9ms/step - loss: 0.2192 - r_square: 0.8256 - val_loss: 0.3130 - val_r_square: 0.7779\n",
      "Epoch 100/500\n",
      "12/12 [==============================] - 0s 10ms/step - loss: 0.2195 - r_square: 0.8253 - val_loss: 0.3012 - val_r_square: 0.7863\n",
      "Epoch 101/500\n",
      "12/12 [==============================] - 0s 9ms/step - loss: 0.2195 - r_square: 0.8253 - val_loss: 0.3087 - val_r_square: 0.7810\n",
      "Epoch 102/500\n",
      "12/12 [==============================] - 0s 10ms/step - loss: 0.2167 - r_square: 0.8276 - val_loss: 0.3016 - val_r_square: 0.7860\n",
      "Epoch 103/500\n",
      "12/12 [==============================] - 0s 9ms/step - loss: 0.2170 - r_square: 0.8273 - val_loss: 0.3062 - val_r_square: 0.7828\n",
      "Epoch 104/500\n",
      "12/12 [==============================] - 0s 11ms/step - loss: 0.2160 - r_square: 0.8281 - val_loss: 0.3066 - val_r_square: 0.7824\n",
      "Epoch 105/500\n",
      "12/12 [==============================] - 0s 10ms/step - loss: 0.2159 - r_square: 0.8282 - val_loss: 0.2949 - val_r_square: 0.7908\n",
      "Epoch 106/500\n",
      "12/12 [==============================] - 0s 11ms/step - loss: 0.2152 - r_square: 0.8288 - val_loss: 0.3064 - val_r_square: 0.7826\n",
      "Epoch 107/500\n",
      "12/12 [==============================] - 0s 10ms/step - loss: 0.2130 - r_square: 0.8305 - val_loss: 0.3035 - val_r_square: 0.7847\n",
      "Epoch 108/500\n",
      "12/12 [==============================] - 0s 12ms/step - loss: 0.2131 - r_square: 0.8304 - val_loss: 0.3100 - val_r_square: 0.7801\n",
      "Epoch 109/500\n",
      "12/12 [==============================] - 0s 9ms/step - loss: 0.2137 - r_square: 0.8299 - val_loss: 0.3030 - val_r_square: 0.7850\n",
      "Epoch 110/500\n",
      "12/12 [==============================] - 0s 10ms/step - loss: 0.2140 - r_square: 0.8297 - val_loss: 0.3398 - val_r_square: 0.7589\n",
      "Epoch 111/500\n",
      "12/12 [==============================] - 0s 9ms/step - loss: 0.2141 - r_square: 0.8296 - val_loss: 0.2954 - val_r_square: 0.7904\n",
      "Epoch 112/500\n",
      "12/12 [==============================] - 0s 10ms/step - loss: 0.2122 - r_square: 0.8312 - val_loss: 0.2927 - val_r_square: 0.7923\n",
      "Epoch 113/500\n",
      "12/12 [==============================] - 0s 9ms/step - loss: 0.2156 - r_square: 0.8284 - val_loss: 0.2992 - val_r_square: 0.7877\n",
      "Epoch 114/500\n",
      "12/12 [==============================] - 0s 12ms/step - loss: 0.2085 - r_square: 0.8341 - val_loss: 0.3192 - val_r_square: 0.7735\n",
      "Epoch 115/500\n",
      "12/12 [==============================] - 0s 11ms/step - loss: 0.2093 - r_square: 0.8334 - val_loss: 0.2938 - val_r_square: 0.7915\n",
      "Epoch 116/500\n",
      "12/12 [==============================] - 0s 11ms/step - loss: 0.2065 - r_square: 0.8356 - val_loss: 0.3091 - val_r_square: 0.7807\n",
      "Epoch 117/500\n",
      "12/12 [==============================] - 0s 9ms/step - loss: 0.2070 - r_square: 0.8352 - val_loss: 0.2871 - val_r_square: 0.7963\n",
      "Epoch 118/500\n",
      "12/12 [==============================] - 0s 11ms/step - loss: 0.2068 - r_square: 0.8354 - val_loss: 0.3048 - val_r_square: 0.7837\n",
      "Epoch 119/500\n",
      "12/12 [==============================] - 0s 8ms/step - loss: 0.2052 - r_square: 0.8367 - val_loss: 0.3032 - val_r_square: 0.7849\n",
      "Epoch 120/500\n",
      "12/12 [==============================] - 0s 11ms/step - loss: 0.2044 - r_square: 0.8373 - val_loss: 0.3003 - val_r_square: 0.7869\n",
      "Epoch 121/500\n",
      "12/12 [==============================] - 0s 9ms/step - loss: 0.2030 - r_square: 0.8384 - val_loss: 0.2909 - val_r_square: 0.7936\n",
      "Epoch 122/500\n",
      "12/12 [==============================] - 0s 9ms/step - loss: 0.2017 - r_square: 0.8395 - val_loss: 0.3019 - val_r_square: 0.7858\n",
      "Epoch 123/500\n",
      "12/12 [==============================] - 0s 10ms/step - loss: 0.2022 - r_square: 0.8391 - val_loss: 0.3030 - val_r_square: 0.7850\n",
      "Epoch 124/500\n",
      "12/12 [==============================] - 0s 9ms/step - loss: 0.2013 - r_square: 0.8398 - val_loss: 0.3203 - val_r_square: 0.7728\n",
      "Epoch 125/500\n",
      "12/12 [==============================] - 0s 11ms/step - loss: 0.2007 - r_square: 0.8403 - val_loss: 0.2805 - val_r_square: 0.8010\n",
      "Epoch 126/500\n",
      "12/12 [==============================] - 0s 10ms/step - loss: 0.2043 - r_square: 0.8374 - val_loss: 0.2932 - val_r_square: 0.7920\n",
      "Epoch 127/500\n",
      "12/12 [==============================] - 0s 11ms/step - loss: 0.2006 - r_square: 0.8403 - val_loss: 0.3089 - val_r_square: 0.7808\n",
      "Epoch 128/500\n",
      "12/12 [==============================] - 0s 12ms/step - loss: 0.1991 - r_square: 0.8415 - val_loss: 0.2872 - val_r_square: 0.7962\n",
      "Epoch 129/500\n",
      "12/12 [==============================] - 0s 10ms/step - loss: 0.1975 - r_square: 0.8428 - val_loss: 0.2887 - val_r_square: 0.7952\n",
      "Epoch 130/500\n",
      "12/12 [==============================] - 0s 10ms/step - loss: 0.1973 - r_square: 0.8430 - val_loss: 0.2921 - val_r_square: 0.7928\n",
      "Epoch 131/500\n",
      "12/12 [==============================] - 0s 11ms/step - loss: 0.1965 - r_square: 0.8436 - val_loss: 0.2871 - val_r_square: 0.7963\n",
      "Epoch 132/500\n",
      "12/12 [==============================] - 0s 11ms/step - loss: 0.1963 - r_square: 0.8438 - val_loss: 0.2977 - val_r_square: 0.7888\n",
      "Epoch 133/500\n",
      "12/12 [==============================] - 0s 8ms/step - loss: 0.1946 - r_square: 0.8452 - val_loss: 0.2849 - val_r_square: 0.7979\n",
      "Epoch 134/500\n",
      "12/12 [==============================] - 0s 12ms/step - loss: 0.1947 - r_square: 0.8451 - val_loss: 0.2957 - val_r_square: 0.7902\n",
      "Epoch 135/500\n",
      "12/12 [==============================] - 0s 9ms/step - loss: 0.1940 - r_square: 0.8456 - val_loss: 0.2938 - val_r_square: 0.7915\n",
      "Epoch 136/500\n",
      "12/12 [==============================] - 0s 11ms/step - loss: 0.1924 - r_square: 0.8469 - val_loss: 0.2933 - val_r_square: 0.7919\n",
      "Epoch 137/500\n",
      "12/12 [==============================] - 0s 10ms/step - loss: 0.1906 - r_square: 0.8483 - val_loss: 0.2839 - val_r_square: 0.7986\n",
      "Epoch 138/500\n",
      "12/12 [==============================] - 0s 10ms/step - loss: 0.1907 - r_square: 0.8482 - val_loss: 0.2952 - val_r_square: 0.7906\n",
      "Epoch 139/500\n",
      "12/12 [==============================] - 0s 10ms/step - loss: 0.1899 - r_square: 0.8489 - val_loss: 0.2832 - val_r_square: 0.7991\n",
      "Epoch 140/500\n",
      "12/12 [==============================] - 0s 10ms/step - loss: 0.1891 - r_square: 0.8495 - val_loss: 0.2976 - val_r_square: 0.7888\n",
      "Epoch 141/500\n",
      "12/12 [==============================] - 0s 9ms/step - loss: 0.1904 - r_square: 0.8485 - val_loss: 0.2778 - val_r_square: 0.8029\n",
      "Epoch 142/500\n",
      "12/12 [==============================] - 0s 9ms/step - loss: 0.1888 - r_square: 0.8498 - val_loss: 0.2937 - val_r_square: 0.7916\n",
      "Epoch 143/500\n",
      "12/12 [==============================] - 0s 10ms/step - loss: 0.1881 - r_square: 0.8503 - val_loss: 0.2931 - val_r_square: 0.7921\n",
      "Epoch 144/500\n",
      "12/12 [==============================] - 0s 9ms/step - loss: 0.1867 - r_square: 0.8515 - val_loss: 0.2929 - val_r_square: 0.7922\n",
      "Epoch 145/500\n",
      "12/12 [==============================] - 0s 11ms/step - loss: 0.1861 - r_square: 0.8519 - val_loss: 0.2865 - val_r_square: 0.7968\n",
      "Epoch 146/500\n",
      "12/12 [==============================] - 0s 9ms/step - loss: 0.1870 - r_square: 0.8512 - val_loss: 0.2837 - val_r_square: 0.7987\n",
      "Epoch 147/500\n",
      "12/12 [==============================] - 0s 12ms/step - loss: 0.1866 - r_square: 0.8515 - val_loss: 0.3100 - val_r_square: 0.7800\n",
      "Epoch 148/500\n",
      "12/12 [==============================] - 0s 10ms/step - loss: 0.1858 - r_square: 0.8522 - val_loss: 0.3080 - val_r_square: 0.7815\n",
      "Epoch 149/500\n",
      "12/12 [==============================] - 0s 11ms/step - loss: 0.1874 - r_square: 0.8509 - val_loss: 0.2851 - val_r_square: 0.7977\n",
      "Epoch 150/500\n",
      "12/12 [==============================] - 0s 9ms/step - loss: 0.1867 - r_square: 0.8515 - val_loss: 0.2901 - val_r_square: 0.7942\n",
      "Epoch 151/500\n",
      "12/12 [==============================] - 0s 10ms/step - loss: 0.1852 - r_square: 0.8526 - val_loss: 0.2793 - val_r_square: 0.8019\n",
      "Epoch 152/500\n",
      "12/12 [==============================] - 0s 9ms/step - loss: 0.1851 - r_square: 0.8527 - val_loss: 0.2842 - val_r_square: 0.7984\n",
      "Epoch 153/500\n",
      "12/12 [==============================] - 0s 10ms/step - loss: 0.1825 - r_square: 0.8548 - val_loss: 0.2895 - val_r_square: 0.7946\n",
      "Epoch 154/500\n",
      "12/12 [==============================] - 0s 10ms/step - loss: 0.1815 - r_square: 0.8556 - val_loss: 0.2849 - val_r_square: 0.7978\n",
      "Epoch 155/500\n",
      "12/12 [==============================] - 0s 10ms/step - loss: 0.1817 - r_square: 0.8554 - val_loss: 0.3096 - val_r_square: 0.7803\n",
      "Epoch 156/500\n",
      "12/12 [==============================] - 0s 10ms/step - loss: 0.1807 - r_square: 0.8562 - val_loss: 0.2826 - val_r_square: 0.7995\n",
      "Epoch 157/500\n",
      "12/12 [==============================] - 0s 10ms/step - loss: 0.1802 - r_square: 0.8566 - val_loss: 0.3008 - val_r_square: 0.7866\n",
      "Epoch 158/500\n",
      "12/12 [==============================] - 0s 10ms/step - loss: 0.1803 - r_square: 0.8565 - val_loss: 0.2777 - val_r_square: 0.8030\n",
      "Epoch 159/500\n",
      "12/12 [==============================] - 0s 10ms/step - loss: 0.1792 - r_square: 0.8574 - val_loss: 0.2810 - val_r_square: 0.8006\n",
      "Epoch 160/500\n",
      "12/12 [==============================] - 0s 10ms/step - loss: 0.1790 - r_square: 0.8575 - val_loss: 0.2964 - val_r_square: 0.7897\n",
      "Epoch 161/500\n",
      "12/12 [==============================] - 0s 10ms/step - loss: 0.1776 - r_square: 0.8587 - val_loss: 0.2904 - val_r_square: 0.7940\n",
      "Epoch 162/500\n",
      "12/12 [==============================] - 0s 10ms/step - loss: 0.1775 - r_square: 0.8587 - val_loss: 0.3076 - val_r_square: 0.7818\n",
      "Epoch 163/500\n",
      "12/12 [==============================] - 0s 9ms/step - loss: 0.1780 - r_square: 0.8584 - val_loss: 0.2835 - val_r_square: 0.7989\n",
      "Epoch 164/500\n",
      "12/12 [==============================] - 0s 10ms/step - loss: 0.1772 - r_square: 0.8590 - val_loss: 0.2859 - val_r_square: 0.7972\n",
      "Epoch 165/500\n",
      "12/12 [==============================] - 0s 10ms/step - loss: 0.1757 - r_square: 0.8601 - val_loss: 0.2844 - val_r_square: 0.7982\n",
      "Epoch 166/500\n",
      "12/12 [==============================] - 0s 10ms/step - loss: 0.1756 - r_square: 0.8603 - val_loss: 0.2919 - val_r_square: 0.7929\n",
      "Epoch 167/500\n",
      "12/12 [==============================] - 0s 9ms/step - loss: 0.1757 - r_square: 0.8602 - val_loss: 0.2852 - val_r_square: 0.7977\n",
      "Epoch 168/500\n",
      "12/12 [==============================] - 0s 10ms/step - loss: 0.1748 - r_square: 0.8609 - val_loss: 0.2834 - val_r_square: 0.7989\n",
      "Epoch 169/500\n",
      "12/12 [==============================] - 0s 10ms/step - loss: 0.1758 - r_square: 0.8601 - val_loss: 0.2772 - val_r_square: 0.8033\n",
      "Epoch 170/500\n",
      "12/12 [==============================] - 0s 10ms/step - loss: 0.1733 - r_square: 0.8621 - val_loss: 0.2866 - val_r_square: 0.7967\n",
      "Epoch 171/500\n",
      "12/12 [==============================] - 0s 10ms/step - loss: 0.1740 - r_square: 0.8615 - val_loss: 0.3011 - val_r_square: 0.7863\n",
      "Epoch 172/500\n",
      "12/12 [==============================] - 0s 9ms/step - loss: 0.1750 - r_square: 0.8607 - val_loss: 0.2887 - val_r_square: 0.7952\n",
      "Epoch 173/500\n",
      "12/12 [==============================] - 0s 11ms/step - loss: 0.1709 - r_square: 0.8640 - val_loss: 0.2839 - val_r_square: 0.7986\n",
      "Epoch 174/500\n",
      "12/12 [==============================] - 0s 9ms/step - loss: 0.1701 - r_square: 0.8646 - val_loss: 0.2936 - val_r_square: 0.7917\n",
      "Epoch 175/500\n",
      "12/12 [==============================] - 0s 9ms/step - loss: 0.1707 - r_square: 0.8642 - val_loss: 0.2873 - val_r_square: 0.7961\n",
      "Epoch 176/500\n",
      "12/12 [==============================] - 0s 10ms/step - loss: 0.1708 - r_square: 0.8641 - val_loss: 0.2838 - val_r_square: 0.7986\n",
      "Epoch 177/500\n",
      "12/12 [==============================] - 0s 9ms/step - loss: 0.1715 - r_square: 0.8635 - val_loss: 0.2924 - val_r_square: 0.7925\n",
      "Epoch 178/500\n",
      "12/12 [==============================] - 0s 9ms/step - loss: 0.1694 - r_square: 0.8652 - val_loss: 0.2872 - val_r_square: 0.7963\n",
      "Epoch 179/500\n",
      "12/12 [==============================] - 0s 10ms/step - loss: 0.1682 - r_square: 0.8661 - val_loss: 0.3114 - val_r_square: 0.7791\n",
      "Epoch 180/500\n",
      "12/12 [==============================] - 0s 9ms/step - loss: 0.1679 - r_square: 0.8664 - val_loss: 0.2837 - val_r_square: 0.7987\n",
      "Epoch 181/500\n",
      "12/12 [==============================] - 0s 10ms/step - loss: 0.1740 - r_square: 0.8616 - val_loss: 0.2789 - val_r_square: 0.8021\n",
      "Epoch 182/500\n",
      "12/12 [==============================] - 0s 12ms/step - loss: 0.1696 - r_square: 0.8650 - val_loss: 0.2757 - val_r_square: 0.8044\n",
      "Epoch 183/500\n",
      "12/12 [==============================] - 0s 10ms/step - loss: 0.1691 - r_square: 0.8654 - val_loss: 0.2864 - val_r_square: 0.7968\n",
      "Epoch 184/500\n",
      "12/12 [==============================] - 0s 10ms/step - loss: 0.1665 - r_square: 0.8675 - val_loss: 0.2877 - val_r_square: 0.7959\n",
      "Epoch 185/500\n",
      "12/12 [==============================] - 0s 10ms/step - loss: 0.1664 - r_square: 0.8676 - val_loss: 0.3013 - val_r_square: 0.7862\n",
      "Epoch 186/500\n",
      "12/12 [==============================] - 0s 10ms/step - loss: 0.1650 - r_square: 0.8687 - val_loss: 0.2877 - val_r_square: 0.7959\n",
      "Epoch 187/500\n",
      "12/12 [==============================] - 0s 9ms/step - loss: 0.1652 - r_square: 0.8685 - val_loss: 0.2937 - val_r_square: 0.7917\n",
      "Epoch 188/500\n",
      "12/12 [==============================] - 0s 9ms/step - loss: 0.1655 - r_square: 0.8683 - val_loss: 0.3029 - val_r_square: 0.7851\n",
      "Epoch 189/500\n",
      "12/12 [==============================] - 0s 9ms/step - loss: 0.1644 - r_square: 0.8691 - val_loss: 0.2879 - val_r_square: 0.7957\n",
      "Epoch 190/500\n",
      "12/12 [==============================] - 0s 10ms/step - loss: 0.1648 - r_square: 0.8689 - val_loss: 0.3074 - val_r_square: 0.7819\n",
      "Epoch 191/500\n",
      "12/12 [==============================] - 0s 9ms/step - loss: 0.1631 - r_square: 0.8702 - val_loss: 0.2882 - val_r_square: 0.7955\n",
      "Epoch 192/500\n",
      "12/12 [==============================] - 0s 10ms/step - loss: 0.1637 - r_square: 0.8697 - val_loss: 0.2998 - val_r_square: 0.7873\n",
      "Epoch 193/500\n",
      "12/12 [==============================] - 0s 9ms/step - loss: 0.1624 - r_square: 0.8708 - val_loss: 0.3025 - val_r_square: 0.7854\n",
      "Epoch 194/500\n",
      "12/12 [==============================] - 0s 10ms/step - loss: 0.1626 - r_square: 0.8706 - val_loss: 0.3104 - val_r_square: 0.7798\n",
      "Epoch 195/500\n",
      "12/12 [==============================] - 0s 9ms/step - loss: 0.1648 - r_square: 0.8689 - val_loss: 0.3053 - val_r_square: 0.7834\n",
      "Epoch 196/500\n",
      "12/12 [==============================] - 0s 11ms/step - loss: 0.1639 - r_square: 0.8695 - val_loss: 0.2847 - val_r_square: 0.7980\n",
      "Epoch 197/500\n",
      "12/12 [==============================] - 0s 9ms/step - loss: 0.1600 - r_square: 0.8727 - val_loss: 0.2922 - val_r_square: 0.7927\n",
      "Epoch 198/500\n",
      "12/12 [==============================] - 0s 10ms/step - loss: 0.1604 - r_square: 0.8724 - val_loss: 0.2810 - val_r_square: 0.8006\n",
      "Epoch 199/500\n",
      "12/12 [==============================] - 0s 9ms/step - loss: 0.1618 - r_square: 0.8712 - val_loss: 0.2805 - val_r_square: 0.8010\n",
      "Epoch 200/500\n",
      "12/12 [==============================] - 0s 10ms/step - loss: 0.1611 - r_square: 0.8718 - val_loss: 0.2824 - val_r_square: 0.7997\n",
      "Epoch 201/500\n",
      "12/12 [==============================] - 0s 10ms/step - loss: 0.1601 - r_square: 0.8726 - val_loss: 0.2844 - val_r_square: 0.7982\n",
      "Epoch 202/500\n",
      "12/12 [==============================] - 0s 12ms/step - loss: 0.1645 - r_square: 0.8691 - val_loss: 0.2887 - val_r_square: 0.7952\n"
     ]
    }
   ],
   "source": [
    "history = model.fit(\n",
    "    x = x_train,\n",
    "    y = y_train,\n",
    "    batch_size = batch_size,\n",
    "    epochs = 500,\n",
    "    validation_split=0.15,\n",
    "    callbacks = [\n",
    "        tf.keras.callbacks.EarlyStopping(monitor='val_loss', mode='min', patience=20, restore_best_weights=True),\n",
    "        # tf.keras.callbacks.ReduceLROnPlateau(monitor='val_loss', mode='min', patience=10, factor=0.1, min_lr=1e-5)\n",
    "    ]\n",
    ")"
   ]
  },
  {
   "cell_type": "code",
   "execution_count": 27,
   "metadata": {},
   "outputs": [
    {
     "data": {
      "image/png": "[encoded data removed]",
      "text/plain": [
       "<Figure size 640x480 with 1 Axes>"
      ]
     },
     "metadata": {},
     "output_type": "display_data"
    }
   ],
   "source": [
    "plt.ylim(0, 1)\n",
    "plt.suptitle(f'RMSE')\n",
    "plt.plot(history.history['loss'], label='train')\n",
    "plt.plot(history.history['val_loss'], label='val')\n",
    "plt.legend()\n",
    "plt.show()"
   ]
  },
  {
   "cell_type": "code",
   "execution_count": 31,
   "metadata": {},
   "outputs": [
    {
     "data": {
      "text/plain": [
       "0.2756626605987549"
      ]
     },
     "execution_count": 31,
     "metadata": {},
     "output_type": "execute_result"
    }
   ],
   "source": [
    "val_rmse = min(history.history['val_loss'])\n",
    "val_rmse"
   ]
  },
  {
   "cell_type": "code",
   "execution_count": 32,
   "metadata": {},
   "outputs": [
    {
     "data": {
      "image/png": "[encoded data removed]",
      "text/plain": [
       "<Figure size 640x480 with 1 Axes>"
      ]
     },
     "metadata": {},
     "output_type": "display_data"
    }
   ],
   "source": [
    "plt.suptitle(f'R2')\n",
    "plt.plot(history.history['r_square'], label='train')\n",
    "plt.plot(history.history['val_r_square'], label='val')\n",
    "plt.ylim(0, 1)\n",
    "plt.legend()\n",
    "plt.show()"
   ]
  },
  {
   "cell_type": "code",
   "execution_count": 33,
   "metadata": {},
   "outputs": [
    {
     "data": {
      "text/plain": [
       "0.804426372051239"
      ]
     },
     "execution_count": 33,
     "metadata": {},
     "output_type": "execute_result"
    }
   ],
   "source": [
    "val_r2 = max(history.history['val_r_square'])\n",
    "val_r2"
   ]
  },
  {
   "attachments": {
    "image.png": {
     "image/png": "[encoded data removed]"
    }
   },
   "cell_type": "markdown",
   "metadata": {},
   "source": [
    "Simple NN:\n",
    "I can get much lower VAL RMSE and about the same R2 score. Lower batch size seems better but takes long time to run (and maybe we're just overfitting). Two layers of 32 or 64 give good results on DEV. \n",
    "\n",
    "Preprocessing effect: No large spikes at the begginng (which was to be expected actually). Probably better RMSE, R2 seems the same I guess.\n",
    "\n",
    "Previous results:\n",
    "\n",
    "![image.png](attachment:image.png)"
   ]
  },
  {
   "attachments": {},
   "cell_type": "markdown",
   "metadata": {},
   "source": [
    "## Test"
   ]
  },
  {
   "cell_type": "code",
   "execution_count": 34,
   "metadata": {},
   "outputs": [
    {
     "name": "stdout",
     "output_type": "stream",
     "text": [
      "3/3 [==============================] - 0s 2ms/step\n"
     ]
    }
   ],
   "source": [
    "y_pred = model.predict(x_test, batch_size=256, verbose=1)\n",
    "y_pred = y_pred.flatten()"
   ]
  },
  {
   "cell_type": "code",
   "execution_count": 35,
   "metadata": {},
   "outputs": [
    {
     "data": {
      "text/plain": [
       "0.5337558"
      ]
     },
     "execution_count": 35,
     "metadata": {},
     "output_type": "execute_result"
    }
   ],
   "source": [
    "test_rmse = keras.metrics.mean_squared_error(y_test, y_pred).numpy()\n",
    "test_rmse = np.sqrt(test_rmse)\n",
    "test_rmse"
   ]
  },
  {
   "cell_type": "code",
   "execution_count": 36,
   "metadata": {},
   "outputs": [
    {
     "data": {
      "text/plain": [
       "0.75057995"
      ]
     },
     "execution_count": 36,
     "metadata": {},
     "output_type": "execute_result"
    }
   ],
   "source": [
    "test_r2 = tfa.metrics.RSquare()(y_test, y_pred).numpy()\n",
    "test_r2"
   ]
  },
  {
   "cell_type": "code",
   "execution_count": 37,
   "metadata": {},
   "outputs": [
    {
     "data": {
      "text/plain": [
       "(0.2756626605987549, 0.5337558)"
      ]
     },
     "execution_count": 37,
     "metadata": {},
     "output_type": "execute_result"
    }
   ],
   "source": [
    "val_rmse, test_rmse"
   ]
  },
  {
   "cell_type": "code",
   "execution_count": 38,
   "metadata": {},
   "outputs": [
    {
     "data": {
      "text/plain": [
       "(0.804426372051239, 0.75057995)"
      ]
     },
     "execution_count": 38,
     "metadata": {},
     "output_type": "execute_result"
    }
   ],
   "source": [
    "val_r2, test_r2"
   ]
  },
  {
   "attachments": {},
   "cell_type": "markdown",
   "metadata": {},
   "source": [
    "# LSTM"
   ]
  },
  {
   "cell_type": "code",
   "execution_count": 39,
   "metadata": {},
   "outputs": [],
   "source": [
    "seed = 42\n",
    "# Load the CSV file\n",
    "data = pd.read_csv(\"BC-Data-Set.csv\")\n",
    "# Convert the date column to a datetime object\n",
    "data['date'] = pd.to_datetime(data['date'])\n",
    "\n",
    "# Remove any missing values\n",
    "data = data.dropna()\n",
    "\n",
    "# Set the date column as the index of the DataFrame\n",
    "data = data.set_index('date')"
   ]
  },
  {
   "cell_type": "code",
   "execution_count": 40,
   "metadata": {},
   "outputs": [],
   "source": [
    "train_len = round(len(data) * 0.85)"
   ]
  },
  {
   "cell_type": "code",
   "execution_count": 41,
   "metadata": {},
   "outputs": [],
   "source": [
    "x_train_raw = data.iloc[:train_len].drop(columns=['BC'])\n",
    "x_train_idx = x_train_raw.index\n",
    "y_train_raw = data.iloc[:train_len]['BC']\n",
    "x_test_raw = data.iloc[train_len:].drop(columns=['BC'])\n",
    "x_test_idx = x_test_raw.index\n",
    "y_test_raw = data.iloc[train_len:]['BC']\n",
    "\n",
    "\n",
    "SCALE = True\n",
    "if SCALE:\n",
    "    scaler = StandardScaler()\n",
    "    # this returns numpy array\n",
    "    x_train_raw = scaler.fit_transform(x_train_raw)\n",
    "    x_train_raw = pd.DataFrame(x_train_raw, columns=scaler.get_feature_names_out())\n",
    "    x_train_raw = x_train_raw.set_index(x_train_idx)\n",
    "    x_test_raw = pd.DataFrame(scaler.transform(x_test_raw), columns=scaler.get_feature_names_out())\n",
    "    x_test_raw = x_test_raw.set_index(x_test_idx)"
   ]
  },
  {
   "cell_type": "code",
   "execution_count": 42,
   "metadata": {},
   "outputs": [
    {
     "data": {
      "text/plain": [
       "[<matplotlib.lines.Line2D at 0x7f628c6bcc50>]"
      ]
     },
     "execution_count": 42,
     "metadata": {},
     "output_type": "execute_result"
    },
    {
     "data": {
      "image/png": "[encoded data removed]",
      "text/plain": [
       "<Figure size 640x480 with 1 Axes>"
      ]
     },
     "metadata": {},
     "output_type": "display_data"
    }
   ],
   "source": [
    "plt.plot(y_train_raw)\n",
    "plt.plot(y_test_raw)"
   ]
  },
  {
   "cell_type": "code",
   "execution_count": 43,
   "metadata": {},
   "outputs": [],
   "source": [
    "from tqdm import tqdm"
   ]
  },
  {
   "cell_type": "code",
   "execution_count": 44,
   "metadata": {},
   "outputs": [],
   "source": [
    "def build_dataset(x_raw, y_raw, window_len = 24):\n",
    "    X_time = []\n",
    "    if SCALE:\n",
    "        mean_row = np.zeros_like(x_raw.mean())\n",
    "    else:\n",
    "        mean_row = x_raw.mean().values\n",
    "    # y_time = []\n",
    "    for index, row in tqdm(x_raw.iterrows()):\n",
    "        x = []\n",
    "        y = []\n",
    "        # starts from 0 to include current\n",
    "        for dt in range(window_len):\n",
    "            prev_idx = index - pd.Timedelta(hours=dt)\n",
    "            if prev_idx in x_raw.index:\n",
    "                prev = x_raw.loc[prev_idx]\n",
    "                # prev_y = y_raw.loc[prev_idx]\n",
    "            else:\n",
    "                prev = mean_row.copy()\n",
    "            x.append(prev)\n",
    "            # y.append(prev_y)\n",
    "        x.reverse()\n",
    "        y.reverse()\n",
    "        X_time.append(x)\n",
    "        # y_time.append(y)\n",
    "    return np.array(X_time), np.array(y_raw)"
   ]
  },
  {
   "cell_type": "code",
   "execution_count": 45,
   "metadata": {},
   "outputs": [
    {
     "name": "stderr",
     "output_type": "stream",
     "text": [
      "3590it [00:06, 553.22it/s]\n"
     ]
    }
   ],
   "source": [
    "x_train, y_train = build_dataset(x_train_raw, y_train_raw)"
   ]
  },
  {
   "cell_type": "code",
   "execution_count": 46,
   "metadata": {},
   "outputs": [
    {
     "data": {
      "text/plain": [
       "(3590, 24, 12)"
      ]
     },
     "execution_count": 46,
     "metadata": {},
     "output_type": "execute_result"
    }
   ],
   "source": [
    "x_train = np.array(x_train)\n",
    "x_train.shape"
   ]
  },
  {
   "cell_type": "code",
   "execution_count": 52,
   "metadata": {},
   "outputs": [
    {
     "name": "stdout",
     "output_type": "stream",
     "text": [
      "Model: \"model_4\"\n",
      "_________________________________________________________________\n",
      " Layer (type)                Output Shape              Param #   \n",
      "=================================================================\n",
      " input_5 (InputLayer)        [(None, 24, 12)]          0         \n",
      "                                                                 \n",
      " lstm_1 (LSTM)               (None, 32)                5760      \n",
      "                                                                 \n",
      " dense_10 (Dense)            (None, 1)                 33        \n",
      "                                                                 \n",
      "=================================================================\n",
      "Total params: 5,793\n",
      "Trainable params: 5,793\n",
      "Non-trainable params: 0\n",
      "_________________________________________________________________\n"
     ]
    }
   ],
   "source": [
    "HIDDEN_SIZE = 32\n",
    "batch_size = 32\n",
    "\n",
    "x = keras.Input(x_train.shape[1:])\n",
    "y = keras.layers.LSTM(HIDDEN_SIZE, return_sequences=False)(x)\n",
    "y = keras.layers.Dense(1, activation=None)(y)\n",
    "\n",
    "model = keras.Model(inputs=x, outputs=y)\n",
    "\n",
    "model.compile(\n",
    "        optimizer=keras.optimizers.Adam(learning_rate=1e-3),\n",
    "        loss=keras.losses.mean_squared_error,\n",
    "        metrics=[tfa.metrics.RSquare()],\n",
    "    )\n",
    "\n",
    "model.summary()"
   ]
  },
  {
   "cell_type": "code",
   "execution_count": 53,
   "metadata": {},
   "outputs": [
    {
     "name": "stdout",
     "output_type": "stream",
     "text": [
      "Epoch 1/500\n",
      "96/96 [==============================] - 3s 12ms/step - loss: 1.1048 - r_square: 0.1446 - val_loss: 0.5216 - val_r_square: 0.3361\n",
      "Epoch 2/500\n",
      "96/96 [==============================] - 1s 7ms/step - loss: 0.6048 - r_square: 0.5317 - val_loss: 0.4527 - val_r_square: 0.4239\n",
      "Epoch 3/500\n",
      "96/96 [==============================] - 1s 7ms/step - loss: 0.4706 - r_square: 0.6356 - val_loss: 0.4036 - val_r_square: 0.4863\n",
      "Epoch 4/500\n",
      "96/96 [==============================] - 1s 7ms/step - loss: 0.3853 - r_square: 0.7016 - val_loss: 0.3870 - val_r_square: 0.5075\n",
      "Epoch 5/500\n",
      "96/96 [==============================] - 1s 7ms/step - loss: 0.3287 - r_square: 0.7455 - val_loss: 0.3611 - val_r_square: 0.5404\n",
      "Epoch 6/500\n",
      "96/96 [==============================] - 1s 7ms/step - loss: 0.2919 - r_square: 0.7740 - val_loss: 0.3646 - val_r_square: 0.5359\n",
      "Epoch 7/500\n",
      "96/96 [==============================] - 1s 7ms/step - loss: 0.2675 - r_square: 0.7929 - val_loss: 0.3325 - val_r_square: 0.5768\n",
      "Epoch 8/500\n",
      "96/96 [==============================] - 1s 7ms/step - loss: 0.2441 - r_square: 0.8110 - val_loss: 0.3231 - val_r_square: 0.5888\n",
      "Epoch 9/500\n",
      "96/96 [==============================] - 1s 7ms/step - loss: 0.2285 - r_square: 0.8230 - val_loss: 0.3323 - val_r_square: 0.5770\n",
      "Epoch 10/500\n",
      "96/96 [==============================] - 1s 7ms/step - loss: 0.2140 - r_square: 0.8343 - val_loss: 0.3108 - val_r_square: 0.6044\n",
      "Epoch 11/500\n",
      "96/96 [==============================] - 1s 7ms/step - loss: 0.2030 - r_square: 0.8428 - val_loss: 0.3056 - val_r_square: 0.6110\n",
      "Epoch 12/500\n",
      "96/96 [==============================] - 1s 7ms/step - loss: 0.1915 - r_square: 0.8517 - val_loss: 0.3053 - val_r_square: 0.6114\n",
      "Epoch 13/500\n",
      "96/96 [==============================] - 1s 7ms/step - loss: 0.1745 - r_square: 0.8649 - val_loss: 0.3041 - val_r_square: 0.6129\n",
      "Epoch 14/500\n",
      "96/96 [==============================] - 1s 7ms/step - loss: 0.1619 - r_square: 0.8747 - val_loss: 0.3409 - val_r_square: 0.5662\n",
      "Epoch 15/500\n",
      "96/96 [==============================] - 1s 7ms/step - loss: 0.1598 - r_square: 0.8763 - val_loss: 0.3148 - val_r_square: 0.5993\n",
      "Epoch 16/500\n",
      "96/96 [==============================] - 1s 7ms/step - loss: 0.1489 - r_square: 0.8847 - val_loss: 0.3078 - val_r_square: 0.6082\n",
      "Epoch 17/500\n",
      "96/96 [==============================] - 1s 7ms/step - loss: 0.1377 - r_square: 0.8934 - val_loss: 0.3194 - val_r_square: 0.5935\n",
      "Epoch 18/500\n",
      "96/96 [==============================] - 1s 8ms/step - loss: 0.1324 - r_square: 0.8975 - val_loss: 0.3091 - val_r_square: 0.6066\n",
      "Epoch 19/500\n",
      "96/96 [==============================] - 1s 7ms/step - loss: 0.1264 - r_square: 0.9021 - val_loss: 0.2966 - val_r_square: 0.6225\n",
      "Epoch 20/500\n",
      "96/96 [==============================] - 1s 8ms/step - loss: 0.1208 - r_square: 0.9064 - val_loss: 0.3046 - val_r_square: 0.6123\n",
      "Epoch 21/500\n",
      "96/96 [==============================] - 1s 7ms/step - loss: 0.1131 - r_square: 0.9125 - val_loss: 0.3070 - val_r_square: 0.6092\n",
      "Epoch 22/500\n",
      "96/96 [==============================] - 1s 8ms/step - loss: 0.1109 - r_square: 0.9141 - val_loss: 0.3060 - val_r_square: 0.6105\n",
      "Epoch 23/500\n",
      "96/96 [==============================] - 1s 8ms/step - loss: 0.1054 - r_square: 0.9184 - val_loss: 0.3116 - val_r_square: 0.6034\n",
      "Epoch 24/500\n",
      "96/96 [==============================] - 1s 7ms/step - loss: 0.1015 - r_square: 0.9214 - val_loss: 0.3116 - val_r_square: 0.6034\n",
      "Epoch 25/500\n",
      "96/96 [==============================] - 1s 7ms/step - loss: 0.0961 - r_square: 0.9256 - val_loss: 0.3272 - val_r_square: 0.5835\n",
      "Epoch 26/500\n",
      "96/96 [==============================] - 1s 6ms/step - loss: 0.0998 - r_square: 0.9227 - val_loss: 0.3182 - val_r_square: 0.5951\n",
      "Epoch 27/500\n",
      "96/96 [==============================] - 1s 7ms/step - loss: 0.0912 - r_square: 0.9294 - val_loss: 0.3046 - val_r_square: 0.6123\n",
      "Epoch 28/500\n",
      "96/96 [==============================] - 1s 7ms/step - loss: 0.0909 - r_square: 0.9296 - val_loss: 0.3243 - val_r_square: 0.5873\n",
      "Epoch 29/500\n",
      "96/96 [==============================] - 1s 7ms/step - loss: 0.0854 - r_square: 0.9339 - val_loss: 0.3198 - val_r_square: 0.5930\n",
      "Epoch 30/500\n",
      "96/96 [==============================] - 1s 6ms/step - loss: 0.0845 - r_square: 0.9345 - val_loss: 0.3208 - val_r_square: 0.5917\n",
      "Epoch 31/500\n",
      "96/96 [==============================] - 1s 6ms/step - loss: 0.0836 - r_square: 0.9353 - val_loss: 0.3126 - val_r_square: 0.6021\n",
      "Epoch 32/500\n",
      "96/96 [==============================] - 1s 7ms/step - loss: 0.0818 - r_square: 0.9367 - val_loss: 0.3406 - val_r_square: 0.5665\n",
      "Epoch 33/500\n",
      "96/96 [==============================] - 1s 7ms/step - loss: 0.0779 - r_square: 0.9397 - val_loss: 0.3272 - val_r_square: 0.5836\n",
      "Epoch 34/500\n",
      "96/96 [==============================] - 1s 8ms/step - loss: 0.0863 - r_square: 0.9332 - val_loss: 0.3351 - val_r_square: 0.5736\n",
      "Epoch 35/500\n",
      "96/96 [==============================] - 1s 7ms/step - loss: 0.0764 - r_square: 0.9409 - val_loss: 0.3426 - val_r_square: 0.5640\n",
      "Epoch 36/500\n",
      "96/96 [==============================] - 1s 7ms/step - loss: 0.0713 - r_square: 0.9448 - val_loss: 0.3383 - val_r_square: 0.5694\n",
      "Epoch 37/500\n",
      "96/96 [==============================] - 1s 7ms/step - loss: 0.0714 - r_square: 0.9447 - val_loss: 0.3229 - val_r_square: 0.5891\n",
      "Epoch 38/500\n",
      "96/96 [==============================] - 1s 7ms/step - loss: 0.0693 - r_square: 0.9463 - val_loss: 0.3229 - val_r_square: 0.5890\n",
      "Epoch 39/500\n",
      "96/96 [==============================] - 1s 6ms/step - loss: 0.0675 - r_square: 0.9478 - val_loss: 0.3330 - val_r_square: 0.5762\n"
     ]
    }
   ],
   "source": [
    "history = model.fit(\n",
    "    x = x_train,\n",
    "    y = y_train,\n",
    "    batch_size = batch_size,\n",
    "    epochs = 500,\n",
    "    validation_split=0.15,\n",
    "    shuffle=True,\n",
    "    callbacks = [\n",
    "        # tf.keras.callbacks.EarlyStopping(monitor='val_loss', mode='min', patience=20, restore_best_weights=True),\n",
    "        tf.keras.callbacks.EarlyStopping(monitor='val_r_square', mode='max', patience=20, restore_best_weights=True),\n",
    "        # tf.keras.callbacks.ReduceLROnPlateau(monitor='val_loss', mode='min', patience=10, factor=0.1, min_lr=1e-5)\n",
    "    ]\n",
    ")"
   ]
  },
  {
   "cell_type": "code",
   "execution_count": 54,
   "metadata": {},
   "outputs": [
    {
     "data": {
      "image/png": "[encoded data removed]",
      "text/plain": [
       "<Figure size 640x480 with 1 Axes>"
      ]
     },
     "metadata": {},
     "output_type": "display_data"
    }
   ],
   "source": [
    "plt.ylim(0, 1)\n",
    "plt.suptitle(f'RMSE')\n",
    "plt.plot(history.history['loss'], label='train')\n",
    "plt.plot(history.history['val_loss'], label='val')\n",
    "plt.legend()\n",
    "plt.show()"
   ]
  },
  {
   "cell_type": "code",
   "execution_count": 55,
   "metadata": {},
   "outputs": [
    {
     "data": {
      "text/plain": [
       "0.2966032922267914"
      ]
     },
     "execution_count": 55,
     "metadata": {},
     "output_type": "execute_result"
    }
   ],
   "source": [
    "val_rmse = min(history.history['val_loss'])\n",
    "val_rmse"
   ]
  },
  {
   "cell_type": "code",
   "execution_count": 56,
   "metadata": {},
   "outputs": [
    {
     "data": {
      "image/png": "[encoded data removed]",
      "text/plain": [
       "<Figure size 640x480 with 1 Axes>"
      ]
     },
     "metadata": {},
     "output_type": "display_data"
    }
   ],
   "source": [
    "plt.suptitle(f'R2')\n",
    "plt.plot(history.history['r_square'], label='train')\n",
    "plt.plot(history.history['val_r_square'], label='val')\n",
    "plt.ylim(0, 1)\n",
    "plt.legend()\n",
    "plt.show()"
   ]
  },
  {
   "cell_type": "code",
   "execution_count": 57,
   "metadata": {},
   "outputs": [
    {
     "data": {
      "text/plain": [
       "0.6224921345710754"
      ]
     },
     "execution_count": 57,
     "metadata": {},
     "output_type": "execute_result"
    }
   ],
   "source": [
    "val_r2 = max(history.history['val_r_square'])\n",
    "val_r2"
   ]
  },
  {
   "attachments": {},
   "cell_type": "markdown",
   "metadata": {},
   "source": [
    "## Test"
   ]
  },
  {
   "cell_type": "code",
   "execution_count": 58,
   "metadata": {},
   "outputs": [
    {
     "name": "stderr",
     "output_type": "stream",
     "text": [
      "633it [00:00, 789.94it/s]\n"
     ]
    },
    {
     "data": {
      "text/plain": [
       "(633, 24, 12)"
      ]
     },
     "execution_count": 58,
     "metadata": {},
     "output_type": "execute_result"
    }
   ],
   "source": [
    "x_test, y_test = build_dataset(x_test_raw, y_test_raw)\n",
    "x_test.shape"
   ]
  },
  {
   "cell_type": "code",
   "execution_count": 59,
   "metadata": {},
   "outputs": [
    {
     "name": "stdout",
     "output_type": "stream",
     "text": [
      "3/3 [==============================] - 0s 2ms/step\n"
     ]
    }
   ],
   "source": [
    "y_pred = model.predict(x_test, batch_size=256, verbose=1)\n",
    "y_pred = y_pred.flatten()"
   ]
  },
  {
   "cell_type": "code",
   "execution_count": 60,
   "metadata": {},
   "outputs": [
    {
     "data": {
      "text/plain": [
       "0.7457489"
      ]
     },
     "execution_count": 60,
     "metadata": {},
     "output_type": "execute_result"
    }
   ],
   "source": [
    "test_rmse = keras.metrics.mean_squared_error(y_test, y_pred).numpy()\n",
    "test_rmse = np.sqrt(test_rmse)\n",
    "test_rmse"
   ]
  },
  {
   "cell_type": "code",
   "execution_count": 61,
   "metadata": {},
   "outputs": [
    {
     "data": {
      "text/plain": [
       "0.6295601"
      ]
     },
     "execution_count": 61,
     "metadata": {},
     "output_type": "execute_result"
    }
   ],
   "source": [
    "test_r2 = tfa.metrics.RSquare()(y_test, y_pred).numpy()\n",
    "test_r2"
   ]
  },
  {
   "cell_type": "code",
   "execution_count": 62,
   "metadata": {},
   "outputs": [
    {
     "data": {
      "text/plain": [
       "(0.2756626605987549, 0.5337558)"
      ]
     },
     "execution_count": 62,
     "metadata": {},
     "output_type": "execute_result"
    }
   ],
   "source": [
    "val_rmse, test_rmse"
   ]
  },
  {
   "cell_type": "code",
   "execution_count": 63,
   "metadata": {},
   "outputs": [
    {
     "data": {
      "text/plain": [
       "(0.804426372051239, 0.75057995)"
      ]
     },
     "execution_count": 63,
     "metadata": {},
     "output_type": "execute_result"
    }
   ],
   "source": [
    "val_r2, test_r2"
   ]
  },
  {
   "cell_type": "code",
   "execution_count": null,
   "metadata": {},
   "outputs": [],
   "source": []
  }
 ],
 "metadata": {
  "kernelspec": {
   "display_name": "toml",
   "language": "python",
   "name": "python3"
  },
  "language_info": {
   "codemirror_mode": {
    "name": "ipython",
    "version": 3
   },
   "file_extension": ".py",
   "mimetype": "text/x-python",
   "name": "python",
   "nbconvert_exporter": "python",
   "pygments_lexer": "ipython3",
   "version": "3.11.3"
  },
  "orig_nbformat": 4
 },
 "nbformat": 4,
 "nbformat_minor": 2
}
