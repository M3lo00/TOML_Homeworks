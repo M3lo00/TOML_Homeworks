{
 "cells": [
  {
   "cell_type": "code",
   "execution_count": null,
   "metadata": {},
   "outputs": [],
   "source": [
    "import random\n",
    "import numpy as np\n",
    "import pandas as pd\n",
    "import matplotlib.pyplot as plt\n",
    "from sklearn.ensemble import ExtraTreesRegressor, RandomForestRegressor\n",
    "from sklearn.preprocessing import StandardScaler\n",
    "from sklearn import preprocessing\n",
    "from sklearn.metrics import f1_score\n",
    "from sklearn.model_selection import train_test_split\n",
    "from sklearn import metrics\n",
    "import seaborn as sns\n",
    "from scipy import stats\n",
    "from sklearn.preprocessing import StandardScaler"
   ]
  },
  {
   "cell_type": "code",
   "execution_count": null,
   "metadata": {},
   "outputs": [],
   "source": [
    "import argparse\n",
    "import datetime\n",
    "import os\n",
    "import re\n",
    "os.environ.setdefault(\"TF_CPP_MIN_LOG_LEVEL\", \"2\")  # Report only TF errors by default"
   ]
  },
  {
   "cell_type": "code",
   "execution_count": null,
   "metadata": {},
   "outputs": [],
   "source": [
    "import tensorflow as tf\n",
    "import tensorflow_addons as tfa\n",
    "from tensorflow import keras\n",
    "import typing\n",
    "if typing.TYPE_CHECKING:\n",
    "    from keras.api._v2 import keras"
   ]
  },
  {
   "attachments": {},
   "cell_type": "markdown",
   "metadata": {},
   "source": [
    "# Simple NN"
   ]
  },
  {
   "cell_type": "code",
   "execution_count": null,
   "metadata": {},
   "outputs": [],
   "source": [
    "seed = 42\n",
    "# Load the CSV file\n",
    "data = pd.read_csv(\"BC-Data-Set.csv\")\n",
    "# Convert the date column to a datetime object\n",
    "data['date'] = pd.to_datetime(data['date'])\n",
    "\n",
    "# Remove any missing values\n",
    "data = data.dropna()\n",
    "\n",
    "# Set the date column as the index of the DataFrame\n",
    "data = data.set_index('date')\n",
    "x_train, x_test, y_train, y_test = train_test_split(data, data.BC, test_size=0.15, random_state=seed, shuffle=True)\n",
    "x_train = x_train.drop(columns=['BC'])\n",
    "x_test = x_test.drop(columns=['BC'])\n",
    "\n",
    "x_train, x_val, y_train, y_val = train_test_split(x_train, y_train, test_size=0.15, random_state=seed, shuffle=True)\n",
    "\n",
    "SCALE = True\n",
    "if SCALE:\n",
    "    scaler = StandardScaler()\n",
    "    x_train = scaler.fit_transform(x_train)\n",
    "    x_val = scaler.transform(x_val)\n",
    "    x_test = scaler.transform(x_test)"
   ]
  },
  {
   "cell_type": "code",
   "execution_count": null,
   "metadata": {},
   "outputs": [],
   "source": [
    "HIDDEN_SIZE = 32\n",
    "batch_size = 256\n",
    "\n",
    "x = keras.Input([x_train.shape[-1]])\n",
    "y = keras.layers.Dense(HIDDEN_SIZE, activation=keras.activations.relu)(x)\n",
    "y = keras.layers.Dense(HIDDEN_SIZE, activation=keras.activations.relu)(y)\n",
    "y = keras.layers.Dense(1, activation=None)(y)\n",
    "\n",
    "model = keras.Model(inputs=x, outputs=y)\n",
    "\n",
    "model.compile(\n",
    "        optimizer=keras.optimizers.Adam(learning_rate=1e-3),\n",
    "        loss=keras.losses.mean_squared_error,\n",
    "        metrics=[tfa.metrics.RSquare()],\n",
    "    )\n",
    "\n",
    "model.summary()"
   ]
  },
  {
   "cell_type": "code",
   "execution_count": null,
   "metadata": {},
   "outputs": [],
   "source": [
    "history = model.fit(\n",
    "    x = x_train,\n",
    "    y = y_train,\n",
    "    batch_size = batch_size,\n",
    "    epochs = 500,\n",
    "    validation_data=(x_val, y_val),\n",
    "    callbacks = [\n",
    "        tf.keras.callbacks.EarlyStopping(monitor='val_loss', mode='min', patience=20, restore_best_weights=True),\n",
    "        # tf.keras.callbacks.ReduceLROnPlateau(monitor='val_loss', mode='min', patience=10, factor=0.1, min_lr=1e-5)\n",
    "    ]\n",
    ")"
   ]
  },
  {
   "cell_type": "code",
   "execution_count": null,
   "metadata": {},
   "outputs": [],
   "source": [
    "plt.ylim(0, 1)\n",
    "plt.suptitle(f'RMSE')\n",
    "plt.plot(history.history['loss'], label='train')\n",
    "plt.plot(history.history['val_loss'], label='val')\n",
    "plt.legend()\n",
    "plt.show()"
   ]
  },
  {
   "cell_type": "code",
   "execution_count": null,
   "metadata": {},
   "outputs": [],
   "source": [
    "val_rmse = min(history.history['val_loss'])\n",
    "val_rmse"
   ]
  },
  {
   "cell_type": "code",
   "execution_count": null,
   "metadata": {},
   "outputs": [],
   "source": [
    "plt.suptitle(f'R2')\n",
    "plt.plot(history.history['r_square'], label='train')\n",
    "plt.plot(history.history['val_r_square'], label='val')\n",
    "plt.ylim(0, 1)\n",
    "plt.legend()\n",
    "plt.show()"
   ]
  },
  {
   "cell_type": "code",
   "execution_count": null,
   "metadata": {},
   "outputs": [],
   "source": [
    "val_r2 = max(history.history['val_r_square'])\n",
    "val_r2"
   ]
  },
  {
   "attachments": {
    "image.png": {
     "image/png": "[encoded data removed]"
    }
   },
   "cell_type": "markdown",
   "metadata": {},
   "source": [
    "Simple NN:\n",
    "I can get much lower VAL RMSE and about the same R2 score. Lower batch size seems better but takes long time to run (and maybe we're just overfitting). Two layers of 32 or 64 give good results on DEV. \n",
    "\n",
    "Preprocessing effect: No large spikes at the begginng (which was to be expected actually). Probably better RMSE, R2 seems the same I guess.\n",
    "\n",
    "Previous results:\n",
    "\n",
    "![image.png](attachment:image.png)"
   ]
  },
  {
   "attachments": {},
   "cell_type": "markdown",
   "metadata": {},
   "source": [
    "## Test"
   ]
  },
  {
   "cell_type": "code",
   "execution_count": null,
   "metadata": {},
   "outputs": [],
   "source": [
    "y_pred = model.predict(x_test, batch_size=256, verbose=1)\n",
    "y_pred = y_pred.flatten()"
   ]
  },
  {
   "cell_type": "code",
   "execution_count": null,
   "metadata": {},
   "outputs": [],
   "source": [
    "test_rmse = keras.metrics.mean_squared_error(y_test, y_pred).numpy()\n",
    "test_rmse = np.sqrt(test_rmse)\n",
    "test_rmse"
   ]
  },
  {
   "cell_type": "code",
   "execution_count": null,
   "metadata": {},
   "outputs": [],
   "source": [
    "test_r2 = tfa.metrics.RSquare()(y_test, y_pred).numpy()\n",
    "test_r2"
   ]
  },
  {
   "cell_type": "code",
   "execution_count": null,
   "metadata": {},
   "outputs": [],
   "source": [
    "model.summary()"
   ]
  },
  {
   "cell_type": "code",
   "execution_count": null,
   "metadata": {},
   "outputs": [],
   "source": [
    "val_rmse, test_rmse"
   ]
  },
  {
   "cell_type": "code",
   "execution_count": null,
   "metadata": {},
   "outputs": [],
   "source": [
    "val_r2, test_r2"
   ]
  },
  {
   "attachments": {},
   "cell_type": "markdown",
   "metadata": {},
   "source": [
    "## Experiments"
   ]
  },
  {
   "cell_type": "code",
   "execution_count": null,
   "metadata": {},
   "outputs": [],
   "source": [
    "from tqdm import tqdm"
   ]
  },
  {
   "cell_type": "code",
   "execution_count": null,
   "metadata": {},
   "outputs": [],
   "source": [
    "# res = []\n",
    "# batch_size = 256\n",
    "\n",
    "# for hs in tqdm([8, 16, 32, 64, 256]):\n",
    "#     for nl in [1, 2, 3, 4]:        \n",
    "#         x = keras.Input([x_train.shape[-1]])\n",
    "#         y = keras.layers.Dense(hs, activation=keras.activations.relu)(x)\n",
    "#         for _ in range(nl - 1):\n",
    "#             y = keras.layers.Dense(hs, activation=keras.activations.relu)(y)\n",
    "#         y = keras.layers.Dense(1, activation=None)(y)\n",
    "\n",
    "#         model = keras.Model(inputs=x, outputs=y)\n",
    "\n",
    "#         model.compile(\n",
    "#                 optimizer=keras.optimizers.Adam(learning_rate=1e-3),\n",
    "#                 loss=keras.losses.mean_squared_error,\n",
    "#                 metrics=[tfa.metrics.RSquare()],\n",
    "#             )\n",
    "#         history = model.fit(\n",
    "#             x = x_train,\n",
    "#             y = y_train,\n",
    "#             batch_size = batch_size,\n",
    "#             epochs = 500,\n",
    "#             verbose=0,\n",
    "#             validation_split=0.15,\n",
    "#             callbacks = [\n",
    "#                 tf.keras.callbacks.EarlyStopping(monitor='val_r_square', mode='max', patience=30, restore_best_weights=True),\n",
    "#                 # tf.keras.callbacks.EarlyStopping(monitor='val_loss', mode='min', patience=30, restore_best_weights=True),\n",
    "#                 # tf.keras.callbacks.ReduceLROnPlateau(monitor='val_loss', mode='min', patience=10, factor=0.1, min_lr=1e-5)\n",
    "#             ]\n",
    "#         )\n",
    "#         val_rmse = min(history.history['val_loss'])\n",
    "#         train_rmse = min(history.history['loss'])\n",
    "#         val_r2 = max(history.history['val_r_square'])\n",
    "#         train_r2 = max(history.history['r_square'])\n",
    "#         res.append({\n",
    "#             'hidden_size': hs,\n",
    "#             'number_of_layers': nl,\n",
    "#             'train_rmse': train_rmse,\n",
    "#             'val_rmse': val_rmse,\n",
    "#             'train_r2': train_r2,\n",
    "#             'val_r2': val_r2,\n",
    "#             'parameters_count': model.count_params(),\n",
    "#         })"
   ]
  },
  {
   "cell_type": "code",
   "execution_count": null,
   "metadata": {},
   "outputs": [],
   "source": [
    "# df = pd.DataFrame(res)"
   ]
  },
  {
   "cell_type": "code",
   "execution_count": null,
   "metadata": {},
   "outputs": [],
   "source": [
    "def heatmap(df, rows, columns, values, aggfunc=np.mean):\n",
    "    if aggfunc is None:\n",
    "        heatmap_data = df.pivot(index=rows, columns=columns, values=values)\n",
    "    else:\n",
    "        heatmap_data = df.pivot_table(index=rows, columns=columns, values=values, aggfunc=aggfunc)\n",
    "    fig, ax = plt.subplots(figsize=(12,6))\n",
    "    x_range = heatmap_data.columns\n",
    "    y_range = heatmap_data.index\n",
    "\n",
    "    heatmap = ax.imshow(\n",
    "        heatmap_data,\n",
    "        interpolation=\"nearest\",\n",
    "        cmap=plt.cm.hot,\n",
    "        # vmax=np.median(heatmap_data.values) * 3,\n",
    "    )\n",
    "\n",
    "    data = heatmap_data.values\n",
    "    median = np.median(data)\n",
    "    for i in range(data.shape[0]):\n",
    "        for j in range(data.shape[1]):\n",
    "            c = 'black' if data[i, j] >= median else 'white'\n",
    "            ax.text(j, i, f'{data[i, j]:.2f}', ha='center', va='center', color=c, fontsize=10)\n",
    "\n",
    "\n",
    "    ax.set_xlabel(columns)\n",
    "    ax.set_ylabel(rows)\n",
    "    plt.colorbar(heatmap, ax=ax)\n",
    "    ax.set_xticks(np.arange(len(x_range)), x_range, rotation=45)\n",
    "    ax.set_yticks(np.arange(len(y_range)), y_range)\n",
    "    plt.title(values)\n",
    "    plt.show()"
   ]
  },
  {
   "cell_type": "code",
   "execution_count": null,
   "metadata": {},
   "outputs": [],
   "source": [
    "# len(df)"
   ]
  },
  {
   "cell_type": "code",
   "execution_count": null,
   "metadata": {},
   "outputs": [],
   "source": [
    "# columns = 'hidden_size'\n",
    "# rows = 'number_of_layers'\n",
    "# heatmap(df, rows, columns, 'val_rmse')\n",
    "# heatmap(df, rows, columns, 'val_r2')"
   ]
  },
  {
   "cell_type": "code",
   "execution_count": null,
   "metadata": {},
   "outputs": [],
   "source": [
    "# heatmap(df, rows, columns, 'parameters_count')"
   ]
  },
  {
   "attachments": {},
   "cell_type": "markdown",
   "metadata": {},
   "source": [
    "# LSTM"
   ]
  },
  {
   "cell_type": "code",
   "execution_count": null,
   "metadata": {},
   "outputs": [],
   "source": [
    "seed = 42\n",
    "# Load the CSV file\n",
    "data = pd.read_csv(\"BC-Data-Set.csv\")\n",
    "# Convert the date column to a datetime object\n",
    "data['date'] = pd.to_datetime(data['date'])\n",
    "\n",
    "# Remove any missing values\n",
    "data = data.dropna()\n",
    "\n",
    "# Set the date column as the index of the DataFrame\n",
    "data = data.set_index('date')"
   ]
  },
  {
   "cell_type": "code",
   "execution_count": null,
   "metadata": {},
   "outputs": [],
   "source": [
    "train_len = round(len(data) * 0.85)"
   ]
  },
  {
   "cell_type": "code",
   "execution_count": null,
   "metadata": {},
   "outputs": [],
   "source": [
    "x_train_raw = data.iloc[:train_len].drop(columns=['BC'])\n",
    "x_train_idx = x_train_raw.index\n",
    "y_train_raw = data.iloc[:train_len]['BC']\n",
    "x_test_raw = data.iloc[train_len:].drop(columns=['BC'])\n",
    "x_test_idx = x_test_raw.index\n",
    "y_test_raw = data.iloc[train_len:]['BC']\n",
    "\n",
    "\n",
    "SCALE = True\n",
    "if SCALE:\n",
    "    scaler = StandardScaler()\n",
    "    # this returns numpy array\n",
    "    x_train_raw = scaler.fit_transform(x_train_raw)\n",
    "    x_train_raw = pd.DataFrame(x_train_raw, columns=scaler.get_feature_names_out())\n",
    "    x_train_raw = x_train_raw.set_index(x_train_idx)\n",
    "    x_test_raw = pd.DataFrame(scaler.transform(x_test_raw), columns=scaler.get_feature_names_out())\n",
    "    x_test_raw = x_test_raw.set_index(x_test_idx)"
   ]
  },
  {
   "cell_type": "code",
   "execution_count": null,
   "metadata": {},
   "outputs": [],
   "source": [
    "plt.plot(y_train_raw)\n",
    "plt.plot(y_test_raw)"
   ]
  },
  {
   "cell_type": "code",
   "execution_count": null,
   "metadata": {},
   "outputs": [],
   "source": [
    "from tqdm import tqdm"
   ]
  },
  {
   "cell_type": "code",
   "execution_count": null,
   "metadata": {},
   "outputs": [],
   "source": [
    "def build_dataset(x_raw, y_raw, window_len = 24):\n",
    "    X_time = []\n",
    "    if SCALE:\n",
    "        mean_row = np.zeros_like(x_raw.mean())\n",
    "    else:\n",
    "        mean_row = x_raw.mean().values\n",
    "    # y_time = []\n",
    "    for index, row in tqdm(x_raw.iterrows()):\n",
    "        x = []\n",
    "        y = []\n",
    "        # starts from 0 to include current\n",
    "        for dt in range(window_len):\n",
    "            prev_idx = index - pd.Timedelta(hours=dt)\n",
    "            if prev_idx in x_raw.index:\n",
    "                prev = x_raw.loc[prev_idx]\n",
    "                # prev_y = y_raw.loc[prev_idx]\n",
    "            else:\n",
    "                prev = mean_row.copy()\n",
    "            x.append(prev)\n",
    "            # y.append(prev_y)\n",
    "        x.reverse()\n",
    "        y.reverse()\n",
    "        X_time.append(x)\n",
    "        # y_time.append(y)\n",
    "    return np.array(X_time), np.array(y_raw)"
   ]
  },
  {
   "cell_type": "code",
   "execution_count": null,
   "metadata": {},
   "outputs": [],
   "source": [
    "x_train, y_train = build_dataset(x_train_raw, y_train_raw)\n",
    "_i = round(0.85 * len(x_train))\n",
    "x_dev = x_train[_i:]\n",
    "y_dev = y_train[_i:]\n",
    "x_train = x_train[:_i]\n",
    "y_train = y_train[:_i]"
   ]
  },
  {
   "cell_type": "code",
   "execution_count": null,
   "metadata": {},
   "outputs": [],
   "source": [
    "x_train.shape, x_dev.shape"
   ]
  },
  {
   "cell_type": "code",
   "execution_count": null,
   "metadata": {},
   "outputs": [],
   "source": [
    "HIDDEN_SIZE = 32\n",
    "batch_size = 8\n",
    "\n",
    "x = keras.Input(x_train.shape[1:])\n",
    "y = keras.layers.LSTM(HIDDEN_SIZE, return_sequences=False)(x)\n",
    "y = keras.layers.Dense(1, activation=None)(y)\n",
    "\n",
    "model = keras.Model(inputs=x, outputs=y)\n",
    "\n",
    "model.compile(\n",
    "        optimizer=keras.optimizers.Adam(learning_rate=1e-3),\n",
    "        loss=keras.losses.mean_squared_error,\n",
    "        metrics=[tfa.metrics.RSquare()],\n",
    "    )\n",
    "\n",
    "model.summary()"
   ]
  },
  {
   "cell_type": "code",
   "execution_count": null,
   "metadata": {},
   "outputs": [],
   "source": [
    "history = model.fit(\n",
    "    x = x_train,\n",
    "    y = y_train,\n",
    "    batch_size = batch_size,\n",
    "    epochs = 500,\n",
    "    validation_data=(x_dev, y_dev),\n",
    "    shuffle=True,\n",
    "    callbacks = [\n",
    "        # tf.keras.callbacks.EarlyStopping(monitor='val_loss', mode='min', patience=20, restore_best_weights=True),\n",
    "        tf.keras.callbacks.EarlyStopping(monitor='val_r_square', mode='max', patience=20, restore_best_weights=True),\n",
    "        # tf.keras.callbacks.ReduceLROnPlateau(monitor='val_loss', mode='min', patience=10, factor=0.1, min_lr=1e-5)\n",
    "    ]\n",
    ")"
   ]
  },
  {
   "cell_type": "code",
   "execution_count": null,
   "metadata": {},
   "outputs": [],
   "source": [
    "plt.ylim(0, 1)\n",
    "plt.suptitle(f'RMSE')\n",
    "plt.plot(history.history['loss'], label='train')\n",
    "plt.plot(history.history['val_loss'], label='val')\n",
    "plt.legend()\n",
    "plt.show()"
   ]
  },
  {
   "cell_type": "code",
   "execution_count": null,
   "metadata": {},
   "outputs": [],
   "source": [
    "val_rmse = min(history.history['val_loss'])\n",
    "val_rmse"
   ]
  },
  {
   "cell_type": "code",
   "execution_count": null,
   "metadata": {},
   "outputs": [],
   "source": [
    "plt.suptitle(f'R2')\n",
    "plt.plot(history.history['r_square'], label='train')\n",
    "plt.plot(history.history['val_r_square'], label='val')\n",
    "plt.ylim(0, 1)\n",
    "plt.legend()\n",
    "plt.show()"
   ]
  },
  {
   "cell_type": "code",
   "execution_count": null,
   "metadata": {},
   "outputs": [],
   "source": [
    "val_r2 = max(history.history['val_r_square'])\n",
    "val_r2"
   ]
  },
  {
   "attachments": {},
   "cell_type": "markdown",
   "metadata": {},
   "source": [
    "## Test"
   ]
  },
  {
   "cell_type": "code",
   "execution_count": null,
   "metadata": {},
   "outputs": [],
   "source": [
    "x_test, y_test = build_dataset(x_test_raw, y_test_raw)\n",
    "x_test.shape"
   ]
  },
  {
   "cell_type": "code",
   "execution_count": null,
   "metadata": {},
   "outputs": [],
   "source": [
    "y_pred = model.predict(x_test, batch_size=256, verbose=1)\n",
    "y_pred = y_pred.flatten()"
   ]
  },
  {
   "cell_type": "code",
   "execution_count": null,
   "metadata": {},
   "outputs": [],
   "source": [
    "test_rmse = keras.metrics.mean_squared_error(y_test, y_pred).numpy()\n",
    "test_rmse = np.sqrt(test_rmse)\n",
    "test_rmse"
   ]
  },
  {
   "cell_type": "code",
   "execution_count": null,
   "metadata": {},
   "outputs": [],
   "source": [
    "test_r2 = tfa.metrics.RSquare()(y_test, y_pred).numpy()\n",
    "test_r2"
   ]
  },
  {
   "cell_type": "code",
   "execution_count": null,
   "metadata": {},
   "outputs": [],
   "source": [
    "model.summary()"
   ]
  },
  {
   "cell_type": "code",
   "execution_count": null,
   "metadata": {},
   "outputs": [],
   "source": [
    "print('window_len = 24')"
   ]
  },
  {
   "cell_type": "code",
   "execution_count": null,
   "metadata": {},
   "outputs": [],
   "source": [
    "val_rmse, test_rmse"
   ]
  },
  {
   "cell_type": "code",
   "execution_count": null,
   "metadata": {},
   "outputs": [],
   "source": [
    "val_r2, test_r2"
   ]
  },
  {
   "attachments": {},
   "cell_type": "markdown",
   "metadata": {},
   "source": [
    "# Window size"
   ]
  },
  {
   "cell_type": "code",
   "execution_count": null,
   "metadata": {},
   "outputs": [],
   "source": [
    "def build_and_eval(w_len):\n",
    "    x_train, y_train = build_dataset(x_train_raw, y_train_raw, window_len=w_len)\n",
    "    _i = round(0.85 * len(x_train))\n",
    "    x_dev = x_train[_i:]\n",
    "    y_dev = y_train[_i:]\n",
    "    x_train = x_train[:_i]\n",
    "    y_train = y_train[:_i]\n",
    "\n",
    "\n",
    "    HIDDEN_SIZE = 32\n",
    "    batch_size = 128\n",
    "\n",
    "    x = keras.Input(x_train.shape[1:])\n",
    "    y = keras.layers.Bidirectional(\n",
    "            keras.layers.LSTM(HIDDEN_SIZE, return_sequences=True),\n",
    "            merge_mode=\"concat\"\n",
    "        )(x)\n",
    "    y = keras.layers.Bidirectional(\n",
    "        keras.layers.LSTM(HIDDEN_SIZE // 2, return_sequences=False),\n",
    "        merge_mode=\"concat\"\n",
    "    )(y)\n",
    "    y = keras.layers.Dense(1, activation=None)(y)\n",
    "\n",
    "    model = keras.Model(inputs=x, outputs=y)\n",
    "\n",
    "    model.compile(\n",
    "            optimizer=keras.optimizers.Adam(learning_rate=1e-3),\n",
    "            loss=keras.losses.mean_squared_error,\n",
    "            metrics=[tfa.metrics.RSquare()],\n",
    "        )\n",
    "\n",
    "    model.summary()\n",
    "\n",
    "    history = model.fit(\n",
    "        x = x_train,\n",
    "        y = y_train,\n",
    "        batch_size = batch_size,\n",
    "        epochs = 500,\n",
    "        validation_data=(x_dev, y_dev),\n",
    "        shuffle=True,\n",
    "        verbose=0,\n",
    "        callbacks = [\n",
    "            tf.keras.callbacks.EarlyStopping(monitor='val_r_square', mode='max', patience=20, restore_best_weights=True),\n",
    "        ]\n",
    "    )\n",
    "    val_rmse = min(history.history['val_loss'])\n",
    "    val_r2 = max(history.history['val_r_square'])\n",
    "    return {\n",
    "        'w_len': w_len,\n",
    "        'history': history,\n",
    "        'val_rmse': val_rmse,\n",
    "        'val_r2': val_r2,\n",
    "    }\n",
    "    "
   ]
  },
  {
   "cell_type": "code",
   "execution_count": null,
   "metadata": {},
   "outputs": [],
   "source": [
    "# res = []"
   ]
  },
  {
   "cell_type": "code",
   "execution_count": null,
   "metadata": {},
   "outputs": [],
   "source": [
    "# r = build_and_eval(1)\n",
    "# res.append(r)\n",
    "# r"
   ]
  },
  {
   "cell_type": "code",
   "execution_count": null,
   "metadata": {},
   "outputs": [],
   "source": [
    "# for w_len in range(2, 48, 2):\n",
    "#     r = build_and_eval(w_len)\n",
    "#     print(w_len, 'done')\n",
    "#     res.append(r)"
   ]
  },
  {
   "cell_type": "code",
   "execution_count": null,
   "metadata": {},
   "outputs": [],
   "source": [
    "# df = pd.DataFrame(res)\n",
    "# df = df.sort_values('w_len').reset_index(drop=True)\n",
    "# df"
   ]
  },
  {
   "cell_type": "code",
   "execution_count": null,
   "metadata": {},
   "outputs": [],
   "source": [
    "# df['train_rmse'] = df.history.map(lambda x: min(x.history['loss']))\n",
    "# df['train_r2'] = df.history.map(lambda x: max(x.history['r_square']))"
   ]
  },
  {
   "cell_type": "code",
   "execution_count": null,
   "metadata": {},
   "outputs": [],
   "source": [
    "# df.to_csv('lstm_winlen.csv', index=False)"
   ]
  },
  {
   "cell_type": "code",
   "execution_count": null,
   "metadata": {},
   "outputs": [],
   "source": [
    "df = pd.read_csv('lstm_winlen.csv')"
   ]
  },
  {
   "cell_type": "code",
   "execution_count": null,
   "metadata": {},
   "outputs": [],
   "source": [
    "df"
   ]
  },
  {
   "cell_type": "code",
   "execution_count": null,
   "metadata": {},
   "outputs": [],
   "source": [
    "df.drop(columns='history').groupby('w_len').mean()"
   ]
  },
  {
   "cell_type": "code",
   "execution_count": null,
   "metadata": {},
   "outputs": [],
   "source": [
    "ax = sns.lineplot(df, x='w_len', y='train_rmse', label='train')\n",
    "ax = sns.lineplot(df, x='w_len', y='val_rmse', ax=ax, label='val')\n",
    "ax.legend()\n",
    "ax.set_ylabel('RMSE')\n",
    "ax.set_xlabel('window length')\n",
    "ax.set_ylim(0, 1)"
   ]
  },
  {
   "cell_type": "code",
   "execution_count": null,
   "metadata": {},
   "outputs": [],
   "source": [
    "ax = sns.lineplot(df, x='w_len', y='train_r2', label='train')\n",
    "ax = sns.lineplot(df, x='w_len', y='val_r2', ax=ax, label='val')\n",
    "ax.legend()\n",
    "ax.set_ylabel('R2')\n",
    "ax.set_xlabel('window length')\n",
    "ax.set_ylim(0, 1)"
   ]
  }
 ],
 "metadata": {
  "kernelspec": {
   "display_name": "toml",
   "language": "python",
   "name": "python3"
  },
  "language_info": {
   "codemirror_mode": {
    "name": "ipython",
    "version": 3
   },
   "file_extension": ".py",
   "mimetype": "text/x-python",
   "name": "python",
   "nbconvert_exporter": "python",
   "pygments_lexer": "ipython3",
   "version": "3.11.3"
  },
  "orig_nbformat": 4
 },
 "nbformat": 4,
 "nbformat_minor": 2
}
