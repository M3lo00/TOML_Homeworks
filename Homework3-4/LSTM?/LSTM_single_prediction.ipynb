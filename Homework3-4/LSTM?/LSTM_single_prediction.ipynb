{
 "cells": [
  {
   "cell_type": "code",
   "execution_count": 19,
   "metadata": {},
   "outputs": [],
   "source": [
    "from math import sqrt\n",
    "from numpy import concatenate\n",
    "from matplotlib import pyplot\n",
    "from pandas import read_csv\n",
    "from pandas import DataFrame\n",
    "from pandas import concat\n",
    "from sklearn.preprocessing import MinMaxScaler, StandardScaler\n",
    "from sklearn.preprocessing import LabelEncoder\n",
    "from sklearn.metrics import mean_squared_error, r2_score\n",
    "import tensorflow as tf\n",
    "from tensorflow.keras.models import Sequential\n",
    "from tensorflow.keras.layers import Dense\n",
    "from tensorflow.keras.layers import LSTM\n",
    "\n",
    "tf.config.set_visible_devices([], 'GPU') #disables GPU\n"
   ]
  },
  {
   "cell_type": "code",
   "execution_count": 20,
   "metadata": {},
   "outputs": [],
   "source": [
    "# convert series to supervised learning\n",
    "def series_to_supervised(data, n_in=1, n_out=1, dropnan=True):\n",
    "    n_vars = 1 if type(data) is list else data.shape[1]\n",
    "    df = DataFrame(data)\n",
    "    cols, names = list(), list()\n",
    "    # input sequence (t-n, ... t-1)\n",
    "    for i in range(n_in, 0, -1):\n",
    "        cols.append(df.shift(i))\n",
    "        names += [('var%d(t-%d)' % (j + 1, i)) for j in range(n_vars)]\n",
    "    # forecast sequence (t, t+1, ... t+n)\n",
    "    for i in range(0, n_out):\n",
    "        cols.append(df.shift(-i))\n",
    "        if i == 0:\n",
    "            names += [('var%d(t)' % (j + 1)) for j in range(n_vars)]\n",
    "        else:\n",
    "            names += [('var%d(t+%d)' % (j + 1, i)) for j in range(n_vars)]\n",
    "    # put it all together\n",
    "    agg = concat(cols, axis=1)\n",
    "    agg.columns = names\n",
    "    # drop rows with NaN values\n",
    "    if dropnan:\n",
    "        agg.dropna(inplace=True)\n",
    "    return agg\n",
    "\n",
    "\n"
   ]
  },
  {
   "cell_type": "code",
   "execution_count": 21,
   "metadata": {},
   "outputs": [
    {
     "ename": "AttributeError",
     "evalue": "'numpy.ndarray' object has no attribute 'describe'",
     "output_type": "error",
     "traceback": [
      "\u001b[0;31m---------------------------------------------------------------------------\u001b[0m",
      "\u001b[0;31mAttributeError\u001b[0m                            Traceback (most recent call last)",
      "Cell \u001b[0;32mIn[21], line 14\u001b[0m\n\u001b[1;32m      8\u001b[0m scaled \u001b[39m=\u001b[39m scaler\u001b[39m.\u001b[39mfit_transform(values)\n\u001b[1;32m      9\u001b[0m \u001b[39m# frame as supervised learning\u001b[39;00m\n\u001b[1;32m     10\u001b[0m \u001b[39m#reframed = series_to_supervised(scaled, 1, 1)\u001b[39;00m\n\u001b[1;32m     11\u001b[0m \u001b[39m# drop columns we don't want to predict\u001b[39;00m\n\u001b[1;32m     12\u001b[0m \u001b[39m#reframed.drop(reframed.columns[range(len(dataset.columns), len(dataset.columns)*2)], axis=1, inplace=True)\u001b[39;00m\n\u001b[0;32m---> 14\u001b[0m scaled\u001b[39m.\u001b[39;49mdescribe()\n",
      "\u001b[0;31mAttributeError\u001b[0m: 'numpy.ndarray' object has no attribute 'describe'"
     ]
    }
   ],
   "source": [
    "# load dataset\n",
    "dataset = read_csv('../semi_filled', header=0, index_col=0)\n",
    "values = dataset.values\n",
    "# ensure all data is float\n",
    "values = values.astype('float32')\n",
    "# normalize features\n",
    "scaler = StandardScaler()\n",
    "scaled = scaler.fit_transform(values)\n",
    "# frame as supervised learning\n",
    "reframed = series_to_supervised(scaled, 1, 1)\n",
    "# drop columns we don't want to predict\n",
    "reframed.drop(reframed.columns[range(len(dataset.columns), len(dataset.columns)*2)], axis=1, inplace=True)\n",
    "\n",
    "reframed.describe()"
   ]
  },
  {
   "cell_type": "code",
   "execution_count": 16,
   "metadata": {},
   "outputs": [],
   "source": [
    "import numpy as np\n",
    "def create_sequences(data, seq_length):\n",
    "    x = []\n",
    "    y = []\n",
    "    for i in range(len(data) - seq_length - 1):\n",
    "        x.append(data[i:i+seq_length, 1:])  # Exclude BC concentration from input features\n",
    "        y.append(data[i:i+seq_length, 0])  # BC concentration as the target variable\n",
    "    return np.array(x), np.array(y)\n",
    "\n",
    "seq_length = 24*2\n",
    "x, y = create_sequences(scaled, seq_length)\n"
   ]
  },
  {
   "cell_type": "code",
   "execution_count": 17,
   "metadata": {},
   "outputs": [],
   "source": [
    "\n",
    "# Split the dataset into training and validation sets\n",
    "train_size = 24*25\n",
    "x_train, x_val = x[:train_size], x[train_size:]\n",
    "y_train, y_val = y[:train_size], y[train_size:]"
   ]
  },
  {
   "cell_type": "code",
   "execution_count": 18,
   "metadata": {},
   "outputs": [
    {
     "name": "stdout",
     "output_type": "stream",
     "text": [
      "(3959, 1, 12) (3959,) (0, 1, 12) (0,)\n"
     ]
    }
   ],
   "source": [
    "# split into train and test sets\n",
    "values = reframed.values\n",
    "n_train_hours = 170 * 24\n",
    "train = values[:n_train_hours, :]\n",
    "test = values[n_train_hours:, :]\n",
    "# split into input and outputs\n",
    "train_X, train_y = train[:, 1:], train[:, 0]\n",
    "test_X, test_y = test[:, 1:], test[:, 0]\n",
    "# reshape input to be 3D [samples, timesteps, features]\n",
    "train_X = train_X.reshape((train_X.shape[0], 1, train_X.shape[1]))\n",
    "test_X = test_X.reshape((test_X.shape[0], 1, test_X.shape[1]))\n",
    "print(train_X.shape, train_y.shape, test_X.shape, test_y.shape)\n",
    "\n"
   ]
  },
  {
   "cell_type": "code",
   "execution_count": 7,
   "metadata": {},
   "outputs": [
    {
     "name": "stdout",
     "output_type": "stream",
     "text": [
      "Epoch 1/50\n"
     ]
    },
    {
     "name": "stderr",
     "output_type": "stream",
     "text": [
      "2023-06-05 10:46:00.735530: W tensorflow/tsl/platform/profile_utils/cpu_utils.cc:128] Failed to get CPU frequency: 0 Hz\n"
     ]
    },
    {
     "name": "stdout",
     "output_type": "stream",
     "text": [
      "57/57 - 1s - loss: 0.1168 - val_loss: 0.0644 - 975ms/epoch - 17ms/step\n",
      "Epoch 2/50\n",
      "57/57 - 0s - loss: 0.0513 - val_loss: 0.0565 - 72ms/epoch - 1ms/step\n",
      "Epoch 3/50\n",
      "57/57 - 0s - loss: 0.0441 - val_loss: 0.0503 - 63ms/epoch - 1ms/step\n",
      "Epoch 4/50\n",
      "57/57 - 0s - loss: 0.0395 - val_loss: 0.0461 - 59ms/epoch - 1ms/step\n",
      "Epoch 5/50\n",
      "57/57 - 0s - loss: 0.0368 - val_loss: 0.0431 - 57ms/epoch - 1ms/step\n",
      "Epoch 6/50\n",
      "57/57 - 0s - loss: 0.0350 - val_loss: 0.0408 - 60ms/epoch - 1ms/step\n",
      "Epoch 7/50\n",
      "57/57 - 0s - loss: 0.0336 - val_loss: 0.0388 - 59ms/epoch - 1ms/step\n",
      "Epoch 8/50\n",
      "57/57 - 0s - loss: 0.0325 - val_loss: 0.0372 - 59ms/epoch - 1ms/step\n",
      "Epoch 9/50\n",
      "57/57 - 0s - loss: 0.0318 - val_loss: 0.0359 - 63ms/epoch - 1ms/step\n",
      "Epoch 10/50\n",
      "57/57 - 0s - loss: 0.0312 - val_loss: 0.0350 - 60ms/epoch - 1ms/step\n",
      "Epoch 11/50\n",
      "57/57 - 0s - loss: 0.0308 - val_loss: 0.0342 - 59ms/epoch - 1ms/step\n",
      "Epoch 12/50\n",
      "57/57 - 0s - loss: 0.0305 - val_loss: 0.0337 - 66ms/epoch - 1ms/step\n",
      "Epoch 13/50\n",
      "57/57 - 0s - loss: 0.0303 - val_loss: 0.0333 - 79ms/epoch - 1ms/step\n",
      "Epoch 14/50\n",
      "57/57 - 0s - loss: 0.0301 - val_loss: 0.0330 - 69ms/epoch - 1ms/step\n",
      "Epoch 15/50\n",
      "57/57 - 0s - loss: 0.0300 - val_loss: 0.0327 - 69ms/epoch - 1ms/step\n",
      "Epoch 16/50\n",
      "57/57 - 0s - loss: 0.0298 - val_loss: 0.0325 - 71ms/epoch - 1ms/step\n",
      "Epoch 17/50\n",
      "57/57 - 0s - loss: 0.0297 - val_loss: 0.0324 - 73ms/epoch - 1ms/step\n",
      "Epoch 18/50\n",
      "57/57 - 0s - loss: 0.0296 - val_loss: 0.0322 - 67ms/epoch - 1ms/step\n",
      "Epoch 19/50\n",
      "57/57 - 0s - loss: 0.0295 - val_loss: 0.0321 - 66ms/epoch - 1ms/step\n",
      "Epoch 20/50\n",
      "57/57 - 0s - loss: 0.0294 - val_loss: 0.0320 - 59ms/epoch - 1ms/step\n",
      "Epoch 21/50\n",
      "57/57 - 0s - loss: 0.0293 - val_loss: 0.0319 - 58ms/epoch - 1ms/step\n",
      "Epoch 22/50\n",
      "57/57 - 0s - loss: 0.0292 - val_loss: 0.0319 - 63ms/epoch - 1ms/step\n",
      "Epoch 23/50\n",
      "57/57 - 0s - loss: 0.0291 - val_loss: 0.0318 - 60ms/epoch - 1ms/step\n",
      "Epoch 24/50\n",
      "57/57 - 0s - loss: 0.0291 - val_loss: 0.0317 - 57ms/epoch - 1ms/step\n",
      "Epoch 25/50\n",
      "57/57 - 0s - loss: 0.0290 - val_loss: 0.0317 - 60ms/epoch - 1ms/step\n",
      "Epoch 26/50\n",
      "57/57 - 0s - loss: 0.0289 - val_loss: 0.0316 - 57ms/epoch - 993us/step\n",
      "Epoch 27/50\n",
      "57/57 - 0s - loss: 0.0288 - val_loss: 0.0316 - 56ms/epoch - 991us/step\n",
      "Epoch 28/50\n",
      "57/57 - 0s - loss: 0.0287 - val_loss: 0.0315 - 58ms/epoch - 1ms/step\n",
      "Epoch 29/50\n",
      "57/57 - 0s - loss: 0.0287 - val_loss: 0.0315 - 86ms/epoch - 2ms/step\n",
      "Epoch 30/50\n",
      "57/57 - 0s - loss: 0.0286 - val_loss: 0.0314 - 104ms/epoch - 2ms/step\n",
      "Epoch 31/50\n",
      "57/57 - 0s - loss: 0.0285 - val_loss: 0.0314 - 56ms/epoch - 982us/step\n",
      "Epoch 32/50\n",
      "57/57 - 0s - loss: 0.0284 - val_loss: 0.0314 - 55ms/epoch - 961us/step\n",
      "Epoch 33/50\n",
      "57/57 - 0s - loss: 0.0284 - val_loss: 0.0313 - 56ms/epoch - 981us/step\n",
      "Epoch 34/50\n",
      "57/57 - 0s - loss: 0.0283 - val_loss: 0.0313 - 53ms/epoch - 930us/step\n",
      "Epoch 35/50\n",
      "57/57 - 0s - loss: 0.0282 - val_loss: 0.0313 - 53ms/epoch - 934us/step\n",
      "Epoch 36/50\n",
      "57/57 - 0s - loss: 0.0281 - val_loss: 0.0312 - 53ms/epoch - 937us/step\n",
      "Epoch 37/50\n",
      "57/57 - 0s - loss: 0.0280 - val_loss: 0.0312 - 55ms/epoch - 961us/step\n",
      "Epoch 38/50\n",
      "57/57 - 0s - loss: 0.0280 - val_loss: 0.0312 - 53ms/epoch - 933us/step\n",
      "Epoch 39/50\n",
      "57/57 - 0s - loss: 0.0279 - val_loss: 0.0311 - 54ms/epoch - 946us/step\n",
      "Epoch 40/50\n",
      "57/57 - 0s - loss: 0.0278 - val_loss: 0.0311 - 53ms/epoch - 931us/step\n",
      "Epoch 41/50\n",
      "57/57 - 0s - loss: 0.0277 - val_loss: 0.0311 - 54ms/epoch - 955us/step\n",
      "Epoch 42/50\n",
      "57/57 - 0s - loss: 0.0276 - val_loss: 0.0310 - 53ms/epoch - 930us/step\n",
      "Epoch 43/50\n",
      "57/57 - 0s - loss: 0.0275 - val_loss: 0.0310 - 54ms/epoch - 939us/step\n",
      "Epoch 44/50\n",
      "57/57 - 0s - loss: 0.0274 - val_loss: 0.0309 - 55ms/epoch - 966us/step\n",
      "Epoch 45/50\n",
      "57/57 - 0s - loss: 0.0273 - val_loss: 0.0309 - 54ms/epoch - 940us/step\n",
      "Epoch 46/50\n",
      "57/57 - 0s - loss: 0.0272 - val_loss: 0.0309 - 54ms/epoch - 942us/step\n",
      "Epoch 47/50\n",
      "57/57 - 0s - loss: 0.0270 - val_loss: 0.0308 - 54ms/epoch - 945us/step\n",
      "Epoch 48/50\n",
      "57/57 - 0s - loss: 0.0269 - val_loss: 0.0308 - 55ms/epoch - 963us/step\n",
      "Epoch 49/50\n",
      "57/57 - 0s - loss: 0.0268 - val_loss: 0.0307 - 53ms/epoch - 934us/step\n",
      "Epoch 50/50\n",
      "57/57 - 0s - loss: 0.0266 - val_loss: 0.0307 - 54ms/epoch - 942us/step\n"
     ]
    }
   ],
   "source": [
    "# design network\n",
    "model = Sequential()\n",
    "model.add(LSTM(50, input_shape=(train_X.shape[1], train_X.shape[2])))\n",
    "model.add(Dense(1))\n",
    "model.compile(loss='mse', optimizer='adam')\n",
    "# fit network\n",
    "history = model.fit(train_X, train_y, epochs=50, batch_size=72, validation_data=(test_X, test_y), verbose=2,\n",
    "                    shuffle=False)"
   ]
  },
  {
   "cell_type": "code",
   "execution_count": 8,
   "metadata": {},
   "outputs": [
    {
     "data": {
      "image/png": "[encoded data removed]",
      "text/plain": [
       "<Figure size 640x480 with 1 Axes>"
      ]
     },
     "metadata": {},
     "output_type": "display_data"
    }
   ],
   "source": [
    "# plot history\n",
    "pyplot.plot(history.history['loss'], label='train')\n",
    "pyplot.plot(history.history['val_loss'], label='test')\n",
    "pyplot.legend()\n",
    "pyplot.show()\n",
    "\n"
   ]
  },
  {
   "cell_type": "code",
   "execution_count": 9,
   "metadata": {},
   "outputs": [
    {
     "name": "stdout",
     "output_type": "stream",
     "text": [
      "16/16 [==============================] - 0s 486us/step\n"
     ]
    },
    {
     "data": {
      "text/plain": [
       "(0.1751227282707589, 0.6131907684717626)"
      ]
     },
     "execution_count": 9,
     "metadata": {},
     "output_type": "execute_result"
    }
   ],
   "source": [
    "# make a prediction\n",
    "yhat = model.predict(test_X)\n",
    "rmse = sqrt(mean_squared_error(test_y, yhat))\n",
    "r2 = r2_score(test_y, yhat)\n",
    "rmse, r2"
   ]
  },
  {
   "cell_type": "code",
   "execution_count": 15,
   "metadata": {},
   "outputs": [
    {
     "ename": "ValueError",
     "evalue": "operands could not be broadcast together with shapes (503,12) (13,) (503,12) ",
     "output_type": "error",
     "traceback": [
      "\u001b[0;31m---------------------------------------------------------------------------\u001b[0m",
      "\u001b[0;31mValueError\u001b[0m                                Traceback (most recent call last)",
      "Cell \u001b[0;32mIn[15], line 5\u001b[0m\n\u001b[1;32m      2\u001b[0m \u001b[39m# invert scaling for forecast\u001b[39;00m\n\u001b[1;32m      3\u001b[0m inv_yhat \u001b[39m=\u001b[39m concatenate((yhat, test_X[:, \u001b[39m1\u001b[39m:]), axis\u001b[39m=\u001b[39m\u001b[39m1\u001b[39m)\n\u001b[0;32m----> 5\u001b[0m inv_yhat \u001b[39m=\u001b[39m scaler\u001b[39m.\u001b[39;49minverse_transform(inv_yhat)\n\u001b[1;32m      6\u001b[0m inv_yhat \u001b[39m=\u001b[39m inv_yhat[:, \u001b[39m0\u001b[39m]\n\u001b[1;32m      7\u001b[0m \u001b[39m# invert scaling for actual\u001b[39;00m\n",
      "File \u001b[0;32m~/miniconda3/envs/my_tf_env/lib/python3.9/site-packages/sklearn/preprocessing/_data.py:541\u001b[0m, in \u001b[0;36mMinMaxScaler.inverse_transform\u001b[0;34m(self, X)\u001b[0m\n\u001b[1;32m    535\u001b[0m check_is_fitted(\u001b[39mself\u001b[39m)\n\u001b[1;32m    537\u001b[0m X \u001b[39m=\u001b[39m check_array(\n\u001b[1;32m    538\u001b[0m     X, copy\u001b[39m=\u001b[39m\u001b[39mself\u001b[39m\u001b[39m.\u001b[39mcopy, dtype\u001b[39m=\u001b[39mFLOAT_DTYPES, force_all_finite\u001b[39m=\u001b[39m\u001b[39m\"\u001b[39m\u001b[39mallow-nan\u001b[39m\u001b[39m\"\u001b[39m\n\u001b[1;32m    539\u001b[0m )\n\u001b[0;32m--> 541\u001b[0m X \u001b[39m-\u001b[39m\u001b[39m=\u001b[39m \u001b[39mself\u001b[39m\u001b[39m.\u001b[39mmin_\n\u001b[1;32m    542\u001b[0m X \u001b[39m/\u001b[39m\u001b[39m=\u001b[39m \u001b[39mself\u001b[39m\u001b[39m.\u001b[39mscale_\n\u001b[1;32m    543\u001b[0m \u001b[39mreturn\u001b[39;00m X\n",
      "\u001b[0;31mValueError\u001b[0m: operands could not be broadcast together with shapes (503,12) (13,) (503,12) "
     ]
    }
   ],
   "source": [
    "test_X = test_X.reshape((test_X.shape[0], test_X.shape[2]))\n",
    "# invert scaling for forecast\n",
    "inv_yhat = concatenate((yhat, test_X[:, 1:]), axis=1)\n",
    "\n",
    "inv_yhat = scaler.inverse_transform(inv_yhat)\n",
    "inv_yhat = inv_yhat[:, 0]\n",
    "# invert scaling for actual\n",
    "test_y = test_y.reshape((len(test_y), 1))\n",
    "inv_y = concatenate((test_y, test_X[:, 1:]), axis=1)\n",
    "inv_y = scaler.inverse_transform(inv_y)\n",
    "inv_y = inv_y[:, 0]\n",
    "# calculate RMSE\n",
    "rmse = sqrt(mean_squared_error(inv_y, inv_yhat))\n",
    "print('Test RMSE: %.3f' % rmse)"
   ]
  },
  {
   "cell_type": "code",
   "execution_count": null,
   "metadata": {},
   "outputs": [],
   "source": []
  }
 ],
 "metadata": {
  "kernelspec": {
   "display_name": "my_tf_env",
   "language": "python",
   "name": "python3"
  },
  "language_info": {
   "codemirror_mode": {
    "name": "ipython",
    "version": 3
   },
   "file_extension": ".py",
   "mimetype": "text/x-python",
   "name": "python",
   "nbconvert_exporter": "python",
   "pygments_lexer": "ipython3",
   "version": "3.9.16"
  },
  "orig_nbformat": 4
 },
 "nbformat": 4,
 "nbformat_minor": 2
}
