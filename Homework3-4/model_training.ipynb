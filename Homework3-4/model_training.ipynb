{
 "cells": [
  {
   "attachments": {},
   "cell_type": "markdown",
   "metadata": {},
   "source": [
    "# Model training"
   ]
  },
  {
   "cell_type": "code",
   "execution_count": 1,
   "metadata": {},
   "outputs": [],
   "source": [
    "import random\n",
    "import numpy as np\n",
    "import pandas as pd\n",
    "import matplotlib.pyplot as plt\n",
    "from sklearn.ensemble import ExtraTreesRegressor, RandomForestRegressor\n",
    "from sklearn.preprocessing import StandardScaler\n",
    "from sklearn import preprocessing\n",
    "from sklearn.metrics import f1_score\n",
    "from sklearn.model_selection import train_test_split\n",
    "from sklearn import metrics\n",
    "import seaborn as sns\n",
    "from scipy import stats\n",
    "\n",
    "# Load the CSV file\n",
    "data = pd.read_csv(\"BC-Data-Set.csv\")"
   ]
  },
  {
   "cell_type": "code",
   "execution_count": 2,
   "metadata": {},
   "outputs": [],
   "source": [
    "# Convert the date column to a datetime object\n",
    "data['date'] = pd.to_datetime(data['date'])\n",
    "\n",
    "# Remove any missing values\n",
    "data = data.dropna()\n",
    "\n",
    "# Set the date column as the index of the DataFrame\n",
    "data = data.set_index('date')"
   ]
  },
  {
   "cell_type": "code",
   "execution_count": 3,
   "metadata": {},
   "outputs": [],
   "source": [
    "seed = 42"
   ]
  },
  {
   "cell_type": "code",
   "execution_count": 4,
   "metadata": {},
   "outputs": [],
   "source": [
    "x_train, x_test, y_train, y_test = train_test_split(data, data.BC, test_size=0.15, random_state=seed, shuffle=True)\n",
    "x_train = x_train.drop(columns=['BC'])\n",
    "x_test = x_test.drop(columns=['BC'])\n",
    "\n",
    "x_train, x_val, y_train, y_val = train_test_split(x_train, y_train, test_size=0.15, random_state=seed, shuffle=True)"
   ]
  },
  {
   "cell_type": "code",
   "execution_count": 5,
   "metadata": {},
   "outputs": [],
   "source": [
    "from sklearn.preprocessing import StandardScaler"
   ]
  },
  {
   "attachments": {},
   "cell_type": "markdown",
   "metadata": {},
   "source": [
    "## Random Forrest"
   ]
  },
  {
   "cell_type": "code",
   "execution_count": 6,
   "metadata": {},
   "outputs": [],
   "source": [
    "# TODO: tune max_depth, n_estimators?"
   ]
  },
  {
   "cell_type": "code",
   "execution_count": 14,
   "metadata": {},
   "outputs": [
    {
     "name": "stdout",
     "output_type": "stream",
     "text": [
      "max_depth=2, n_estimators=50, r2=0.40859020831631543, rmse=0.9621573425414366\n",
      "max_depth=2, n_estimators=100, r2=0.4198288587984397, rmse=0.9529714817731627\n",
      "max_depth=2, n_estimators=200, r2=0.42060636812628294, rmse=0.9523327110967679\n",
      "max_depth=2, n_estimators=500, r2=0.41918619337373053, rmse=0.9534991470338141\n",
      "max_depth=3, n_estimators=50, r2=0.5264543103355088, rmse=0.8609596280473768\n",
      "max_depth=3, n_estimators=100, r2=0.5383240218859595, rmse=0.8501009120257211\n",
      "max_depth=3, n_estimators=200, r2=0.5465458508021868, rmse=0.8424973299835415\n",
      "max_depth=3, n_estimators=500, r2=0.545674088854252, rmse=0.8433067882901357\n",
      "max_depth=4, n_estimators=50, r2=0.6239502180797409, rmse=0.7672281230743938\n",
      "max_depth=4, n_estimators=100, r2=0.6236093346266407, rmse=0.7675757846631802\n",
      "max_depth=4, n_estimators=200, r2=0.6219407154218413, rmse=0.7692753158232053\n",
      "max_depth=4, n_estimators=500, r2=0.6237397588088724, rmse=0.7674427857246882\n",
      "max_depth=5, n_estimators=50, r2=0.6875866348814439, rmse=0.6993050194837281\n",
      "max_depth=5, n_estimators=100, r2=0.686341591773278, rmse=0.7006970840744164\n",
      "max_depth=5, n_estimators=200, r2=0.6901690970754095, rmse=0.6964087344480457\n",
      "max_depth=5, n_estimators=500, r2=0.6819898891326945, rmse=0.7055410827627521\n",
      "max_depth=7, n_estimators=50, r2=0.713592020646922, rmse=0.669567553042679\n",
      "max_depth=7, n_estimators=100, r2=0.7205029094064226, rmse=0.661440051663347\n",
      "max_depth=7, n_estimators=200, r2=0.7213639729524262, rmse=0.6604203965970319\n",
      "max_depth=7, n_estimators=500, r2=0.7249733030602414, rmse=0.6561290547261074\n",
      "max_depth=20, n_estimators=50, r2=0.7789224501217312, rmse=0.5882665639304276\n",
      "max_depth=20, n_estimators=100, r2=0.785100108404782, rmse=0.5799892463517042\n",
      "max_depth=20, n_estimators=200, r2=0.7773060779711038, rmse=0.590413154586954\n",
      "max_depth=20, n_estimators=500, r2=0.7840480016524942, rmse=0.5814072683742564\n"
     ]
    }
   ],
   "source": [
    "for max_depth in [2, 3, 4, 5, 7, 20]:\n",
    "    for n_estimators in [50, 100, 200, 500]:\n",
    "        clf = ExtraTreesRegressor(random_state=seed, max_depth=max_depth, n_estimators=n_estimators)\n",
    "        scaler = StandardScaler()\n",
    "\n",
    "        scaler.fit_transform(x_train)\n",
    "\n",
    "        clf.fit(scaler.fit_transform(x_train), y_train)\n",
    "        r2 = clf.score(scaler.transform(x_val), y_val)\n",
    "        y_hat = clf.predict(scaler.transform(x_val))\n",
    "        rmse = metrics.mean_squared_error(y_val, y_hat, squared=False)\n",
    "        print(f'{max_depth=}, {n_estimators=}, {r2=}, {rmse=}')"
   ]
  },
  {
   "cell_type": "code",
   "execution_count": 17,
   "metadata": {},
   "outputs": [
    {
     "name": "stdout",
     "output_type": "stream",
     "text": [
      "max_depth=2, n_estimators=50, r2=0.47475093584518757, rmse=0.9067435746424548\n",
      "max_depth=2, n_estimators=100, r2=0.4814574702210995, rmse=0.9009361933136755\n",
      "max_depth=2, n_estimators=200, r2=0.4765157975106761, rmse=0.9052189422353736\n",
      "max_depth=2, n_estimators=500, r2=0.4833051886782086, rmse=0.8993296114834504\n",
      "max_depth=3, n_estimators=50, r2=0.6214781166574186, rmse=0.7697458200946725\n",
      "max_depth=3, n_estimators=100, r2=0.6284941795460105, rmse=0.7625786713730348\n",
      "max_depth=3, n_estimators=200, r2=0.6212958696580739, rmse=0.7699311026246689\n",
      "max_depth=3, n_estimators=500, r2=0.6265923668516082, rmse=0.7645280761775678\n",
      "max_depth=4, n_estimators=50, r2=0.6718152917496625, rmse=0.7167389625835567\n",
      "max_depth=4, n_estimators=100, r2=0.684416913688264, rmse=0.7028436131600159\n",
      "max_depth=4, n_estimators=200, r2=0.6845917019967698, rmse=0.7026489483212731\n",
      "max_depth=4, n_estimators=500, r2=0.6912608299060028, rmse=0.6951807045718383\n",
      "max_depth=5, n_estimators=50, r2=0.7107817834276149, rmse=0.6728444353660255\n",
      "max_depth=5, n_estimators=100, r2=0.7180162677717522, rmse=0.6643759002067249\n",
      "max_depth=5, n_estimators=200, r2=0.718150297602248, rmse=0.6642179890175772\n",
      "max_depth=5, n_estimators=500, r2=0.726275584871575, rmse=0.6545737896523176\n",
      "max_depth=7, n_estimators=50, r2=0.7507211166781915, rmse=0.6246612823079727\n",
      "max_depth=7, n_estimators=100, r2=0.7595345206699159, rmse=0.6135192764232275\n",
      "max_depth=7, n_estimators=200, r2=0.7589568612926441, rmse=0.6142557492353177\n",
      "max_depth=7, n_estimators=500, r2=0.7653481513349816, rmse=0.606057504386549\n",
      "max_depth=20, n_estimators=50, r2=0.768976144333528, rmse=0.601354073241709\n",
      "max_depth=20, n_estimators=100, r2=0.779582702249111, rmse=0.5873874726829156\n",
      "max_depth=20, n_estimators=200, r2=0.7791019434015372, rmse=0.5880277080721966\n",
      "max_depth=20, n_estimators=500, r2=0.7872079506073546, rmse=0.5771378294075477\n"
     ]
    }
   ],
   "source": [
    "for max_depth in [2, 3, 4, 5, 7, 20]:\n",
    "    for n_estimators in [50, 100, 200, 500]:\n",
    "        clf = RandomForestRegressor(random_state=seed, max_depth=max_depth, n_estimators=n_estimators)\n",
    "        scaler = StandardScaler()\n",
    "\n",
    "        scaler.fit_transform(x_train)\n",
    "\n",
    "        clf.fit(scaler.fit_transform(x_train), y_train)\n",
    "        r2 = clf.score(scaler.transform(x_val), y_val)\n",
    "        y_hat = clf.predict(scaler.transform(x_val))\n",
    "        rmse = metrics.mean_squared_error(y_val, y_hat, squared=False)\n",
    "        print(f'{max_depth=}, {n_estimators=}, {r2=}, {rmse=}')"
   ]
  },
  {
   "cell_type": "code",
   "execution_count": 18,
   "metadata": {},
   "outputs": [
    {
     "name": "stdout",
     "output_type": "stream",
     "text": [
      "max_depth=2, n_estimators=100, r2=0.4814574702210995, rmse=0.9009361933136755\n",
      "max_depth=3, n_estimators=100, r2=0.6284941795460105, rmse=0.7625786713730348\n",
      "max_depth=4, n_estimators=100, r2=0.684416913688264, rmse=0.7028436131600159\n",
      "max_depth=5, n_estimators=100, r2=0.7180162677717522, rmse=0.6643759002067249\n",
      "max_depth=6, n_estimators=100, r2=0.7431444453810805, rmse=0.6340833129835743\n",
      "max_depth=7, n_estimators=100, r2=0.7595345206699159, rmse=0.6135192764232275\n",
      "max_depth=8, n_estimators=100, r2=0.7646311556584382, rmse=0.6069827244017877\n",
      "max_depth=9, n_estimators=100, r2=0.7774954851629102, rmse=0.5901620200139868\n",
      "max_depth=10, n_estimators=100, r2=0.7778492583081059, rmse=0.5896926665505288\n",
      "max_depth=11, n_estimators=100, r2=0.7806659480418452, rmse=0.5859423304432606\n",
      "max_depth=12, n_estimators=100, r2=0.7788660700439389, rmse=0.5883415701903593\n",
      "max_depth=13, n_estimators=100, r2=0.783773364139656, rmse=0.5817768540054152\n",
      "max_depth=14, n_estimators=100, r2=0.7753089247456635, rmse=0.5930547031849301\n",
      "max_depth=15, n_estimators=100, r2=0.7794021018847925, rmse=0.5876280633074175\n",
      "max_depth=16, n_estimators=100, r2=0.782191585467315, rmse=0.5839009340590106\n",
      "max_depth=17, n_estimators=100, r2=0.7841332539741881, rmse=0.5812924946914418\n",
      "max_depth=18, n_estimators=100, r2=0.7822164457933625, rmse=0.5838676103192859\n",
      "max_depth=19, n_estimators=100, r2=0.7783371248854346, rmse=0.5890447968550218\n",
      "max_depth=20, n_estimators=100, r2=0.779582702249111, rmse=0.5873874726829156\n"
     ]
    }
   ],
   "source": [
    "n_estimators = 100\n",
    "res = []\n",
    "for max_depth in range(2, 21):\n",
    "    clf = RandomForestRegressor(random_state=seed, max_depth=max_depth, n_estimators=n_estimators)\n",
    "    scaler = StandardScaler()\n",
    "\n",
    "    scaler.fit_transform(x_train)\n",
    "\n",
    "    clf.fit(scaler.fit_transform(x_train), y_train)\n",
    "    r2 = clf.score(scaler.transform(x_val), y_val)\n",
    "    y_hat = clf.predict(scaler.transform(x_val))\n",
    "    rmse = metrics.mean_squared_error(y_val, y_hat, squared=False)\n",
    "    print(f'{max_depth=}, {n_estimators=}, {r2=}, {rmse=}')\n",
    "    res.append(rmse)"
   ]
  },
  {
   "cell_type": "code",
   "execution_count": 29,
   "metadata": {},
   "outputs": [
    {
     "data": {
      "image/png": "[encoded data removed]",
      "text/plain": [
       "<Figure size 1000x400 with 1 Axes>"
      ]
     },
     "metadata": {},
     "output_type": "display_data"
    }
   ],
   "source": [
    "fig, ax = plt.subplots(figsize=(10,4))\n",
    "ax.plot(range(2,21), res)\n",
    "plt.xlabel(\"max depth\")\n",
    "plt.ylabel(\"RMSE\")\n",
    "plt.xticks(range(2, 21), range(2, 21))\n",
    "plt.show()"
   ]
  },
  {
   "cell_type": "code",
   "execution_count": 32,
   "metadata": {},
   "outputs": [
    {
     "name": "stdout",
     "output_type": "stream",
     "text": [
      "max_depth=7, n_estimators=100, r2=0.7595345206699159, rmse=0.6135192764232275\n"
     ]
    }
   ],
   "source": [
    "n_estimators = 100\n",
    "max_depth = 7\n",
    "clf = RandomForestRegressor(random_state=seed, max_depth=max_depth, n_estimators=n_estimators)\n",
    "scaler = StandardScaler()\n",
    "\n",
    "scaler.fit_transform(x_train)\n",
    "\n",
    "clf.fit(scaler.fit_transform(x_train), y_train)\n",
    "r2 = clf.score(scaler.transform(x_val), y_val)\n",
    "y_hat = clf.predict(scaler.transform(x_val))\n",
    "rmse = metrics.mean_squared_error(y_val, y_hat, squared=False)\n",
    "print(f'{max_depth=}, {n_estimators=}, {r2=}, {rmse=}')"
   ]
  },
  {
   "attachments": {},
   "cell_type": "markdown",
   "metadata": {},
   "source": [
    "## SVM"
   ]
  },
  {
   "cell_type": "code",
   "execution_count": 42,
   "metadata": {},
   "outputs": [],
   "source": [
    "from sklearn.svm import SVR"
   ]
  },
  {
   "cell_type": "code",
   "execution_count": 43,
   "metadata": {},
   "outputs": [
    {
     "data": {
      "text/plain": [
       "(0.7076857617858519, 0.6764361795167784)"
      ]
     },
     "execution_count": 43,
     "metadata": {},
     "output_type": "execute_result"
    }
   ],
   "source": [
    "# basic default just for fun\n",
    "clf = SVR(kernel='rbf' )\n",
    "scaler = StandardScaler()\n",
    "\n",
    "scaler.fit_transform(x_train)\n",
    "clf.fit(scaler.fit_transform(x_train), y_train)\n",
    "r2 = clf.score(scaler.transform(x_val), y_val)\n",
    "y_hat = clf.predict(scaler.transform(x_val))\n",
    "rmse = metrics.mean_squared_error(y_val, y_hat, squared=False)\n",
    "r2, rmse"
   ]
  },
  {
   "cell_type": "code",
   "execution_count": 44,
   "metadata": {},
   "outputs": [
    {
     "name": "stdout",
     "output_type": "stream",
     "text": [
      "C=0.001, gamma=0.001, r2=-0.048256746073391366, rmse=1.2809603176559399\n",
      "C=0.001, gamma=0.004641588833612777, r2=-0.013157557954555532, rmse=1.2593322851529487\n",
      "C=0.001, gamma=0.021544346900318832, r2=0.040529287305925865, rmse=1.2255123846735791\n",
      "C=0.001, gamma=0.1, r2=0.025670377816874645, rmse=1.2349654176346367\n",
      "C=0.001, gamma=0.46415888336127775, r2=-0.03647454678758821, rmse=1.2737411039064834\n",
      "C=0.001, gamma=2.154434690031882, r2=-0.05896710886512535, rmse=1.2874876705444787\n",
      "C=0.001, gamma=10.0, r2=-0.060806330431924405, rmse=1.2886052443500162\n",
      "C=0.001, gamma=46.41588833612773, r2=-0.060808934847699225, rmse=1.2886068261947272\n",
      "C=0.001, gamma=215.44346900318823, r2=-0.06081008339500893, rmse=1.288607523787599\n",
      "C=0.001, gamma=1000.0, r2=-0.06081030280055222, rmse=1.2886076570478422\n",
      "C=0.004641588833612777, gamma=0.001, r2=-0.0033616367490478805, rmse=1.253229441705253\n",
      "C=0.004641588833612777, gamma=0.004641588833612777, r2=0.10976723461367399, rmse=1.180466400856244\n",
      "C=0.004641588833612777, gamma=0.021544346900318832, r2=0.2104301427237889, rmse=1.1117243632957694\n",
      "C=0.004641588833612777, gamma=0.1, r2=0.15479604455699347, rmse=1.1502244725179678\n",
      "C=0.004641588833612777, gamma=0.46415888336127775, r2=0.01705956962138877, rmse=1.2404105248547328\n",
      "C=0.004641588833612777, gamma=2.154434690031882, r2=-0.05277012043466178, rmse=1.2837150071352854\n",
      "C=0.004641588833612777, gamma=10.0, r2=-0.06053108792254647, rmse=1.2884380592849445\n",
      "C=0.004641588833612777, gamma=46.41588833612773, r2=-0.060927895320010084, rmse=1.2886790771789742\n",
      "C=0.004641588833612777, gamma=215.44346900318823, r2=-0.060957199785992566, rmse=1.288696874708653\n",
      "C=0.004641588833612777, gamma=1000.0, r2=-0.06095821750280139, rmse=1.2886974927958654\n",
      "C=0.021544346900318832, gamma=0.001, r2=0.13892473307115738, rmse=1.1609737508024556\n",
      "C=0.021544346900318832, gamma=0.004641588833612777, r2=0.31379067857923526, rmse=1.036406551653676\n",
      "C=0.021544346900318832, gamma=0.021544346900318832, r2=0.3847391817343153, rmse=0.9813670506953612\n",
      "C=0.021544346900318832, gamma=0.1, r2=0.3057515127677193, rmse=1.0424597945886118\n",
      "C=0.021544346900318832, gamma=0.46415888336127775, r2=0.1146393324457341, rmse=1.1772317196195192\n",
      "C=0.021544346900318832, gamma=2.154434690031882, r2=-0.029893489903395798, rmse=1.2696908784129541\n",
      "C=0.021544346900318832, gamma=10.0, r2=-0.058053344932102124, rmse=1.2869320755293785\n",
      "C=0.021544346900318832, gamma=46.41588833612773, r2=-0.0603800108712087, rmse=1.2883462843441458\n",
      "C=0.021544346900318832, gamma=215.44346900318823, r2=-0.06043635102573863, rmse=1.2883805101235237\n",
      "C=0.021544346900318832, gamma=1000.0, r2=-0.06043991218011091, rmse=1.2883826734396109\n",
      "C=0.1, gamma=0.001, r2=0.3450867129835675, rmse=1.0124969972643223\n",
      "C=0.1, gamma=0.004641588833612777, r2=0.4664465253693102, rmse=0.913883464389307\n",
      "C=0.1, gamma=0.021544346900318832, r2=0.56055033099244, rmse=0.8293854533533981\n",
      "C=0.1, gamma=0.1, r2=0.47120558848304694, rmse=0.9097986152672585\n",
      "C=0.1, gamma=0.46415888336127775, r2=0.24141555990410835, rmse=1.089692114808167\n",
      "C=0.1, gamma=2.154434690031882, r2=0.02962255547310355, rmse=1.2324581746092902\n",
      "C=0.1, gamma=10.0, r2=-0.04681763905426162, rmse=1.2800807277459996\n",
      "C=0.1, gamma=46.41588833612773, r2=-0.056931484701709945, rmse=1.2862496237272247\n",
      "C=0.1, gamma=215.44346900318823, r2=-0.05775704785085245, rmse=1.2867518667908004\n",
      "C=0.1, gamma=1000.0, r2=-0.05778251432804282, rmse=1.2867673565669726\n",
      "C=0.46415888336127775, gamma=0.001, r2=0.4771495887916589, rmse=0.9046707942410702\n",
      "C=0.46415888336127775, gamma=0.004641588833612777, r2=0.5906838899564619, rmse=0.8004445688253203\n",
      "C=0.46415888336127775, gamma=0.021544346900318832, r2=0.6894520420638046, rmse=0.6972141330989856\n",
      "C=0.46415888336127775, gamma=0.1, r2=0.6241263457644184, rmse=0.7670484315207537\n",
      "C=0.46415888336127775, gamma=0.46415888336127775, r2=0.39092472320036453, rmse=0.9764214889666867\n",
      "C=0.46415888336127775, gamma=2.154434690031882, r2=0.12461833499395136, rmse=1.1705785618893794\n",
      "C=0.46415888336127775, gamma=10.0, r2=-0.003166502148681305, rmse=1.2531075712308053\n",
      "C=0.46415888336127775, gamma=46.41588833612773, r2=-0.03316852399810344, rmse=1.271708067761741\n",
      "C=0.46415888336127775, gamma=215.44346900318823, r2=-0.03678404429309623, rmse=1.273931263071919\n",
      "C=0.46415888336127775, gamma=1000.0, r2=-0.03691523214429804, rmse=1.27401185797475\n",
      "C=2.154434690031882, gamma=0.001, r2=0.5544431060607746, rmse=0.8351287348160097\n",
      "C=2.154434690031882, gamma=0.004641588833612777, r2=0.6937728070547646, rmse=0.6923468487258293\n",
      "C=2.154434690031882, gamma=0.021544346900318832, r2=0.7680333790673795, rmse=0.6025798308992417\n",
      "C=2.154434690031882, gamma=0.1, r2=0.7246789903226706, rmse=0.6564800306602812\n",
      "C=2.154434690031882, gamma=0.46415888336127775, r2=0.5173040590365214, rmse=0.8692379252520249\n",
      "C=2.154434690031882, gamma=2.154434690031882, r2=0.23084171338212933, rmse=1.0972603973309834\n",
      "C=2.154434690031882, gamma=10.0, r2=0.053035424405533105, rmse=1.2174992704642371\n",
      "C=2.154434690031882, gamma=46.41588833612773, r2=0.0057164856224933835, rmse=1.2475471329709802\n",
      "C=2.154434690031882, gamma=215.44346900318823, r2=-9.248926259086687e-05, rmse=1.2511861432692406\n",
      "C=2.154434690031882, gamma=1000.0, r2=-0.00036567875091897406, rmse=1.2513570212462843\n",
      "C=10.0, gamma=0.001, r2=0.6358219396083353, rmse=0.7550204805651007\n",
      "C=10.0, gamma=0.004641588833612777, r2=0.7484597551415222, rmse=0.6274882282198594\n",
      "C=10.0, gamma=0.021544346900318832, r2=0.8014386697989166, rmse=0.5575055304249631\n",
      "C=10.0, gamma=0.1, r2=0.7677251463935079, rmse=0.6029800460951366\n",
      "C=10.0, gamma=0.46415888336127775, r2=0.5293648305486292, rmse=0.8583097225574289\n",
      "C=10.0, gamma=2.154434690031882, r2=0.25670011526138703, rmse=1.0786582658435402\n",
      "C=10.0, gamma=10.0, r2=0.05799608282092916, rmse=1.2143061582155776\n",
      "C=10.0, gamma=46.41588833612773, r2=0.004843690274916157, rmse=1.248094569627688\n",
      "C=10.0, gamma=215.44346900318823, r2=-0.0015690177294220842, rmse=1.2521094231681216\n",
      "C=10.0, gamma=1000.0, r2=-0.0018524479887920275, rmse=1.252286575510544\n",
      "C=46.41588833612773, gamma=0.001, r2=0.7119356212084117, rmse=0.671500935630231\n",
      "C=46.41588833612773, gamma=0.004641588833612777, r2=0.7750680915311406, rmse=0.5933724483798453\n",
      "C=46.41588833612773, gamma=0.021544346900318832, r2=0.8157997574683347, rmse=0.5369661908634848\n",
      "C=46.41588833612773, gamma=0.1, r2=0.7884492027621348, rmse=0.5754520960433627\n",
      "C=46.41588833612773, gamma=0.46415888336127775, r2=0.51977912316309, rmse=0.867006515773311\n",
      "C=46.41588833612773, gamma=2.154434690031882, r2=0.2568027799427681, rmse=1.078583771057802\n",
      "C=46.41588833612773, gamma=10.0, r2=0.05800510462285147, rmse=1.214300343348111\n",
      "C=46.41588833612773, gamma=46.41588833612773, r2=0.004814667586328536, rmse=1.248112769178638\n",
      "C=46.41588833612773, gamma=215.44346900318823, r2=-0.0016015984500179492, rmse=1.2521297883625295\n",
      "C=46.41588833612773, gamma=1000.0, r2=-0.0018850361874827026, rmse=1.2523069424977002\n",
      "C=215.44346900318823, gamma=0.001, r2=0.7551421623167088, rmse=0.619097211800781\n",
      "C=215.44346900318823, gamma=0.004641588833612777, r2=0.7889659814939852, rmse=0.5747488057647094\n",
      "C=215.44346900318823, gamma=0.021544346900318832, r2=0.7950605979392831, rmse=0.5663886939088383\n",
      "C=215.44346900318823, gamma=0.1, r2=0.7561976057713229, rmse=0.617761482136253\n",
      "C=215.44346900318823, gamma=0.46415888336127775, r2=0.5051624685933371, rmse=0.8801023061021213\n",
      "C=215.44346900318823, gamma=2.154434690031882, r2=0.2568027799427681, rmse=1.078583771057802\n",
      "C=215.44346900318823, gamma=10.0, r2=0.05800510462285147, rmse=1.214300343348111\n",
      "C=215.44346900318823, gamma=46.41588833612773, r2=0.004814667586328536, rmse=1.248112769178638\n",
      "C=215.44346900318823, gamma=215.44346900318823, r2=-0.0016015984500179492, rmse=1.2521297883625295\n",
      "C=215.44346900318823, gamma=1000.0, r2=-0.0018850361874827026, rmse=1.2523069424977002\n",
      "C=1000.0, gamma=0.001, r2=0.766702604052897, rmse=0.6043058364768467\n",
      "C=1000.0, gamma=0.004641588833612777, r2=0.8045722845487733, rmse=0.5530888720444775\n",
      "C=1000.0, gamma=0.021544346900318832, r2=0.7525636955830481, rmse=0.6223483657383829\n",
      "C=1000.0, gamma=0.1, r2=0.7000113254694527, rmse=0.6852582497740165\n",
      "C=1000.0, gamma=0.46415888336127775, r2=0.49291925116741775, rmse=0.8909234796922317\n",
      "C=1000.0, gamma=2.154434690031882, r2=0.2568027799427681, rmse=1.078583771057802\n",
      "C=1000.0, gamma=10.0, r2=0.05800510462285147, rmse=1.214300343348111\n",
      "C=1000.0, gamma=46.41588833612773, r2=0.004814667586328536, rmse=1.248112769178638\n",
      "C=1000.0, gamma=215.44346900318823, r2=-0.0016015984500179492, rmse=1.2521297883625295\n",
      "C=1000.0, gamma=1000.0, r2=-0.0018850361874827026, rmse=1.2523069424977002\n"
     ]
    }
   ],
   "source": [
    "res = []\n",
    "for C in np.logspace(start=-3, stop=3, num=10, base=10, endpoint=True):\n",
    "    for gamma in np.logspace(start=-3, stop=3, num=10, base=10, endpoint=True):\n",
    "        clf = SVR(kernel='rbf', gamma=gamma, C=C)\n",
    "        scaler = StandardScaler()\n",
    "        scaler.fit_transform(x_train)\n",
    "        clf.fit(scaler.fit_transform(x_train), y_train)\n",
    "        r2 = clf.score(scaler.transform(x_val), y_val)\n",
    "        y_hat = clf.predict(scaler.transform(x_val))\n",
    "        rmse = metrics.mean_squared_error(y_val, y_hat, squared=False)\n",
    "        print(f'{C=}, {gamma=}, {r2=}, {rmse=}')\n",
    "        res.append({\n",
    "            'C': C,\n",
    "            'gamma': gamma,\n",
    "            'R2': r2,\n",
    "            'RMSE': rmse,\n",
    "        })"
   ]
  },
  {
   "cell_type": "code",
   "execution_count": 58,
   "metadata": {},
   "outputs": [
    {
     "data": {
      "text/html": [
       "<div>\n",
       "<style scoped>\n",
       "    .dataframe tbody tr th:only-of-type {\n",
       "        vertical-align: middle;\n",
       "    }\n",
       "\n",
       "    .dataframe tbody tr th {\n",
       "        vertical-align: top;\n",
       "    }\n",
       "\n",
       "    .dataframe thead th {\n",
       "        text-align: right;\n",
       "    }\n",
       "</style>\n",
       "<table border=\"1\" class=\"dataframe\">\n",
       "  <thead>\n",
       "    <tr style=\"text-align: right;\">\n",
       "      <th>gamma</th>\n",
       "      <th>0.001000</th>\n",
       "      <th>0.004642</th>\n",
       "      <th>0.021544</th>\n",
       "      <th>0.100000</th>\n",
       "      <th>0.464159</th>\n",
       "      <th>2.154435</th>\n",
       "      <th>10.000000</th>\n",
       "      <th>46.415888</th>\n",
       "      <th>215.443469</th>\n",
       "      <th>1000.000000</th>\n",
       "    </tr>\n",
       "    <tr>\n",
       "      <th>C</th>\n",
       "      <th></th>\n",
       "      <th></th>\n",
       "      <th></th>\n",
       "      <th></th>\n",
       "      <th></th>\n",
       "      <th></th>\n",
       "      <th></th>\n",
       "      <th></th>\n",
       "      <th></th>\n",
       "      <th></th>\n",
       "    </tr>\n",
       "  </thead>\n",
       "  <tbody>\n",
       "    <tr>\n",
       "      <th>0.001000</th>\n",
       "      <td>1.280960</td>\n",
       "      <td>1.259332</td>\n",
       "      <td>1.225512</td>\n",
       "      <td>1.234965</td>\n",
       "      <td>1.273741</td>\n",
       "      <td>1.287488</td>\n",
       "      <td>1.288605</td>\n",
       "      <td>1.288607</td>\n",
       "      <td>1.288608</td>\n",
       "      <td>1.288608</td>\n",
       "    </tr>\n",
       "    <tr>\n",
       "      <th>0.004642</th>\n",
       "      <td>1.253229</td>\n",
       "      <td>1.180466</td>\n",
       "      <td>1.111724</td>\n",
       "      <td>1.150224</td>\n",
       "      <td>1.240411</td>\n",
       "      <td>1.283715</td>\n",
       "      <td>1.288438</td>\n",
       "      <td>1.288679</td>\n",
       "      <td>1.288697</td>\n",
       "      <td>1.288697</td>\n",
       "    </tr>\n",
       "    <tr>\n",
       "      <th>0.021544</th>\n",
       "      <td>1.160974</td>\n",
       "      <td>1.036407</td>\n",
       "      <td>0.981367</td>\n",
       "      <td>1.042460</td>\n",
       "      <td>1.177232</td>\n",
       "      <td>1.269691</td>\n",
       "      <td>1.286932</td>\n",
       "      <td>1.288346</td>\n",
       "      <td>1.288381</td>\n",
       "      <td>1.288383</td>\n",
       "    </tr>\n",
       "    <tr>\n",
       "      <th>0.100000</th>\n",
       "      <td>1.012497</td>\n",
       "      <td>0.913883</td>\n",
       "      <td>0.829385</td>\n",
       "      <td>0.909799</td>\n",
       "      <td>1.089692</td>\n",
       "      <td>1.232458</td>\n",
       "      <td>1.280081</td>\n",
       "      <td>1.286250</td>\n",
       "      <td>1.286752</td>\n",
       "      <td>1.286767</td>\n",
       "    </tr>\n",
       "    <tr>\n",
       "      <th>0.464159</th>\n",
       "      <td>0.904671</td>\n",
       "      <td>0.800445</td>\n",
       "      <td>0.697214</td>\n",
       "      <td>0.767048</td>\n",
       "      <td>0.976421</td>\n",
       "      <td>1.170579</td>\n",
       "      <td>1.253108</td>\n",
       "      <td>1.271708</td>\n",
       "      <td>1.273931</td>\n",
       "      <td>1.274012</td>\n",
       "    </tr>\n",
       "    <tr>\n",
       "      <th>2.154435</th>\n",
       "      <td>0.835129</td>\n",
       "      <td>0.692347</td>\n",
       "      <td>0.602580</td>\n",
       "      <td>0.656480</td>\n",
       "      <td>0.869238</td>\n",
       "      <td>1.097260</td>\n",
       "      <td>1.217499</td>\n",
       "      <td>1.247547</td>\n",
       "      <td>1.251186</td>\n",
       "      <td>1.251357</td>\n",
       "    </tr>\n",
       "    <tr>\n",
       "      <th>10.000000</th>\n",
       "      <td>0.755020</td>\n",
       "      <td>0.627488</td>\n",
       "      <td>0.557506</td>\n",
       "      <td>0.602980</td>\n",
       "      <td>0.858310</td>\n",
       "      <td>1.078658</td>\n",
       "      <td>1.214306</td>\n",
       "      <td>1.248095</td>\n",
       "      <td>1.252109</td>\n",
       "      <td>1.252287</td>\n",
       "    </tr>\n",
       "    <tr>\n",
       "      <th>46.415888</th>\n",
       "      <td>0.671501</td>\n",
       "      <td>0.593372</td>\n",
       "      <td>0.536966</td>\n",
       "      <td>0.575452</td>\n",
       "      <td>0.867007</td>\n",
       "      <td>1.078584</td>\n",
       "      <td>1.214300</td>\n",
       "      <td>1.248113</td>\n",
       "      <td>1.252130</td>\n",
       "      <td>1.252307</td>\n",
       "    </tr>\n",
       "    <tr>\n",
       "      <th>215.443469</th>\n",
       "      <td>0.619097</td>\n",
       "      <td>0.574749</td>\n",
       "      <td>0.566389</td>\n",
       "      <td>0.617761</td>\n",
       "      <td>0.880102</td>\n",
       "      <td>1.078584</td>\n",
       "      <td>1.214300</td>\n",
       "      <td>1.248113</td>\n",
       "      <td>1.252130</td>\n",
       "      <td>1.252307</td>\n",
       "    </tr>\n",
       "    <tr>\n",
       "      <th>1000.000000</th>\n",
       "      <td>0.604306</td>\n",
       "      <td>0.553089</td>\n",
       "      <td>0.622348</td>\n",
       "      <td>0.685258</td>\n",
       "      <td>0.890923</td>\n",
       "      <td>1.078584</td>\n",
       "      <td>1.214300</td>\n",
       "      <td>1.248113</td>\n",
       "      <td>1.252130</td>\n",
       "      <td>1.252307</td>\n",
       "    </tr>\n",
       "  </tbody>\n",
       "</table>\n",
       "</div>"
      ],
      "text/plain": [
       "gamma        0.001000     0.004642     0.021544     0.100000     0.464159      \n",
       "C                                                                              \n",
       "0.001000        1.280960     1.259332     1.225512     1.234965     1.273741  \\\n",
       "0.004642        1.253229     1.180466     1.111724     1.150224     1.240411   \n",
       "0.021544        1.160974     1.036407     0.981367     1.042460     1.177232   \n",
       "0.100000        1.012497     0.913883     0.829385     0.909799     1.089692   \n",
       "0.464159        0.904671     0.800445     0.697214     0.767048     0.976421   \n",
       "2.154435        0.835129     0.692347     0.602580     0.656480     0.869238   \n",
       "10.000000       0.755020     0.627488     0.557506     0.602980     0.858310   \n",
       "46.415888       0.671501     0.593372     0.536966     0.575452     0.867007   \n",
       "215.443469      0.619097     0.574749     0.566389     0.617761     0.880102   \n",
       "1000.000000     0.604306     0.553089     0.622348     0.685258     0.890923   \n",
       "\n",
       "gamma        2.154435     10.000000    46.415888    215.443469   1000.000000  \n",
       "C                                                                             \n",
       "0.001000        1.287488     1.288605     1.288607     1.288608     1.288608  \n",
       "0.004642        1.283715     1.288438     1.288679     1.288697     1.288697  \n",
       "0.021544        1.269691     1.286932     1.288346     1.288381     1.288383  \n",
       "0.100000        1.232458     1.280081     1.286250     1.286752     1.286767  \n",
       "0.464159        1.170579     1.253108     1.271708     1.273931     1.274012  \n",
       "2.154435        1.097260     1.217499     1.247547     1.251186     1.251357  \n",
       "10.000000       1.078658     1.214306     1.248095     1.252109     1.252287  \n",
       "46.415888       1.078584     1.214300     1.248113     1.252130     1.252307  \n",
       "215.443469      1.078584     1.214300     1.248113     1.252130     1.252307  \n",
       "1000.000000     1.078584     1.214300     1.248113     1.252130     1.252307  "
      ]
     },
     "execution_count": 58,
     "metadata": {},
     "output_type": "execute_result"
    }
   ],
   "source": [
    "heatmap_data = pd.DataFrame(res).pivot(index='C', columns='gamma', values='RMSE')\n",
    "heatmap_data"
   ]
  },
  {
   "cell_type": "code",
   "execution_count": 89,
   "metadata": {},
   "outputs": [
    {
     "data": {
      "image/png": "[encoded data removed]",
      "text/plain": [
       "<Figure size 800x600 with 2 Axes>"
      ]
     },
     "metadata": {},
     "output_type": "display_data"
    }
   ],
   "source": [
    "p_range = np.logspace(start=-3, stop=3, num=10, base=10, endpoint=True)\n",
    "p_range_str = [f'{p:.1e}' for p in p_range]\n",
    "\n",
    "fig, ax = plt.subplots(figsize=(8,6))\n",
    "\n",
    "heatmap = ax.imshow(\n",
    "    heatmap_data,\n",
    "    interpolation=\"nearest\",\n",
    "    cmap=plt.cm.hot,\n",
    ")\n",
    "\n",
    "data = heatmap_data.values\n",
    "for i in range(data.shape[0]):\n",
    "    for j in range(data.shape[1]):\n",
    "        c = 'black' if data[i, j] >= 1 else 'white'\n",
    "        ax.text(j, i, f'{data[i, j]:.2f}', ha='center', va='center', color=c, fontsize=10)\n",
    "\n",
    "\n",
    "ax.set_xlabel(\"gamma\")\n",
    "ax.set_ylabel(\"C\")\n",
    "plt.colorbar(heatmap, ax=ax)\n",
    "ax.set_xticks(np.arange(len(p_range)), p_range_str, rotation=45)\n",
    "ax.set_yticks(np.arange(len(p_range)), p_range_str)\n",
    "plt.title(\"VAL RMSE\")\n",
    "plt.show()\n"
   ]
  },
  {
   "cell_type": "code",
   "execution_count": 93,
   "metadata": {},
   "outputs": [
    {
     "data": {
      "text/plain": [
       "C        46.415888\n",
       "gamma     0.021544\n",
       "R2        0.815800\n",
       "RMSE      0.536966\n",
       "Name: 72, dtype: float64"
      ]
     },
     "execution_count": 93,
     "metadata": {},
     "output_type": "execute_result"
    }
   ],
   "source": [
    "df = pd.DataFrame(res)\n",
    "df.iloc[df.RMSE.argmin()]"
   ]
  },
  {
   "cell_type": "code",
   "execution_count": 95,
   "metadata": {},
   "outputs": [],
   "source": [
    "C, gamma = (46.41588833612773, 0.021544346900318832)\n",
    "R2_best = 0.815800\n",
    "RMSE_best = 0.536966"
   ]
  },
  {
   "attachments": {},
   "cell_type": "markdown",
   "metadata": {},
   "source": [
    "# Subset selection / regularization"
   ]
  },
  {
   "cell_type": "code",
   "execution_count": 26,
   "metadata": {},
   "outputs": [],
   "source": [
    "# TODO: try different column combinations, also tune parameters after dropping"
   ]
  },
  {
   "cell_type": "code",
   "execution_count": 112,
   "metadata": {},
   "outputs": [
    {
     "name": "stdout",
     "output_type": "stream",
     "text": [
      "dropping N_CPC, r2=0.480859824729563, rmse=0.9014552301986178\n",
      "dropping PM-10, r2=0.8044824557921187, rmse=0.5532159716670562\n",
      "dropping PM-2.5, r2=0.817554355229402, rmse=0.5344026381597325\n",
      "dropping PM-1.0, r2=0.8010811515024917, rmse=0.5580072111590579\n",
      "dropping NO2, r2=0.8256240342838775, rmse=0.5224505082769422\n",
      "dropping O3, r2=0.8070711494563685, rmse=0.549541419904317\n",
      "dropping SO2, r2=0.7930328404712177, rmse=0.5691838419545688\n",
      "dropping CO, r2=0.7934051745887458, rmse=0.5686716303461132\n",
      "dropping NO, r2=0.8165219449428238, rmse=0.5359125247612576\n",
      "dropping NOX, r2=0.8215078490062798, rmse=0.528580825349596\n",
      "dropping TEMP, r2=0.7775241668348607, rmse=0.5901239817319627\n",
      "dropping HUM, r2=0.7975238652678018, rmse=0.5629745518867493\n",
      "dropping ['TEMP', 'SO2'], r2=0.7545319643129699, rmse=0.619868142440619\n"
     ]
    }
   ],
   "source": [
    "clf = SVR(C=C, gamma=gamma, kernel='rbf')\n",
    "scaler = StandardScaler()\n",
    "\n",
    "cols_to_drop = [\n",
    "    *[c for c in list(x_train.columns.values)],\n",
    "    ['TEMP', 'SO2'],\n",
    "]\n",
    "\n",
    "for cols in cols_to_drop:\n",
    "    _x_train = x_train.drop(columns=cols) \n",
    "    _x_val = x_val.drop(columns=cols)\n",
    "\n",
    "    scaler.fit_transform(_x_train)\n",
    "\n",
    "    clf.fit(scaler.fit_transform(_x_train), y_train)\n",
    "    r2 = clf.score(scaler.transform(_x_val), y_val)\n",
    "    y_hat = clf.predict(scaler.transform(_x_val))\n",
    "    rmse = metrics.mean_squared_error(y_val, y_hat, squared=False)\n",
    "    print(f'dropping {cols}, {r2=}, {rmse=}')"
   ]
  },
  {
   "cell_type": "code",
   "execution_count": 117,
   "metadata": {},
   "outputs": [],
   "source": [
    "def gridsearch(_x_train, _x_val):\n",
    "    _best = 1e9\n",
    "    _C = None\n",
    "    _gamma = None\n",
    "    for C in np.logspace(start=0, stop=3, num=4, base=10, endpoint=True):\n",
    "        for gamma in np.logspace(start=-3, stop=1, num=4, base=10, endpoint=True):\n",
    "            clf = SVR(kernel='rbf', gamma=gamma, C=C)\n",
    "            scaler = StandardScaler()\n",
    "            clf.fit(scaler.fit_transform(_x_train), y_train)\n",
    "            r2 = clf.score(scaler.transform(_x_val), y_val)\n",
    "            y_hat = clf.predict(scaler.transform(_x_val))\n",
    "            rmse = metrics.mean_squared_error(y_val, y_hat, squared=False)\n",
    "            print(f'{C=}, {gamma=}, {r2=}, {rmse=}')\n",
    "            if rmse < _best:\n",
    "                _best = rmse\n",
    "                _C = C\n",
    "                _gamma = gamma\n",
    "    return _best, _C, _gamma"
   ]
  },
  {
   "cell_type": "code",
   "execution_count": 118,
   "metadata": {},
   "outputs": [
    {
     "name": "stdout",
     "output_type": "stream",
     "text": [
      "C=1.0, gamma=0.001, r2=0.34262914908390785, rmse=1.0143949173188584\n",
      "C=1.0, gamma=0.021544346900318832, r2=0.4385332160049952, rmse=0.9374840283629244\n",
      "C=1.0, gamma=0.46415888336127775, r2=0.3511397100217648, rmse=1.0078071641451054\n",
      "C=1.0, gamma=10.0, r2=0.05250629214202773, rmse=1.2178393719815592\n",
      "C=10.0, gamma=0.001, r2=0.377415148575049, rmse=0.9871908419082442\n",
      "C=10.0, gamma=0.021544346900318832, r2=0.4738381359001348, rmse=0.9075311212192689\n",
      "C=10.0, gamma=0.46415888336127775, r2=0.4261578950982168, rmse=0.9477592866227766\n",
      "C=10.0, gamma=10.0, r2=0.08217225175998644, rmse=1.1986225248237665\n",
      "C=100.0, gamma=0.001, r2=0.41444379142171595, rmse=0.9573839404613884\n",
      "C=100.0, gamma=0.021544346900318832, r2=0.49939251893610204, rmse=0.8852185596132822\n",
      "C=100.0, gamma=0.46415888336127775, r2=0.3907588998741607, rmse=0.9765543973659749\n",
      "C=100.0, gamma=10.0, r2=0.08219838334665819, rmse=1.1986054616376731\n",
      "C=1000.0, gamma=0.001, r2=0.439208319314108, rmse=0.9369202470757843\n",
      "C=1000.0, gamma=0.021544346900318832, r2=0.44664993137493414, rmse=0.9306830987954081\n",
      "C=1000.0, gamma=0.46415888336127775, r2=0.3167015044441006, rmse=1.0342060532487707\n",
      "C=1000.0, gamma=10.0, r2=0.08219838334665819, rmse=1.1986054616376731\n",
      "dropping N_CPC, r2=0.49939251893610204, rmse=0.8852185596132822\n",
      "C=1.0, gamma=0.001, r2=0.5188353330109683, rmse=0.8678580724243402\n",
      "C=1.0, gamma=0.021544346900318832, r2=0.7224441201506346, rmse=0.6591390764322695\n",
      "C=1.0, gamma=0.46415888336127775, r2=0.47083775881263257, rmse=0.9101149884568213\n",
      "C=1.0, gamma=10.0, r2=0.03824998865445561, rmse=1.2269671720500142\n",
      "C=10.0, gamma=0.001, r2=0.6370785563706817, rmse=0.7537167347366743\n",
      "C=10.0, gamma=0.021544346900318832, r2=0.7985388665367172, rmse=0.561561699429678\n",
      "C=10.0, gamma=0.46415888336127775, r2=0.5418976021267935, rmse=0.8468044384001949\n",
      "C=10.0, gamma=10.0, r2=0.06468948393211982, rmse=1.2099843461530808\n",
      "C=100.0, gamma=0.001, r2=0.7424129801912184, rmse=0.6349855323946896\n",
      "C=100.0, gamma=0.021544346900318832, r2=0.8011817605556127, rmse=0.5578660790389598\n",
      "C=100.0, gamma=0.46415888336127775, r2=0.5175473485769639, rmse=0.8690188399735317\n",
      "C=100.0, gamma=10.0, r2=0.06470176305105113, rmse=1.2099764035553016\n",
      "C=1000.0, gamma=0.001, r2=0.7699783803049383, rmse=0.6000482475597654\n",
      "C=1000.0, gamma=0.021544346900318832, r2=0.7641747290058861, rmse=0.6075709690218178\n",
      "C=1000.0, gamma=0.46415888336127775, r2=0.492948812569995, rmse=0.8908975101286433\n",
      "C=1000.0, gamma=10.0, r2=0.06470176305105113, rmse=1.2099764035553016\n",
      "dropping PM-10, r2=0.8011817605556127, rmse=0.5578660790389598\n",
      "C=1.0, gamma=0.001, r2=0.5157141419165483, rmse=0.8706683082127383\n",
      "C=1.0, gamma=0.021544346900318832, r2=0.7225486416773059, rmse=0.6590149560031977\n",
      "C=1.0, gamma=0.46415888336127775, r2=0.4788029336194429, rmse=0.9032392977153914\n",
      "C=1.0, gamma=10.0, r2=0.03778597075281587, rmse=1.227263125296865\n",
      "C=10.0, gamma=0.001, r2=0.6220046410580871, rmse=0.7692102751073828\n",
      "C=10.0, gamma=0.021544346900318832, r2=0.7982913940223345, rmse=0.5619065015062034\n",
      "C=10.0, gamma=0.46415888336127775, r2=0.5478408571241071, rmse=0.8412934381991707\n",
      "C=10.0, gamma=10.0, r2=0.06447316193678132, rmse=1.210124262839004\n",
      "C=100.0, gamma=0.001, r2=0.7276202373827183, rmse=0.6529640357291429\n",
      "C=100.0, gamma=0.021544346900318832, r2=0.8171375516734137, rmse=0.5350127208241197\n",
      "C=100.0, gamma=0.46415888336127775, r2=0.5240190696089564, rmse=0.8631705607739402\n",
      "C=100.0, gamma=10.0, r2=0.06448446262360397, rmse=1.2101169539751362\n",
      "C=1000.0, gamma=0.001, r2=0.7601968522937301, rmse=0.6126737633420377\n",
      "C=1000.0, gamma=0.021544346900318832, r2=0.7142178098662015, rmse=0.6688356647650807\n",
      "C=1000.0, gamma=0.46415888336127775, r2=0.4937954710765603, rmse=0.8901534027207781\n",
      "C=1000.0, gamma=10.0, r2=0.06448446262360397, rmse=1.2101169539751362\n",
      "dropping PM-2.5, r2=0.8171375516734137, rmse=0.5350127208241197\n",
      "C=1.0, gamma=0.001, r2=0.5047176383189937, rmse=0.8804977977350971\n",
      "C=1.0, gamma=0.021544346900318832, r2=0.7082390296943419, rmse=0.6757957254495901\n",
      "C=1.0, gamma=0.46415888336127775, r2=0.4785255658887885, rmse=0.9034796061590993\n",
      "C=1.0, gamma=10.0, r2=0.0374198064816581, rmse=1.2274966165732961\n",
      "C=10.0, gamma=0.001, r2=0.6105231911843239, rmse=0.7808051058305391\n",
      "C=10.0, gamma=0.021544346900318832, r2=0.7873188872680197, rmse=0.5769873677463487\n",
      "C=10.0, gamma=0.46415888336127775, r2=0.5413203612248544, rmse=0.847337786701024\n",
      "C=10.0, gamma=10.0, r2=0.06412155131676034, rmse=1.2103516494585158\n",
      "C=100.0, gamma=0.001, r2=0.7087997137921169, rmse=0.6751460667059042\n",
      "C=100.0, gamma=0.021544346900318832, r2=0.7955865194551796, rmse=0.565661485408107\n",
      "C=100.0, gamma=0.46415888336127775, r2=0.5123848993254265, rmse=0.873655904554382\n",
      "C=100.0, gamma=10.0, r2=0.06413341036208198, rmse=1.2103439809089531\n",
      "C=1000.0, gamma=0.001, r2=0.7462598946754493, rmse=0.6302261233209595\n",
      "C=1000.0, gamma=0.021544346900318832, r2=0.758208635870449, rmse=0.6152083705340863\n",
      "C=1000.0, gamma=0.46415888336127775, r2=0.4674730665523842, rmse=0.9130038986757245\n",
      "C=1000.0, gamma=10.0, r2=0.06413341036208198, rmse=1.2103439809089531\n",
      "dropping PM-1.0, r2=0.7955865194551796, rmse=0.565661485408107\n",
      "C=1.0, gamma=0.001, r2=0.5193272152619673, rmse=0.8674143645157674\n",
      "C=1.0, gamma=0.021544346900318832, r2=0.728297324780516, rmse=0.6521519548103905\n",
      "C=1.0, gamma=0.46415888336127775, r2=0.4860260676676008, rmse=0.8969585823089878\n",
      "C=1.0, gamma=10.0, r2=0.0441427994776491, rmse=1.2232024750326989\n",
      "C=10.0, gamma=0.001, r2=0.6287624583299076, rmse=0.7623032778056755\n",
      "C=10.0, gamma=0.021544346900318832, r2=0.8028192429558778, rmse=0.5555640151535483\n",
      "C=10.0, gamma=0.46415888336127775, r2=0.5542649004802176, rmse=0.8352957277690997\n",
      "C=10.0, gamma=10.0, r2=0.07716976338412518, rmse=1.2018845460661007\n",
      "C=100.0, gamma=0.001, r2=0.7357703297149294, rmse=0.6431209164772553\n",
      "C=100.0, gamma=0.021544346900318832, r2=0.8298763797031387, rmse=0.5160409322975776\n",
      "C=100.0, gamma=0.46415888336127775, r2=0.5217909982413733, rmse=0.8651884569808743\n",
      "C=100.0, gamma=10.0, r2=0.0771864085796401, rmse=1.201873706752068\n",
      "C=1000.0, gamma=0.001, r2=0.7643324614681679, rmse=0.6073677471733432\n",
      "C=1000.0, gamma=0.021544346900318832, r2=0.7944389919075783, rmse=0.567247006319183\n",
      "C=1000.0, gamma=0.46415888336127775, r2=0.4993579191858535, rmse=0.8852491502586795\n",
      "C=1000.0, gamma=10.0, r2=0.0771864085796401, rmse=1.201873706752068\n",
      "dropping NO2, r2=0.8298763797031387, rmse=0.5160409322975776\n",
      "C=1.0, gamma=0.001, r2=0.5182017598910371, rmse=0.8684292601062908\n",
      "C=1.0, gamma=0.021544346900318832, r2=0.7234719263205018, rmse=0.65791752863198\n",
      "C=1.0, gamma=0.46415888336127775, r2=0.47505905971860507, rmse=0.906477576711518\n",
      "C=1.0, gamma=10.0, r2=0.05087561727894796, rmse=1.2188868967913138\n",
      "C=10.0, gamma=0.001, r2=0.6276900128634961, rmse=0.7634035694339741\n",
      "C=10.0, gamma=0.021544346900318832, r2=0.7958440468668816, rmse=0.5653050528286792\n",
      "C=10.0, gamma=0.46415888336127775, r2=0.5264543884314947, rmse=0.8609595570537059\n",
      "C=10.0, gamma=10.0, r2=0.08121218308259892, rmse=1.1992492541699464\n",
      "C=100.0, gamma=0.001, r2=0.730535316744193, rmse=0.6494605408565245\n",
      "C=100.0, gamma=0.021544346900318832, r2=0.8006846227206378, rmse=0.5585631055908252\n",
      "C=100.0, gamma=0.46415888336127775, r2=0.492137823517349, rmse=0.8916096862141382\n",
      "C=100.0, gamma=10.0, r2=0.08123562961934816, rmse=1.199233952257698\n",
      "C=1000.0, gamma=0.001, r2=0.7552809912107039, rmse=0.6189216798100826\n",
      "C=1000.0, gamma=0.021544346900318832, r2=0.7181118262167662, rmse=0.6642633190536872\n",
      "C=1000.0, gamma=0.46415888336127775, r2=0.44575884366783813, rmse=0.9314321604744127\n",
      "C=1000.0, gamma=10.0, r2=0.08123562961934816, rmse=1.199233952257698\n",
      "dropping O3, r2=0.8006846227206378, rmse=0.5585631055908252\n",
      "C=1.0, gamma=0.001, r2=0.504893664461005, rmse=0.8803413168910769\n",
      "C=1.0, gamma=0.021544346900318832, r2=0.7108753266648713, rmse=0.6727356159121997\n",
      "C=1.0, gamma=0.46415888336127775, r2=0.48058746416422415, rmse=0.9016916679411409\n",
      "C=1.0, gamma=10.0, r2=0.03865404057122457, rmse=1.2267094072917748\n",
      "C=10.0, gamma=0.001, r2=0.6183884665846788, rmse=0.7728809253386635\n",
      "C=10.0, gamma=0.021544346900318832, r2=0.7758625232666588, rmse=0.5923236623936474\n",
      "C=10.0, gamma=0.46415888336127775, r2=0.544425237484526, rmse=0.8444650340227465\n",
      "C=10.0, gamma=10.0, r2=0.06537888035342732, rmse=1.2095383377791926\n",
      "C=100.0, gamma=0.001, r2=0.7234987803951993, rmse=0.6578855821551168\n",
      "C=100.0, gamma=0.021544346900318832, r2=0.7960863269920125, rmse=0.5649695180681144\n",
      "C=100.0, gamma=0.46415888336127775, r2=0.5358755420304484, rmse=0.8523521689923517\n",
      "C=100.0, gamma=10.0, r2=0.06539015090421796, rmse=1.2095310448751053\n",
      "C=1000.0, gamma=0.001, r2=0.7491619608732691, rmse=0.6266117605673778\n",
      "C=1000.0, gamma=0.021544346900318832, r2=0.6832418628653218, rmse=0.7041508911106432\n",
      "C=1000.0, gamma=0.46415888336127775, r2=0.5162071970836561, rmse=0.8702249782848432\n",
      "C=1000.0, gamma=10.0, r2=0.06539015090421796, rmse=1.2095310448751053\n",
      "dropping SO2, r2=0.7960863269920125, rmse=0.5649695180681144\n",
      "C=1.0, gamma=0.001, r2=0.519152668086696, rmse=0.8675718427311787\n",
      "C=1.0, gamma=0.021544346900318832, r2=0.7271938518138803, rmse=0.6534749135679604\n",
      "C=1.0, gamma=0.46415888336127775, r2=0.5000583283119833, rmse=0.8846296921462923\n",
      "C=1.0, gamma=10.0, r2=0.042920476734805924, rmse=1.2239843232631376\n",
      "C=10.0, gamma=0.001, r2=0.6336355458491769, rmse=0.7572835243830156\n",
      "C=10.0, gamma=0.021544346900318832, r2=0.7832107950583531, rmse=0.5825331832694931\n",
      "C=10.0, gamma=0.46415888336127775, r2=0.562835581746831, rmse=0.8272261341232815\n",
      "C=10.0, gamma=10.0, r2=0.07154196353149622, rmse=1.205543769813061\n",
      "C=100.0, gamma=0.001, r2=0.7373727177202103, rmse=0.6411678875536074\n",
      "C=100.0, gamma=0.021544346900318832, r2=0.8011840894788139, rmse=0.5578628116549837\n",
      "C=100.0, gamma=0.46415888336127775, r2=0.529171031548852, rmse=0.8584864225324301\n",
      "C=100.0, gamma=10.0, r2=0.07155476131927385, rmse=1.2055354612272757\n",
      "C=1000.0, gamma=0.001, r2=0.7706798629320649, rmse=0.5991325840062107\n",
      "C=1000.0, gamma=0.021544346900318832, r2=0.7774701885932401, rmse=0.5901955668621683\n",
      "C=1000.0, gamma=0.46415888336127775, r2=0.5105821719497229, rmse=0.8752693804568036\n",
      "C=1000.0, gamma=10.0, r2=0.07155476131927385, rmse=1.2055354612272757\n",
      "dropping CO, r2=0.8011840894788139, rmse=0.5578628116549837\n",
      "C=1.0, gamma=0.001, r2=0.5199099836898837, rmse=0.8668883777818294\n",
      "C=1.0, gamma=0.021544346900318832, r2=0.7438129537566018, rmse=0.6332576228864272\n",
      "C=1.0, gamma=0.46415888336127775, r2=0.4804913084923901, rmse=0.9017751264156859\n",
      "C=1.0, gamma=10.0, r2=0.034418089216706194, rmse=1.2294090441103718\n",
      "C=10.0, gamma=0.001, r2=0.6325932592880283, rmse=0.7583599741386842\n",
      "C=10.0, gamma=0.021544346900318832, r2=0.8048409297664477, rmse=0.5527085887814636\n",
      "C=10.0, gamma=0.46415888336127775, r2=0.5518667980428302, rmse=0.8375397037203333\n",
      "C=10.0, gamma=10.0, r2=0.06006020878705187, rmse=1.2129750302937534\n",
      "C=100.0, gamma=0.001, r2=0.7359386596133775, rmse=0.6429160308461684\n",
      "C=100.0, gamma=0.021544346900318832, r2=0.8156581929690234, rmse=0.5371724901315811\n",
      "C=100.0, gamma=0.46415888336127775, r2=0.5332055394638491, rmse=0.8548003472834106\n",
      "C=100.0, gamma=10.0, r2=0.06007148838986642, rmse=1.212967752211827\n",
      "C=1000.0, gamma=0.001, r2=0.7672158796979962, rmse=0.603640706336116\n",
      "C=1000.0, gamma=0.021544346900318832, r2=0.7453465627670054, rmse=0.6313593469936795\n",
      "C=1000.0, gamma=0.46415888336127775, r2=0.5125492178353748, rmse=0.8735086880997864\n",
      "C=1000.0, gamma=10.0, r2=0.06007148838986642, rmse=1.212967752211827\n",
      "dropping NO, r2=0.8156581929690234, rmse=0.5371724901315811\n",
      "C=1.0, gamma=0.001, r2=0.5189185010964175, rmse=0.8677830656558712\n",
      "C=1.0, gamma=0.021544346900318832, r2=0.7366908927533798, rmse=0.6419996383516235\n",
      "C=1.0, gamma=0.46415888336127775, r2=0.4722182487807113, rmse=0.9089270492785763\n",
      "C=1.0, gamma=10.0, r2=0.03535996353207038, rmse=1.2288092859199382\n",
      "C=10.0, gamma=0.001, r2=0.6317599380087087, rmse=0.7592195114053467\n",
      "C=10.0, gamma=0.021544346900318832, r2=0.8052205100204558, rmse=0.552170823925321\n",
      "C=10.0, gamma=0.46415888336127775, r2=0.5379727095798534, rmse=0.8504242926357051\n",
      "C=10.0, gamma=10.0, r2=0.061108625271728556, rmse=1.212298360445305\n",
      "C=100.0, gamma=0.001, r2=0.7393491654740263, rmse=0.6387507204689068\n",
      "C=100.0, gamma=0.021544346900318832, r2=0.8242634642255424, rmse=0.524484760340644\n",
      "C=100.0, gamma=0.46415888336127775, r2=0.5199773473118482, rmse=0.866827557115283\n",
      "C=100.0, gamma=10.0, r2=0.06111918423803808, rmse=1.21229154354727\n",
      "C=1000.0, gamma=0.001, r2=0.7672163312885405, rmse=0.6036401208181541\n",
      "C=1000.0, gamma=0.021544346900318832, r2=0.7481801766822682, rmse=0.6278368473294603\n",
      "C=1000.0, gamma=0.46415888336127775, r2=0.49865468760528564, rmse=0.8858706688284587\n",
      "C=1000.0, gamma=10.0, r2=0.06111918423803808, rmse=1.21229154354727\n",
      "dropping NOX, r2=0.8242634642255424, rmse=0.524484760340644\n",
      "C=1.0, gamma=0.001, r2=0.5116495474189134, rmse=0.8743144183142119\n",
      "C=1.0, gamma=0.021544346900318832, r2=0.7122453001276161, rmse=0.6711398954989336\n",
      "C=1.0, gamma=0.46415888336127775, r2=0.4579102937338819, rmse=0.9211649893323852\n",
      "C=1.0, gamma=10.0, r2=0.04739094073528072, rmse=1.2211223968096387\n",
      "C=10.0, gamma=0.001, r2=0.6223929125312835, rmse=0.7688151126609273\n",
      "C=10.0, gamma=0.021544346900318832, r2=0.7718571534671483, rmse=0.5975926827323164\n",
      "C=10.0, gamma=0.46415888336127775, r2=0.5052201832603096, rmse=0.8800509798693118\n",
      "C=10.0, gamma=10.0, r2=0.07601393577995263, rmse=1.2026369794903\n",
      "C=100.0, gamma=0.001, r2=0.716616239312582, rmse=0.6660231468265546\n",
      "C=100.0, gamma=0.021544346900318832, r2=0.765441160464045, rmse=0.6059373807484503\n",
      "C=100.0, gamma=0.46415888336127775, r2=0.4657649747888617, rmse=0.9144669663770388\n",
      "C=100.0, gamma=10.0, r2=0.07603241602693844, rmse=1.2026249527182495\n",
      "C=1000.0, gamma=0.001, r2=0.74159638274668, rmse=0.6359912454485367\n",
      "C=1000.0, gamma=0.021544346900318832, r2=0.5995545129003397, rmse=0.7917235165170752\n",
      "C=1000.0, gamma=0.46415888336127775, r2=0.3916805135711142, rmse=0.975815489131544\n",
      "C=1000.0, gamma=10.0, r2=0.07603241602693844, rmse=1.2026249527182495\n",
      "dropping TEMP, r2=0.7718571534671483, rmse=0.5975926827323164\n",
      "C=1.0, gamma=0.001, r2=0.5155587108211466, rmse=0.8708080170953507\n",
      "C=1.0, gamma=0.021544346900318832, r2=0.72341049809292, rmse=0.6579905998087131\n",
      "C=1.0, gamma=0.46415888336127775, r2=0.485099342335655, rmse=0.8977668527620039\n",
      "C=1.0, gamma=10.0, r2=0.05952277886742163, rmse=1.2133217524577788\n",
      "C=10.0, gamma=0.001, r2=0.6287532085853746, rmse=0.7623127745104321\n",
      "C=10.0, gamma=0.021544346900318832, r2=0.7938360860946927, rmse=0.5680782586093771\n",
      "C=10.0, gamma=0.46415888336127775, r2=0.5528820739803156, rmse=0.8365904144546799\n",
      "C=10.0, gamma=10.0, r2=0.09156667172665856, rmse=1.192472500672962\n",
      "C=100.0, gamma=0.001, r2=0.731418082773649, rmse=0.648395852124334\n",
      "C=100.0, gamma=0.021544346900318832, r2=0.7848452247682093, rmse=0.5803330947350345\n",
      "C=100.0, gamma=0.46415888336127775, r2=0.516359851671221, rmse=0.8700876733112144\n",
      "C=100.0, gamma=10.0, r2=0.09159355062580532, rmse=1.192454858990199\n",
      "C=1000.0, gamma=0.001, r2=0.7654080728140069, rmse=0.6059801170124991\n",
      "C=1000.0, gamma=0.021544346900318832, r2=0.6983611474343694, rmse=0.6871403996625963\n",
      "C=1000.0, gamma=0.46415888336127775, r2=0.4607497289714748, rmse=0.9187493168194424\n",
      "C=1000.0, gamma=10.0, r2=0.09159355062580532, rmse=1.192454858990199\n",
      "dropping HUM, r2=0.7938360860946927, rmse=0.5680782586093771\n",
      "C=1.0, gamma=0.001, r2=0.5030883029819886, rmse=0.8819448997799438\n",
      "C=1.0, gamma=0.021544346900318832, r2=0.693218747875748, rmse=0.692972899872036\n",
      "C=1.0, gamma=0.46415888336127775, r2=0.4741359369479188, rmse=0.9072742592253301\n",
      "C=1.0, gamma=10.0, r2=0.0560736480135805, rmse=1.215544600316193\n",
      "C=10.0, gamma=0.001, r2=0.6064098435861958, rmse=0.7849174012196385\n",
      "C=10.0, gamma=0.021544346900318832, r2=0.7475112791561984, rmse=0.6286701415455993\n",
      "C=10.0, gamma=0.46415888336127775, r2=0.5234843194294545, rmse=0.8636552976747913\n",
      "C=10.0, gamma=10.0, r2=0.0879682228540768, rmse=1.1948319530419529\n",
      "C=100.0, gamma=0.001, r2=0.701642656434464, rmse=0.683392501167117\n",
      "C=100.0, gamma=0.021544346900318832, r2=0.7470658276551447, rmse=0.6292244606663651\n",
      "C=100.0, gamma=0.46415888336127775, r2=0.4949644546484103, rmse=0.8891249882242901\n",
      "C=100.0, gamma=10.0, r2=0.0879959775628748, rmse=1.194813772499317\n",
      "C=1000.0, gamma=0.001, r2=0.7272106788853091, rmse=0.6534547596258862\n",
      "C=1000.0, gamma=0.021544346900318832, r2=0.6427871016175903, rmse=0.7477654744759994\n",
      "C=1000.0, gamma=0.46415888336127775, r2=0.4076537282402186, rmse=0.962918815198024\n",
      "C=1000.0, gamma=10.0, r2=0.0879959775628748, rmse=1.194813772499317\n",
      "dropping ['TEMP', 'SO2'], r2=0.7475112791561984, rmse=0.6286701415455993\n"
     ]
    }
   ],
   "source": [
    "scaler = StandardScaler()\n",
    "\n",
    "cols_to_drop = [\n",
    "    *[c for c in list(x_train.columns.values)],\n",
    "    ['TEMP', 'SO2'],\n",
    "]\n",
    "_RRR = ''\n",
    "\n",
    "for cols in cols_to_drop:\n",
    "    _x_train = x_train.drop(columns=cols) \n",
    "    _x_val = x_val.drop(columns=cols)\n",
    "\n",
    "    _, C, gamma = gridsearch(_x_train, _x_val)\n",
    "    clf = SVR(C=C, gamma=gamma, kernel='rbf')\n",
    "    clf.fit(scaler.fit_transform(_x_train), y_train)\n",
    "    r2 = clf.score(scaler.transform(_x_val), y_val)\n",
    "    y_hat = clf.predict(scaler.transform(_x_val))\n",
    "    rmse = metrics.mean_squared_error(y_val, y_hat, squared=False)\n",
    "    print(f'dropping {cols}, {r2=}, {rmse=}')\n",
    "    _RRR += f'dropping {cols}, {r2=}, {rmse=}\\n'"
   ]
  },
  {
   "cell_type": "code",
   "execution_count": 120,
   "metadata": {},
   "outputs": [
    {
     "name": "stdout",
     "output_type": "stream",
     "text": [
      "dropping N_CPC, r2=0.49939251893610204, rmse=0.8852185596132822\n",
      "dropping PM-10, r2=0.8011817605556127, rmse=0.5578660790389598\n",
      "dropping PM-2.5, r2=0.8171375516734137, rmse=0.5350127208241197\n",
      "dropping PM-1.0, r2=0.7955865194551796, rmse=0.565661485408107\n",
      "dropping NO2, r2=0.8298763797031387, rmse=0.5160409322975776\n",
      "dropping O3, r2=0.8006846227206378, rmse=0.5585631055908252\n",
      "dropping SO2, r2=0.7960863269920125, rmse=0.5649695180681144\n",
      "dropping CO, r2=0.8011840894788139, rmse=0.5578628116549837\n",
      "dropping NO, r2=0.8156581929690234, rmse=0.5371724901315811\n",
      "dropping NOX, r2=0.8242634642255424, rmse=0.524484760340644\n",
      "dropping TEMP, r2=0.7718571534671483, rmse=0.5975926827323164\n",
      "dropping HUM, r2=0.7938360860946927, rmse=0.5680782586093771\n",
      "dropping ['TEMP', 'SO2'], r2=0.7475112791561984, rmse=0.6286701415455993\n",
      "\n"
     ]
    }
   ],
   "source": [
    "print(_RRR)"
   ]
  },
  {
   "cell_type": "code",
   "execution_count": 121,
   "metadata": {},
   "outputs": [],
   "source": [
    "import itertools"
   ]
  },
  {
   "cell_type": "code",
   "execution_count": 127,
   "metadata": {},
   "outputs": [
    {
     "data": {
      "text/plain": [
       "[['NOX', 'NO2'],\n",
       " ['NOX', 'PM-2.5'],\n",
       " ['NOX', 'NO'],\n",
       " ['NO2', 'PM-2.5'],\n",
       " ['NO2', 'NO'],\n",
       " ['PM-2.5', 'NO']]"
      ]
     },
     "execution_count": 127,
     "metadata": {},
     "output_type": "execute_result"
    }
   ],
   "source": [
    "cols = ['NOX', 'NO2', 'PM-2.5', 'NO']\n",
    "[list(x) for x in itertools.combinations(cols, 2)]"
   ]
  },
  {
   "cell_type": "code",
   "execution_count": 128,
   "metadata": {},
   "outputs": [
    {
     "name": "stdout",
     "output_type": "stream",
     "text": [
      "C=1.0, gamma=0.001, r2=0.5099622001497937, rmse=0.8758235803268931\n",
      "C=1.0, gamma=0.021544346900318832, r2=0.7318396091468065, rmse=0.6478868393098658\n",
      "C=1.0, gamma=0.46415888336127775, r2=0.49651193036386276, rmse=0.8877617624785515\n",
      "C=1.0, gamma=10.0, r2=0.051264319713044904, rmse=1.218637281024195\n",
      "C=10.0, gamma=0.001, r2=0.6170439917758773, rmse=0.7742412161174789\n",
      "C=10.0, gamma=0.021544346900318832, r2=0.7974472036148282, rmse=0.5630811187060416\n",
      "C=10.0, gamma=0.46415888336127775, r2=0.5610161753402487, rmse=0.8289457363620677\n",
      "C=10.0, gamma=10.0, r2=0.08842872961397208, rmse=1.1945302652726757\n",
      "C=100.0, gamma=0.001, r2=0.7350498390192806, rmse=0.6439971375245153\n",
      "C=100.0, gamma=0.021544346900318832, r2=0.8332834389459662, rmse=0.5108474322669878\n",
      "C=100.0, gamma=0.46415888336127775, r2=0.513144859945605, rmse=0.8729748315345154\n",
      "C=100.0, gamma=10.0, r2=0.08845040060505893, rmse=1.19451606626848\n",
      "C=1000.0, gamma=0.001, r2=0.7661509786542067, rmse=0.605019847084863\n",
      "C=1000.0, gamma=0.021544346900318832, r2=0.8196337470988778, rmse=0.5313485314308573\n",
      "C=1000.0, gamma=0.46415888336127775, r2=0.4445386174727287, rmse=0.9324569247217601\n",
      "C=1000.0, gamma=10.0, r2=0.08845040060505893, rmse=1.19451606626848\n",
      "dropping ['NOX', 'NO2'], r2=0.8332834389459662, rmse=0.5108474322669878\n",
      "C=1.0, gamma=0.001, r2=0.5138769365607249, rmse=0.8723182451771674\n",
      "C=1.0, gamma=0.021544346900318832, r2=0.7288334088215076, rmse=0.6515082716476887\n",
      "C=1.0, gamma=0.46415888336127775, r2=0.48718624466088756, rmse=0.895945672358705\n",
      "C=1.0, gamma=10.0, r2=0.04028945729267608, rmse=1.225665540097231\n",
      "C=10.0, gamma=0.001, r2=0.6166527229457829, rmse=0.7746366389725425\n",
      "C=10.0, gamma=0.021544346900318832, r2=0.8013160357950362, rmse=0.5576776651053638\n",
      "C=10.0, gamma=0.46415888336127775, r2=0.5572163125372684, rmse=0.83252570088613\n",
      "C=10.0, gamma=10.0, r2=0.06792995972869809, rmse=1.2078864722788492\n",
      "C=100.0, gamma=0.001, r2=0.7271107338990301, rmse=0.6535744555614921\n",
      "C=100.0, gamma=0.021544346900318832, r2=0.8279259817184803, rmse=0.5189906017072694\n",
      "C=100.0, gamma=0.46415888336127775, r2=0.5321622716540096, rmse=0.8557550372388448\n",
      "C=100.0, gamma=10.0, r2=0.06794457664150055, rmse=1.207877001080496\n",
      "C=1000.0, gamma=0.001, r2=0.7610350041139677, rmse=0.611602127868132\n",
      "C=1000.0, gamma=0.021544346900318832, r2=0.7103434398816862, rmse=0.6733541289651985\n",
      "C=1000.0, gamma=0.46415888336127775, r2=0.4979246857590268, rmse=0.8865153861231073\n",
      "C=1000.0, gamma=10.0, r2=0.06794457664150055, rmse=1.207877001080496\n",
      "dropping ['NOX', 'PM-2.5'], r2=0.8279259817184803, rmse=0.5189906017072694\n",
      "C=1.0, gamma=0.001, r2=0.5088612750845651, rmse=0.8768068465005037\n",
      "C=1.0, gamma=0.021544346900318832, r2=0.7437553179823845, rmse=0.6333288525628217\n",
      "C=1.0, gamma=0.46415888336127775, r2=0.5159438871774573, rmse=0.8704617611458398\n",
      "C=1.0, gamma=10.0, r2=0.03783679852952482, rmse=1.2272307105336233\n",
      "C=10.0, gamma=0.001, r2=0.6164209903122813, rmse=0.7748707367203983\n",
      "C=10.0, gamma=0.021544346900318832, r2=0.7964044662490235, rmse=0.5645286228096437\n",
      "C=10.0, gamma=0.46415888336127775, r2=0.5927270328159613, rmse=0.7984443194838436\n",
      "C=10.0, gamma=10.0, r2=0.06512367788122542, rmse=1.2097034614314361\n",
      "C=100.0, gamma=0.001, r2=0.7291451003334743, rmse=0.6511337270082813\n",
      "C=100.0, gamma=0.021544346900318832, r2=0.8113716264794711, rmse=0.5433821315982715\n",
      "C=100.0, gamma=0.46415888336127775, r2=0.5692180596016663, rmse=0.82116529641847\n",
      "C=100.0, gamma=10.0, r2=0.06513600431390765, rmse=1.2096954863779013\n",
      "C=1000.0, gamma=0.001, r2=0.7612580767840678, rmse=0.6113165974002613\n",
      "C=1000.0, gamma=0.021544346900318832, r2=0.7608209092962954, rmse=0.6118760414812754\n",
      "C=1000.0, gamma=0.46415888336127775, r2=0.5475566983003101, rmse=0.8415577515610081\n",
      "C=1000.0, gamma=10.0, r2=0.06513600431390765, rmse=1.2096954863779013\n",
      "dropping ['NOX', 'NO'], r2=0.8113716264794711, rmse=0.5433821315982715\n",
      "C=1.0, gamma=0.001, r2=0.5127708970116404, rmse=0.8733100416785311\n",
      "C=1.0, gamma=0.021544346900318832, r2=0.7214005340444647, rmse=0.6603770668035405\n",
      "C=1.0, gamma=0.46415888336127775, r2=0.5031128315537154, rmse=0.8819231322145694\n",
      "C=1.0, gamma=10.0, r2=0.050164178578191776, rmse=1.2193436340146806\n",
      "C=10.0, gamma=0.001, r2=0.6129364239980732, rmse=0.7783823783344371\n",
      "C=10.0, gamma=0.021544346900318832, r2=0.7993884890524394, rmse=0.5603763105803111\n",
      "C=10.0, gamma=0.46415888336127775, r2=0.5790928401785023, rmse=0.8116989792172448\n",
      "C=10.0, gamma=10.0, r2=0.08590605257546657, rmse=1.1961819913765306\n",
      "C=100.0, gamma=0.001, r2=0.7231448638301108, rmse=0.6583064883391362\n",
      "C=100.0, gamma=0.021544346900318832, r2=0.834411019805269, rmse=0.5091169531056882\n",
      "C=100.0, gamma=0.46415888336127775, r2=0.5425975312581215, rmse=0.8461572799626661\n",
      "C=100.0, gamma=10.0, r2=0.08593018733723845, rmse=1.1961661999154658\n",
      "C=1000.0, gamma=0.001, r2=0.7606789141819437, rmse=0.6120576428848109\n",
      "C=1000.0, gamma=0.021544346900318832, r2=0.758207273719852, rmse=0.6152101034439277\n",
      "C=1000.0, gamma=0.46415888336127775, r2=0.48747183061073385, rmse=0.8956961615699084\n",
      "C=1000.0, gamma=10.0, r2=0.08593018733723845, rmse=1.1961661999154658\n",
      "dropping ['NO2', 'PM-2.5'], r2=0.834411019805269, rmse=0.5091169531056882\n",
      "C=1.0, gamma=0.001, r2=0.5190212464971518, rmse=0.8676903937488297\n",
      "C=1.0, gamma=0.021544346900318832, r2=0.7391332765771976, rmse=0.6390151942928046\n",
      "C=1.0, gamma=0.46415888336127775, r2=0.5056249024972951, rmse=0.8796909748585893\n",
      "C=1.0, gamma=10.0, r2=0.045947571737873116, rmse=1.2220471534359518\n",
      "C=10.0, gamma=0.001, r2=0.6242856824467373, rmse=0.7668858344537728\n",
      "C=10.0, gamma=0.021544346900318832, r2=0.7989094747040677, rmse=0.5610449368388034\n",
      "C=10.0, gamma=0.46415888336127775, r2=0.582409486711579, rmse=0.8084946586788648\n",
      "C=10.0, gamma=10.0, r2=0.07990258319585042, rmse=1.200103628495273\n",
      "C=100.0, gamma=0.001, r2=0.7336754609756322, rmse=0.6456652827228363\n",
      "C=100.0, gamma=0.021544346900318832, r2=0.8156254555125572, rmse=0.5372201865293736\n",
      "C=100.0, gamma=0.46415888336127775, r2=0.5425509378042747, rmse=0.8462003759108695\n",
      "C=100.0, gamma=10.0, r2=0.07991923380781074, rmse=1.2000927695634525\n",
      "C=1000.0, gamma=0.001, r2=0.7620055464777216, rmse=0.610358871082393\n",
      "C=1000.0, gamma=0.021544346900318832, r2=0.7646735474787176, rmse=0.6069280607071588\n",
      "C=1000.0, gamma=0.46415888336127775, r2=0.516513032922332, rmse=0.8699498728474871\n",
      "C=1000.0, gamma=10.0, r2=0.07991923380781074, rmse=1.2000927695634525\n",
      "dropping ['NO2', 'NO'], r2=0.8156254555125572, rmse=0.5372201865293736\n",
      "C=1.0, gamma=0.001, r2=0.5153407691878213, rmse=0.8710038756909393\n",
      "C=1.0, gamma=0.021544346900318832, r2=0.7372035223831251, rmse=0.6413743877109828\n",
      "C=1.0, gamma=0.46415888336127775, r2=0.4959875245339923, rmse=0.8882239643783609\n",
      "C=1.0, gamma=10.0, r2=0.03922999621471335, rmse=1.2263418829610002\n",
      "C=10.0, gamma=0.001, r2=0.6177766944959519, rmse=0.7735001907274985\n",
      "C=10.0, gamma=0.021544346900318832, r2=0.7993007516155588, rmse=0.5604988374643292\n",
      "C=10.0, gamma=0.46415888336127775, r2=0.5702917038619928, rmse=0.8201413567625413\n",
      "C=10.0, gamma=10.0, r2=0.06673857506858494, rmse=1.2086581942471697\n",
      "C=100.0, gamma=0.001, r2=0.725047459844994, rmse=0.6560405911297879\n",
      "C=100.0, gamma=0.021544346900318832, r2=0.8171965684686993, rmse=0.5349263791926973\n",
      "C=100.0, gamma=0.46415888336127775, r2=0.5430595142551089, rmse=0.8457298565675665\n",
      "C=100.0, gamma=10.0, r2=0.06675444451094215, rmse=1.2086479180198606\n",
      "C=1000.0, gamma=0.001, r2=0.7660420450559308, rmse=0.6051607484985971\n",
      "C=1000.0, gamma=0.021544346900318832, r2=0.7175108171371518, rmse=0.6649710743848258\n",
      "C=1000.0, gamma=0.46415888336127775, r2=0.5127139234170759, rmse=0.8733610999563456\n",
      "C=1000.0, gamma=10.0, r2=0.06675444451094215, rmse=1.2086479180198606\n",
      "dropping ['PM-2.5', 'NO'], r2=0.8171965684686993, rmse=0.5349263791926973\n"
     ]
    }
   ],
   "source": [
    "scaler = StandardScaler()\n",
    "\n",
    "cols_to_drop = [list(x) for x in itertools.combinations(cols, 2)]\n",
    "_RRR = ''\n",
    "\n",
    "for cols in cols_to_drop:\n",
    "    _x_train = x_train.drop(columns=cols) \n",
    "    _x_val = x_val.drop(columns=cols)\n",
    "\n",
    "    _, C, gamma = gridsearch(_x_train, _x_val)\n",
    "    clf = SVR(C=C, gamma=gamma, kernel='rbf')\n",
    "    clf.fit(scaler.fit_transform(_x_train), y_train)\n",
    "    r2 = clf.score(scaler.transform(_x_val), y_val)\n",
    "    y_hat = clf.predict(scaler.transform(_x_val))\n",
    "    rmse = metrics.mean_squared_error(y_val, y_hat, squared=False)\n",
    "    print(f'dropping {cols}, {r2=}, {rmse=}')\n",
    "    _RRR += f'dropping {cols}, {r2=}, {rmse=}\\n'"
   ]
  },
  {
   "cell_type": "code",
   "execution_count": 131,
   "metadata": {},
   "outputs": [
    {
     "name": "stdout",
     "output_type": "stream",
     "text": [
      "dropping ['NOX', 'NO2'], r2=0.8332834389459662, rmse=0.5108474322669878\n",
      "dropping ['NOX', 'PM-2.5'], r2=0.8279259817184803, rmse=0.5189906017072694\n",
      "dropping ['NOX', 'NO'], r2=0.8113716264794711, rmse=0.5433821315982715\n",
      "dropping ['NO2', 'PM-2.5'], r2=0.834411019805269, rmse=0.5091169531056882\n",
      "dropping ['NO2', 'NO'], r2=0.8156254555125572, rmse=0.5372201865293736\n",
      "dropping ['PM-2.5', 'NO'], r2=0.8171965684686993, rmse=0.5349263791926973\n",
      "\n"
     ]
    }
   ],
   "source": [
    "print(_RRR)"
   ]
  },
  {
   "cell_type": "code",
   "execution_count": 135,
   "metadata": {},
   "outputs": [
    {
     "name": "stdout",
     "output_type": "stream",
     "text": [
      "C=1.0, gamma=0.001, r2=0.5025551866525194, rmse=0.8824178743437859\n",
      "C=1.0, gamma=0.021544346900318832, r2=0.726791307137389, rmse=0.6539568599659878\n",
      "C=1.0, gamma=0.46415888336127775, r2=0.5172112607041823, rmse=0.8693214767660216\n",
      "C=1.0, gamma=10.0, r2=0.0581972847598895, rmse=1.2141764699008395\n",
      "C=10.0, gamma=0.001, r2=0.60290551997066, rmse=0.7884039076206925\n",
      "C=10.0, gamma=0.021544346900318832, r2=0.7949051418236922, rmse=0.5666034693362871\n",
      "C=10.0, gamma=0.46415888336127775, r2=0.5844068936808957, rmse=0.8065587567319182\n",
      "C=10.0, gamma=10.0, r2=0.09822981538322073, rmse=1.188091200024447\n",
      "C=100.0, gamma=0.001, r2=0.7226338106746597, rmse=0.6589137996213948\n",
      "C=100.0, gamma=0.021544346900318832, r2=0.8320404934207776, rmse=0.5127481926016588\n",
      "C=100.0, gamma=0.46415888336127775, r2=0.5372396640360417, rmse=0.8510986604466427\n",
      "C=100.0, gamma=10.0, r2=0.09825420639976012, rmse=1.1880751322121812\n",
      "C=1000.0, gamma=0.001, r2=0.7593634773141043, rmse=0.6137374360986243\n",
      "C=1000.0, gamma=0.021544346900318832, r2=0.7932995009359555, rmse=0.5688170500722918\n",
      "C=1000.0, gamma=0.46415888336127775, r2=0.43619554365030566, rmse=0.9394336130759467\n",
      "C=1000.0, gamma=10.0, r2=0.09825420639976012, rmse=1.1880751322121812\n",
      "dropping ['NOX', 'NO2', 'PM-2.5'], r2=0.8320404934207776, rmse=0.5127481926016588\n",
      "C=1.0, gamma=0.001, r2=0.49423881782361323, rmse=0.8897635078846434\n",
      "C=1.0, gamma=0.021544346900318832, r2=0.7407116848495346, rmse=0.6370790385499777\n",
      "C=1.0, gamma=0.46415888336127775, r2=0.5509823281318005, rmse=0.8383658124642527\n",
      "C=1.0, gamma=10.0, r2=0.05627501201208729, rmse=1.2154149397893175\n",
      "C=10.0, gamma=0.001, r2=0.5983346153817517, rmse=0.7929285333604204\n",
      "C=10.0, gamma=0.021544346900318832, r2=0.7887236975291424, rmse=0.5750786399666254\n",
      "C=10.0, gamma=0.46415888336127775, r2=0.6174788400174647, rmse=0.7738015140980038\n",
      "C=10.0, gamma=10.0, r2=0.09551068175902688, rmse=1.1898810945763572\n",
      "C=100.0, gamma=0.001, r2=0.7300781464121369, rmse=0.6500112405977487\n",
      "C=100.0, gamma=0.021544346900318832, r2=0.8016347663254297, rmse=0.5572301699023285\n",
      "C=100.0, gamma=0.46415888336127775, r2=0.5658153272504636, rmse=0.8244020959557327\n",
      "C=100.0, gamma=10.0, r2=0.09553542643173785, rmse=1.189864818309168\n",
      "C=1000.0, gamma=0.001, r2=0.7577364704096972, rmse=0.615808761023798\n",
      "C=1000.0, gamma=0.021544346900318832, r2=0.7973550836151653, rmse=0.5632091473905627\n",
      "C=1000.0, gamma=0.46415888336127775, r2=0.47375111637695566, rmse=0.9076061643436888\n",
      "C=1000.0, gamma=10.0, r2=0.09553542643173785, rmse=1.189864818309168\n",
      "dropping ['NOX', 'NO2', 'NO'], r2=0.8016347663254297, rmse=0.5572301699023285\n",
      "C=1.0, gamma=0.001, r2=0.5051381763032201, rmse=0.8801239085845644\n",
      "C=1.0, gamma=0.021544346900318832, r2=0.7390946199846963, rmse=0.6390625388421368\n",
      "C=1.0, gamma=0.46415888336127775, r2=0.5334906388044158, rmse=0.8545392685235831\n",
      "C=1.0, gamma=10.0, r2=0.04308916172776556, rmse=1.2238764550660821\n",
      "C=10.0, gamma=0.001, r2=0.6021626633090944, rmse=0.7891410085777262\n",
      "C=10.0, gamma=0.021544346900318832, r2=0.7918522079359391, rmse=0.5708049719574199\n",
      "C=10.0, gamma=0.46415888336127775, r2=0.6086372135646714, rmse=0.7826932831774118\n",
      "C=10.0, gamma=10.0, r2=0.07241727438863355, rmse=1.2049753680480968\n",
      "C=100.0, gamma=0.001, r2=0.7178972007544431, rmse=0.6645161510421925\n",
      "C=100.0, gamma=0.021544346900318832, r2=0.8140655758049621, rmse=0.5394879450202154\n",
      "C=100.0, gamma=0.46415888336127775, r2=0.5755003122980232, rmse=0.8151556267069489\n",
      "C=100.0, gamma=10.0, r2=0.07243259567266758, rmse=1.2049654164580152\n",
      "C=1000.0, gamma=0.001, r2=0.7612535329517008, rmse=0.611322414784338\n",
      "C=1000.0, gamma=0.021544346900318832, r2=0.7654258585098636, rmse=0.6059571452451542\n",
      "C=1000.0, gamma=0.46415888336127775, r2=0.5359659812184182, rmse=0.8522691203700348\n",
      "C=1000.0, gamma=10.0, r2=0.07243259567266758, rmse=1.2049654164580152\n",
      "dropping ['NOX', 'PM-2.5', 'NO'], r2=0.8140655758049621, rmse=0.5394879450202154\n",
      "C=1.0, gamma=0.001, r2=0.5138708428805896, rmse=0.8723237125290623\n",
      "C=1.0, gamma=0.021544346900318832, r2=0.7345310424212248, rmse=0.6446273317684045\n",
      "C=1.0, gamma=0.46415888336127775, r2=0.5246094250523637, rmse=0.862635102827107\n",
      "C=1.0, gamma=10.0, r2=0.05211911029614136, rmse=1.218088174232798\n",
      "C=10.0, gamma=0.001, r2=0.6083250435559677, rmse=0.7830053780850829\n",
      "C=10.0, gamma=0.021544346900318832, r2=0.795983292573816, rmse=0.5651122352122714\n",
      "C=10.0, gamma=0.46415888336127775, r2=0.6022880064532274, rmse=0.7890166848928541\n",
      "C=10.0, gamma=10.0, r2=0.0888224246385435, rmse=1.1942722868647828\n",
      "C=100.0, gamma=0.001, r2=0.7224931187519568, rmse=0.659080892980425\n",
      "C=100.0, gamma=0.021544346900318832, r2=0.8170196808849578, rmse=0.5351851242147271\n",
      "C=100.0, gamma=0.46415888336127775, r2=0.5593849300151276, rmse=0.8304844718661198\n",
      "C=100.0, gamma=10.0, r2=0.08884457614645302, rmse=1.1942577698850463\n",
      "C=1000.0, gamma=0.001, r2=0.7592183784656534, rmse=0.6139224437069095\n",
      "C=1000.0, gamma=0.021544346900318832, r2=0.7543463686892922, rmse=0.6201024358311341\n",
      "C=1000.0, gamma=0.46415888336127775, r2=0.5022236714346846, rmse=0.882711862966495\n",
      "C=1000.0, gamma=10.0, r2=0.08884457614645302, rmse=1.1942577698850463\n",
      "dropping ['NO2', 'PM-2.5', 'NO'], r2=0.8170196808849578, rmse=0.5351851242147271\n"
     ]
    }
   ],
   "source": [
    "scaler = StandardScaler()\n",
    "\n",
    "cols_to_drop = [list(x) for x in itertools.combinations(cols, 3)]\n",
    "_RRR = ''\n",
    "\n",
    "for cols in cols_to_drop:\n",
    "    _x_train = x_train.drop(columns=cols) \n",
    "    _x_val = x_val.drop(columns=cols)\n",
    "\n",
    "    _, C, gamma = gridsearch(_x_train, _x_val)\n",
    "    clf = SVR(C=C, gamma=gamma, kernel='rbf')\n",
    "    clf.fit(scaler.fit_transform(_x_train), y_train)\n",
    "    r2 = clf.score(scaler.transform(_x_val), y_val)\n",
    "    y_hat = clf.predict(scaler.transform(_x_val))\n",
    "    rmse = metrics.mean_squared_error(y_val, y_hat, squared=False)\n",
    "    print(f'dropping {cols}, {r2=}, {rmse=}')\n",
    "    _RRR += f'dropping {cols}, {r2=}, {rmse=}\\n'"
   ]
  },
  {
   "cell_type": "code",
   "execution_count": 136,
   "metadata": {},
   "outputs": [
    {
     "name": "stdout",
     "output_type": "stream",
     "text": [
      "dropping ['NOX', 'NO2', 'PM-2.5'], r2=0.8320404934207776, rmse=0.5127481926016588\n",
      "dropping ['NOX', 'NO2', 'NO'], r2=0.8016347663254297, rmse=0.5572301699023285\n",
      "dropping ['NOX', 'PM-2.5', 'NO'], r2=0.8140655758049621, rmse=0.5394879450202154\n",
      "dropping ['NO2', 'PM-2.5', 'NO'], r2=0.8170196808849578, rmse=0.5351851242147271\n",
      "\n"
     ]
    }
   ],
   "source": [
    "print(_RRR)"
   ]
  },
  {
   "cell_type": "code",
   "execution_count": 143,
   "metadata": {},
   "outputs": [
    {
     "name": "stdout",
     "output_type": "stream",
     "text": [
      "C=1.0, gamma=0.001, r2=0.5138708428805896, rmse=0.8723237125290623\n",
      "C=1.0, gamma=0.021544346900318832, r2=0.7345310424212248, rmse=0.6446273317684045\n",
      "C=1.0, gamma=0.46415888336127775, r2=0.5246094250523637, rmse=0.862635102827107\n",
      "C=1.0, gamma=10.0, r2=0.05211911029614136, rmse=1.218088174232798\n",
      "C=10.0, gamma=0.001, r2=0.6083250435559677, rmse=0.7830053780850829\n",
      "C=10.0, gamma=0.021544346900318832, r2=0.795983292573816, rmse=0.5651122352122714\n",
      "C=10.0, gamma=0.46415888336127775, r2=0.6022880064532274, rmse=0.7890166848928541\n",
      "C=10.0, gamma=10.0, r2=0.0888224246385435, rmse=1.1942722868647828\n",
      "C=100.0, gamma=0.001, r2=0.7224931187519568, rmse=0.659080892980425\n",
      "C=100.0, gamma=0.021544346900318832, r2=0.8170196808849578, rmse=0.5351851242147271\n",
      "C=100.0, gamma=0.46415888336127775, r2=0.5593849300151276, rmse=0.8304844718661198\n",
      "C=100.0, gamma=10.0, r2=0.08884457614645302, rmse=1.1942577698850463\n",
      "C=1000.0, gamma=0.001, r2=0.7592183784656534, rmse=0.6139224437069095\n",
      "C=1000.0, gamma=0.021544346900318832, r2=0.7543463686892922, rmse=0.6201024358311341\n",
      "C=1000.0, gamma=0.46415888336127775, r2=0.5022236714346846, rmse=0.882711862966495\n",
      "C=1000.0, gamma=10.0, r2=0.08884457614645302, rmse=1.1942577698850463\n",
      "dropping ['NO2', 'PM-2.5', 'NO'], r2=0.8170196808849578, rmse=0.5351851242147271\n"
     ]
    }
   ],
   "source": [
    "scaler = StandardScaler()\n",
    "\n",
    "cols_to_drop = [cols]\n",
    "_RRR = ''\n",
    "\n",
    "for cols in cols_to_drop:\n",
    "    _x_train = x_train.drop(columns=cols) \n",
    "    _x_val = x_val.drop(columns=cols)\n",
    "\n",
    "    _, C, gamma = gridsearch(_x_train, _x_val)\n",
    "    clf = SVR(C=C, gamma=gamma, kernel='rbf')\n",
    "    clf.fit(scaler.fit_transform(_x_train), y_train)\n",
    "    r2 = clf.score(scaler.transform(_x_val), y_val)\n",
    "    y_hat = clf.predict(scaler.transform(_x_val))\n",
    "    rmse = metrics.mean_squared_error(y_val, y_hat, squared=False)\n",
    "    print(f'dropping {cols}, {r2=}, {rmse=}')\n",
    "    _RRR += f'dropping {cols}, {r2=}, {rmse=}\\n'"
   ]
  },
  {
   "cell_type": "code",
   "execution_count": 144,
   "metadata": {},
   "outputs": [
    {
     "name": "stdout",
     "output_type": "stream",
     "text": [
      "dropping ['NO2', 'PM-2.5', 'NO'], r2=0.8170196808849578, rmse=0.5351851242147271\n",
      "\n"
     ]
    }
   ],
   "source": [
    "print(_RRR)"
   ]
  },
  {
   "cell_type": "code",
   "execution_count": 145,
   "metadata": {},
   "outputs": [
    {
     "name": "stdout",
     "output_type": "stream",
     "text": [
      "dropping ['NO2', 'PM-2.5'], r2=0.7480751443823503, rmse=0.6279677668744466\n"
     ]
    }
   ],
   "source": [
    "scaler = StandardScaler()\n",
    "\n",
    "cols_to_drop = [['NO2', 'PM-2.5']]\n",
    "\n",
    "for cols in cols_to_drop:\n",
    "    _x_train = x_train.drop(columns=cols) \n",
    "    _x_val = x_val.drop(columns=cols)\n",
    "\n",
    "    clf = RandomForestRegressor(max_depth=7)\n",
    "    clf.fit(scaler.fit_transform(_x_train), y_train)\n",
    "    r2 = clf.score(scaler.transform(_x_val), y_val)\n",
    "    y_hat = clf.predict(scaler.transform(_x_val))\n",
    "    rmse = metrics.mean_squared_error(y_val, y_hat, squared=False)\n",
    "    print(f'dropping {cols}, {r2=}, {rmse=}')"
   ]
  },
  {
   "attachments": {},
   "cell_type": "markdown",
   "metadata": {},
   "source": [
    "## Evaluation"
   ]
  },
  {
   "attachments": {},
   "cell_type": "markdown",
   "metadata": {},
   "source": [
    "## Full dataset"
   ]
  },
  {
   "cell_type": "code",
   "execution_count": 165,
   "metadata": {},
   "outputs": [],
   "source": [
    "max_depth = 7\n",
    "n_estimators = 100\n",
    "\n",
    "C = 46.4\n",
    "gamma = 0.022"
   ]
  },
  {
   "cell_type": "code",
   "execution_count": 166,
   "metadata": {},
   "outputs": [
    {
     "name": "stdout",
     "output_type": "stream",
     "text": [
      "SVC, C=46.4, gamma=0.022\n",
      "VAL: r2=0.8161712201414906, rmse=0.5364244881060352\n",
      "TEST: r2=0.740301564629914, rmse=0.5446424295706799\n"
     ]
    }
   ],
   "source": [
    "print(f'SVC, {C=}, {gamma=}')\n",
    "clf = SVR(C=C, gamma=gamma, kernel='rbf')\n",
    "scaler = StandardScaler()\n",
    "\n",
    "# rmse, C, gamma = gridsearch(x_train, x_val)\n",
    "# print(f'GS {rmse=} {C=} {gamma=}')\n",
    "\n",
    "clf.fit(scaler.fit_transform(x_train), y_train)\n",
    "\n",
    "r2 = clf.score(scaler.transform(x_val), y_val)\n",
    "y_hat = clf.predict(scaler.transform(x_val))\n",
    "rmse = metrics.mean_squared_error(y_val, y_hat, squared=False)\n",
    "print(f'VAL: {r2=}, {rmse=}')\n",
    "\n",
    "r2 = clf.score(scaler.transform(x_test), y_test)\n",
    "y_hat = clf.predict(scaler.transform(x_test))\n",
    "rmse = metrics.mean_squared_error(y_test, y_hat, squared=False)\n",
    "print(f'TEST: {r2=}, {rmse=}')"
   ]
  },
  {
   "cell_type": "code",
   "execution_count": 167,
   "metadata": {},
   "outputs": [
    {
     "name": "stdout",
     "output_type": "stream",
     "text": [
      "RF, max_depth=7, n_estimators=100\n",
      "VAL: r2=0.7574139043608661, rmse=0.6162185893682609\n",
      "TEST: r2=0.658643202645055, rmse=0.6244261501899215\n"
     ]
    }
   ],
   "source": [
    "print(f'RF, {max_depth=}, {n_estimators=}')\n",
    "clf = RandomForestRegressor(max_depth=max_depth, n_estimators=n_estimators)\n",
    "scaler = StandardScaler()\n",
    "\n",
    "clf.fit(scaler.fit_transform(x_train), y_train)\n",
    "r2 = clf.score(scaler.transform(x_val), y_val)\n",
    "y_hat = clf.predict(scaler.transform(x_val))\n",
    "rmse = metrics.mean_squared_error(y_val, y_hat, squared=False)\n",
    "print(f'VAL: {r2=}, {rmse=}')\n",
    "\n",
    "r2 = clf.score(scaler.transform(x_test), y_test)\n",
    "y_hat = clf.predict(scaler.transform(x_test))\n",
    "rmse = metrics.mean_squared_error(y_test, y_hat, squared=False)\n",
    "print(f'TEST: {r2=}, {rmse=}')"
   ]
  },
  {
   "attachments": {},
   "cell_type": "markdown",
   "metadata": {},
   "source": [
    "### Reduced dataset"
   ]
  },
  {
   "cell_type": "code",
   "execution_count": 173,
   "metadata": {},
   "outputs": [],
   "source": [
    "max_depth = 7\n",
    "n_estimators = 100\n",
    "\n",
    "C = 46.4\n",
    "gamma = 0.022\n",
    "\n",
    "cols = ['NO2', 'PM-2.5']"
   ]
  },
  {
   "cell_type": "code",
   "execution_count": 178,
   "metadata": {},
   "outputs": [],
   "source": [
    "def _test(clf, cols):\n",
    "    _x_train = x_train.drop(columns=cols)\n",
    "    _x_val = x_val.drop(columns=cols)\n",
    "    _x_test = x_test.drop(columns=cols)\n",
    "    print(f'dropped {cols=}')\n",
    "\n",
    "    scaler = StandardScaler()\n",
    "    clf.fit(scaler.fit_transform(_x_train), y_train)\n",
    "\n",
    "    r2 = clf.score(scaler.transform(_x_val), y_val)\n",
    "    y_hat = clf.predict(scaler.transform(_x_val))\n",
    "    rmse = metrics.mean_squared_error(y_val, y_hat, squared=False)\n",
    "    print(f'VAL: {r2=}, {rmse=}')\n",
    "\n",
    "    r2 = clf.score(scaler.transform(_x_test), y_test)\n",
    "    y_hat = clf.predict(scaler.transform(_x_test))\n",
    "    rmse = metrics.mean_squared_error(y_test, y_hat, squared=False)\n",
    "    print(f'TEST: {r2=}, {rmse=}')"
   ]
  },
  {
   "cell_type": "code",
   "execution_count": 179,
   "metadata": {},
   "outputs": [
    {
     "name": "stdout",
     "output_type": "stream",
     "text": [
      "SVC, C=46.4, gamma=0.022\n",
      "dropped cols=['NO2', 'PM-2.5']\n",
      "VAL: r2=0.82695717432756, rmse=0.5204495558391798\n",
      "TEST: r2=0.7457718570584395, rmse=0.5388757215616415\n"
     ]
    }
   ],
   "source": [
    "print(f'SVC, {C=}, {gamma=}')\n",
    "clf = SVR(C=C, gamma=gamma, kernel='rbf')\n",
    "\n",
    "_test(clf, cols)"
   ]
  },
  {
   "cell_type": "code",
   "execution_count": 183,
   "metadata": {},
   "outputs": [
    {
     "name": "stdout",
     "output_type": "stream",
     "text": [
      "C=1.0, gamma=0.001, r2=0.5127708970116404, rmse=0.8733100416785311\n",
      "C=1.0, gamma=0.021544346900318832, r2=0.7214005340444647, rmse=0.6603770668035405\n",
      "C=1.0, gamma=0.46415888336127775, r2=0.5031128315537154, rmse=0.8819231322145694\n"
     ]
    }
   ],
   "source": [
    "gridsearch(x_train.drop(columns=cols), x_val.drop(columns=cols))"
   ]
  },
  {
   "cell_type": "code",
   "execution_count": 180,
   "metadata": {},
   "outputs": [
    {
     "name": "stdout",
     "output_type": "stream",
     "text": [
      "RF, max_depth=7, n_estimators=100\n",
      "dropped cols=['NO2', 'PM-2.5']\n",
      "VAL: r2=0.750577703187907, rmse=0.624840944484749\n",
      "TEST: r2=0.7022445965373612, rmse=0.5831853834587083\n"
     ]
    }
   ],
   "source": [
    "print(f'RF, {max_depth=}, {n_estimators=}')\n",
    "clf = RandomForestRegressor(max_depth=max_depth, n_estimators=n_estimators)\n",
    "\n",
    "_test(clf, cols)"
   ]
  },
  {
   "cell_type": "code",
   "execution_count": null,
   "metadata": {},
   "outputs": [],
   "source": []
  }
 ],
 "metadata": {
  "kernelspec": {
   "display_name": "toml",
   "language": "python",
   "name": "python3"
  },
  "language_info": {
   "codemirror_mode": {
    "name": "ipython",
    "version": 3
   },
   "file_extension": ".py",
   "mimetype": "text/x-python",
   "name": "python",
   "nbconvert_exporter": "python",
   "pygments_lexer": "ipython3",
   "version": "3.9.16"
  },
  "orig_nbformat": 4
 },
 "nbformat": 4,
 "nbformat_minor": 2
}
