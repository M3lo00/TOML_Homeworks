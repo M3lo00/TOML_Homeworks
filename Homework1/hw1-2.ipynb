{
 "cells": [
  {
   "cell_type": "code",
   "execution_count": 36,
   "id": "7f91352a",
   "metadata": {},
   "outputs": [],
   "source": [
    "import numpy as np\n",
    "import scipy"
   ]
  },
  {
   "cell_type": "code",
   "execution_count": 37,
   "id": "d8d07420",
   "metadata": {},
   "outputs": [],
   "source": [
    "from scipy.optimize import minimize"
   ]
  },
  {
   "cell_type": "code",
   "execution_count": 38,
   "id": "ae3fc566",
   "metadata": {},
   "outputs": [],
   "source": [
    "fun = lambda x: x[0] ** 2 + x[1] ** 2"
   ]
  },
  {
   "cell_type": "code",
   "execution_count": 39,
   "id": "bc0b0a8b",
   "metadata": {},
   "outputs": [],
   "source": [
    "cons = (\n",
    "        {'type': 'ineq', 'fun': lambda x:  x[0]-0.5},\n",
    "        {'type': 'ineq', 'fun': lambda x:  x[0]+x[1]-1},\n",
    "        {'type': 'ineq', 'fun': lambda x:  x[0]**2+x[1]**2-1},\n",
    "        {'type': 'ineq', 'fun': lambda x:  9*x[0]**2+x[1]**2-9},\n",
    "        {'type': 'ineq', 'fun': lambda x:  x[0]**2-x[1]},\n",
    "        {'type': 'ineq', 'fun': lambda x:  x[1]**2-x[0]},\n",
    ")"
   ]
  },
  {
   "cell_type": "code",
   "execution_count": 40,
   "id": "d0f67fcb",
   "metadata": {},
   "outputs": [],
   "source": [
    "x_feasible = [5, 2.5]\n",
    "x_infeasible = [0, 0]"
   ]
  },
  {
   "cell_type": "code",
   "execution_count": 41,
   "id": "183f8e14",
   "metadata": {},
   "outputs": [],
   "source": [
    "def is_feasible(x):\n",
    "    r = [c['fun'](x) >= 0 for c in cons]\n",
    "    return all(r), r"
   ]
  },
  {
   "cell_type": "code",
   "execution_count": 42,
   "id": "35b9cea1",
   "metadata": {},
   "outputs": [
    {
     "data": {
      "text/plain": [
       "(True, [True, True, True, True, True, True])"
      ]
     },
     "execution_count": 42,
     "metadata": {},
     "output_type": "execute_result"
    }
   ],
   "source": [
    "is_feasible(x_feasible)"
   ]
  },
  {
   "cell_type": "code",
   "execution_count": 43,
   "id": "e9ea87b3",
   "metadata": {},
   "outputs": [
    {
     "data": {
      "text/plain": [
       "(False, [False, False, False, False, True, True])"
      ]
     },
     "execution_count": 43,
     "metadata": {},
     "output_type": "execute_result"
    }
   ],
   "source": [
    "is_feasible(x_infeasible)"
   ]
  },
  {
   "cell_type": "markdown",
   "id": "47171a2c",
   "metadata": {},
   "source": [
    "# Without Jacobian"
   ]
  },
  {
   "cell_type": "code",
   "execution_count": 44,
   "id": "d88f07d2",
   "metadata": {},
   "outputs": [
    {
     "name": "stdout",
     "output_type": "stream",
     "text": [
      " message: Optimization terminated successfully\n",
      " success: True\n",
      "  status: 0\n",
      "     fun: 2.0000000000840665\n",
      "       x: [ 1.000e+00  1.000e+00]\n",
      "     nit: 9\n",
      "     jac: [ 2.000e+00  2.000e+00]\n",
      "    nfev: 24\n",
      "    njev: 8\n"
     ]
    }
   ],
   "source": [
    "print(minimize(fun, x_feasible, method='SLSQP', constraints=cons))"
   ]
  },
  {
   "cell_type": "code",
   "execution_count": 45,
   "id": "c0974e15",
   "metadata": {},
   "outputs": [
    {
     "name": "stdout",
     "output_type": "stream",
     "text": [
      " message: Positive directional derivative for linesearch\n",
      " success: False\n",
      "  status: 8\n",
      "     fun: 3.5219830836247563e-29\n",
      "       x: [-5.935e-15  3.733e-18]\n",
      "     nit: 10\n",
      "     jac: [ 1.490e-08  1.490e-08]\n",
      "    nfev: 68\n",
      "    njev: 6\n"
     ]
    }
   ],
   "source": [
    "print(minimize(fun, x_infeasible, method='SLSQP', constraints=cons))"
   ]
  },
  {
   "cell_type": "markdown",
   "id": "f9b95ad5",
   "metadata": {},
   "source": [
    "# With Jacobian"
   ]
  },
  {
   "cell_type": "code",
   "execution_count": 46,
   "id": "b228f4ee",
   "metadata": {},
   "outputs": [],
   "source": [
    "jac = lambda x: [2*x[0], 2*x[1]]"
   ]
  },
  {
   "cell_type": "code",
   "execution_count": 47,
   "id": "b0280e6d",
   "metadata": {},
   "outputs": [
    {
     "name": "stdout",
     "output_type": "stream",
     "text": [
      " message: Optimization terminated successfully\n",
      " success: True\n",
      "  status: 0\n",
      "     fun: 2.0000000000334373\n",
      "       x: [ 1.000e+00  1.000e+00]\n",
      "     nit: 9\n",
      "     jac: [ 2.000e+00  2.000e+00]\n",
      "    nfev: 8\n",
      "    njev: 8\n"
     ]
    }
   ],
   "source": [
    "print(minimize(fun, x_feasible, method='SLSQP', constraints=cons, jac=jac))"
   ]
  },
  {
   "cell_type": "code",
   "execution_count": 48,
   "id": "79f8f000",
   "metadata": {},
   "outputs": [
    {
     "name": "stdout",
     "output_type": "stream",
     "text": [
      " message: Positive directional derivative for linesearch\n",
      " success: False\n",
      "  status: 8\n",
      "     fun: 6.9978979175042965e-31\n",
      "       x: [ 8.365e-16 -1.817e-18]\n",
      "     nit: 17\n",
      "     jac: [ 1.673e-15 -3.635e-18]\n",
      "    nfev: 133\n",
      "    njev: 13\n"
     ]
    }
   ],
   "source": [
    "print(minimize(fun, x_infeasible, method='SLSQP', constraints=cons, jac=jac))"
   ]
  },
  {
   "cell_type": "code",
   "execution_count": null,
   "id": "cf0c3b6c",
   "metadata": {},
   "outputs": [],
   "source": []
  }
 ],
 "metadata": {
  "kernelspec": {
   "display_name": "toml",
   "language": "python",
   "name": "python3"
  },
  "language_info": {
   "codemirror_mode": {
    "name": "ipython",
    "version": 3
   },
   "file_extension": ".py",
   "mimetype": "text/x-python",
   "name": "python",
   "nbconvert_exporter": "python",
   "pygments_lexer": "ipython3",
   "version": "3.10.9"
  }
 },
 "nbformat": 4,
 "nbformat_minor": 5
}
