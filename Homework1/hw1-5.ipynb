{
 "cells": [
  {
   "attachments": {},
   "cell_type": "markdown",
   "id": "cf0c3b6c",
   "metadata": {},
   "source": [
    "# CVX\n",
    "\n",
    "based on the reference solution, modified"
   ]
  },
  {
   "cell_type": "code",
   "execution_count": 1,
   "id": "2d9e02f4",
   "metadata": {},
   "outputs": [],
   "source": [
    "from cvxpy import Variable, quad_form, Minimize, Problem\n",
    "import numpy as np"
   ]
  },
  {
   "cell_type": "code",
   "execution_count": 2,
   "id": "f2921d8b",
   "metadata": {},
   "outputs": [],
   "source": [
    "x = Variable(2, name='x')"
   ]
  },
  {
   "cell_type": "code",
   "execution_count": 3,
   "id": "8079082e",
   "metadata": {},
   "outputs": [],
   "source": [
    "# constraints - positive sum of convex sets -> convex\n",
    "constraints = [\n",
    "    (x[0] - 1)**2 + (x[1] - 1)**2 <= 1,\n",
    "    (x[0] - 1)**2 + (x[1] + 1)**2 <= 1,\n",
    "]"
   ]
  },
  {
   "cell_type": "code",
   "execution_count": 4,
   "id": "0e6be768",
   "metadata": {},
   "outputs": [],
   "source": [
    "# objective\n",
    "# P0 = np.array(np.mat('1. 0.; 0. 1.'))\n",
    "# f0 = quad_form(x, P0)\n",
    "# obj = Minimize(f0)\n",
    "obj = Minimize(x[0]**2 + x[1]**2)"
   ]
  },
  {
   "cell_type": "code",
   "execution_count": 6,
   "id": "d8142e3a",
   "metadata": {},
   "outputs": [
    {
     "name": "stdout",
     "output_type": "stream",
     "text": [
      "solve, p* = 0.9999604594696123\n",
      "status: optimal\n",
      "optimal value = 0.9999604594696123\n",
      "x* = [9.99980230e-01 1.99124242e-14]\n",
      "dual values: [28013.52446782075, 28013.52446781738]\n"
     ]
    }
   ],
   "source": [
    "# solve\n",
    "prob = Problem(obj, constraints)\n",
    "print('solve, p* =', prob.solve())\n",
    "print('status:', prob.status)\n",
    "print('optimal value =', prob.value)\n",
    "print('x* =', x.value)\n",
    "print('dual values:', [c.dual_value for c in constraints])"
   ]
  },
  {
   "cell_type": "code",
   "execution_count": null,
   "id": "c1df4477",
   "metadata": {},
   "outputs": [],
   "source": []
  }
 ],
 "metadata": {
  "kernelspec": {
   "display_name": "toml",
   "language": "python",
   "name": "python3"
  },
  "language_info": {
   "codemirror_mode": {
    "name": "ipython",
    "version": 3
   },
   "file_extension": ".py",
   "mimetype": "text/x-python",
   "name": "python",
   "nbconvert_exporter": "python",
   "pygments_lexer": "ipython3",
   "version": "3.10.9"
  }
 },
 "nbformat": 4,
 "nbformat_minor": 5
}
