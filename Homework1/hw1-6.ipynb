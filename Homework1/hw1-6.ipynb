{
 "cells": [
  {
   "cell_type": "code",
   "execution_count": 2,
   "id": "70ed8195",
   "metadata": {},
   "outputs": [],
   "source": [
    "import numpy as np"
   ]
  },
  {
   "cell_type": "code",
   "execution_count": 1,
   "id": "9599dd97",
   "metadata": {},
   "outputs": [],
   "source": [
    "alpha = 0.3\n",
    "beta = 0.8"
   ]
  },
  {
   "cell_type": "code",
   "execution_count": 4,
   "id": "7f06a5c8",
   "metadata": {},
   "outputs": [
    {
     "name": "stdout",
     "output_type": "stream",
     "text": [
      "\n",
      "########################\n",
      "###   iteration 1   ###\n",
      "########################\n",
      "\n",
      "Inequality:  -143.12\n",
      "\n",
      "########################\n",
      "###   iteration 2   ###\n",
      "########################\n",
      "\n",
      "Inequality:  -73.22880000000006\n",
      "\n",
      "########################\n",
      "###   iteration 3   ###\n",
      "########################\n",
      "\n",
      "Inequality:  -32.172032000000044\n",
      "\n",
      "########################\n",
      "###   iteration 4   ###\n",
      "########################\n",
      "\n",
      "Inequality:  -8.834580480000021\n",
      "\n",
      "########################\n",
      "###   iteration 5   ###\n",
      "########################\n",
      "\n",
      "Inequality:  3.7502844927999845\n",
      "\n",
      "final step size : 0.32768000000000014\n"
     ]
    }
   ],
   "source": [
    "\n",
    "f = lambda x: (x[0]**2 + 3*x[1]*x[0] + 12)\n",
    "dfx1 = lambda x: (2*x[0] + 3*x[1])\n",
    "dfx2 = lambda x: (3*x[0])\n",
    "\n",
    "t = 1\n",
    "count = 1\n",
    "x0 = np.array([2,3])\n",
    "dx0 = np.array([.1, 0.05])\n",
    "\n",
    "\n",
    "def backtrack(x0, dfx1, dfx2, t, alpha, beta, count):\n",
    "    while (f(x0) - (f(x0 - t*np.array([dfx1(x0), dfx2(x0)])) + alpha * t * np.dot(np.array([dfx1(x0), dfx2(x0)]), np.array([dfx1(x0), dfx2(x0)])))) < 0:\n",
    "        t *= beta\n",
    "        print(\"\"\"\n",
    "########################\n",
    "###   iteration {}   ###\n",
    "########################\n",
    "\"\"\".format(count))\n",
    "        print(\"Inequality: \",  f(x0) - (f(x0 - t*np.array([dfx1(x0), dfx2(x0)])) + alpha * t * np.dot(np.array([dfx1(x0), dfx2(x0)]), np.array([dfx1(x0), dfx2(x0)]))))\n",
    "        count += 1\n",
    "    return t\n",
    "\n",
    "t = backtrack(x0, dfx1, dfx2, t, alpha, beta,count)\n",
    "\n",
    "print(\"\\nfinal step size :\",  t)"
   ]
  }
 ],
 "metadata": {
  "kernelspec": {
   "display_name": "toml",
   "language": "python",
   "name": "python3"
  },
  "language_info": {
   "codemirror_mode": {
    "name": "ipython",
    "version": 3
   },
   "file_extension": ".py",
   "mimetype": "text/x-python",
   "name": "python",
   "nbconvert_exporter": "python",
   "pygments_lexer": "ipython3",
   "version": "3.10.9"
  }
 },
 "nbformat": 4,
 "nbformat_minor": 5
}
