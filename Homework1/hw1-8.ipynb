{
 "cells": [
  {
   "cell_type": "code",
   "execution_count": 1,
   "metadata": {},
   "outputs": [],
   "source": [
    "from cvxpy import Variable, quad_form, Minimize, Problem, Maximize, log, sum\n",
    "import numpy as np"
   ]
  },
  {
   "cell_type": "code",
   "execution_count": 2,
   "metadata": {},
   "outputs": [],
   "source": [
    "x = Variable(3, name='x')\n",
    "r = Variable(3, name='time')\n",
    "\n",
    "#(for r assignment see davids note)"
   ]
  },
  {
   "cell_type": "code",
   "execution_count": 3,
   "metadata": {},
   "outputs": [],
   "source": [
    "# constraints - positive sum of convex sets -> convex\n",
    "constraints = [\n",
    "    x>=0,\n",
    "    (x[0] + x[1])<= r[0],\n",
    "    (x[0])<= r[1],\n",
    "    x[2]<=r[2],\n",
    "    sum(r)<=1\n",
    "]"
   ]
  },
  {
   "cell_type": "code",
   "execution_count": 4,
   "metadata": {},
   "outputs": [],
   "source": [
    "# objective\n",
    "# P0 = np.array(np.mat('1. 0.; 0. 1.'))\n",
    "# f0 = quad_form(x, P0)\n",
    "# obj = Minimize(f0)\n",
    "obj = Maximize(sum(log(x))) #proportional fairness (log function)"
   ]
  },
  {
   "cell_type": "code",
   "execution_count": 6,
   "metadata": {},
   "outputs": [
    {
     "name": "stdout",
     "output_type": "stream",
     "text": [
      "solve, p* = -3.988984052447441\n",
      "status: optimal\n",
      "optimal value = -3.988984052447441\n",
      "x* = [0.16666662 0.33333338 0.33333338]\n",
      "r* = [0.5        0.16666662 0.33333338]\n",
      "dual values: [array([3.29383674e-08, 1.51840494e-08, 1.51840494e-08]), 2.999998762043957, 2.9999987620407356, 2.9999987620422606, 2.9999987620390387]\n"
     ]
    }
   ],
   "source": [
    "# solve\n",
    "prob = Problem(obj, constraints)\n",
    "print('solve, p* =', prob.solve())\n",
    "print('status:', prob.status)\n",
    "print('optimal value =', prob.value)\n",
    "print('x* =', x.value)\n",
    "print('r* =', r.value)\n",
    "print('dual values:', [c.dual_value for c in constraints])"
   ]
  },
  {
   "cell_type": "code",
   "execution_count": null,
   "metadata": {},
   "outputs": [],
   "source": []
  }
 ],
 "metadata": {
  "kernelspec": {
   "display_name": "cvxpy_env",
   "language": "python",
   "name": "python3"
  },
  "language_info": {
   "codemirror_mode": {
    "name": "ipython",
    "version": 3
   },
   "file_extension": ".py",
   "mimetype": "text/x-python",
   "name": "python",
   "nbconvert_exporter": "python",
   "pygments_lexer": "ipython3",
   "version": "3.10.9"
  },
  "orig_nbformat": 4
 },
 "nbformat": 4,
 "nbformat_minor": 2
}
