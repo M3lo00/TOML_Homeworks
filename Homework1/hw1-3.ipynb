{
 "cells": [
  {
   "cell_type": "code",
   "execution_count": 1,
   "id": "7f91352a",
   "metadata": {},
   "outputs": [],
   "source": [
    "import numpy as np\n",
    "import scipy"
   ]
  },
  {
   "cell_type": "code",
   "execution_count": 2,
   "id": "d8d07420",
   "metadata": {},
   "outputs": [],
   "source": [
    "from scipy.optimize import minimize"
   ]
  },
  {
   "cell_type": "code",
   "execution_count": 3,
   "id": "ae3fc566",
   "metadata": {},
   "outputs": [],
   "source": [
    "fun = lambda x: x[0] ** 2 + x[1] ** 2"
   ]
  },
  {
   "cell_type": "code",
   "execution_count": 4,
   "id": "bc0b0a8b",
   "metadata": {},
   "outputs": [],
   "source": [
    "cons = (\n",
    "        {'type': 'ineq', 'fun': lambda x:  - x[0]**2 - x[0]*x[1] - x[1]**2 + 3},\n",
    "        {'type': 'ineq', 'fun': lambda x:  3*x[0] + 2*x[1] - 3},\n",
    ")"
   ]
  },
  {
   "cell_type": "code",
   "execution_count": 5,
   "id": "d0f67fcb",
   "metadata": {},
   "outputs": [],
   "source": [
    "x0 = [0, 0]"
   ]
  },
  {
   "cell_type": "code",
   "execution_count": 6,
   "id": "183f8e14",
   "metadata": {},
   "outputs": [],
   "source": [
    "def is_feasible(x):\n",
    "    r = [c['fun'](x) >= 0 for c in cons]\n",
    "    return all(r), r"
   ]
  },
  {
   "cell_type": "code",
   "execution_count": 7,
   "id": "35b9cea1",
   "metadata": {},
   "outputs": [
    {
     "data": {
      "text/plain": [
       "(False, [True, False])"
      ]
     },
     "execution_count": 7,
     "metadata": {},
     "output_type": "execute_result"
    }
   ],
   "source": [
    "is_feasible(x0)"
   ]
  },
  {
   "cell_type": "markdown",
   "id": "67dee5b5",
   "metadata": {},
   "source": [
    "# Scipy"
   ]
  },
  {
   "cell_type": "code",
   "execution_count": 8,
   "id": "d88f07d2",
   "metadata": {},
   "outputs": [
    {
     "name": "stdout",
     "output_type": "stream",
     "text": [
      " message: Optimization terminated successfully\n",
      " success: True\n",
      "  status: 0\n",
      "     fun: 0.6923076923076928\n",
      "       x: [ 6.923e-01  4.615e-01]\n",
      "     nit: 3\n",
      "     jac: [ 1.385e+00  9.231e-01]\n",
      "    nfev: 10\n",
      "    njev: 3\n"
     ]
    }
   ],
   "source": [
    "print(minimize(fun, x0, method='SLSQP', constraints=cons))"
   ]
  },
  {
   "attachments": {},
   "cell_type": "markdown",
   "id": "cf0c3b6c",
   "metadata": {},
   "source": [
    "# CVX\n",
    "\n",
    "based on the reference solution, modified"
   ]
  },
  {
   "cell_type": "code",
   "execution_count": 24,
   "id": "2d9e02f4",
   "metadata": {},
   "outputs": [],
   "source": [
    "from cvxpy import Variable, quad_form, Minimize, Problem\n",
    "import numpy as np"
   ]
  },
  {
   "cell_type": "code",
   "execution_count": 25,
   "id": "f2921d8b",
   "metadata": {},
   "outputs": [],
   "source": [
    "x = Variable(2, name='x')"
   ]
  },
  {
   "cell_type": "code",
   "execution_count": 26,
   "id": "8079082e",
   "metadata": {},
   "outputs": [],
   "source": [
    "# constraints\n",
    "P1 = np.array(np.mat('1. 0.5; 0.5 1.'))\n",
    "f1 = quad_form(x, P1)\n",
    "f2 = 3.*x[0]+2.*x[1]\n",
    "constraints = [f1 <= 3., f2>= 3.]"
   ]
  },
  {
   "cell_type": "code",
   "execution_count": 27,
   "id": "0e6be768",
   "metadata": {},
   "outputs": [],
   "source": [
    "# objective\n",
    "P0 = np.array(np.mat('1. 0.; 0. 1.'))\n",
    "f0 = quad_form(x, P0)\n",
    "obj = Minimize(f0)"
   ]
  },
  {
   "cell_type": "code",
   "execution_count": 28,
   "id": "d8142e3a",
   "metadata": {},
   "outputs": [
    {
     "name": "stdout",
     "output_type": "stream",
     "text": [
      "solve: 0.6923076924108116\n",
      "status: optimal\n",
      "optimal value = 0.6923076924108116\n",
      "x* = [0.6923082  0.46153771]\n",
      "dual values: [array([1.39314258e-10]), 0.46154291380933704]\n"
     ]
    }
   ],
   "source": [
    "# solve\n",
    "prob = Problem(obj, constraints)\n",
    "print('solve:', prob.solve())\n",
    "print('status:', prob.status)\n",
    "print('optimal value =', prob.value)\n",
    "print('x* =', x.value)\n",
    "print('dual values:', [c.dual_value for c in constraints])"
   ]
  },
  {
   "cell_type": "code",
   "execution_count": null,
   "id": "c1df4477",
   "metadata": {},
   "outputs": [],
   "source": []
  }
 ],
 "metadata": {
  "kernelspec": {
   "display_name": "toml",
   "language": "python",
   "name": "python3"
  },
  "language_info": {
   "codemirror_mode": {
    "name": "ipython",
    "version": 3
   },
   "file_extension": ".py",
   "mimetype": "text/x-python",
   "name": "python",
   "nbconvert_exporter": "python",
   "pygments_lexer": "ipython3",
   "version": "3.10.9"
  }
 },
 "nbformat": 4,
 "nbformat_minor": 5
}
