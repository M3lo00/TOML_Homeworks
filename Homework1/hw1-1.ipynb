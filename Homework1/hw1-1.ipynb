{
 "cells": [
  {
   "cell_type": "code",
   "execution_count": 1,
   "id": "7f91352a",
   "metadata": {},
   "outputs": [],
   "source": [
    "import numpy as np\n",
    "import scipy"
   ]
  },
  {
   "cell_type": "code",
   "execution_count": 2,
   "id": "d8d07420",
   "metadata": {},
   "outputs": [],
   "source": [
    "from scipy.optimize import minimize"
   ]
  },
  {
   "cell_type": "code",
   "execution_count": 3,
   "id": "ae3fc566",
   "metadata": {},
   "outputs": [],
   "source": [
    "fun = lambda x: np.exp(x[0]) * (4*x[0]**2 + 2*x[1]**2 + 4*x[0]*x[1] + 2*x[1] + 1)"
   ]
  },
  {
   "cell_type": "code",
   "execution_count": 4,
   "id": "bc0b0a8b",
   "metadata": {},
   "outputs": [],
   "source": [
    "cons = ({'type': 'ineq', 'fun': lambda x:  -x[0]*x[1]+x[0]+x[1]-1.5},\n",
    "        {'type': 'ineq', 'fun': lambda x: x[0]*x[1] + 10})"
   ]
  },
  {
   "cell_type": "markdown",
   "id": "47171a2c",
   "metadata": {},
   "source": [
    "# Without Jacobian"
   ]
  },
  {
   "cell_type": "code",
   "execution_count": 16,
   "id": "d88f07d2",
   "metadata": {},
   "outputs": [
    {
     "name": "stdout",
     "output_type": "stream",
     "text": [
      "constraints (should be >= 0) -1.5 10\n",
      "\n",
      " message: Optimization terminated successfully\n",
      " success: True\n",
      "  status: 0\n",
      "     fun: 0.023550379624174854\n",
      "       x: [-9.547e+00  1.047e+00]\n",
      "     nit: 17\n",
      "     jac: [ 1.840e-02 -2.284e-03]\n",
      "    nfev: 54\n",
      "    njev: 17\n"
     ]
    }
   ],
   "source": [
    "x0 = [0,0]\n",
    "print('constraints (should be >= 0)', cons[0]['fun'](x0), cons[1]['fun'](x0))\n",
    "print()\n",
    "print(minimize(fun, x0, method='SLSQP', constraints=cons))"
   ]
  },
  {
   "cell_type": "code",
   "execution_count": 17,
   "id": "c0974e15",
   "metadata": {},
   "outputs": [
    {
     "name": "stdout",
     "output_type": "stream",
     "text": [
      "constraints (should be >= 0) -171.5 210\n",
      "\n",
      " message: Inequality constraints incompatible\n",
      " success: False\n",
      "  status: 4\n",
      "     fun: 44956016.68720051\n",
      "       x: [ 1.000e+01  2.000e+01]\n",
      "     nit: 1\n",
      "     jac: [ 4.848e+07  2.687e+06]\n",
      "    nfev: 3\n",
      "    njev: 1\n"
     ]
    }
   ],
   "source": [
    "x0 = [10, 20]\n",
    "print('constraints (should be >= 0)', cons[0]['fun'](x0), cons[1]['fun'](x0))\n",
    "print()\n",
    "print(minimize(fun, x0, method='SLSQP', constraints=cons))"
   ]
  },
  {
   "cell_type": "code",
   "execution_count": 18,
   "id": "d9adc4f2",
   "metadata": {},
   "outputs": [
    {
     "name": "stdout",
     "output_type": "stream",
     "text": [
      "constraints (should be >= 0) -0.5 0\n",
      "\n",
      " message: Optimization terminated successfully\n",
      " success: True\n",
      "  status: 0\n",
      "     fun: 0.0235503796241749\n",
      "       x: [-9.547e+00  1.047e+00]\n",
      "     nit: 3\n",
      "     jac: [ 1.840e-02 -2.284e-03]\n",
      "    nfev: 10\n",
      "    njev: 3\n"
     ]
    }
   ],
   "source": [
    "x0 = [-10, 1]\n",
    "print('constraints (should be >= 0)', cons[0]['fun'](x0), cons[1]['fun'](x0))\n",
    "print()\n",
    "print(minimize(fun, x0, method='SLSQP', constraints=cons))"
   ]
  },
  {
   "cell_type": "code",
   "execution_count": 19,
   "id": "b9e12d1d",
   "metadata": {},
   "outputs": [
    {
     "name": "stdout",
     "output_type": "stream",
     "text": [
      "constraints (should be >= 0) -961.5 910\n",
      "\n",
      " message: Optimization terminated successfully\n",
      " success: True\n",
      "  status: 0\n",
      "     fun: 0.02355037962417503\n",
      "       x: [-9.547e+00  1.047e+00]\n",
      "     nit: 13\n",
      "     jac: [ 1.840e-02 -2.284e-03]\n",
      "    nfev: 41\n",
      "    njev: 13\n"
     ]
    }
   ],
   "source": [
    "x0 = [-30, -30]\n",
    "print('constraints (should be >= 0)', cons[0]['fun'](x0), cons[1]['fun'](x0))\n",
    "print()\n",
    "print(minimize(fun, x0, method='SLSQP', constraints=cons))"
   ]
  },
  {
   "cell_type": "markdown",
   "id": "f9b95ad5",
   "metadata": {},
   "source": [
    "# With Jacobian"
   ]
  },
  {
   "cell_type": "code",
   "execution_count": 20,
   "id": "b228f4ee",
   "metadata": {},
   "outputs": [],
   "source": [
    "jac = lambda x: [np.exp(x[0])*(4*x[0]**2+4*x[0]*(x[1]+2)+2*x[1]**2+6*x[1]+1), \n",
    "                    np.exp(x[0])*(4*x[0]+4*x[1]+2), \n",
    "                   ]"
   ]
  },
  {
   "cell_type": "code",
   "execution_count": 21,
   "id": "b0280e6d",
   "metadata": {},
   "outputs": [
    {
     "name": "stdout",
     "output_type": "stream",
     "text": [
      " message: Optimization terminated successfully\n",
      " success: True\n",
      "  status: 0\n",
      "     fun: 0.02355037962417466\n",
      "       x: [-9.547e+00  1.047e+00]\n",
      "     nit: 17\n",
      "     jac: [ 1.840e-02 -2.284e-03]\n",
      "    nfev: 20\n",
      "    njev: 17\n"
     ]
    }
   ],
   "source": [
    "x0 = [0,0]\n",
    "print(minimize(fun, x0, method='SLSQP', constraints=cons, jac=jac))"
   ]
  },
  {
   "cell_type": "code",
   "execution_count": 22,
   "id": "79f8f000",
   "metadata": {},
   "outputs": [
    {
     "name": "stdout",
     "output_type": "stream",
     "text": [
      " message: Positive directional derivative for linesearch\n",
      " success: False\n",
      "  status: 8\n",
      "     fun: 44956016.68720051\n",
      "       x: [ 1.000e+01  2.000e+01]\n",
      "     nit: 5\n",
      "     jac: [ 4.848e+07  2.687e+06]\n",
      "    nfev: 1\n",
      "    njev: 1\n"
     ]
    }
   ],
   "source": [
    "x0 = [10, 20]\n",
    "print(minimize(fun, x0, method='SLSQP', constraints=cons, jac=jac))"
   ]
  },
  {
   "cell_type": "code",
   "execution_count": 23,
   "id": "22fe4cbf",
   "metadata": {},
   "outputs": [
    {
     "name": "stdout",
     "output_type": "stream",
     "text": [
      " message: Optimization terminated successfully\n",
      " success: True\n",
      "  status: 0\n",
      "     fun: 0.02355037962417493\n",
      "       x: [-9.547e+00  1.047e+00]\n",
      "     nit: 3\n",
      "     jac: [ 1.840e-02 -2.284e-03]\n",
      "    nfev: 4\n",
      "    njev: 3\n"
     ]
    }
   ],
   "source": [
    "x0 = [-10, 1]\n",
    "print(minimize(fun, x0, method='SLSQP', constraints=cons, jac=jac))"
   ]
  },
  {
   "cell_type": "code",
   "execution_count": 24,
   "id": "45231f65",
   "metadata": {},
   "outputs": [
    {
     "name": "stdout",
     "output_type": "stream",
     "text": [
      " message: Optimization terminated successfully\n",
      " success: True\n",
      "  status: 0\n",
      "     fun: 3.0607755263610645\n",
      "       x: [ 1.182e+00 -1.740e+00]\n",
      "     nit: 17\n",
      "     jac: [ 1.122e+01 -7.471e-01]\n",
      "    nfev: 48\n",
      "    njev: 16\n"
     ]
    }
   ],
   "source": [
    "x0 = [-30, -30]\n",
    "print(minimize(fun, x0, method='SLSQP', constraints=cons, jac=jac))"
   ]
  }
 ],
 "metadata": {
  "kernelspec": {
   "display_name": "toml",
   "language": "python",
   "name": "python3"
  },
  "language_info": {
   "codemirror_mode": {
    "name": "ipython",
    "version": 3
   },
   "file_extension": ".py",
   "mimetype": "text/x-python",
   "name": "python",
   "nbconvert_exporter": "python",
   "pygments_lexer": "ipython3",
   "version": "3.10.9"
  }
 },
 "nbformat": 4,
 "nbformat_minor": 5
}
