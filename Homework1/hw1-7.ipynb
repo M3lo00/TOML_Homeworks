{
 "cells": [
  {
   "cell_type": "code",
   "execution_count": 34,
   "metadata": {},
   "outputs": [],
   "source": [
    "from cvxpy import Variable, quad_form, Minimize, Problem, Maximize, log\n",
    "import numpy as np"
   ]
  },
  {
   "cell_type": "code",
   "execution_count": 35,
   "metadata": {},
   "outputs": [],
   "source": [
    "x = Variable(3, name='x')"
   ]
  },
  {
   "cell_type": "code",
   "execution_count": 36,
   "metadata": {},
   "outputs": [],
   "source": [
    "# constraints - positive sum of convex sets -> convex\n",
    "constraints = [\n",
    "    x>=0,\n",
    "    (x[0] + x[2])<= 1,\n",
    "    (x[0] + x[1])<= 2,\n",
    "    0*x[0]<=1,\n",
    "    0*x[0]<=1,\n",
    "    (x[2])<=1\n",
    "]"
   ]
  },
  {
   "cell_type": "code",
   "execution_count": 37,
   "metadata": {},
   "outputs": [],
   "source": [
    "# objective\n",
    "# P0 = np.array(np.mat('1. 0.; 0. 1.'))\n",
    "# f0 = quad_form(x, P0)\n",
    "# obj = Minimize(f0)\n",
    "obj = Maximize(log(x[0])+ log(x[1]) + log(x[2])) #proportional fairness (log function)"
   ]
  },
  {
   "cell_type": "code",
   "execution_count": 38,
   "metadata": {},
   "outputs": [
    {
     "name": "stdout",
     "output_type": "stream",
     "text": [
      "solve, p* = -0.9547712564906128\n",
      "status: optimal\n",
      "optimal value = -0.9547712564906128\n",
      "x* = [0.42264972 1.57735027 0.57735028]\n",
      "dual values: [array([3.87160959e-09, 1.04554760e-09, 2.79099325e-09]), 1.7320508193616861, 0.633974598778211, 1.635615925590398e-09, 1.635615925590398e-09, 3.751055649933331e-09]\n"
     ]
    }
   ],
   "source": [
    "# solve\n",
    "prob = Problem(obj, constraints)\n",
    "print('solve, p* =', prob.solve())\n",
    "print('status:', prob.status)\n",
    "print('optimal value =', prob.value)\n",
    "print('x* =', x.value)\n",
    "print('dual values:', [c.dual_value for c in constraints])"
   ]
  },
  {
   "attachments": {},
   "cell_type": "markdown",
   "metadata": {},
   "source": [
    "we are missing lambda 3,4 because there are no constraints for them"
   ]
  },
  {
   "cell_type": "code",
   "execution_count": null,
   "metadata": {},
   "outputs": [],
   "source": []
  }
 ],
 "metadata": {
  "kernelspec": {
   "display_name": "cvxpy_env",
   "language": "python",
   "name": "python3"
  },
  "language_info": {
   "codemirror_mode": {
    "name": "ipython",
    "version": 3
   },
   "file_extension": ".py",
   "mimetype": "text/x-python",
   "name": "python",
   "nbconvert_exporter": "python",
   "pygments_lexer": "ipython3",
   "version": "3.10.9"
  },
  "orig_nbformat": 4
 },
 "nbformat": 4,
 "nbformat_minor": 2
}
